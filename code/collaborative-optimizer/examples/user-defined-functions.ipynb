{
 "cells": [
  {
   "cell_type": "code",
   "execution_count": 1,
   "id": "2c289b18",
   "metadata": {},
   "outputs": [
    {
     "name": "stderr",
     "output_type": "stream",
     "text": [
      "/Users/bede01/Documents/work/phd-papers/published/ml-workload-optimization/code/collaborative-optimizer/experiment_graph/graph/node.py:49: SyntaxWarning: \"is\" with a literal. Did you mean \"==\"?\n",
      "  if k is 'execution_environment':\n"
     ]
    }
   ],
   "source": [
    "# Environment Import\n",
    "from experiment_graph.execution_environment import ExecutionEnvironment\n",
    "from experiment_graph.graph.operations import UserDefinedFunction\n"
   ]
  },
  {
   "cell_type": "code",
   "execution_count": 2,
   "id": "5da15db1",
   "metadata": {},
   "outputs": [],
   "source": [
    "class ClipDataset(UserDefinedFunction):\n",
    "    def __init__(self, lower=None, upper=None, axis=None):\n",
    "        super().__init__(return_type='Dataset')\n",
    "        self.lower = lower\n",
    "        self.upper= upper\n",
    "        self.axis = axis\n",
    "        \n",
    "    def run(self, underlying_data):\n",
    "        # here the underlying_data is a pandas dataframe and we are directly calling the pandas clip function\n",
    "        return underlying_data.clip(lower=self.lower, upper=self.upper, axis=self.axis)"
   ]
  },
  {
   "cell_type": "code",
   "execution_count": 12,
   "id": "6ca669fc",
   "metadata": {},
   "outputs": [],
   "source": [
    "class CustomProject(UserDefinedFunction):\n",
    "    def __init__(self, column):\n",
    "        super().__init__(return_type='Feature')\n",
    "        self.column = column\n",
    "        \n",
    "    def run(self, underlying_data):\n",
    "        # here the underlying_data is a pandas dataframe but the udf is expected to return a Feature (i.e., dataseries)\n",
    "        return underlying_data[self.column]"
   ]
  },
  {
   "cell_type": "code",
   "execution_count": 13,
   "id": "e02c98d9",
   "metadata": {},
   "outputs": [],
   "source": [
    "class MedianFeature(UserDefinedFunction):\n",
    "    def __init__(self):\n",
    "        super().__init__(return_type='Agg')\n",
    "        \n",
    "    def run(self, underlying_data):\n",
    "        # here the underlying_data is pandas data series\n",
    "        return underlying_data.median()"
   ]
  },
  {
   "cell_type": "code",
   "execution_count": 14,
   "id": "5469d33b",
   "metadata": {},
   "outputs": [
    {
     "name": "stdout",
     "output_type": "stream",
     "text": [
      "creating a new root node\n"
     ]
    }
   ],
   "source": [
    "execution_environment = ExecutionEnvironment()\n",
    "data = execution_environment.load('./data/sample.csv')"
   ]
  },
  {
   "cell_type": "code",
   "execution_count": 15,
   "id": "953cd7f2",
   "metadata": {},
   "outputs": [],
   "source": [
    "clip_oper = ClipDataset(lower=2,upper=4)\n",
    "clipped = data.run_udf(clip_oper)"
   ]
  },
  {
   "cell_type": "code",
   "execution_count": 16,
   "id": "fdefa2ee",
   "metadata": {},
   "outputs": [
    {
     "data": {
      "text/html": [
       "<div>\n",
       "<style scoped>\n",
       "    .dataframe tbody tr th:only-of-type {\n",
       "        vertical-align: middle;\n",
       "    }\n",
       "\n",
       "    .dataframe tbody tr th {\n",
       "        vertical-align: top;\n",
       "    }\n",
       "\n",
       "    .dataframe thead th {\n",
       "        text-align: right;\n",
       "    }\n",
       "</style>\n",
       "<table border=\"1\" class=\"dataframe\">\n",
       "  <thead>\n",
       "    <tr style=\"text-align: right;\">\n",
       "      <th></th>\n",
       "      <th>a</th>\n",
       "      <th>b</th>\n",
       "      <th>c</th>\n",
       "      <th>d</th>\n",
       "    </tr>\n",
       "  </thead>\n",
       "  <tbody>\n",
       "    <tr>\n",
       "      <th>0</th>\n",
       "      <td>2</td>\n",
       "      <td>2</td>\n",
       "      <td>3</td>\n",
       "      <td>4</td>\n",
       "    </tr>\n",
       "    <tr>\n",
       "      <th>1</th>\n",
       "      <td>4</td>\n",
       "      <td>4</td>\n",
       "      <td>4</td>\n",
       "      <td>4</td>\n",
       "    </tr>\n",
       "    <tr>\n",
       "      <th>2</th>\n",
       "      <td>2</td>\n",
       "      <td>2</td>\n",
       "      <td>2</td>\n",
       "      <td>3</td>\n",
       "    </tr>\n",
       "  </tbody>\n",
       "</table>\n",
       "</div>"
      ],
      "text/plain": [
       "   a  b  c  d\n",
       "0  2  2  3  4\n",
       "1  4  4  4  4\n",
       "2  2  2  2  3"
      ]
     },
     "execution_count": 16,
     "metadata": {},
     "output_type": "execute_result"
    }
   ],
   "source": [
    "clipped.data()"
   ]
  },
  {
   "cell_type": "code",
   "execution_count": 17,
   "id": "108c2212",
   "metadata": {},
   "outputs": [],
   "source": [
    "projection = CustomProject('a')\n",
    "feature_a = clipped.run_udf(projection)"
   ]
  },
  {
   "cell_type": "code",
   "execution_count": 18,
   "id": "93444ee5",
   "metadata": {},
   "outputs": [
    {
     "data": {
      "text/plain": [
       "0    2\n",
       "1    4\n",
       "2    2\n",
       "Name: a, dtype: int64"
      ]
     },
     "execution_count": 18,
     "metadata": {},
     "output_type": "execute_result"
    }
   ],
   "source": [
    "feature_a.data()"
   ]
  },
  {
   "cell_type": "code",
   "execution_count": 19,
   "id": "15395eec",
   "metadata": {},
   "outputs": [],
   "source": [
    "median_feature=MedianFeature()\n",
    "median_value = feature_a.run_udf(median_feature)"
   ]
  },
  {
   "cell_type": "code",
   "execution_count": 20,
   "id": "493dadd6",
   "metadata": {},
   "outputs": [
    {
     "data": {
      "text/plain": [
       "2.0"
      ]
     },
     "execution_count": 20,
     "metadata": {},
     "output_type": "execute_result"
    }
   ],
   "source": [
    "median_value.data()"
   ]
  }
 ],
 "metadata": {
  "kernelspec": {
   "display_name": "Python 3",
   "language": "python",
   "name": "python3"
  },
  "language_info": {
   "codemirror_mode": {
    "name": "ipython",
    "version": 3
   },
   "file_extension": ".py",
   "mimetype": "text/x-python",
   "name": "python",
   "nbconvert_exporter": "python",
   "pygments_lexer": "ipython3",
   "version": "3.9.4"
  }
 },
 "nbformat": 4,
 "nbformat_minor": 5
}
