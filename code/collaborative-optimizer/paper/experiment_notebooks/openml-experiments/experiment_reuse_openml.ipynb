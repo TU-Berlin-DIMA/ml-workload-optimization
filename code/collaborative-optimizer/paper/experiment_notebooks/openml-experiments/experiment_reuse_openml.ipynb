{
 "cells": [
  {
   "cell_type": "code",
   "execution_count": 2,
   "metadata": {},
   "outputs": [],
   "source": [
    "import os\n",
    "import sys\n",
    "\n",
    "import matplotlib.pyplot as plt\n",
    "import networkx as nx\n",
    "import pandas as pd\n",
    "import seaborn as sns\n",
    "\n",
    "sys.path.append('/Users/bede01/Documents/work/phd-papers/ml-workload-optimization/code/jupyter/')\n",
    "\n",
    "from networkx.drawing.nx_agraph import graphviz_layout\n",
    "from openml import datasets, tasks, flows, config\n",
    "from openmlstudy14.preprocessing import ConditionalImputer\n",
    "from workloadoptimization.essentials import Component\n",
    "from workloadoptimization.essentials import ExperimentGraph, ExperimentParser\n",
    "from workloadoptimization.hyperopt_helper import TrialConverter\n",
    "from workloadoptimization.openml_helper import OpenMLReader\n",
    "from workloadoptimization.search_space import SearchSpaceDesigner\n",
    "% matplotlib inline\n",
    "\n",
    "sns.set_style(\"whitegrid\")\n",
    "sns.set_context(\"paper\", font_scale=2)\n",
    "\n",
    "config.apikey = '8e2079508005379adb9a60798696134e'\n",
    "config.server = 'https://www.openml.org/api/v1'\n",
    "config.set_cache_directory(os.path.expanduser('~/openml-cache'))\n"
   ]
  },
  {
   "cell_type": "code",
   "execution_count": 12,
   "metadata": {},
   "outputs": [],
   "source": [
    "# Constants \n",
    "LOGISTIC_REGRESSION_FLOW = 5981\n",
    "RANDOM_FOREST_1_FLOW = 8568\n",
    "RANDOM_FOREST_2_FLOW = 8315\n",
    "SVC_1_FLOW = 8353\n",
    "SVC_2_FLOW = 7707\n",
    "CREDIT_G_DATASET = 31\n",
    "FLOW_IDS = [LOGISTIC_REGRESSION_FLOW, RANDOM_FOREST_1_FLOW, RANDOM_FOREST_2_FLOW, SVC_1_FLOW, SVC_2_FLOW]"
   ]
  },
  {
   "cell_type": "code",
   "execution_count": 13,
   "metadata": {},
   "outputs": [],
   "source": [
    "# load the dataset\n",
    "task = tasks.get_task(task_id=CREDIT_G_DATASET)\n",
    "dataset = datasets.get_dataset(dataset_id=task.dataset_id)\n",
    "data = dataset.get_data()\n",
    "train_indices, test_indices = task.get_train_test_split_indices()\n",
    "X, y, attribute_names = dataset.get_data(\n",
    "    target=dataset.default_target_attribute,\n",
    "    return_attribute_names=True)\n",
    "X_train = X[train_indices]\n",
    "y_train = y[train_indices]\n",
    "X_test = X[test_indices]\n",
    "y_test = y[test_indices]"
   ]
  },
  {
   "cell_type": "code",
   "execution_count": 14,
   "metadata": {},
   "outputs": [
    {
     "ename": "NameError",
     "evalue": "global name 'OpenMLReader' is not defined",
     "output_type": "error",
     "traceback": [
      "\u001b[0;31m---------------------------------------------------------------------------\u001b[0m",
      "\u001b[0;31mNameError\u001b[0m                                 Traceback (most recent call last)",
      "\u001b[0;32m<ipython-input-14-66f747c281b5>\u001b[0m in \u001b[0;36m<module>\u001b[0;34m()\u001b[0m\n\u001b[1;32m     14\u001b[0m \u001b[0;31m# This is time consuming, so it is better to persist the list of the runs to disk\u001b[0m\u001b[0;34m\u001b[0m\u001b[0;34m\u001b[0m\u001b[0m\n\u001b[1;32m     15\u001b[0m \u001b[0;31m# If you are changing the tasks or flow ids, remember to change the name of the file\u001b[0m\u001b[0;34m\u001b[0m\u001b[0;34m\u001b[0m\u001b[0m\n\u001b[0;32m---> 16\u001b[0;31m \u001b[0mExperiments\u001b[0m \u001b[0;34m=\u001b[0m \u001b[0mextract_experiments\u001b[0m\u001b[0;34m(\u001b[0m\u001b[0;34m'meta/database-experiment-reuse-openml'\u001b[0m\u001b[0;34m,\u001b[0m \u001b[0;34m[\u001b[0m\u001b[0mCREDIT_G_DATASET\u001b[0m\u001b[0;34m]\u001b[0m\u001b[0;34m,\u001b[0m \u001b[0mFLOW_IDS\u001b[0m\u001b[0;34m)\u001b[0m\u001b[0;34m\u001b[0m\u001b[0m\n\u001b[0m",
      "\u001b[0;32m<ipython-input-14-66f747c281b5>\u001b[0m in \u001b[0;36mextract_experiments\u001b[0;34m(file_path, task_ids, flow_ids)\u001b[0m\n\u001b[1;32m      1\u001b[0m \u001b[0;32mdef\u001b[0m \u001b[0mextract_experiments\u001b[0m\u001b[0;34m(\u001b[0m\u001b[0mfile_path\u001b[0m\u001b[0;34m,\u001b[0m \u001b[0mtask_ids\u001b[0m\u001b[0;34m,\u001b[0m \u001b[0mflow_ids\u001b[0m\u001b[0;34m)\u001b[0m\u001b[0;34m:\u001b[0m\u001b[0;34m\u001b[0m\u001b[0m\n\u001b[0;32m----> 2\u001b[0;31m     \u001b[0mopenMLReader\u001b[0m \u001b[0;34m=\u001b[0m \u001b[0mOpenMLReader\u001b[0m\u001b[0;34m(\u001b[0m\u001b[0;34m)\u001b[0m\u001b[0;34m\u001b[0m\u001b[0m\n\u001b[0m\u001b[1;32m      3\u001b[0m     \u001b[0;32mif\u001b[0m \u001b[0mos\u001b[0m\u001b[0;34m.\u001b[0m\u001b[0mpath\u001b[0m\u001b[0;34m.\u001b[0m\u001b[0misfile\u001b[0m\u001b[0;34m(\u001b[0m\u001b[0mfile_path\u001b[0m\u001b[0;34m)\u001b[0m\u001b[0;34m:\u001b[0m\u001b[0;34m\u001b[0m\u001b[0m\n\u001b[1;32m      4\u001b[0m         \u001b[0;32mreturn\u001b[0m \u001b[0mpd\u001b[0m\u001b[0;34m.\u001b[0m\u001b[0mread_pickle\u001b[0m\u001b[0;34m(\u001b[0m\u001b[0mfile_path\u001b[0m\u001b[0;34m)\u001b[0m\u001b[0;34m\u001b[0m\u001b[0m\n\u001b[1;32m      5\u001b[0m     \u001b[0mframes\u001b[0m \u001b[0;34m=\u001b[0m \u001b[0;34m[\u001b[0m\u001b[0;34m]\u001b[0m\u001b[0;34m\u001b[0m\u001b[0m\n",
      "\u001b[0;31mNameError\u001b[0m: global name 'OpenMLReader' is not defined"
     ]
    }
   ],
   "source": [
    "def extract_experiments(file_path, task_ids, flow_ids):\n",
    "    openMLReader = OpenMLReader()\n",
    "    if os.path.isfile(file_path):\n",
    "        return pd.read_pickle(file_path)\n",
    "    frames = []\n",
    "    for t in task_ids:\n",
    "        for f in flow_ids:\n",
    "            frames.append(openMLReader.getTopRuns(-1, f, t))\n",
    "    experiments = pd.concat(frames).reset_index(drop=True)\n",
    "    experiments.to_pickle(file_path)\n",
    "    return experiments\n",
    "\n",
    "\n",
    "# This is time consuming, so it is better to persist the list of the runs to disk\n",
    "# If you are changing the tasks or flow ids, remember to change the name of the file \n",
    "Experiments = extract_experiments('meta/database-experiment-reuse-openml', [CREDIT_G_DATASET], FLOW_IDS)"
   ]
  },
  {
   "cell_type": "code",
   "execution_count": 5,
   "metadata": {},
   "outputs": [
    {
     "ename": "NameError",
     "evalue": "name 'ConditionalImputer' is not defined",
     "output_type": "error",
     "traceback": [
      "\u001b[0;31m---------------------------------------------------------------------------\u001b[0m",
      "\u001b[0;31mNameError\u001b[0m                                 Traceback (most recent call last)",
      "\u001b[0;32m<ipython-input-5-a1c71d5babda>\u001b[0m in \u001b[0;36m<module>\u001b[0;34m()\u001b[0m\n\u001b[1;32m      3\u001b[0m \u001b[0;32mfrom\u001b[0m \u001b[0msklearn\u001b[0m\u001b[0;34m.\u001b[0m\u001b[0mlinear_model\u001b[0m \u001b[0;32mimport\u001b[0m \u001b[0mLogisticRegression\u001b[0m\u001b[0;34m\u001b[0m\u001b[0m\n\u001b[1;32m      4\u001b[0m \u001b[0;34m\u001b[0m\u001b[0m\n\u001b[0;32m----> 5\u001b[0;31m pipeline_lr = Pipeline([('dualimputer', ConditionalImputer()),\n\u001b[0m\u001b[1;32m      6\u001b[0m                         \u001b[0;34m(\u001b[0m\u001b[0;34m'standardscaler'\u001b[0m\u001b[0;34m,\u001b[0m \u001b[0mStandardScaler\u001b[0m\u001b[0;34m(\u001b[0m\u001b[0;34m)\u001b[0m\u001b[0;34m)\u001b[0m\u001b[0;34m,\u001b[0m\u001b[0;34m\u001b[0m\u001b[0m\n\u001b[1;32m      7\u001b[0m                         ('logisticregression', LogisticRegression())])\n",
      "\u001b[0;31mNameError\u001b[0m: name 'ConditionalImputer' is not defined"
     ]
    }
   ],
   "source": [
    "from sklearn.pipeline import Pipeline\n",
    "from sklearn.preprocessing import StandardScaler\n",
    "from sklearn.linear_model import LogisticRegression\n",
    "\n",
    "pipeline_lr = Pipeline([('dualimputer', ConditionalImputer()),\n",
    "                        ('standardscaler', StandardScaler()),\n",
    "                        ('logisticregression', LogisticRegression())])\n",
    "\n",
    "\n",
    "flow = flows.get_flow(flow_id=7707)\n",
    "flow.dependencies = u'sklearn==0.19.1\\nnumpy>=1.6.1\\nscipy>=0.9'\n",
    "for v in flow.components.itervalues():\n",
    "    v.dependencies = u'sklearn==0.19.1\\nnumpy>=1.6.1\\nscipy>=0.9'\n",
    "pipeline_svc_2 = flows.flow_to_sklearn(flow)\n",
    "\n",
    "flow = flows.get_flow(flow_id=8568)\n",
    "flow.components['conditionalimputer'].class_name = 'hyperimp.utils.preprocessing.ConditionalImputer2'\n",
    "pipeline_rf_1 = flows.flow_to_sklearn(flow)"
   ]
  },
  {
   "cell_type": "code",
   "execution_count": 6,
   "metadata": {},
   "outputs": [
    {
     "ename": "NameError",
     "evalue": "name 'pipeline_lr' is not defined",
     "output_type": "error",
     "traceback": [
      "\u001b[0;31m---------------------------------------------------------------------------\u001b[0m",
      "\u001b[0;31mNameError\u001b[0m                                 Traceback (most recent call last)",
      "\u001b[0;32m<ipython-input-6-302ec04d3650>\u001b[0m in \u001b[0;36m<module>\u001b[0;34m()\u001b[0m\n\u001b[1;32m      1\u001b[0m \u001b[0;31m# The openml api is not backward compatible for this specific pipeline (5981), so we are recreating it in scikit learn\u001b[0m\u001b[0;34m\u001b[0m\u001b[0;34m\u001b[0m\u001b[0m\n\u001b[0;32m----> 2\u001b[0;31m \u001b[0mOPENML_FLOWS\u001b[0m \u001b[0;34m=\u001b[0m \u001b[0;34m{\u001b[0m\u001b[0mLOGISTIC_REGRESSION_FLOW\u001b[0m\u001b[0;34m:\u001b[0m \u001b[0mpipeline_lr\u001b[0m\u001b[0;34m}\u001b[0m\u001b[0;34m\u001b[0m\u001b[0m\n\u001b[0m\u001b[1;32m      3\u001b[0m \u001b[0mparser\u001b[0m \u001b[0;34m=\u001b[0m \u001b[0mExperimentParser\u001b[0m\u001b[0;34m(\u001b[0m\u001b[0;34m)\u001b[0m\u001b[0;34m\u001b[0m\u001b[0m\n\u001b[1;32m      4\u001b[0m experimentObjects = parser.extract_sklearn_pipelines(\n\u001b[1;32m      5\u001b[0m     Experiments[Experiments.flow_id.isin([LOGISTIC_REGRESSION_FLOW])], OPENML_FLOWS)\n",
      "\u001b[0;31mNameError\u001b[0m: name 'pipeline_lr' is not defined"
     ]
    }
   ],
   "source": [
    "# The openml api is not backward compatible for this specific pipeline (5981), so we are recreating it in scikit learn\n",
    "OPENML_FLOWS = {LOGISTIC_REGRESSION_FLOW: pipeline_lr}\n",
    "parser = ExperimentParser()\n",
    "experimentObjects = parser.extract_sklearn_pipelines(\n",
    "    Experiments[Experiments.flow_id.isin([LOGISTIC_REGRESSION_FLOW])], OPENML_FLOWS)\n",
    "other_pipelines = {\n",
    "    RANDOM_FOREST_1_FLOW: flows.get_flow(RANDOM_FOREST_1_FLOW),\n",
    "    RANDOM_FOREST_2_FLOW: flows.get_flow(RANDOM_FOREST_2_FLOW),\n",
    "    SVC_1_FLOW: flows.get_flow(SVC_1_FLOW),\n",
    "    SVC_2_FLOW: flows.get_flow(SVC_2_FLOW)}\n",
    "experimentObjects = experimentObjects + parser.extract_openml_flows(\n",
    "    Experiments[Experiments.flow_id.isin(other_pipelines.keys())], other_pipelines)"
   ]
  },
  {
   "cell_type": "code",
   "execution_count": 7,
   "metadata": {},
   "outputs": [
    {
     "ename": "NameError",
     "evalue": "name 'pipeline_lr' is not defined",
     "output_type": "error",
     "traceback": [
      "\u001b[0;31m---------------------------------------------------------------------------\u001b[0m",
      "\u001b[0;31mNameError\u001b[0m                                 Traceback (most recent call last)",
      "\u001b[0;32m<ipython-input-7-1206c67ca9dd>\u001b[0m in \u001b[0;36m<module>\u001b[0;34m()\u001b[0m\n\u001b[0;32m----> 1\u001b[0;31m pipelines = {LOGISTIC_REGRESSION_FLOW: pipeline_lr,\n\u001b[0m\u001b[1;32m      2\u001b[0m              \u001b[0mSVC_2_FLOW\u001b[0m\u001b[0;34m:\u001b[0m \u001b[0mpipeline_svc_2\u001b[0m\u001b[0;34m,\u001b[0m\u001b[0;34m\u001b[0m\u001b[0m\n\u001b[1;32m      3\u001b[0m              \u001b[0mRANDOM_FOREST_1_FLOW\u001b[0m\u001b[0;34m:\u001b[0m \u001b[0mpipeline_rf_1\u001b[0m\u001b[0;34m,\u001b[0m\u001b[0;34m\u001b[0m\u001b[0m\n\u001b[1;32m      4\u001b[0m              \u001b[0mRANDOM_FOREST_2_FLOW\u001b[0m\u001b[0;34m:\u001b[0m \u001b[0mflows\u001b[0m\u001b[0;34m.\u001b[0m\u001b[0mflow_to_sklearn\u001b[0m\u001b[0;34m(\u001b[0m\u001b[0mflows\u001b[0m\u001b[0;34m.\u001b[0m\u001b[0mget_flow\u001b[0m\u001b[0;34m(\u001b[0m\u001b[0mRANDOM_FOREST_2_FLOW\u001b[0m\u001b[0;34m)\u001b[0m\u001b[0;34m)\u001b[0m\u001b[0;34m,\u001b[0m\u001b[0;34m\u001b[0m\u001b[0m\n\u001b[1;32m      5\u001b[0m              SVC_1_FLOW: flows.flow_to_sklearn(flows.get_flow(SVC_1_FLOW))}\n",
      "\u001b[0;31mNameError\u001b[0m: name 'pipeline_lr' is not defined"
     ]
    }
   ],
   "source": [
    "pipelines = {LOGISTIC_REGRESSION_FLOW: pipeline_lr,\n",
    "             SVC_2_FLOW: pipeline_svc_2,\n",
    "             RANDOM_FOREST_1_FLOW: pipeline_rf_1,\n",
    "             RANDOM_FOREST_2_FLOW: flows.flow_to_sklearn(flows.get_flow(RANDOM_FOREST_2_FLOW)),\n",
    "             SVC_1_FLOW: flows.flow_to_sklearn(flows.get_flow(SVC_1_FLOW))}"
   ]
  },
  {
   "cell_type": "code",
   "execution_count": 17,
   "metadata": {},
   "outputs": [],
   "source": [
    "for ex in experimentObjects:\n",
    "    ex.fix_order(pipelines[ex.flow])"
   ]
  },
  {
   "cell_type": "code",
   "execution_count": 25,
   "metadata": {
    "collapsed": true
   },
   "outputs": [],
   "source": [
    "import warnings\n",
    "import ast\n",
    "import time\n",
    "import copy\n",
    "\n",
    "warnings.filterwarnings('ignore')\n",
    "\n",
    "\n",
    "def load_existing_profile(path):\n",
    "    if os.path.isfile(path):\n",
    "        read = open(path, 'r')\n",
    "        content = read.read()\n",
    "        read.close()\n",
    "        return ast.literal_eval(content)\n",
    "    else:\n",
    "        return {}\n",
    "\n",
    "\n",
    "training = X[train_indices]\n",
    "label = y[train_indices]\n",
    "\n",
    "run_profiles = load_existing_profile('meta/reuse-profiles.txt')\n",
    "\n",
    "pipelinesCopy = copy.deepcopy(pipelines)\n",
    "\n",
    "for k, v in pipelinesCopy.iteritems():\n",
    "    for e in experimentObjects:\n",
    "        if e.flow == k:\n",
    "            v.set_params(**e.extractParams())\n",
    "            break\n",
    "\n",
    "for pipelineKey, p in pipelinesCopy.iteritems():\n",
    "    transformed = training\n",
    "    if pipelineKey not in run_profiles.keys():\n",
    "        comp = []\n",
    "        i = 0\n",
    "        for k, c in p.steps:\n",
    "            is_transformation = getattr(c, \"fit_transform\", 'no')\n",
    "            start = time.time()\n",
    "            if is_transformation == 'no':\n",
    "                c.fit(transformed, label)\n",
    "            else:\n",
    "                isSparse = getattr(transformed, \"todense\", False)\n",
    "                if isSparse:\n",
    "                    transformed = transformed.todense()\n",
    "                transformed = c.fit_transform(transformed, label)\n",
    "            end = time.time()\n",
    "            comp.append(end - start)\n",
    "            i = i + 1\n",
    "        run_profiles[pipelineKey] = comp\n",
    "\n",
    "# Write the profiles back to file\n",
    "target = open('meta/reuse-profiles.txt', 'w')\n",
    "target.write(str(run_profiles))\n",
    "target.close()\n"
   ]
  },
  {
   "cell_type": "code",
   "execution_count": 26,
   "metadata": {},
   "outputs": [],
   "source": [
    "for ex in experimentObjects:\n",
    "    runProfile = run_profiles[ex.flow]\n",
    "    total = 0\n",
    "    for i in range(len(runProfile)):\n",
    "        total = total + runProfile[i]\n",
    "        ex.components[i].estimatedRunTime = runProfile[i]\n",
    "    ex.estimatedRunTime = total"
   ]
  },
  {
   "cell_type": "code",
   "execution_count": 27,
   "metadata": {},
   "outputs": [],
   "source": [
    "experimentGraph = ExperimentGraph()\n",
    "for ex in experimentObjects:\n",
    "    experimentGraph.insertExperimentObject(ex)\n"
   ]
  },
  {
   "cell_type": "code",
   "execution_count": 103,
   "metadata": {},
   "outputs": [],
   "source": [
    "# Visualize the Graph\n",
    "def draw_graph(graph):\n",
    "    def pretty_label(edge_label):\n",
    "        if edge_label['weight'] <= 1:\n",
    "            return ''\n",
    "        else:\n",
    "            return '{} , ({})'.format(edge_label['name'], edge_label['weight'])\n",
    "    edge_labels = dict([((u, v,), pretty_label(d)) for u, v, d in graph.edges(data=True)])\n",
    "    labels = dict({k for k in graph.nodes(data='label')})\n",
    "    pos = graphviz_layout(graph, prog='dot')\n",
    "    gp = plt.figure(figsize=(20, 20))\n",
    "    nx.draw_networkx_edge_labels(graph, pos, alpha=1, edge_labels=edge_labels, font_size=12)\n",
    "    nx.draw_networkx_nodes(graph, pos, node_size=200)\n",
    "    nx.draw_networkx_edges(graph, pos, alpha=1, arrows=True)\n",
    "    nx.draw_networkx_labels(graph, pos, labels=labels, font_size=16)\n",
    "    gp.savefig(\"graph.png\")\n",
    "\n",
    "\n",
    "draw_graph(experimentGraph.graph)\n"
   ]
  },
  {
   "cell_type": "code",
   "execution_count": 28,
   "metadata": {},
   "outputs": [],
   "source": [
    "# Start with a fresh graph\n",
    "realGraph = ExperimentGraph()"
   ]
  },
  {
   "cell_type": "code",
   "execution_count": 29,
   "metadata": {},
   "outputs": [],
   "source": [
    "from random import shuffle\n",
    "\n",
    "# unoptimizedTime = []\n",
    "# optimizedTime = []\n",
    "# unoptimizedSteps = []\n",
    "# optimizedSteps = []\n",
    "pipeline_times = {}\n",
    "# Shuffle the objects to indicate we have no knowledge of the order of the incoming pipelines\n",
    "shuffledList = list(experimentObjects)\n",
    "# shuffle(shuffledList)\n",
    "for ex in shuffledList:\n",
    "    # executes the object using the graph and returns the following: prefix: is the common path for the incoming \n",
    "    # pipeline and the existing graph, this indicates which components of the pipelie can be skipped \n",
    "    # optimizedTime; The execution time after optimizing the pipeline \n",
    "    prefix, steps, optimizedTime = realGraph.optimizeAndRun(ex)\n",
    "    # print steps, optimizedTime\n",
    "    if ex.flow in pipeline_times.keys():\n",
    "        (a, b, c, d) = pipeline_times[ex.flow]\n",
    "        # print a,b,c,d\n",
    "        pipeline_times[ex.flow] = (optimizedTime + a, ex.defaultRunTime() + b, steps + c, len(ex.components) + d)\n",
    "    else:\n",
    "        pipeline_times[ex.flow] = (optimizedTime, ex.defaultRunTime(), steps, len(ex.components))\n",
    "    # unoptimizedTime.append(ex.defaultRunTime())\n",
    "    # optimizedTime.append(optimizedTime)\n",
    "    # unoptimizedSteps.append(len(ex.components))\n",
    "    # optimizedSteps.append(steps)\n"
   ]
  },
  {
   "cell_type": "code",
   "execution_count": 37,
   "metadata": {},
   "outputs": [],
   "source": [
    "tempList = []\n",
    "for k, v in pipeline_times.iteritems():\n",
    "    tempList.append((k, v[0], v[1], v[2], v[3]))\n",
    "results = pd.DataFrame.from_records(tempList,\n",
    "                                    columns=['pipeline', 'time_optimized', 'time_unoptimized', 'steps_optimized',\n",
    "                                             'steps_unoptimized'])\n"
   ]
  },
  {
   "cell_type": "code",
   "execution_count": 57,
   "metadata": {},
   "outputs": [
    {
     "data": {
      "image/png": "[encoded data removed]",
      "text/plain": [
       "<matplotlib.figure.Figure at 0x11a26f3d0>"
      ]
     },
     "metadata": {},
     "output_type": "display_data"
    }
   ],
   "source": [
    "step_melted = pd.melt(results[['pipeline', 'steps_optimized', 'steps_unoptimized']]\n",
    "                      .rename(index=str, columns={'steps_optimized': 'yes', 'steps_unoptimized': 'no'}),\n",
    "                      id_vars='pipeline', var_name='Reuse')\n",
    "ax = sns.barplot(data=step_melted, x='pipeline', y='value', hue='Reuse')\n",
    "ax.set_ylabel('# Executed Steps', fontsize=20)\n",
    "ax.set_xlabel('pipeline', fontsize=20)\n",
    "ax.tick_params(labelsize=20)\n",
    "plt.savefig('figures/paper/reuse-openml-steps.eps', format='eps', dpi=1000, bbox_inches='tight')\n"
   ]
  },
  {
   "cell_type": "code",
   "execution_count": 59,
   "metadata": {},
   "outputs": [
    {
     "data": {
      "image/png": "[encoded data removed]",
      "text/plain": [
       "<matplotlib.figure.Figure at 0x11a6f60d0>"
      ]
     },
     "metadata": {},
     "output_type": "display_data"
    }
   ],
   "source": [
    "time_melted = pd.melt(results[['pipeline', 'time_optimized', 'time_unoptimized']]\n",
    "                      .rename(index=str, columns={'time_optimized': 'yes', 'time_unoptimized': 'no'}),\n",
    "                      id_vars='pipeline', var_name='Reuse')\n",
    "ax = sns.barplot(data=time_melted, x='pipeline', y='value', hue='Reuse')\n",
    "ax.set_ylabel('Execution Time (s)', fontsize=20)\n",
    "ax.set_xlabel('pipeline', fontsize=20)\n",
    "ax.tick_params(labelsize=20)\n",
    "plt.savefig('figures/paper/reuse-openml-time.eps', format='eps', dpi=1000, bbox_inches='tight')"
   ]
  }
 ],
 "metadata": {
  "kernelspec": {
   "display_name": "Python 2",
   "language": "python",
   "name": "python2"
  },
  "language_info": {
   "codemirror_mode": {
    "name": "ipython",
    "version": 2
   },
   "file_extension": ".py",
   "mimetype": "text/x-python",
   "name": "python",
   "nbconvert_exporter": "python",
   "pygments_lexer": "ipython2",
   "version": "2.7.15"
  }
 },
 "nbformat": 4,
 "nbformat_minor": 1
}
