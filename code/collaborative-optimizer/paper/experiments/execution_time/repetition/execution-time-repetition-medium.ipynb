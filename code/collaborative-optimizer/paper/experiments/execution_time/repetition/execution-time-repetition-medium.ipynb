{
 "cells": [
  {
   "cell_type": "code",
   "execution_count": 13,
   "metadata": {},
   "outputs": [],
   "source": [
    "# numpy and pandas for data manipulation\n",
    "import sys\n",
    "# Suppress warnings\n",
    "import warnings\n",
    "import seaborn as sns\n",
    "import matplotlib as plt\n",
    "import networkx as nx\n",
    "import numpy as np\n",
    "import pandas as pd\n",
    "import os\n",
    "plt.style.use('seaborn')\n",
    "sns.set(style=\"whitegrid\")\n",
    "sns.set_style({'grid.color': '.5'})\n",
    "plt.rc('hatch', color='white', linewidth=1)\n",
    "plt.use('pgf')\n",
    "\n",
    "plt.style.use('seaborn')\n",
    "sns.set(style=\"whitegrid\")\n",
    "sns.set_style({'grid.color': '.5'})\n",
    "plt.rc('hatch', color='white', linewidth=1)\n",
    "plt.use('pgf')\n",
    "\n",
    "FONT_SIZE = 21\n",
    "\n",
    "params = {\n",
    "    \"lines.markersize\": 20,\n",
    "    \"lines.linewidth\": 3,\n",
    "#     \"text.usetex\": True,\n",
    "    \"font.family\": \"serif\",\n",
    "    \"font.serif\": [],\n",
    "    \"font.sans-serif\": [],\n",
    "    \"font.monospace\": [],\n",
    "    \"axes.labelsize\": FONT_SIZE,\n",
    "    \"font.size\": FONT_SIZE,\n",
    "    \"legend.fontsize\": FONT_SIZE,\n",
    "    \"xtick.labelsize\": FONT_SIZE,\n",
    "    \"ytick.labelsize\": FONT_SIZE,\n",
    "    \"legend.fontsize\": FONT_SIZE,\n",
    "#     \"pgf.preamble\":[r\"\\usepackage[utf8x]{inputenc}\", r\"\\usepackage[T1]{fontenc}\"]\n",
    "}\n",
    "plt.rcParams.update(params)\n",
    "warnings.filterwarnings('ignore')\n",
    "\n",
    "# matplotlib and seaborn for plotting\n",
    "import matplotlib.pyplot as plt\n",
    "%matplotlib inline\n",
    "ROOT_RESULT_FOLDER = '/Users/bede01/Documents/work/phd-papers/published/ml-workload-optimization/experiment_results/remote'\n",
    "\n",
    "SYSTEM_COLOR = sns.color_palette()[0]\n",
    "BASELINE_COLOR = sns.color_palette()[1]\n",
    "OTHER_COLOR = sns.color_palette()[2]\n",
    "\n",
    "WORKLOADS = {\n",
    "    'start_here_a_gentle_introduction': '(a) Workload 1',\n",
    "    'introduction_to_manual_feature_engineering': '(b) Workload 2',\n",
    "    'introduction_to_manual_feature_engineering_p2': '(c) Workload 3'\n",
    "}\n",
    "\n",
    "output_directory = '/Users/bede01/Documents/work/phd-papers/published/ml-workload-optimization/slides/assets/medium-figures'\n",
    "\n",
    "\n",
    "def create_folder(path):\n",
    "    if not os.path.exists(os.path.dirname(path)):\n",
    "        try:\n",
    "            os.makedirs(os.path.dirname(path))\n",
    "        except OSError as exc:  # Guard against race condition\n",
    "            if exc.errno != errno.EEXIST:\n",
    "                raise\n",
    "\n",
    "\n",
    "def savefig(filename):\n",
    "    #     plt.savefig('{}.pgf'.format(filename), bbox_inches='tight')\n",
    "    plt.savefig('{}.png'.format(filename), bbox_inches='tight')"
   ]
  },
  {
   "cell_type": "code",
   "execution_count": 14,
   "metadata": {},
   "outputs": [],
   "source": [
    "result_folder = ROOT_RESULT_FOLDER + '/execution_time/repetition/kaggle_home_credit'\n",
    "FINAL_RESULT_FILE = result_folder + '/cloud-41/2019-10-20/09-36.csv'\n",
    "result_file = result_folder + '/cloud-41/2020-02-05/22-43.csv'"
   ]
  },
  {
   "cell_type": "code",
   "execution_count": 15,
   "metadata": {},
   "outputs": [],
   "source": [
    "HEADERS = [\n",
    "    'timestamp', 'exp_id', 'repo', 'workload','type', 'rep', 'mat_rate',\n",
    "    'run_time'\n",
    "]\n",
    "method_map = {'optimized':'CO','baseline':'KG', 'helix':'HL'}\n",
    "execution_times = pd.read_csv(result_file, header=None, names=HEADERS)\n",
    "execution_times['type'] = execution_times['type'].replace(method_map)\n",
    "execution_times['cumulative_run_time'] = execution_times.groupby(['exp_id','workload','type'])['run_time'].apply(lambda x: x.cumsum())\n",
    "execution_times['run_time'] = execution_times['run_time'] / 60.0"
   ]
  },
  {
   "cell_type": "code",
   "execution_count": 16,
   "metadata": {},
   "outputs": [],
   "source": [
    "execution_times = execution_times[execution_times.type != 'HL']"
   ]
  },
  {
   "cell_type": "code",
   "execution_count": 17,
   "metadata": {},
   "outputs": [],
   "source": [
    "def plot_run_time(df):\n",
    "    cat = sns.barplot(\n",
    "        data=df,\n",
    "        x='rep',\n",
    "        y='run_time',\n",
    "        hue='type',\n",
    "        errwidth=3,\n",
    "        errcolor='0',\n",
    "        ci='sd',\n",
    "        hue_order=['CO', 'KG'],\n",
    "        palette={\n",
    "            'CO': SYSTEM_COLOR,\n",
    "            'KG': BASELINE_COLOR,\n",
    "#             'HL': sns.color_palette()[2]\n",
    "        })\n",
    "    top = df['run_time'].max()\n",
    "    cat.set_xlabel('')\n",
    "    cat.set_ylabel('Run Time (m)')\n",
    "    if top < 4:\n",
    "        cat.set_yticks([0,1,2,3,4])\n",
    "        cat.set_ylim(0, 4)\n",
    "    else:\n",
    "        cat.set_yticks([0,2,4,6,8])\n",
    "        cat.set_ylim(0, 8)\n",
    "    cat.set_xticklabels(['Run 1', 'Run 2'])\n",
    "\n",
    "    num_executions = len(df.rep.unique())\n",
    "    for i, bar in enumerate(cat.patches):\n",
    "        if i < num_executions:\n",
    "            h = '//'\n",
    "        elif i < 2 * num_executions:\n",
    "            h = '\\\\\\\\'\n",
    "        else:\n",
    "            h = '--'\n",
    "        bar.set_edgecolor('black')\n",
    "        bar.set_hatch(h)\n",
    "#     ax.tick_params(axis='y', which='major', pad=-2)\n",
    "#     ax.tick_params(axis='x', which='major', pad=-2)\n",
    "\n",
    "    legend = cat.legend(\n",
    "        borderpad=0.2,\n",
    "        frameon=True,\n",
    "        loc='upper center',\n",
    "        handlelength=1.5,\n",
    "        handletextpad=0.1,\n",
    "        ncol=3,\n",
    "        columnspacing=0.2,\n",
    "        bbox_to_anchor=(0.5, 1.22))\n",
    "    legend.get_frame().set_edgecolor('black')\n",
    "    legend.get_frame().set_linewidth(2.0)\n",
    "\n",
    "    return cat"
   ]
  },
  {
   "cell_type": "code",
   "execution_count": 18,
   "metadata": {},
   "outputs": [],
   "source": [
    "path = output_directory"
   ]
  },
  {
   "cell_type": "code",
   "execution_count": 19,
   "metadata": {},
   "outputs": [
    {
     "data": {
      "text/plain": [
       "<Figure size 432x288 with 0 Axes>"
      ]
     },
     "metadata": {},
     "output_type": "display_data"
    },
    {
     "data": {
      "image/png": "[encoded data removed]",
      "text/plain": [
       "<Figure size 288x252 with 1 Axes>"
      ]
     },
     "metadata": {
      "needs_background": "light"
     },
     "output_type": "display_data"
    }
   ],
   "source": [
    "plt.clf()\n",
    "fig = plt.figure(figsize=(4,3.5))\n",
    "df = execution_times[execution_times['workload'] == 'start_here_a_gentle_introduction']\n",
    "p1= plot_run_time(df)\n",
    "savefig(path+'/workload-1')"
   ]
  },
  {
   "cell_type": "code",
   "execution_count": 20,
   "metadata": {},
   "outputs": [
    {
     "data": {
      "text/plain": [
       "<Figure size 432x288 with 0 Axes>"
      ]
     },
     "metadata": {},
     "output_type": "display_data"
    },
    {
     "data": {
      "image/png": "[encoded data removed]",
      "text/plain": [
       "<Figure size 288x252 with 1 Axes>"
      ]
     },
     "metadata": {
      "needs_background": "light"
     },
     "output_type": "display_data"
    }
   ],
   "source": [
    "plt.clf()\n",
    "fig = plt.figure(figsize=(4,3.5))\n",
    "df = execution_times[execution_times['workload'] == 'introduction_to_manual_feature_engineering']\n",
    "p1= plot_run_time(df)\n",
    "savefig(path+'/workload-2')"
   ]
  },
  {
   "cell_type": "code",
   "execution_count": 21,
   "metadata": {},
   "outputs": [
    {
     "data": {
      "text/plain": [
       "<Figure size 432x288 with 0 Axes>"
      ]
     },
     "metadata": {},
     "output_type": "display_data"
    },
    {
     "data": {
      "image/png": "[encoded data removed]",
      "text/plain": [
       "<Figure size 288x252 with 1 Axes>"
      ]
     },
     "metadata": {
      "needs_background": "light"
     },
     "output_type": "display_data"
    }
   ],
   "source": [
    "plt.clf()\n",
    "fig = plt.figure(figsize=(4,3.5))\n",
    "df = execution_times[execution_times['workload'] == 'introduction_to_manual_feature_engineering_p2']\n",
    "p1= plot_run_time(df)\n",
    "savefig(path+'/workload-3')"
   ]
  },
  {
   "cell_type": "code",
   "execution_count": null,
   "metadata": {},
   "outputs": [],
   "source": []
  }
 ],
 "metadata": {
  "kernelspec": {
   "display_name": "Python 3",
   "language": "python",
   "name": "python3"
  },
  "language_info": {
   "codemirror_mode": {
    "name": "ipython",
    "version": 3
   },
   "file_extension": ".py",
   "mimetype": "text/x-python",
   "name": "python",
   "nbconvert_exporter": "python",
   "pygments_lexer": "ipython3",
   "version": "3.9.4"
  }
 },
 "nbformat": 4,
 "nbformat_minor": 2
}
