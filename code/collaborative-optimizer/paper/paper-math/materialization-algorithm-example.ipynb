{
 "cells": [
  {
   "cell_type": "code",
   "execution_count": 10,
   "metadata": {},
   "outputs": [],
   "source": [
    "import os\n",
    "\n",
    "import matplotlib.pyplot as plt\n",
    "import numpy as np\n",
    "import pandas as pd\n",
    "import seaborn as sns\n",
    "import operator\n",
    "from openml import datasets, tasks, flows, config\n",
    "\n",
    "import itertools\n",
    "\n",
    "def powerset(L):\n",
    "    pset = set()\n",
    "    for n in xrange(len(L) + 1):\n",
    "        for sset in itertools.combinations(L, n):\n",
    "            pset.add(sset)\n",
    "    return pset\n"
   ]
  },
  {
   "cell_type": "code",
   "execution_count": 11,
   "metadata": {},
   "outputs": [],
   "source": [
    "class Edge:\n",
    "    def __init__(self, source, dest, f, t):\n",
    "        self.source = source\n",
    "        self.dest = dest\n",
    "        self.f = f\n",
    "        self.t = t\n",
    "graph = {'edges':\n",
    "            [Edge(0,1,3,1), Edge(0,2, 3, 1), Edge(1,3,3,25), \n",
    "             Edge(3,4,3,0), Edge(2,5, 2,25), Edge(2,4, 3,0),\n",
    "             Edge(4, 6, 3, 20), Edge(6,7,1,60), Edge(6,8, 2,30)],\n",
    "        'vertices':\n",
    "             {0:10., 1:8., 2:2., 3:40., 4:42., 5:1., 6:30., 7:2., 8: 3.0}}"
   ]
  },
  {
   "cell_type": "code",
   "execution_count": 12,
   "metadata": {},
   "outputs": [],
   "source": [
    "def o_neighbors(graph, v):\n",
    "    n = []\n",
    "    for e in graph['edges']:\n",
    "        if e.source == v:\n",
    "            n = n + [e.dest]\n",
    "    return n\n",
    "def get_edge(graph, v0, v1):\n",
    "    for e in graph['edges']:\n",
    "        if e.source == v0 and e.dest == v1:\n",
    "            return e\n",
    "    return None\n",
    "\n",
    "def path(graph, v0, v1):\n",
    "    def find_path(graph, v0, v1, path = []):\n",
    "        path = path + [v0]\n",
    "        active = o_neighbors(graph,v0)\n",
    "        if v0 == v1:\n",
    "            return [path]\n",
    "        paths  = []\n",
    "        for v in active:\n",
    "            if v not in path:\n",
    "                newpaths = find_path(graph, v, v1, path)\n",
    "                for newpath in newpaths:\n",
    "                    paths.append(newpath)\n",
    "\n",
    "        return paths\n",
    "    all_paths = find_path(graph, v0, v1)\n",
    "    return set().union(*all_paths)  \n",
    "def path_edge(graph, v0, v1):\n",
    "    vs = path(graph, v0, v1)\n",
    "    edges = []\n",
    "    for p in powerset(vs):\n",
    "        if len(p) == 2:\n",
    "            e = get_edge(graph, p[0], p[1])\n",
    "            if e:\n",
    "                edges.append(e)\n",
    "    return edges\n",
    "             \n",
    "# for e in path_edge(graph, 0, 7):\n",
    "#     print e.source, e.dest"
   ]
  },
  {
   "cell_type": "code",
   "execution_count": 3,
   "metadata": {},
   "outputs": [],
   "source": [
    "def total_size(graph, mat):\n",
    "    total = 0\n",
    "    for k,v in graph['vertices'].iteritems():\n",
    "        if k in mat:\n",
    "            total = total + v\n",
    "    return total"
   ]
  },
  {
   "cell_type": "code",
   "execution_count": 4,
   "metadata": {},
   "outputs": [],
   "source": [
    "def recreation_cost(graph, v):\n",
    "    cost = 0\n",
    "    for e in path_edge(graph, 0, v):\n",
    "        if e.dest != v:\n",
    "            cost+= (e.t)\n",
    "        else:\n",
    "            alpha = e.f\n",
    "            cost += (e.t)\n",
    "    return alpha * cost\n",
    "#recreation_cost(graph, 7)"
   ]
  },
  {
   "cell_type": "code",
   "execution_count": 5,
   "metadata": {},
   "outputs": [],
   "source": [
    "def total_recreation_cost(graph, mat):\n",
    "    total = 0\n",
    "    for e in graph['edges']:\n",
    "        if e.dest not in mat:\n",
    "            total = total + (e.f * e.t)\n",
    "    return total"
   ]
  },
  {
   "cell_type": "code",
   "execution_count": 6,
   "metadata": {},
   "outputs": [
    {
     "name": "stdout",
     "output_type": "stream",
     "text": [
      "[0, 1, 5, 6, 7, 8] 54.0 78\n"
     ]
    }
   ],
   "source": [
    "import itertools\n",
    "def powerset(L):\n",
    "    pset = set()\n",
    "    for n in xrange(len(L) + 1):\n",
    "        for sset in itertools.combinations(L, n):\n",
    "            pset.add(sset)\n",
    "    return pset\n",
    "\n",
    "def brute_force(graph, MAX_SIZE = 55):\n",
    "    results = {}\n",
    "    for l in powerset(graph['vertices'].keys()):\n",
    "        if 0 in l:\n",
    "            weight = 0\n",
    "            for v in l:\n",
    "                weight += graph['vertices'][v]\n",
    "            results[l] = (total_recreation_cost(graph, l), weight)\n",
    "    feasible = {}\n",
    "    for k,v in results.iteritems():\n",
    "        if v[1] <= MAX_SIZE:\n",
    "            feasible [k] = v\n",
    "    return list(sorted(feasible.items(), key=lambda v:v[1][0])[0][0])\n",
    "\n",
    "result = brute_force(graph)  \n",
    "print sorted(result), total_size(graph, result), total_recreation_cost(graph, result)"
   ]
  },
  {
   "cell_type": "code",
   "execution_count": 18,
   "metadata": {},
   "outputs": [],
   "source": [
    "def rho(graph, v):\n",
    "    cost = 0\n",
    "    for e in path_edge(graph, 0, v):\n",
    "        if e.dest != v:\n",
    "            print e.t\n",
    "            cost+= (e.t)\n",
    "        else:\n",
    "            alpha = e.f\n",
    "            cost += (e.t)    \n",
    "    return alpha * cost\n",
    "\n",
    "def algorithm_in_paper(graph,  MAX_SIZE = 55):\n",
    "    mat = [0]\n",
    "    T = graph['vertices'][0]\n",
    "    estimates = {}\n",
    "    for i in range(1,len(graph['vertices'])):\n",
    "         estimates[i] = rho(graph, i) / float(graph['vertices'][i])\n",
    "    for k,v in sorted(estimates.items(), key=operator.itemgetter(1), reverse=True):\n",
    "        print k, graph['vertices'][k], estimates[k], T\n",
    "        if T + graph['vertices'][k] <= MAX_SIZE:\n",
    "            mat.append(k)\n",
    "            T = T + graph['vertices'][k]\n",
    "    print mat, T, total_recreation_cost(graph, mat)\n"
   ]
  },
  {
   "cell_type": "code",
   "execution_count": 16,
   "metadata": {},
   "outputs": [
    {
     "name": "stdout",
     "output_type": "stream",
     "text": [
      "7 2.0 53.5 10.0\n",
      "5 1.0 52.0 12.0\n",
      "8 3.0 51.3333333333 13.0\n",
      "6 30.0 4.7 16.0\n",
      "3 40.0 1.95 46.0\n",
      "4 42.0 1.92857142857 46.0\n",
      "2 2.0 1.5 46.0\n",
      "1 8.0 0.375 48.0\n",
      "[0, 7, 5, 8, 6, 2] 48.0 78\n"
     ]
    }
   ],
   "source": [
    "algorithm_in_paper(graph)"
   ]
  },
  {
   "cell_type": "code",
   "execution_count": 19,
   "metadata": {},
   "outputs": [
    {
     "name": "stdout",
     "output_type": "stream",
     "text": [
      "1\n",
      "20\n",
      "1\n",
      "25\n",
      "0\n",
      "0\n"
     ]
    },
    {
     "data": {
      "text/plain": [
       "107"
      ]
     },
     "execution_count": 19,
     "metadata": {},
     "output_type": "execute_result"
    }
   ],
   "source": [
    "rho(graph, 7)"
   ]
  },
  {
   "cell_type": "code",
   "execution_count": null,
   "metadata": {},
   "outputs": [],
   "source": []
  }
 ],
 "metadata": {
  "kernelspec": {
   "display_name": "Python 2",
   "language": "python",
   "name": "python2"
  },
  "language_info": {
   "codemirror_mode": {
    "name": "ipython",
    "version": 2
   },
   "file_extension": ".py",
   "mimetype": "text/x-python",
   "name": "python",
   "nbconvert_exporter": "python",
   "pygments_lexer": "ipython2",
   "version": "2.7.15"
  }
 },
 "nbformat": 4,
 "nbformat_minor": 2
}
