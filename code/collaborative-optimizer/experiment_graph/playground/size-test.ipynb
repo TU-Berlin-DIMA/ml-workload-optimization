{
 "cells": [
  {
   "cell_type": "code",
   "execution_count": 111,
   "metadata": {},
   "outputs": [],
   "source": [
    "# numpy and pandas for data manipulation\n",
    "import sys\n",
    "import os\n",
    "# Suppress warnings\n",
    "import warnings\n",
    "\n",
    "import matplotlib.pyplot as plt\n",
    "import networkx as nx\n",
    "\n",
    "import numpy as np\n",
    "import pandas as pd\n",
    "import seaborn as sns\n",
    "from datetime import datetime\n",
    "import cPickle as pickle\n",
    "from pympler.asizeof import asizeof\n",
    "\n",
    "from importlib import import_module\n",
    "warnings.filterwarnings('ignore')\n",
    "\n",
    "# matplotlib and seaborn for plotting\n",
    "import matplotlib.pyplot as plt\n",
    "%matplotlib inline\n",
    "\n",
    "ROOT = '/Users/bede01/Documents/work/phd-papers/ml-workload-optimization/'\n",
    "ROOT_PACKAGE_DIRECTORY = '/Users/bede01/Documents/work/phd-papers/ml-workload-optimization/code/collaborative-optimizer'\n",
    "root_data = ROOT + '/data'\n",
    "\n",
    "\n",
    "sys.path.append(ROOT_PACKAGE_DIRECTORY)\n",
    "from experiment_graph.execution_environment import ExecutionEnvironment\n",
    "from experiment_graph.benchmark_helper import BenchmarkMetrics\n",
    "\n",
    "DATABASE_PATH = root_data + '/experiment_graphs/kaggle_home_credit/start_here_a_gentle_introduction/all'\n",
    "N_ESTIMATOR = 100"
   ]
  },
  {
   "cell_type": "code",
   "execution_count": 94,
   "metadata": {},
   "outputs": [],
   "source": [
    "def byte_mb(bt):\n",
    "    return bt/(1024.0 * 1024.0) \n",
    "def kb_mb(bt):\n",
    "    return bt/(1024.0) "
   ]
  },
  {
   "cell_type": "code",
   "execution_count": 112,
   "metadata": {},
   "outputs": [],
   "source": [
    "ee = ExecutionEnvironment()\n",
    "ee.load_history_from_disk(DATABASE_PATH)"
   ]
  },
  {
   "cell_type": "code",
   "execution_count": 113,
   "metadata": {},
   "outputs": [],
   "source": [
    "graph = ee.experiment_graph.graph\n",
    "storage = ee.experiment_graph.data_storage"
   ]
  },
  {
   "cell_type": "code",
   "execution_count": 56,
   "metadata": {},
   "outputs": [
    {
     "name": "stdout",
     "output_type": "stream",
     "text": [
      "graph size: 14.8221969604\n"
     ]
    },
    {
     "data": {
      "text/plain": [
       "5067.366834640503"
      ]
     },
     "execution_count": 56,
     "metadata": {},
     "output_type": "execute_result"
    }
   ],
   "source": [
    "print 'graph size: {}'.format(byte_mb(asizeof(graph)))\n",
    "kb_mb(storage.total_size())\n",
    "#print 'data size: {}'.format(to_mb(asizeof(storage)))"
   ]
  },
  {
   "cell_type": "code",
   "execution_count": 29,
   "metadata": {},
   "outputs": [
    {
     "name": "stdout",
     "output_type": "stream",
     "text": [
      "2\n"
     ]
    }
   ],
   "source": [
    "node_roots = DATABASE_PATH + '/nodes'"
   ]
  },
  {
   "cell_type": "code",
   "execution_count": 44,
   "metadata": {},
   "outputs": [
    {
     "data": {
      "text/plain": [
       "244"
      ]
     },
     "execution_count": 44,
     "metadata": {},
     "output_type": "execute_result"
    }
   ],
   "source": [
    "len(graph.nodes['0EA92AD11A29D445E90C9D1348E4EC49']['data'].get_column())"
   ]
  },
  {
   "cell_type": "code",
   "execution_count": 79,
   "metadata": {},
   "outputs": [],
   "source": [
    "model = graph.nodes['9E409F94D522D9212FA95D5D004FD20E']['data'].underlying_data"
   ]
  },
  {
   "cell_type": "code",
   "execution_count": 117,
   "metadata": {},
   "outputs": [
    {
     "name": "stdout",
     "output_type": "stream",
     "text": [
      "3996AA3D518492001F3FE1BB01166A3F <class 'sklearn.ensemble.forest.RandomForestClassifier'> 300.155945778\n",
      "6AAA6029569988157DF06586C0E252AA <class 'sklearn.preprocessing.imputation.Imputer'> 0.00156402587891\n",
      "3C656E1B5A4B25CFB98BF05AFAD7C5F1 <class 'sklearn.preprocessing.imputation.Imputer'> 0.00156402587891\n",
      "72478F12EF5CAAB59E008DDDF3BD2EED <class 'sklearn.preprocessing.imputation.Imputer'> 0.00156402587891\n",
      "FDC00280636906AADEFAF13F52E95BA6 <class 'sklearn.preprocessing.data.MinMaxScaler'> 0.0113296508789\n",
      "9A629F2872AF5C1331501263384341A4 <class 'sklearn.preprocessing.data.MinMaxScaler'> 0.0114822387695\n",
      "F2F75C323EC6471B2517FE7154C97773 <class 'sklearn.preprocessing.label.LabelEncoder'> 0.000480651855469\n",
      "8CDCE0CA7AAFF33711B67E932FE5A036 <class 'sklearn.preprocessing.data.PolynomialFeatures'> 0.000701904296875\n",
      "5DA4551B3606EC5692DF4F187B526E97 <class 'sklearn.ensemble.forest.RandomForestClassifier'> 241.753641129\n",
      "EC253C8CA4B357C1CB40F7D403CF68A8 <class 'lightgbm.sklearn.LGBMClassifier'> 0.548034667969\n",
      "71BB0F7A184F10D1AD64C9CC8A3EB214 <class 'sklearn.preprocessing.data.MinMaxScaler'> 0.0126647949219\n",
      "9E409F94D522D9212FA95D5D004FD20E <class 'sklearn.ensemble.forest.RandomForestClassifier'> 286.915360451\n",
      "5EB475DF22AE09AAE7E6C19032EEC714 <class 'lightgbm.sklearn.LGBMClassifier'> 0.545440673828\n",
      "5B39955C44B55E2E8C3D3D0A09A9C12F <class 'sklearn.preprocessing.imputation.Imputer'> 0.00156402587891\n",
      "F13A2DFB53C34E32C46DC838742E2986 <class 'sklearn.preprocessing.label.LabelEncoder'> 0.000480651855469\n",
      "A480DAC641043FBC1D232DD0142AAC17 <class 'sklearn.preprocessing.label.LabelEncoder'> 0.000480651855469\n",
      "8808BE0F4EDD1DA514DC546CDC559318 <class 'sklearn.linear_model.logistic.LogisticRegression'> 0.00515747070312\n"
     ]
    }
   ],
   "source": [
    "s = 0\n",
    "for n,d in graph.nodes(data=True):\n",
    "    if d['type'] == 'SK_Model':\n",
    "        print n, d['data'].underlying_data.__class__, kb_mb(d['size'])"
   ]
  }
 ],
 "metadata": {
  "kernelspec": {
   "display_name": "Python 2",
   "language": "python",
   "name": "python2"
  },
  "language_info": {
   "codemirror_mode": {
    "name": "ipython",
    "version": 2
   },
   "file_extension": ".py",
   "mimetype": "text/x-python",
   "name": "python",
   "nbconvert_exporter": "python",
   "pygments_lexer": "ipython2",
   "version": "2.7.16"
  }
 },
 "nbformat": 4,
 "nbformat_minor": 2
}
