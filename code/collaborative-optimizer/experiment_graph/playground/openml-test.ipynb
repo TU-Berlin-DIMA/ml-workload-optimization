{
 "cells": [
  {
   "cell_type": "code",
   "execution_count": 6,
   "metadata": {},
   "outputs": [],
   "source": [
    "from openml import tasks, datasets, runs, flows, setups, config\n",
    "# numpy and pandas for data manipulation\n",
    "import sys\n",
    "import os\n",
    "import pandas as pd\n",
    "# Suppress warnings\n",
    "import warnings\n",
    "warnings.filterwarnings(\"ignore\")\n",
    "import matplotlib.pyplot as plt\n",
    "import networkx as nx\n",
    "\n",
    "# matplotlib and seaborn for plotting\n",
    "import matplotlib.pyplot as plt\n",
    "%matplotlib inline\n",
    "TASK_ID = 31\n",
    "\n",
    "ROOT = '/Users/bede01/Documents/work/phd-papers/ml-workload-optimization/'\n",
    "ROOT_PACKAGE_DIRECTORY = '/Users/bede01/Documents/work/phd-papers/ml-workload-optimization/code/collaborative-optimizer'\n",
    "ROOT_DATA_DIRECTORY = ROOT + '/data'\n",
    "OPENML_DIR = '/Users/bede01/Documents/work/phd-papers/ml-workload-optimization/data/openml'\n",
    "\n",
    "\n",
    "import sys\n",
    "\n",
    "SOURCE_CODE_ROOT = '/Users/bede01/Documents/work/phd-papers/ml-workload-optimization/code/collaborative-optimizer/'\n",
    "sys.path.append(SOURCE_CODE_ROOT)\n",
    "from paper.experiment_helper import Parser\n",
    "from experiment_graph.data_storage import StorageManagerFactory\n",
    "from experiment_graph.executor import CollaborativeExecutor\n",
    "from experiment_graph.execution_environment import ExecutionEnvironment\n",
    "from experiment_graph.materialization_algorithms.materialization_methods import AllMaterializer\n",
    "from experiment_graph.optimizations.Reuse import LinearTimeReuse\n",
    "from experiment_graph.openml_helper.openml_connectors import *\n",
    "from experiment_graph.workload import Workload\n",
    "from experiment_graph.workloads.openml_optimized import  OpenMLOptimizedWorkload\n",
    "\n"
   ]
  },
  {
   "cell_type": "code",
   "execution_count": 7,
   "metadata": {},
   "outputs": [],
   "source": [
    "limit = 10\n",
    "storage_manager = StorageManagerFactory.get_storage('dedup')\n",
    "openml_task = 31\n",
    "OPENML_DIR = ROOT_DATA_DIRECTORY + '/openml/task_id={}'.format(openml_task)\n",
    "setup_and_pipelines = get_setup_and_pipeline(OPENML_DIR + '/all_runs.csv', limit)\n",
    "materializer = AllMaterializer()\n",
    "ee = ExecutionEnvironment(storage_manager, reuse_type=LinearTimeReuse.NAME)\n"
   ]
  },
  {
   "cell_type": "code",
   "execution_count": 8,
   "metadata": {},
   "outputs": [],
   "source": [
    "executor = CollaborativeExecutor(ee, materializer=materializer)"
   ]
  },
  {
   "cell_type": "code",
   "execution_count": 9,
   "metadata": {},
   "outputs": [
    {
     "name": "stdout",
     "output_type": "stream",
     "text": [
      "creating a new root node\n",
      "creating a new root node\n",
      "executing 18 instead of 15 steps to compute vertex E7100AD97BAC74996F782A129C7DB8AE\n",
      "pipeline: 5804, setup: 36487, score: {'accuracy': 0.80000000000000004}\n"
     ]
    },
    {
     "data": {
      "text/plain": [
       "True"
      ]
     },
     "execution_count": 9,
     "metadata": {},
     "output_type": "execute_result"
    }
   ],
   "source": [
    "workload = OpenMLOptimizedWorkload(setup=setup_and_pipelines[0][0], pipeline=setup_and_pipelines[0][1], task_id=openml_task)\n",
    "executor.end_to_end_run(workload=workload, root_data=ROOT_DATA_DIRECTORY, verbose=1)"
   ]
  },
  {
   "cell_type": "code",
   "execution_count": 10,
   "metadata": {},
   "outputs": [
    {
     "name": "stdout",
     "output_type": "stream",
     "text": [
      "After forward pass mat_set=set(['DE83973F96D881B7D5852DDF1795FE9B', 'C42F2CDE6885202579E291D6BC09DAA6', 'DBDC4A474E8B084B17D4A95D82CBA082', '1F22A9E7687B4B9E5ED728910FC93F1A']), warm_set=set(['C195E9A56B2719A442917B2A1A2105CF', '91402067876224D2949A5FF3684A3D23', 'D33B5781B1F353CFBD1E582C4CE1276F'])\n",
      "After backward pass mat_set=set(['DE83973F96D881B7D5852DDF1795FE9B', 'C42F2CDE6885202579E291D6BC09DAA6', 'DBDC4A474E8B084B17D4A95D82CBA082', '1F22A9E7687B4B9E5ED728910FC93F1A']), warm_set=set(['C195E9A56B2719A442917B2A1A2105CF', '91402067876224D2949A5FF3684A3D23', 'D33B5781B1F353CFBD1E582C4CE1276F'])\n",
      "materialized_vertices: set(['1F22A9E7687B4B9E5ED728910FC93F1A', 'C42F2CDE6885202579E291D6BC09DAA6', 'DBDC4A474E8B084B17D4A95D82CBA082', 'DE83973F96D881B7D5852DDF1795FE9B'])\n",
      "warmstarting_candidates: set([])\n",
      "executing 21 instead of 20 steps to compute vertex 1AFD6F0E20CC62F05528B2E95652B71D\n",
      "pipeline: 5909, setup: 36567, score: {'accuracy': 0.80000000000000004}\n",
      "After forward pass mat_set=set(['3790391615DC0DC558F3F55965CDDE6A', 'DBDC4A474E8B084B17D4A95D82CBA082', 'DE83973F96D881B7D5852DDF1795FE9B', 'C195E9A56B2719A442917B2A1A2105CF', '1F22A9E7687B4B9E5ED728910FC93F1A', '462F1E8CD09D923F40E2D74D8827E835', 'AFA0162DEADAE881667E070E164FD76A', 'C42F2CDE6885202579E291D6BC09DAA6', '8A1F6B8A1810811DA6C68E51D7AFCE68', '91402067876224D2949A5FF3684A3D23']), warm_set=set(['6FB8263A397EB0097B8BCD54E1300B00'])\n",
      "After backward pass mat_set=set(['3790391615DC0DC558F3F55965CDDE6A', 'DBDC4A474E8B084B17D4A95D82CBA082', 'DE83973F96D881B7D5852DDF1795FE9B', 'C195E9A56B2719A442917B2A1A2105CF', '1F22A9E7687B4B9E5ED728910FC93F1A', '462F1E8CD09D923F40E2D74D8827E835', 'AFA0162DEADAE881667E070E164FD76A', 'C42F2CDE6885202579E291D6BC09DAA6', '8A1F6B8A1810811DA6C68E51D7AFCE68', '91402067876224D2949A5FF3684A3D23']), warm_set=set(['6FB8263A397EB0097B8BCD54E1300B00'])\n",
      "materialized_vertices: set(['DBDC4A474E8B084B17D4A95D82CBA082', '1F22A9E7687B4B9E5ED728910FC93F1A', 'AFA0162DEADAE881667E070E164FD76A', '8A1F6B8A1810811DA6C68E51D7AFCE68'])\n",
      "warmstarting_candidates: set([])\n",
      "executing 7 instead of 20 steps to compute vertex 92137BF5154B0A47452FCDA6F29E01D8\n",
      "pipeline: 5909, setup: 47569, score: {'accuracy': 0.80000000000000004}\n",
      "After forward pass mat_set=set(['3790391615DC0DC558F3F55965CDDE6A', 'DBDC4A474E8B084B17D4A95D82CBA082', 'DE83973F96D881B7D5852DDF1795FE9B', 'C195E9A56B2719A442917B2A1A2105CF', '1F22A9E7687B4B9E5ED728910FC93F1A', '462F1E8CD09D923F40E2D74D8827E835', 'AFA0162DEADAE881667E070E164FD76A', 'C42F2CDE6885202579E291D6BC09DAA6', '8A1F6B8A1810811DA6C68E51D7AFCE68', '91402067876224D2949A5FF3684A3D23']), warm_set=set(['8FCE33F3A2726FC81CCF7DD58E1F91EF'])\n",
      "After backward pass mat_set=set(['3790391615DC0DC558F3F55965CDDE6A', 'DBDC4A474E8B084B17D4A95D82CBA082', 'DE83973F96D881B7D5852DDF1795FE9B', 'C195E9A56B2719A442917B2A1A2105CF', '1F22A9E7687B4B9E5ED728910FC93F1A', '462F1E8CD09D923F40E2D74D8827E835', 'AFA0162DEADAE881667E070E164FD76A', 'C42F2CDE6885202579E291D6BC09DAA6', '8A1F6B8A1810811DA6C68E51D7AFCE68', '91402067876224D2949A5FF3684A3D23']), warm_set=set(['8FCE33F3A2726FC81CCF7DD58E1F91EF'])\n",
      "materialized_vertices: set(['DBDC4A474E8B084B17D4A95D82CBA082', '1F22A9E7687B4B9E5ED728910FC93F1A', 'AFA0162DEADAE881667E070E164FD76A', '8A1F6B8A1810811DA6C68E51D7AFCE68'])\n",
      "warmstarting_candidates: set([])\n",
      "executing 7 instead of 20 steps to compute vertex 7DFE2197E2BBB5A63537E92CF43B4F7B\n",
      "pipeline: 5909, setup: 47570, score: {'accuracy': 0.80000000000000004}\n",
      "After forward pass mat_set=set(['3790391615DC0DC558F3F55965CDDE6A', 'DBDC4A474E8B084B17D4A95D82CBA082', 'DE83973F96D881B7D5852DDF1795FE9B', 'C195E9A56B2719A442917B2A1A2105CF', '1F22A9E7687B4B9E5ED728910FC93F1A', '462F1E8CD09D923F40E2D74D8827E835', 'AFA0162DEADAE881667E070E164FD76A', 'C42F2CDE6885202579E291D6BC09DAA6', '8A1F6B8A1810811DA6C68E51D7AFCE68', '91402067876224D2949A5FF3684A3D23']), warm_set=set(['C14088277F1611CA56DE663761A4A995'])\n",
      "After backward pass mat_set=set(['3790391615DC0DC558F3F55965CDDE6A', 'DBDC4A474E8B084B17D4A95D82CBA082', 'DE83973F96D881B7D5852DDF1795FE9B', 'C195E9A56B2719A442917B2A1A2105CF', '1F22A9E7687B4B9E5ED728910FC93F1A', '462F1E8CD09D923F40E2D74D8827E835', 'AFA0162DEADAE881667E070E164FD76A', 'C42F2CDE6885202579E291D6BC09DAA6', '8A1F6B8A1810811DA6C68E51D7AFCE68', '91402067876224D2949A5FF3684A3D23']), warm_set=set(['C14088277F1611CA56DE663761A4A995'])\n",
      "materialized_vertices: set(['DBDC4A474E8B084B17D4A95D82CBA082', '1F22A9E7687B4B9E5ED728910FC93F1A', 'AFA0162DEADAE881667E070E164FD76A', '8A1F6B8A1810811DA6C68E51D7AFCE68'])\n",
      "warmstarting_candidates: set([])\n",
      "executing 7 instead of 20 steps to compute vertex 524A0284715D67AD7F9DEFA143847475\n",
      "pipeline: 5909, setup: 47571, score: {'accuracy': 0.80000000000000004}\n",
      "After forward pass mat_set=set(['3790391615DC0DC558F3F55965CDDE6A', 'DBDC4A474E8B084B17D4A95D82CBA082', 'DE83973F96D881B7D5852DDF1795FE9B', 'C195E9A56B2719A442917B2A1A2105CF', '1F22A9E7687B4B9E5ED728910FC93F1A', '462F1E8CD09D923F40E2D74D8827E835', 'AFA0162DEADAE881667E070E164FD76A', 'C42F2CDE6885202579E291D6BC09DAA6', '8A1F6B8A1810811DA6C68E51D7AFCE68', '91402067876224D2949A5FF3684A3D23']), warm_set=set(['C368FF8623214A0F02E83592387E9F8F'])\n",
      "After backward pass mat_set=set(['3790391615DC0DC558F3F55965CDDE6A', 'DBDC4A474E8B084B17D4A95D82CBA082', 'DE83973F96D881B7D5852DDF1795FE9B', 'C195E9A56B2719A442917B2A1A2105CF', '1F22A9E7687B4B9E5ED728910FC93F1A', '462F1E8CD09D923F40E2D74D8827E835', 'AFA0162DEADAE881667E070E164FD76A', 'C42F2CDE6885202579E291D6BC09DAA6', '8A1F6B8A1810811DA6C68E51D7AFCE68', '91402067876224D2949A5FF3684A3D23']), warm_set=set(['C368FF8623214A0F02E83592387E9F8F'])\n",
      "materialized_vertices: set(['DBDC4A474E8B084B17D4A95D82CBA082', '1F22A9E7687B4B9E5ED728910FC93F1A', 'AFA0162DEADAE881667E070E164FD76A', '8A1F6B8A1810811DA6C68E51D7AFCE68'])\n",
      "warmstarting_candidates: set([])\n",
      "executing 7 instead of 20 steps to compute vertex FB1A94183F58A47708A5F24A895E4650\n",
      "pipeline: 5909, setup: 47572, score: {'accuracy': 0.80000000000000004}\n",
      "After forward pass mat_set=set(['3790391615DC0DC558F3F55965CDDE6A', 'DBDC4A474E8B084B17D4A95D82CBA082', 'DE83973F96D881B7D5852DDF1795FE9B', 'C195E9A56B2719A442917B2A1A2105CF', '1F22A9E7687B4B9E5ED728910FC93F1A', '462F1E8CD09D923F40E2D74D8827E835', 'AFA0162DEADAE881667E070E164FD76A', 'C42F2CDE6885202579E291D6BC09DAA6', '8A1F6B8A1810811DA6C68E51D7AFCE68', '91402067876224D2949A5FF3684A3D23']), warm_set=set(['998B6194CA1125ED2043E56798E95DD5'])\n",
      "After backward pass mat_set=set(['3790391615DC0DC558F3F55965CDDE6A', 'DBDC4A474E8B084B17D4A95D82CBA082', 'DE83973F96D881B7D5852DDF1795FE9B', 'C195E9A56B2719A442917B2A1A2105CF', '1F22A9E7687B4B9E5ED728910FC93F1A', '462F1E8CD09D923F40E2D74D8827E835', 'AFA0162DEADAE881667E070E164FD76A', 'C42F2CDE6885202579E291D6BC09DAA6', '8A1F6B8A1810811DA6C68E51D7AFCE68', '91402067876224D2949A5FF3684A3D23']), warm_set=set(['998B6194CA1125ED2043E56798E95DD5'])\n",
      "materialized_vertices: set(['DBDC4A474E8B084B17D4A95D82CBA082', '1F22A9E7687B4B9E5ED728910FC93F1A', 'AFA0162DEADAE881667E070E164FD76A', '8A1F6B8A1810811DA6C68E51D7AFCE68'])\n",
      "warmstarting_candidates: set([])\n",
      "executing 7 instead of 20 steps to compute vertex 19C45BFF419075869D361529AFA1B468\n",
      "pipeline: 5909, setup: 47573, score: {'accuracy': 0.80000000000000004}\n"
     ]
    }
   ],
   "source": [
    "for setup, pipeline in setup_and_pipelines:\n",
    "    if setup.flow_id == 5909:\n",
    "        workload = OpenMLOptimizedWorkload(setup=setup, pipeline=pipeline, task_id=openml_task)\n",
    "        executor.end_to_end_run(workload=workload, root_data=ROOT_DATA_DIRECTORY, verbose=1)"
   ]
  },
  {
   "cell_type": "code",
   "execution_count": null,
   "metadata": {},
   "outputs": [],
   "source": [
    "executor.execution_environment.experiment_graph.plot_graph(\n",
    "    plt,\n",
    "    figsize=(14, 20),\n",
    "    labels_for_vertex=['id'],\n",
    "    labels_for_edges=['name'],\n",
    "    vertex_size=1200)"
   ]
  },
  {
   "cell_type": "code",
   "execution_count": null,
   "metadata": {},
   "outputs": [],
   "source": [
    "executor.execution_environment.experiment_grap"
   ]
  }
 ],
 "metadata": {
  "kernelspec": {
   "display_name": "Python 2",
   "language": "python",
   "name": "python2"
  },
  "language_info": {
   "codemirror_mode": {
    "name": "ipython",
    "version": 2
   },
   "file_extension": ".py",
   "mimetype": "text/x-python",
   "name": "python",
   "nbconvert_exporter": "python",
   "pygments_lexer": "ipython2",
   "version": "2.7.16"
  }
 },
 "nbformat": 4,
 "nbformat_minor": 2
}
