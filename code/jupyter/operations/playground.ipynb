{
 "cells": [
  {
   "cell_type": "code",
   "execution_count": 9,
   "metadata": {},
   "outputs": [],
   "source": [
    "# numpy and pandas for data manipulation\n",
    "import numpy as np\n",
    "import pandas as pd\n",
    "import networkx as nx\n",
    "\n",
    "# sklearn preprocessing for dealing with categorical variables\n",
    "from sklearn.preprocessing import LabelEncoder\n",
    "# File system manangement\n",
    "import os\n",
    "\n",
    "# Suppress warnings\n",
    "import warnings\n",
    "warnings.filterwarnings('ignore')\n",
    "\n",
    "# matplotlib and seaborn for plotting\n",
    "import matplotlib.pyplot as plt\n",
    "import seaborn as sns\n",
    "%matplotlib inline"
   ]
  },
  {
   "cell_type": "code",
   "execution_count": 10,
   "metadata": {},
   "outputs": [
    {
     "name": "stdout",
     "output_type": "stream",
     "text": [
      "['application_test.csv', 'HomeCredit_columns_description.csv', 'POS_CASH_balance.csv', 'credit_card_balance.csv', 'installments_payments.csv', 'application_train.csv', 'bureau.csv', 'previous_application.csv', 'bureau_balance.csv', 'sample_submission.csv']\n"
     ]
    }
   ],
   "source": [
    "ROOT_DIRECTORY = '../data/home-credit-default-risk'\n",
    "print(os.listdir(ROOT_DIRECTORY))"
   ]
  },
  {
   "cell_type": "code",
   "execution_count": 11,
   "metadata": {},
   "outputs": [],
   "source": [
    "g = nx.Graph()"
   ]
  },
  {
   "cell_type": "code",
   "execution_count": 19,
   "metadata": {},
   "outputs": [
    {
     "data": {
      "text/plain": [
       "True"
      ]
     },
     "execution_count": 19,
     "metadata": {},
     "output_type": "execute_result"
    }
   ],
   "source": [
    "g.has_node('hello')"
   ]
  },
  {
   "cell_type": "code",
   "execution_count": 44,
   "metadata": {},
   "outputs": [
    {
     "data": {
      "text/plain": [
       "2"
      ]
     },
     "execution_count": 44,
     "metadata": {},
     "output_type": "execute_result"
    }
   ],
   "source": [
    "a = (1,2)\n",
    "a[1]"
   ]
  },
  {
   "cell_type": "code",
   "execution_count": 26,
   "metadata": {},
   "outputs": [],
   "source": [
    "g.add_node('hi',**{'root': True, 'type':'Dataset',\n",
    "                                                  'loc':'loc'})"
   ]
  },
  {
   "cell_type": "code",
   "execution_count": 21,
   "metadata": {},
   "outputs": [
    {
     "data": {
      "text/plain": [
       "{'a': 1, 'b': 2}"
      ]
     },
     "execution_count": 21,
     "metadata": {},
     "output_type": "execute_result"
    }
   ],
   "source": [
    "g.nodes['hi']"
   ]
  },
  {
   "cell_type": "code",
   "execution_count": 8,
   "metadata": {},
   "outputs": [
    {
     "data": {
      "text/plain": [
       "\"['c','v']\""
      ]
     },
     "execution_count": 8,
     "metadata": {},
     "output_type": "execute_result"
    }
   ],
   "source": [
    "str(['c','v']).replace(\" \",\"\")"
   ]
  },
  {
   "cell_type": "code",
   "execution_count": 12,
   "metadata": {},
   "outputs": [],
   "source": [
    "class A:\n",
    "    def __init__(self, a):\n",
    "        self.a = a\n",
    "    def b(self):\n",
    "        print 'hello'\n",
    "class B(A):\n",
    "     def __init__(self):\n",
    "        self.b()"
   ]
  },
  {
   "cell_type": "code",
   "execution_count": 14,
   "metadata": {},
   "outputs": [
    {
     "data": {
      "text/plain": [
       "list"
      ]
     },
     "execution_count": 14,
     "metadata": {},
     "output_type": "execute_result"
    }
   ],
   "source": [
    "type([1,2])"
   ]
  },
  {
   "cell_type": "code",
   "execution_count": 100,
   "metadata": {},
   "outputs": [],
   "source": [
    "def schedule(paths):\n",
    "    \"\"\" schedule the computationg of nodes\n",
    "    receives all the paths that should be computed. Every path starts with\n",
    "    a node that is already computed.\n",
    "    It returns a list of tuples which specifies the execution order of the nodes\n",
    "    the list is of the form [(i,j), ...], where node[j] = node[i].operation, where operation\n",
    "    is specifies inside the edge (i,j)\n",
    "    \"\"\"\n",
    "    def tuple_list(li):\n",
    "        res = []\n",
    "        for i in range(len(li)-1):\n",
    "            res.append((li[i],li[i+1]))\n",
    "        return res\n",
    "    \n",
    "    def get_end_point(endnode, li):\n",
    "        for i in range(len(li)):\n",
    "            if endnode == li[i][1]:\n",
    "                return li[i]\n",
    "        return -1\n",
    "    \n",
    "    def is_feasible(li):\n",
    "        \"\"\"Check if a schedule is feasible\n",
    "        A schedule is feasible if for every start node at position i\n",
    "        there is no end node at positions greater than i.\n",
    "        This essentially means, if a node is the source of a computation, it must be \n",
    "        computed befrehand\n",
    "        \"\"\"\n",
    "        for i in range(len(li)):\n",
    "            for j in range(i, len(li)):\n",
    "                if get_end_point(li[i][0], li[j:]) != -1:\n",
    "                    return False\n",
    "        return True\n",
    "    \n",
    "    schedule = []\n",
    "    if len(paths) == 1:\n",
    "        path = paths[0]\n",
    "        for i in range(len(path) - 1):\n",
    "            schedule.append((path[i], path[i+1]))\n",
    "    else:\n",
    "        # transform to tuples (source, destination)        \n",
    "        tuple_set = []\n",
    "        for path in paths:\n",
    "            tuple_set.append(tuple_list(path))\n",
    "        flatten = [item for t in tuple_set for item in t]\n",
    "        # Make sure no operation is repeated\n",
    "        # after this line, tuple repeation is not allowed\n",
    "        for i in flatten:\n",
    "            if i not in schedule:\n",
    "                schedule.append(i)\n",
    "\n",
    "        while not is_feasible(schedule):\n",
    "            for i in range(len(schedule)):\n",
    "                toswap = get_end_point(schedule[i][0], schedule[i:])\n",
    "                if toswap != -1:\n",
    "                    schedule.remove(toswap)\n",
    "                    schedule.insert(i, toswap)\n",
    "        \n",
    "        return schedule"
   ]
  },
  {
   "cell_type": "code",
   "execution_count": 101,
   "metadata": {},
   "outputs": [
    {
     "name": "stdout",
     "output_type": "stream",
     "text": [
      "[(1, 2), (2, 3), (3, 4), (5, 2), (6, 3)]\n",
      "[(1, 2), (5, 2), (2, 3), (6, 3), (3, 4)]\n"
     ]
    }
   ],
   "source": [
    "p1 = [1,2,3,4]\n",
    "p2 = [5,2,3,4]\n",
    "p3 = [6,3,4]\n",
    "p = [p1,p2,p3]\n",
    "s = schedule(p)"
   ]
  },
  {
   "cell_type": "code",
   "execution_count": 102,
   "metadata": {},
   "outputs": [
    {
     "data": {
      "text/plain": [
       "list"
      ]
     },
     "execution_count": 102,
     "metadata": {},
     "output_type": "execute_result"
    }
   ],
   "source": [
    "type(s)"
   ]
  },
  {
   "cell_type": "code",
   "execution_count": null,
   "metadata": {},
   "outputs": [],
   "source": []
  }
 ],
 "metadata": {
  "kernelspec": {
   "display_name": "Python 2",
   "language": "python",
   "name": "python2"
  },
  "language_info": {
   "codemirror_mode": {
    "name": "ipython",
    "version": 2
   },
   "file_extension": ".py",
   "mimetype": "text/x-python",
   "name": "python",
   "nbconvert_exporter": "python",
   "pygments_lexer": "ipython2",
   "version": "2.7.15"
  }
 },
 "nbformat": 4,
 "nbformat_minor": 2
}
