{
 "cells": [
  {
   "cell_type": "code",
   "execution_count": 1,
   "metadata": {},
   "outputs": [],
   "source": [
    "# numpy and pandas for data manipulation\n",
    "import numpy as np\n",
    "import pandas as pd\n",
    "import sys\n",
    "import networkx as nx\n",
    "import os\n",
    "import warnings\n",
    "# matplotlib and seaborn for plotting\n",
    "import matplotlib.pyplot as plt\n",
    "import seaborn as sns\n",
    "\n",
    "# sklearn preprocessing for dealing with categorical variables\n",
    "from sklearn.preprocessing import LabelEncoder\n",
    "\n",
    "import os\n",
    "\n",
    "# Suppress warnings\n",
    "import warnings\n",
    "warnings.filterwarnings('ignore')\n",
    "\n",
    "# matplotlib and seaborn for plotting\n",
    "import matplotlib.pyplot as plt\n",
    "import seaborn as sns\n",
    "%matplotlib inline\n",
    "\n",
    "\n",
    "# Experiment Graph\n",
    "from execution_environment import ExecutionEnvironment as ee\n",
    "\n",
    "# Suppress warnings\n",
    "warnings.filterwarnings('ignore')\n",
    "% matplotlib inline\n",
    "\n",
    "\n",
    "try:\n",
    "    import pygraphviz\n",
    "    from networkx.drawing.nx_agraph import graphviz_layout\n",
    "except ImportError:\n",
    "    try:\n",
    "        import pydot\n",
    "        from networkx.drawing.nx_pydot import graphviz_layout\n",
    "    except ImportError:\n",
    "        raise ImportError(\"This example needs Graphviz and either \"\n",
    "                          \"PyGraphviz or pydot\")\n",
    "        \n",
    "def plot_graph():\n",
    "    plt.figure(figsize=(12, 12))\n",
    "    #pos = nx.spring_layout(ee.graph.graph)\n",
    "    pos = graphviz_layout(ee.graph.graph, prog='twopi', args='')\n",
    "    color_map = []\n",
    "    for node in ee.graph.graph.nodes(data=True):\n",
    "        if node[1]['root']:\n",
    "            color_map.append('green')\n",
    "        elif node[1]['type'] == 'Dataset' or node[1]['type'] == 'Feature':\n",
    "            color_map.append('red')\n",
    "        elif node[1]['type'] == 'Agg' or node[1]['type'] == 'SK_Model':\n",
    "            color_map.append('blue')\n",
    "        elif node[1]['type'] == 'SuperNode':\n",
    "            color_map.append('grey')\n",
    "        else:\n",
    "            color_map.append('black')\n",
    "\n",
    "    nx.draw(ee.graph.graph,\n",
    "            node_color=color_map,\n",
    "            pos=pos,\n",
    "            node_size=100)\n",
    "    nx.draw_networkx_edge_labels(ee.graph.graph,\n",
    "                                 pos=pos,\n",
    "                                 edge_labels={(u, v): d[\"name\"] for u, v, d in ee.graph.graph.edges(data=True)})\n",
    "    plt.show()"
   ]
  },
  {
   "cell_type": "code",
   "execution_count": 2,
   "metadata": {},
   "outputs": [
    {
     "name": "stdout",
     "output_type": "stream",
     "text": [
      "['application_test.csv', 'HomeCredit_columns_description.csv', 'POS_CASH_balance.csv', 'credit_card_balance.csv', 'installments_payments.csv', 'application_train.csv', 'bureau.csv', 'previous_application.csv', 'bureau_balance.csv', 'sample_submission.csv']\n"
     ]
    }
   ],
   "source": [
    "ROOT_DIRECTORY = '../data/home-credit-default-risk'\n",
    "print(os.listdir(ROOT_DIRECTORY))"
   ]
  },
  {
   "cell_type": "code",
   "execution_count": 3,
   "metadata": {},
   "outputs": [],
   "source": [
    "app_train = ee.load(ROOT_DIRECTORY + '/application_train.csv')\n",
    "#print('Training data shape: ', app_train.shape().get())\n",
    "#app_train.head().get()"
   ]
  },
  {
   "cell_type": "code",
   "execution_count": 4,
   "metadata": {},
   "outputs": [],
   "source": [
    "app_test = ee.load(ROOT_DIRECTORY + '/application_test.csv')"
   ]
  },
  {
   "cell_type": "code",
   "execution_count": 16,
   "metadata": {},
   "outputs": [],
   "source": [
    "column = 'EXT_SOURCE_1'\n",
    "source_data = app_train[[column, 'TARGET']][app_train['TARGET'] == 0]\n",
    "source_data = source_data[app_train[column].notna()]\n",
    "source_data = source_data[column]"
   ]
  },
  {
   "cell_type": "code",
   "execution_count": 17,
   "metadata": {},
   "outputs": [
    {
     "data": {
      "text/plain": [
       "1         0.311267\n",
       "6         0.774761\n",
       "8         0.587334\n",
       "10        0.319760\n",
       "11        0.722044\n",
       "12        0.464831\n",
       "14        0.721940\n",
       "15        0.115634\n",
       "20        0.565655\n",
       "21        0.437709\n",
       "25        0.561948\n",
       "28        0.600396\n",
       "29        0.297914\n",
       "31        0.274422\n",
       "36        0.842763\n",
       "37        0.804586\n",
       "48        0.710427\n",
       "50        0.656225\n",
       "51        0.311510\n",
       "52        0.244562\n",
       "53        0.189596\n",
       "55        0.552772\n",
       "57        0.237720\n",
       "63        0.299606\n",
       "65        0.286783\n",
       "66        0.796161\n",
       "67        0.202477\n",
       "68        0.411506\n",
       "70        0.357707\n",
       "71        0.270766\n",
       "            ...   \n",
       "307454    0.351204\n",
       "307456    0.823222\n",
       "307458    0.574278\n",
       "307459    0.122883\n",
       "307460    0.505346\n",
       "307461    0.295794\n",
       "307464    0.676600\n",
       "307467    0.872456\n",
       "307468    0.510609\n",
       "307471    0.623946\n",
       "307472    0.567361\n",
       "307473    0.585450\n",
       "307474    0.511349\n",
       "307476    0.629572\n",
       "307478    0.889817\n",
       "307479    0.407174\n",
       "307482    0.470808\n",
       "307485    0.426391\n",
       "307488    0.479458\n",
       "307490    0.245623\n",
       "307491    0.532858\n",
       "307494    0.531969\n",
       "307496    0.644797\n",
       "307497    0.251096\n",
       "307499    0.665343\n",
       "307500    0.896042\n",
       "307503    0.243466\n",
       "307506    0.145570\n",
       "307508    0.744026\n",
       "307510    0.734460\n",
       "Name: EXT_SOURCE_1, Length: 124079, dtype: float64"
      ]
     },
     "execution_count": 17,
     "metadata": {},
     "output_type": "execute_result"
    }
   ],
   "source": [
    "source_data.get()"
   ]
  },
  {
   "cell_type": "code",
   "execution_count": 11,
   "metadata": {},
   "outputs": [
    {
     "data": {
      "text/plain": [
       "0         False\n",
       "1          True\n",
       "2         False\n",
       "3         False\n",
       "4         False\n",
       "5         False\n",
       "6          True\n",
       "7         False\n",
       "8          True\n",
       "9         False\n",
       "10         True\n",
       "11         True\n",
       "12         True\n",
       "13        False\n",
       "14         True\n",
       "15         True\n",
       "16        False\n",
       "17        False\n",
       "18        False\n",
       "19        False\n",
       "20         True\n",
       "21         True\n",
       "22        False\n",
       "23        False\n",
       "24        False\n",
       "25         True\n",
       "26        False\n",
       "27        False\n",
       "28         True\n",
       "29         True\n",
       "          ...  \n",
       "307481    False\n",
       "307482     True\n",
       "307483    False\n",
       "307484    False\n",
       "307485     True\n",
       "307486    False\n",
       "307487    False\n",
       "307488     True\n",
       "307489    False\n",
       "307490     True\n",
       "307491     True\n",
       "307492    False\n",
       "307493    False\n",
       "307494     True\n",
       "307495    False\n",
       "307496     True\n",
       "307497     True\n",
       "307498    False\n",
       "307499     True\n",
       "307500     True\n",
       "307501    False\n",
       "307502    False\n",
       "307503     True\n",
       "307504    False\n",
       "307505    False\n",
       "307506     True\n",
       "307507    False\n",
       "307508     True\n",
       "307509    False\n",
       "307510     True\n",
       "Length: 307511, dtype: bool"
      ]
     },
     "execution_count": 11,
     "metadata": {},
     "output_type": "execute_result"
    }
   ],
   "source": [
    "(app_train['EXT_SOURCE_1'].notna()).get() & (app_train['TARGET'] == 0).get()"
   ]
  },
  {
   "cell_type": "code",
   "execution_count": 13,
   "metadata": {},
   "outputs": [
    {
     "ename": "TypeError",
     "evalue": "bad operand type for abs(): 'str'",
     "output_type": "error",
     "traceback": [
      "\u001b[0;31m---------------------------------------------------------------------------\u001b[0m",
      "\u001b[0;31mTypeError\u001b[0m                                 Traceback (most recent call last)",
      "\u001b[0;32m<ipython-input-13-ebbf25e1f217>\u001b[0m in \u001b[0;36m<module>\u001b[0;34m()\u001b[0m\n\u001b[0;32m----> 1\u001b[0;31m \u001b[0mapp_train\u001b[0m\u001b[0;34m.\u001b[0m\u001b[0mget\u001b[0m\u001b[0;34m(\u001b[0m\u001b[0;34m)\u001b[0m\u001b[0;34m.\u001b[0m\u001b[0mabs\u001b[0m\u001b[0;34m(\u001b[0m\u001b[0;34m)\u001b[0m\u001b[0;34m\u001b[0m\u001b[0m\n\u001b[0m",
      "\u001b[0;32m/usr/local/lib/python2.7/site-packages/pandas/core/generic.pyc\u001b[0m in \u001b[0;36mabs\u001b[0;34m(self)\u001b[0m\n\u001b[1;32m   8262\u001b[0m         \u001b[0mnumpy\u001b[0m\u001b[0;34m.\u001b[0m\u001b[0mabsolute\u001b[0m \u001b[0;34m:\u001b[0m \u001b[0mcalculate\u001b[0m \u001b[0mthe\u001b[0m \u001b[0mabsolute\u001b[0m \u001b[0mvalue\u001b[0m \u001b[0melement\u001b[0m\u001b[0;34m-\u001b[0m\u001b[0mwise\u001b[0m\u001b[0;34m.\u001b[0m\u001b[0;34m\u001b[0m\u001b[0m\n\u001b[1;32m   8263\u001b[0m         \"\"\"\n\u001b[0;32m-> 8264\u001b[0;31m         \u001b[0;32mreturn\u001b[0m \u001b[0mnp\u001b[0m\u001b[0;34m.\u001b[0m\u001b[0mabs\u001b[0m\u001b[0;34m(\u001b[0m\u001b[0mself\u001b[0m\u001b[0;34m)\u001b[0m\u001b[0;34m\u001b[0m\u001b[0m\n\u001b[0m\u001b[1;32m   8265\u001b[0m \u001b[0;34m\u001b[0m\u001b[0m\n\u001b[1;32m   8266\u001b[0m     \u001b[0;32mdef\u001b[0m \u001b[0mdescribe\u001b[0m\u001b[0;34m(\u001b[0m\u001b[0mself\u001b[0m\u001b[0;34m,\u001b[0m \u001b[0mpercentiles\u001b[0m\u001b[0;34m=\u001b[0m\u001b[0mNone\u001b[0m\u001b[0;34m,\u001b[0m \u001b[0minclude\u001b[0m\u001b[0;34m=\u001b[0m\u001b[0mNone\u001b[0m\u001b[0;34m,\u001b[0m \u001b[0mexclude\u001b[0m\u001b[0;34m=\u001b[0m\u001b[0mNone\u001b[0m\u001b[0;34m)\u001b[0m\u001b[0;34m:\u001b[0m\u001b[0;34m\u001b[0m\u001b[0m\n",
      "\u001b[0;31mTypeError\u001b[0m: bad operand type for abs(): 'str'"
     ]
    }
   ],
   "source": [
    "app_train.get().abs()"
   ]
  },
  {
   "cell_type": "code",
   "execution_count": null,
   "metadata": {},
   "outputs": [],
   "source": [
    "\n",
    "class A:\n",
    "    def __init__(self, a):\n",
    "        self.a = a\n",
    "    def b(self):\n",
    "        print 'hello'\n",
    "class B(A):\n",
    "     def __init__(self):\n",
    "        self.b()"
   ]
  },
  {
   "cell_type": "code",
   "execution_count": null,
   "metadata": {},
   "outputs": [],
   "source": [
    "type([1,2])"
   ]
  },
  {
   "cell_type": "code",
   "execution_count": null,
   "metadata": {},
   "outputs": [],
   "source": [
    "p1 = [1,2,3,4]\n",
    "p2 = [5,2,3,4]\n",
    "p3 = [6,3,4]\n",
    "p = [p1,p2,p3]\n",
    "s = schedule(p)"
   ]
  },
  {
   "cell_type": "code",
   "execution_count": null,
   "metadata": {},
   "outputs": [],
   "source": [
    "type(s)"
   ]
  },
  {
   "cell_type": "code",
   "execution_count": null,
   "metadata": {},
   "outputs": [],
   "source": []
  }
 ],
 "metadata": {
  "kernelspec": {
   "display_name": "Python 2",
   "language": "python",
   "name": "python2"
  },
  "language_info": {
   "codemirror_mode": {
    "name": "ipython",
    "version": 2
   },
   "file_extension": ".py",
   "mimetype": "text/x-python",
   "name": "python",
   "nbconvert_exporter": "python",
   "pygments_lexer": "ipython2",
   "version": "2.7.15"
  }
 },
 "nbformat": 4,
 "nbformat_minor": 2
}
