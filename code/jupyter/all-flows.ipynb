{
 "cells": [
  {
   "cell_type": "code",
   "execution_count": 3,
   "metadata": {
    "collapsed": true
   },
   "outputs": [],
   "source": [
    "from openml import datasets, tasks, runs, flows, setups\n",
    "import numpy as np\n",
    "import pandas as pd\n",
    "import os\n",
    "import matplotlib.pyplot as plt\n",
    "import matplotlib\n",
    "matplotlib.style.use('ggplot')"
   ]
  },
  {
   "cell_type": "code",
   "execution_count": 4,
   "metadata": {
    "collapsed": true
   },
   "outputs": [],
   "source": [
    "# Find top sklearn.pipeline Flow (with most number of runs)\n",
    "flowsJson = flows.list_flows()\n",
    "flowList = pd.DataFrame(flowsJson).transpose()\n",
    "sklearnPipelineFlows = flowList.loc[flowList.full_name.str.startswith('sklearn.pipeline')]\n",
    "sklearnRuns = pd.DataFrame(runs.list_runs(flow=sklearnPipelineFlows.id)).transpose()\n",
    "sklearnRuns.groupby('flow_id').agg('count').sort_values('run_id', ascending = 0)\n",
    "topFlows = sklearnRuns.groupby('flow_id').agg('count').sort_values('run_id', ascending = 0)[0:100] # flow_id = 5909"
   ]
  },
  {
   "cell_type": "code",
   "execution_count": 5,
   "metadata": {
    "collapsed": true
   },
   "outputs": [],
   "source": [
    "# Count the number of runs for each flow and task and provide a sample run\n",
    "top100FlowRuns = pd.DataFrame(runs.list_runs(flow=topFlows.index)).transpose()\n",
    "f = {'run_id':['first','size']}\n",
    "allRunsTop100Flows = top100FlowRuns.groupby(['flow_id','task_id']).agg(f).reset_index()\n",
    "allRunsTop100Flows.columns = ['flow', 'task','run', 'count']\n",
    "df = allRunsTop100Flows.sort_values('count', ascending=False).reset_index()\n",
    "del df['index']"
   ]
  },
  {
   "cell_type": "code",
   "execution_count": 37,
   "metadata": {},
   "outputs": [
    {
     "data": {
      "text/html": [
       "<div>\n",
       "<style>\n",
       "    .dataframe thead tr:only-child th {\n",
       "        text-align: right;\n",
       "    }\n",
       "\n",
       "    .dataframe thead th {\n",
       "        text-align: left;\n",
       "    }\n",
       "\n",
       "    .dataframe tbody tr th {\n",
       "        vertical-align: top;\n",
       "    }\n",
       "</style>\n",
       "<table border=\"1\" class=\"dataframe\">\n",
       "  <thead>\n",
       "    <tr style=\"text-align: right;\">\n",
       "      <th></th>\n",
       "      <th>flow</th>\n",
       "      <th>task</th>\n",
       "      <th>run</th>\n",
       "      <th>count</th>\n",
       "    </tr>\n",
       "  </thead>\n",
       "  <tbody>\n",
       "    <tr>\n",
       "      <th>0</th>\n",
       "      <td>5983</td>\n",
       "      <td>49</td>\n",
       "      <td>1973326</td>\n",
       "      <td>32</td>\n",
       "    </tr>\n",
       "    <tr>\n",
       "      <th>1</th>\n",
       "      <td>5591</td>\n",
       "      <td>59</td>\n",
       "      <td>1849019</td>\n",
       "      <td>24</td>\n",
       "    </tr>\n",
       "    <tr>\n",
       "      <th>2</th>\n",
       "      <td>5979</td>\n",
       "      <td>15</td>\n",
       "      <td>1924173</td>\n",
       "      <td>21</td>\n",
       "    </tr>\n",
       "    <tr>\n",
       "      <th>3</th>\n",
       "      <td>5804</td>\n",
       "      <td>31</td>\n",
       "      <td>1860342</td>\n",
       "      <td>18</td>\n",
       "    </tr>\n",
       "    <tr>\n",
       "      <th>4</th>\n",
       "      <td>6048</td>\n",
       "      <td>59</td>\n",
       "      <td>2012884</td>\n",
       "      <td>15</td>\n",
       "    </tr>\n",
       "  </tbody>\n",
       "</table>\n",
       "</div>"
      ],
      "text/plain": [
       "   flow  task      run  count\n",
       "0  5983    49  1973326     32\n",
       "1  5591    59  1849019     24\n",
       "2  5979    15  1924173     21\n",
       "3  5804    31  1860342     18\n",
       "4  6048    59  2012884     15"
      ]
     },
     "execution_count": 37,
     "metadata": {},
     "output_type": "execute_result"
    }
   ],
   "source": [
    "df.head()"
   ]
  },
  {
   "cell_type": "markdown",
   "metadata": {},
   "source": [
    "Top 100 Flows have been executed on 131 unique tasks. \n",
    "Making a total 635 unique Flow (pipeline) + task combination.\n",
    "Figure below shows how many times the same flows were executed on the same tasks."
   ]
  },
  {
   "cell_type": "code",
   "execution_count": 43,
   "metadata": {},
   "outputs": [
    {
     "data": {
      "image/png": "[encoded data removed]",
      "text/plain": [
       "<matplotlib.figure.Figure at 0x10bd4c860>"
      ]
     },
     "metadata": {},
     "output_type": "display_data"
    }
   ],
   "source": [
    "plt.plot(df['count'])\n",
    "plt.xlabel('Flow + Task Execution ', fontsize=18)\n",
    "plt.ylabel('Number of Runs', fontsize=16)\n",
    "plt.legend()\n",
    "plt.title(\"Number of repeated Flow + Task\")\n",
    "plt.show()\n",
    "plt.savefig('repeated-task-occurence.png', bbox_inches='tight')"
   ]
  }
 ],
 "metadata": {
  "kernelspec": {
   "display_name": "Python 3",
   "language": "python",
   "name": "python3"
  },
  "language_info": {
   "codemirror_mode": {
    "name": "ipython",
    "version": 3
   },
   "file_extension": ".py",
   "mimetype": "text/x-python",
   "name": "python",
   "nbconvert_exporter": "python",
   "pygments_lexer": "ipython3",
   "version": "3.6.1"
  }
 },
 "nbformat": 4,
 "nbformat_minor": 2
}
