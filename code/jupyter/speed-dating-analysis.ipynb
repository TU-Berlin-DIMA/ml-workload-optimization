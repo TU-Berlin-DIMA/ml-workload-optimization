{
 "cells": [
  {
   "cell_type": "markdown",
   "metadata": {},
   "source": [
    "## Speed Dating dataset analysis\n",
    "In this notebook, our goal is to analyze all the scikit learn pipelines that are executed on the task 146607 (https://www.openml.org/t/146607) which is a supervised classficaiton task using the speed dating dataset (https://www.openml.org/d/40536).\n",
    "First, we find all the (scikit learn) pipelines and their specific runs (hyper-parameter settings).\n",
    "Using these pipelines and runs, we populate the database.\n",
    "Then we the pipeline graph.\n",
    "Using the pipeline graph, we show how we can speed up the process of pipeline execution and hyperparamter search.\n",
    "\n",
    "After finding all the \"good\" pipelines, there are two strategies that we can use for the experiment:\n",
    "- Order all the runs based on their timestamp, start from an empty database\n",
    "- Divide the pipelines into two groups, populate the databse with one group, and use the other group to execute the workload (incrementally)\n",
    "\n"
   ]
  },
  {
   "cell_type": "code",
   "execution_count": 1,
   "metadata": {},
   "outputs": [],
   "source": [
    "from openml import datasets, tasks, runs, flows, setups, config\n",
    "import numpy as np\n",
    "import pandas as pd\n",
    "import os\n",
    "import matplotlib.pyplot as plt\n",
    "import seaborn as sns\n",
    "import sys\n",
    "\n",
    "config.apikey = '8e2079508005379adb9a60798696134e'\n",
    "config.server = 'https://www.openml.org/api/v1'\n",
    "config.set_cache_directory(os.path.expanduser('~/openml-cache'))"
   ]
  },
  {
   "cell_type": "code",
   "execution_count": null,
   "metadata": {},
   "outputs": [],
   "source": []
  }
 ],
 "metadata": {
  "kernelspec": {
   "display_name": "Python 2",
   "language": "python",
   "name": "python2"
  },
  "language_info": {
   "codemirror_mode": {
    "name": "ipython",
    "version": 2
   },
   "file_extension": ".py",
   "mimetype": "text/x-python",
   "name": "python",
   "nbconvert_exporter": "python",
   "pygments_lexer": "ipython2",
   "version": "2.7.15"
  }
 },
 "nbformat": 4,
 "nbformat_minor": 2
}
