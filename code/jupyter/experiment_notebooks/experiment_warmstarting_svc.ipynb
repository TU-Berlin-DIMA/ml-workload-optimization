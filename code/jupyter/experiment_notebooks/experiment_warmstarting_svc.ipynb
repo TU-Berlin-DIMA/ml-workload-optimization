{
 "cells": [
  {
   "cell_type": "code",
   "execution_count": 1,
   "metadata": {
    "collapsed": true
   },
   "outputs": [],
   "source": [
    "import os\n",
    "import time\n",
    "import matplotlib.pyplot as plt\n",
    "import pandas as pd\n",
    "import seaborn as sns\n",
    "from openml import datasets, tasks, flows, config\n",
    "from sklearn import linear_model\n",
    "from openmlstudy14.preprocessing import ConditionalImputer\n",
    "from workloadoptimization.essentials import Component, ExperimentParser\n",
    "from workloadoptimization.hyperopt_helper import TrialConverter\n",
    "from workloadoptimization.openml_helper import OpenMLReader\n",
    "from workloadoptimization.search_space import SearchSpaceDesigner\n",
    "%matplotlib inline\n",
    "\n",
    "sns.set_style(\"whitegrid\")\n",
    "sns.set_context(\"paper\", font_scale=2)\n",
    "\n",
    "config.apikey = '8e2079508005379adb9a60798696134e'\n",
    "config.server = 'https://www.openml.org/api/v1'\n",
    "config.set_cache_directory(os.path.expanduser('~/openml-cache'))"
   ]
  },
  {
   "cell_type": "code",
   "execution_count": 2,
   "metadata": {},
   "outputs": [],
   "source": [
    "flow_ids = [5981] # Random forsst with warmstarting\n",
    "task_ids = [31]"
   ]
  },
  {
   "cell_type": "code",
   "execution_count": 3,
   "metadata": {},
   "outputs": [],
   "source": [
    "# load the dataset\n",
    "task = tasks.get_task(task_id=31)\n",
    "dataset = datasets.get_dataset(dataset_id=task.dataset_id)\n",
    "data = dataset.get_data()\n",
    "train_indices,test_indices = task.get_train_test_split_indices()\n",
    "X, y, attribute_names = dataset.get_data(\n",
    "target=dataset.default_target_attribute,\n",
    "return_attribute_names=True)\n",
    "X_train = X[train_indices]\n",
    "y_train = y[train_indices]\n",
    "X_test = X[test_indices]\n",
    "y_test = y[test_indices]"
   ]
  },
  {
   "cell_type": "code",
   "execution_count": 4,
   "metadata": {},
   "outputs": [],
   "source": [
    "def extract_experiments(file_path, task_ids, flow_ids):\n",
    "    openMLReader = OpenMLReader()\n",
    "    if os.path.isfile(file_path):\n",
    "        return pd.read_pickle(file_path)\n",
    "    frames = []\n",
    "    for t in task_ids:\n",
    "        for f in flow_ids:\n",
    "            frames.append(openMLReader.getTopRuns(-1, f, t))\n",
    "    Experiments = pd.concat(frames).reset_index(drop=True)\n",
    "    Experiments.to_pickle(file_path)\n",
    "    return Experiments\n",
    "\n",
    "\n",
    "# This is time consuming, so it is better to persist the list of the runs to disk\n",
    "# If you are changing the tasks or flow ids, remember to change the name of the file \n",
    "Experiments = extract_experiments('meta/hyper-opt-experiment-31-5981', task_ids, flow_ids)\n",
    "Experiments = Experiments[Experiments.flow_id == flow_ids]"
   ]
  },
  {
   "cell_type": "code",
   "execution_count": 5,
   "metadata": {},
   "outputs": [],
   "source": [
    "from sklearn.pipeline import Pipeline\n",
    "from sklearn.preprocessing import StandardScaler\n",
    "from sklearn.linear_model import LogisticRegression\n",
    "pipeline = Pipeline([('dualimputer', ConditionalImputer()),\n",
    "                                ('standardscaler', StandardScaler()),\n",
    "                                ('logisticregression', LogisticRegression())])"
   ]
  },
  {
   "cell_type": "code",
   "execution_count": 6,
   "metadata": {
    "collapsed": true
   },
   "outputs": [],
   "source": [
    "# The openml api is not backward compatible for this specific pipeline (5981), so we are recreating it in scikit learn\n",
    "OPENML_FLOWS = {5981: pipeline}\n",
    "parser = ExperimentParser()\n",
    "experimentObjects = parser.extract_sklearn_pipelines(Experiments, OPENML_FLOWS)"
   ]
  },
  {
   "cell_type": "code",
   "execution_count": 7,
   "metadata": {},
   "outputs": [],
   "source": [
    "# load the dataset\n",
    "dataset = datasets.get_dataset(dataset_id=task.dataset_id)\n",
    "data = dataset.get_data()\n",
    "train_indices, test_indices = task.get_train_test_split_indices()\n",
    "X, y, attribute_names = dataset.get_data(\n",
    "    target=dataset.default_target_attribute,\n",
    "    return_attribute_names=True)\n",
    "X_train = X[train_indices]\n",
    "y_train = y[train_indices]\n",
    "X_test = X[test_indices]\n",
    "y_test = y[test_indices]"
   ]
  },
  {
   "cell_type": "code",
   "execution_count": 8,
   "metadata": {},
   "outputs": [],
   "source": [
    "def objective(pipeline, params):\n",
    "    print '.',\n",
    "    # seems when tol is big (greater than 1) scikit learn throws an exception\n",
    "    # I couldn't find a way to cap a value in the search space of hyperopt, \n",
    "    # this is the alternative solution\n",
    "    # if params['classifier__tol'] > 0.2:\n",
    "    #    params['classifier__tol'] = 0.2\n",
    "    pipeline.set_params(**params)\n",
    "    #print pipeline.steps\n",
    "    pipeline.fit(X_train, y_train)\n",
    "    #    print 'Error for the params: {}'.format(params)\n",
    "    accuracy = pipeline.score(X_test, y_test)\n",
    "    # print 'accuracy = {}'.format(accuracy)\n",
    "    return 1 - accuracy"
   ]
  },
  {
   "cell_type": "code",
   "execution_count": 9,
   "metadata": {
    "collapsed": false
   },
   "outputs": [
    {
     "name": "stdout",
     "output_type": "stream",
     "text": [
      "('standardscaler__with_mean', [[True, 11]])\n('standardscaler__copy', [[True, 11]])\n('standardscaler__with_std', [[True, 11]])\n"
     ]
    }
   ],
   "source": [
    "for k in experimentObjects[0].extractParams().keys():\n",
    "    if not k.startswith('logisticregression'):\n",
    "        a = []\n",
    "        for e in experimentObjects:\n",
    "            a.append(e.extractParams()[k])\n",
    "        print(k, [[x, a.count(x)] for x in set(a)])\n"
   ]
  },
  {
   "cell_type": "code",
   "execution_count": 29,
   "metadata": {},
   "outputs": [
    {
     "name": "stdout",
     "output_type": "stream",
     "text": [
      "."
     ]
    },
    {
     "name": "stdout",
     "output_type": "stream",
     "text": [
      " ."
     ]
    },
    {
     "name": "stdout",
     "output_type": "stream",
     "text": [
      " . ."
     ]
    },
    {
     "name": "stdout",
     "output_type": "stream",
     "text": [
      " . ."
     ]
    },
    {
     "name": "stdout",
     "output_type": "stream",
     "text": [
      " ."
     ]
    },
    {
     "name": "stdout",
     "output_type": "stream",
     "text": [
      " . ."
     ]
    },
    {
     "name": "stdout",
     "output_type": "stream",
     "text": [
      " ."
     ]
    },
    {
     "name": "stdout",
     "output_type": "stream",
     "text": [
      " .\n"
     ]
    }
   ],
   "source": [
    "import copy\n",
    "import warnings\n",
    "\n",
    "warnings.filterwarnings('ignore')\n",
    "baseline = []\n",
    "iter_baseline = []\n",
    "pipeline = Pipeline([('dualimputer', ConditionalImputer()),\n",
    "                     ('standardscaler', StandardScaler()),\n",
    "                     ('logisticregression', LogisticRegression())])\n",
    "# Baseline \n",
    "for e in experimentObjects:\n",
    "    start = time.time()\n",
    "    params = e.extractParams()\n",
    "    params['logisticregression__tol'] = 1e-16\n",
    "    params['logisticregression__warm_start'] = False\n",
    "    params['logisticregression__solver'] = 'saga'\n",
    "    params['logisticregression__dual'] = False\n",
    "    params['logisticregression__max_iter'] = 10000\n",
    "    quality = objective(pipeline, params)\n",
    "    # print pipeline.steps[2][1].warm_start\n",
    "    #print params['logisticregression__max_iter'], pipeline.steps[2][1].n_iter_\n",
    "    end = time.time()\n",
    "    time_to_converge_baseline = end - start\n",
    "    baseline.append(time_to_converge_baseline)\n",
    "    iter_baseline.append(pipeline.steps[2][1].n_iter_[0])\n"
   ]
  },
  {
   "cell_type": "code",
   "execution_count": 30,
   "metadata": {
    "collapsed": true
   },
   "outputs": [
    {
     "name": "stdout",
     "output_type": "stream",
     "text": [
      ". ('changing the best model %', 0.30000000000000004)\n."
     ]
    },
    {
     "name": "stdout",
     "output_type": "stream",
     "text": [
      " ."
     ]
    },
    {
     "name": "stdout",
     "output_type": "stream",
     "text": [
      " ."
     ]
    },
    {
     "name": "stdout",
     "output_type": "stream",
     "text": [
      " . ."
     ]
    },
    {
     "name": "stdout",
     "output_type": "stream",
     "text": [
      " . ."
     ]
    },
    {
     "name": "stdout",
     "output_type": "stream",
     "text": [
      " ."
     ]
    },
    {
     "name": "stdout",
     "output_type": "stream",
     "text": [
      " . ."
     ]
    },
    {
     "name": "stdout",
     "output_type": "stream",
     "text": [
      "\n"
     ]
    }
   ],
   "source": [
    "# Optimized\n",
    "# reinitialize the pipeline (model parameters)\n",
    "pipeline = Pipeline([('dualimputer', ConditionalImputer()),\n",
    "                     ('standardscaler', StandardScaler()),\n",
    "                     ('logisticregression', LogisticRegression())])\n",
    "optimized = []\n",
    "iter_optimized = []\n",
    "best_pipeline = copy.deepcopy(pipeline)\n",
    "best_quality = 0.0\n",
    "for e in experimentObjects:\n",
    "    start = time.time()\n",
    "    params = e.extractParams()\n",
    "    params['logisticregression__tol'] = 1e-16\n",
    "    params['logisticregression__warm_start'] = True\n",
    "    params['logisticregression__solver'] = 'saga'\n",
    "    params['logisticregression__dual'] = False\n",
    "    params['logisticregression__max_iter'] = 10000\n",
    "    # warm start the model to the best existing model\n",
    "    pipeline = copy.deepcopy(best_pipeline)\n",
    "    quality = objective(pipeline, params)\n",
    "    # print params['logisticregression__max_iter'], pipeline.steps[2][1].n_iter_\n",
    "    end = time.time()\n",
    "    time_to_converge = end - start\n",
    "    optimized.append(time_to_converge)\n",
    "    iter_optimized.append(pipeline.steps[2][1].n_iter_[0])\n",
    "    # if the quality of the new model is better existing best model\n",
    "    # replace the best model with the existing model\n",
    "    if quality > best_quality:\n",
    "        print ('changing the best model %', quality) \n",
    "        best_quality = quality\n",
    "        best_pipeline = copy.deepcopy(pipeline)\n"
   ]
  },
  {
   "cell_type": "code",
   "execution_count": 38,
   "metadata": {},
   "outputs": [],
   "source": [
    "import numpy\n",
    "\n",
    "result = pd.DataFrame.from_dict({'method': ['optimized', 'baseline'],\n",
    "                                 'time': [numpy.mean(optimized), numpy.mean(baseline)],\n",
    "                                 'num_iterations': [numpy.mean(iter_optimized), numpy.mean(iter_baseline)]})\n"
   ]
  },
  {
   "cell_type": "code",
   "execution_count": 42,
   "metadata": {},
   "outputs": [
    {
     "data": {
      "text/plain": [
       "Text(0.5,1,u'Pipeline 5981 (LogisticRegression with SGD), 11 Executions')"
      ]
     },
     "execution_count": 42,
     "metadata": {},
     "output_type": "execute_result"
    },
    {
     "data": {
      "image/png": "[encoded data removed]",
      "text/plain": [
       "<matplotlib.figure.Figure at 0x109308d10>"
      ]
     },
     "metadata": {},
     "output_type": "display_data"
    }
   ],
   "source": [
    "ax = sns.barplot(x='method', y='time', data=result)\n",
    "ax.set_xlabel('Methods')\n",
    "ax.set_ylabel('Mean Time (s)')\n",
    "ax.set_title('Pipeline 5981 (LogisticRegression with SGD), 11 Executions')"
   ]
  },
  {
   "cell_type": "code",
   "execution_count": 41,
   "metadata": {},
   "outputs": [
    {
     "data": {
      "text/plain": [
       "Text(0.5,1,u'Pipeline 5981 (LogisticRegression with SGD), 11 Executions')"
      ]
     },
     "execution_count": 41,
     "metadata": {},
     "output_type": "execute_result"
    },
    {
     "data": {
      "image/png": "[encoded data removed]",
      "text/plain": [
       "<matplotlib.figure.Figure at 0x1097fdad0>"
      ]
     },
     "metadata": {},
     "output_type": "display_data"
    }
   ],
   "source": [
    "ax = sns.barplot(x='method', y='num_iterations', data=result)\n",
    "ax.set_xlabel('Methods')\n",
    "ax.set_ylabel('Mean Iteration Count')\n",
    "ax.set_title('Pipeline 5981 (LogisticRegression with SGD), 11 Executions')"
   ]
  }
 ],
 "metadata": {
  "kernelspec": {
   "display_name": "Python 2",
   "language": "python",
   "name": "python2"
  },
  "language_info": {
   "codemirror_mode": {
    "name": "ipython",
    "version": 2
   },
   "file_extension": ".py",
   "mimetype": "text/x-python",
   "name": "python",
   "nbconvert_exporter": "python",
   "pygments_lexer": "ipython2",
   "version": "2.7.6"
  }
 },
 "nbformat": 4,
 "nbformat_minor": 0
}
