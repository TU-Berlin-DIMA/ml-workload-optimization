{
 "cells": [
  {
   "cell_type": "code",
   "execution_count": 1,
   "metadata": {
    "collapsed": true
   },
   "outputs": [],
   "source": [
    "import os\n",
    "import time\n",
    "import matplotlib.pyplot as plt\n",
    "import pandas as pd\n",
    "import seaborn as sns\n",
    "from openml import datasets, tasks, flows, config\n",
    "from openmlstudy14.preprocessing import ConditionalImputer\n",
    "from workloadoptimization.essentials import Component, ExperimentParser\n",
    "from workloadoptimization.hyperopt_helper import TrialConverter\n",
    "from workloadoptimization.openml_helper import OpenMLReader\n",
    "from workloadoptimization.search_space import SearchSpaceDesigner\n",
    "%matplotlib inline\n",
    "\n",
    "sns.set_style(\"whitegrid\")\n",
    "sns.set_context(\"paper\", font_scale=2)\n",
    "\n",
    "config.apikey = '8e2079508005379adb9a60798696134e'\n",
    "config.server = 'https://www.openml.org/api/v1'\n",
    "config.set_cache_directory(os.path.expanduser('~/openml-cache'))"
   ]
  },
  {
   "cell_type": "code",
   "execution_count": 3,
   "metadata": {},
   "outputs": [],
   "source": [
    "# Constants \n",
    "LOGISTIC_REGRESSION_FLOW = 5981\n",
    "RANDOM_FOREST_FLOW = 8568\n",
    "CREDIT_G_DATASET = 31"
   ]
  },
  {
   "cell_type": "code",
   "execution_count": 4,
   "metadata": {},
   "outputs": [],
   "source": [
    "def extract_experiments(file_path, task_ids, flow_ids):\n",
    "    openMLReader = OpenMLReader()\n",
    "    if os.path.isfile(file_path):\n",
    "        return pd.read_pickle(file_path)\n",
    "    frames = []\n",
    "    for t in task_ids:\n",
    "        for f in flow_ids:\n",
    "            frames.append(openMLReader.getTopRuns(-1, f, t))\n",
    "    experiments = pd.concat(frames).reset_index(drop=True)\n",
    "    experiments.to_pickle(file_path)\n",
    "    return experiments\n",
    "\n",
    "\n",
    "# This is time consuming, so it is better to persist the list of the runs to disk\n",
    "# If you are changing the tasks or flow ids, remember to change the name of the file \n",
    "Experiments = extract_experiments('meta/database-experiment-warmstarting-openml', [CREDIT_G_DATASET], \n",
    "                                  [LOGISTIC_REGRESSION_FLOW, RANDOM_FOREST_FLOW])"
   ]
  },
  {
   "cell_type": "markdown",
   "metadata": {},
   "source": [
    "## Loading the Pipelines, Experiment Objects, and the Dataset"
   ]
  },
  {
   "cell_type": "code",
   "execution_count": 6,
   "metadata": {},
   "outputs": [],
   "source": [
    "from sklearn.pipeline import Pipeline\n",
    "from sklearn.preprocessing import StandardScaler\n",
    "from sklearn.linear_model import LogisticRegression\n",
    "\n",
    "pipeline_lr = Pipeline([('dualimputer', ConditionalImputer()),\n",
    "                        ('standardscaler', StandardScaler()),\n",
    "                        ('logisticregression', LogisticRegression())])"
   ]
  },
  {
   "cell_type": "code",
   "execution_count": 10,
   "metadata": {
    "collapsed": true
   },
   "outputs": [],
   "source": [
    "# The openml api is not backward compatible for this specific pipeline (5981), so we are recreating it in scikit learn\n",
    "OPENML_FLOWS = {LOGISTIC_REGRESSION_FLOW: pipeline_lr}\n",
    "parser = ExperimentParser()\n",
    "experimentObjects = parser.extract_sklearn_pipelines(Experiments[Experiments.flow_id == LOGISTIC_REGRESSION_FLOW]\n",
    "                                                     , OPENML_FLOWS)\n",
    "OPENML_FLOWS = {RANDOM_FOREST_FLOW: flows.get_flow(RANDOM_FOREST_FLOW)}\n",
    "experimentObjects = experimentObjects + parser.extract_openml_flows(\n",
    "    Experiments[Experiments.flow_id == RANDOM_FOREST_FLOW]\n",
    "    , OPENML_FLOWS)\n"
   ]
  },
  {
   "cell_type": "code",
   "execution_count": 2,
   "metadata": {},
   "outputs": [
    {
     "ename": "NameError",
     "evalue": "name 'CREDIT_G_DATASET' is not defined",
     "traceback": [
      "\u001b[0;31m\u001b[0m",
      "\u001b[0;31mNameError\u001b[0mTraceback (most recent call last)",
      "\u001b[0;32m<ipython-input-2-4dfdc07c5165>\u001b[0m in \u001b[0;36m<module>\u001b[0;34m()\u001b[0m\n\u001b[1;32m      1\u001b[0m \u001b[0;31m# load the dataset\u001b[0m\u001b[0;34m\u001b[0m\u001b[0;34m\u001b[0m\u001b[0m\n\u001b[0;32m----> 2\u001b[0;31m \u001b[0mtask\u001b[0m \u001b[0;34m=\u001b[0m \u001b[0mtasks\u001b[0m\u001b[0;34m.\u001b[0m\u001b[0mget_task\u001b[0m\u001b[0;34m(\u001b[0m\u001b[0mtask_id\u001b[0m\u001b[0;34m=\u001b[0m\u001b[0mCREDIT_G_DATASET\u001b[0m\u001b[0;34m)\u001b[0m\u001b[0;34m\u001b[0m\u001b[0m\n\u001b[0m\u001b[1;32m      3\u001b[0m \u001b[0mdataset\u001b[0m \u001b[0;34m=\u001b[0m \u001b[0mdatasets\u001b[0m\u001b[0;34m.\u001b[0m\u001b[0mget_dataset\u001b[0m\u001b[0;34m(\u001b[0m\u001b[0mdataset_id\u001b[0m\u001b[0;34m=\u001b[0m\u001b[0mtask\u001b[0m\u001b[0;34m.\u001b[0m\u001b[0mdataset_id\u001b[0m\u001b[0;34m)\u001b[0m\u001b[0;34m\u001b[0m\u001b[0m\n\u001b[1;32m      4\u001b[0m \u001b[0mdata\u001b[0m \u001b[0;34m=\u001b[0m \u001b[0mdataset\u001b[0m\u001b[0;34m.\u001b[0m\u001b[0mget_data\u001b[0m\u001b[0;34m(\u001b[0m\u001b[0;34m)\u001b[0m\u001b[0;34m\u001b[0m\u001b[0m\n\u001b[1;32m      5\u001b[0m \u001b[0mtrain_indices\u001b[0m\u001b[0;34m,\u001b[0m \u001b[0mtest_indices\u001b[0m \u001b[0;34m=\u001b[0m \u001b[0mtask\u001b[0m\u001b[0;34m.\u001b[0m\u001b[0mget_train_test_split_indices\u001b[0m\u001b[0;34m(\u001b[0m\u001b[0;34m)\u001b[0m\u001b[0;34m\u001b[0m\u001b[0m\n",
      "\u001b[0;31mNameError\u001b[0m: name 'CREDIT_G_DATASET' is not defined"
     ],
     "output_type": "error"
    }
   ],
   "source": [
    "# load the dataset\n",
    "task = tasks.get_task(task_id=CREDIT_G_DATASET)\n",
    "dataset = datasets.get_dataset(dataset_id=task.dataset_id)\n",
    "data = dataset.get_data()\n",
    "train_indices, test_indices = task.get_train_test_split_indices()\n",
    "X, y, attribute_names = dataset.get_data(\n",
    "    target=dataset.default_target_attribute,\n",
    "    return_attribute_names=True)\n",
    "X_train = X[train_indices]\n",
    "y_train = y[train_indices]\n",
    "X_test = X[test_indices]\n",
    "y_test = y[test_indices]"
   ]
  },
  {
   "cell_type": "markdown",
   "metadata": {},
   "source": [
    "## Define the Objective Function"
   ]
  },
  {
   "cell_type": "code",
   "execution_count": 15,
   "metadata": {},
   "outputs": [],
   "source": [
    "def objective(pipeline, params):\n",
    "    print '.',\n",
    "    pipeline.set_params(**params)\n",
    "    pipeline.fit(X_train, y_train)\n",
    "    accuracy = pipeline.score(X_test, y_test)\n",
    "    return 1 - accuracy"
   ]
  },
  {
   "cell_type": "markdown",
   "metadata": {},
   "source": [
    "## Experiment for the Logistic Regression Model"
   ]
  },
  {
   "cell_type": "code",
   "execution_count": 16,
   "metadata": {
    "collapsed": false
   },
   "outputs": [
    {
     "name": "stdout",
     "output_type": "stream",
     "text": [
      "('standardscaler__with_mean', [[True, 11]])\n('standardscaler__copy', [[True, 11]])\n('standardscaler__with_std', [[True, 11]])\n"
     ]
    }
   ],
   "source": [
    "# Check parameter space, for the logistic regression there's only one unique set of configurations\n",
    "for k in experimentObjects[0].extractParams().keys():\n",
    "    if not k.startswith('logisticregression'):\n",
    "        a = []\n",
    "        for e in experimentObjects:\n",
    "            if e.flow == LOGISTIC_REGRESSION_FLOW:\n",
    "                a.append(e.extractParams()[k])\n",
    "        print(k, [[x, a.count(x)] for x in set(a)])\n"
   ]
  },
  {
   "cell_type": "code",
   "execution_count": 17,
   "metadata": {},
   "outputs": [
    {
     "name": "stdout",
     "output_type": "stream",
     "text": [
      "."
     ]
    },
    {
     "name": "stdout",
     "output_type": "stream",
     "text": [
      " ."
     ]
    },
    {
     "name": "stdout",
     "output_type": "stream",
     "text": [
      " . ."
     ]
    },
    {
     "name": "stdout",
     "output_type": "stream",
     "text": [
      " . ."
     ]
    },
    {
     "name": "stdout",
     "output_type": "stream",
     "text": [
      " ."
     ]
    },
    {
     "name": "stdout",
     "output_type": "stream",
     "text": [
      " . ."
     ]
    },
    {
     "name": "stdout",
     "output_type": "stream",
     "text": [
      " . ."
     ]
    },
    {
     "name": "stdout",
     "output_type": "stream",
     "text": [
      " ."
     ]
    },
    {
     "name": "stdout",
     "output_type": "stream",
     "text": [
      " ('changing the best model %', 0.30000000000000004)\n."
     ]
    },
    {
     "name": "stdout",
     "output_type": "stream",
     "text": [
      " ."
     ]
    },
    {
     "name": "stdout",
     "output_type": "stream",
     "text": [
      " . ."
     ]
    },
    {
     "name": "stdout",
     "output_type": "stream",
     "text": [
      " . ."
     ]
    },
    {
     "name": "stdout",
     "output_type": "stream",
     "text": [
      " ."
     ]
    },
    {
     "name": "stdout",
     "output_type": "stream",
     "text": [
      " ."
     ]
    },
    {
     "name": "stdout",
     "output_type": "stream",
     "text": [
      " . ."
     ]
    },
    {
     "name": "stdout",
     "output_type": "stream",
     "text": [
      "\n"
     ]
    }
   ],
   "source": [
    "import copy\n",
    "import warnings\n",
    "\n",
    "warnings.filterwarnings('ignore')\n",
    "baseline = []\n",
    "iter_baseline = []\n",
    "pipeline = Pipeline([('dualimputer', ConditionalImputer()),\n",
    "                     ('standardscaler', StandardScaler()),\n",
    "                     ('logisticregression', LogisticRegression())])\n",
    "# Baseline \n",
    "for e in experimentObjects:\n",
    "    if e.flow == LOGISTIC_REGRESSION_FLOW:\n",
    "        start = time.time()\n",
    "        params = e.extractParams()\n",
    "        params['logisticregression__tol'] = 1e-16\n",
    "        params['logisticregression__warm_start'] = False\n",
    "        params['logisticregression__solver'] = 'saga'\n",
    "        params['logisticregression__dual'] = False\n",
    "        params['logisticregression__max_iter'] = 10000\n",
    "        quality = objective(pipeline, params)\n",
    "        end = time.time()\n",
    "        time_to_converge_baseline = end - start\n",
    "        baseline.append(time_to_converge_baseline)\n",
    "        iter_baseline.append(pipeline.steps[2][1].n_iter_[0])\n",
    "# Optimized\n",
    "# reinitialize the pipeline (model parameters)\n",
    "pipeline = Pipeline([('dualimputer', ConditionalImputer()),\n",
    "                     ('standardscaler', StandardScaler()),\n",
    "                     ('logisticregression', LogisticRegression())])\n",
    "optimized = []\n",
    "iter_optimized = []\n",
    "best_pipeline = copy.deepcopy(pipeline)\n",
    "best_quality = 0.0\n",
    "for e in experimentObjects:\n",
    "    if e.flow == LOGISTIC_REGRESSION_MODEL:\n",
    "        start = time.time()\n",
    "        params = e.extractParams()\n",
    "        params['logisticregression__tol'] = 1e-16\n",
    "        params['logisticregression__warm_start'] = True\n",
    "        params['logisticregression__solver'] = 'saga'\n",
    "        params['logisticregression__dual'] = False\n",
    "        params['logisticregression__max_iter'] = 10000\n",
    "        # warm start the model to the best existing model\n",
    "        pipeline = copy.deepcopy(best_pipeline)\n",
    "        quality = objective(pipeline, params)\n",
    "        # print params['logisticregression__max_iter'], pipeline.steps[2][1].n_iter_\n",
    "        end = time.time()\n",
    "        time_to_converge = end - start\n",
    "        optimized.append(time_to_converge)\n",
    "        iter_optimized.append(pipeline.steps[2][1].n_iter_[0])\n",
    "        # if the quality of the new model is better existing best model\n",
    "        # replace the best model with the existing model\n",
    "        if quality > best_quality:\n",
    "            print ('changing the best model %', quality) \n",
    "            best_quality = quality\n",
    "            best_pipeline = copy.deepcopy(pipeline)\n"
   ]
  },
  {
   "cell_type": "code",
   "execution_count": 18,
   "metadata": {},
   "outputs": [],
   "source": [
    "import numpy\n",
    "result = pd.DataFrame.from_dict({'method': ['warmstart', 'baseline'],\n",
    "                                 'time': [numpy.sum(optimized), numpy.sum(baseline)],\n",
    "                                 'num_iterations': [numpy.sum(iter_optimized)/1000, numpy.sum(iter_baseline)/1000]})\n"
   ]
  },
  {
   "cell_type": "code",
   "execution_count": 19,
   "metadata": {},
   "outputs": [
    {
     "data": {
      "image/png": "[encoded data removed]",
      "text/plain": [
       "<matplotlib.figure.Figure at 0x11464df50>"
      ]
     },
     "metadata": {},
     "output_type": "display_data"
    }
   ],
   "source": [
    "ax = sns.barplot(x='method', y='time', data=result)\n",
    "ax.set_xlabel('')\n",
    "ax.set_ylabel('Time (s)')\n",
    "ax.tick_params(labelsize=22)\n",
    "# ax.set_title('Pipeline 5981 (LogisticRegression with SGD)\\n11 Executions')\n",
    "plt.savefig('figures/paper/warmstarting-lr-5981-runtime.eps', format='eps', dpi=1000, bbox_inches='tight')"
   ]
  },
  {
   "cell_type": "code",
   "execution_count": 20,
   "metadata": {},
   "outputs": [
    {
     "data": {
      "image/png": "[encoded data removed]",
      "text/plain": [
       "<matplotlib.figure.Figure at 0x114666850>"
      ]
     },
     "metadata": {},
     "output_type": "display_data"
    }
   ],
   "source": [
    "ax = sns.barplot(x='method', y='num_iterations', data=result)\n",
    "ax.set_xlabel('')\n",
    "ax.set_ylabel('Iteration Count')\n",
    "ax.set_yticklabels(['0', '2k', '4k', '6k'])\n",
    "ax.tick_params(labelsize=22)\n",
    "# ax.set_title('Pipeline 5981 (LogisticRegression with SGD)\\n11 Executions')\n",
    "plt.savefig('figures/paper/warmstarting-lr-5981-iterations.eps', format='eps', dpi=1000, bbox_inches='tight')"
   ]
  },
  {
   "cell_type": "markdown",
   "metadata": {},
   "source": [
    "## Experiment for Random Forest Model"
   ]
  },
  {
   "cell_type": "code",
   "execution_count": 21,
   "metadata": {
    "collapsed": true
   },
   "outputs": [
    {
     "name": "stdout",
     "output_type": "stream",
     "text": [
      "('onehotencoder__n_values', [['auto', 555]])\n('conditionalimputer__verbose', [[0, 555]])\n('conditionalimputer__strategy', [['most_frequent', 136], ['median', 163], ['mean', 256]])\n('onehotencoder__dtype', [[<type 'numpy.float64'>, 555]])\n('variancethreshold__threshold', [[0.0, 555]])\n('onehotencoder__sparse', [[False, 201], [True, 354]])\n('onehotencoder__handle_unknown', [['ignore', 555]])\n('conditionalimputer__missing_values', [['NaN', 555]])\n('conditionalimputer__fill_empty', [[0, 555]])\n('conditionalimputer__copy', [[True, 555]])\n('conditionalimputer__axis', [[0, 555]])\n('conditionalimputer__strategy_nominal', [['most_frequent', 555]])\n"
     ]
    }
   ],
   "source": [
    "for k in experimentObjects[11].extractParams().keys():\n",
    "    if k != 'onehotencoder__categorical_features' and k != 'conditionalimputer__categorical_features' and not k.startswith('randomforestclassifier'):\n",
    "        a = []\n",
    "        for e in experimentObjects:\n",
    "            if e.flow == RANDOM_FOREST_FLOW:\n",
    "                a.append(e.extractParams()[k])\n",
    "        print(k, [[x, a.count(x)] for x in set(a)])\n"
   ]
  },
  {
   "cell_type": "code",
   "execution_count": 22,
   "metadata": {},
   "outputs": [],
   "source": [
    "unique_pipelines = {}\n",
    "# conditionalimputer__strategy ,onehotencoder__sparse\n",
    "for e in experimentObjects:\n",
    "    if e.flow == RANDOM_FOREST_FLOW:\n",
    "        key = (e.extractParams()['conditionalimputer__strategy'], e.extractParams()['onehotencoder__sparse'])\n",
    "        if key in unique_pipelines:\n",
    "            unique_pipelines[key].append(e)\n",
    "        else:\n",
    "            unique_pipelines[key] = [e]\n"
   ]
  },
  {
   "cell_type": "code",
   "execution_count": 25,
   "metadata": {},
   "outputs": [
    {
     "name": "stdout",
     "output_type": "stream",
     "text": [
      "\n"
     ]
    }
   ],
   "source": [
    "flow = flows.get_flow(flow_id=RANDOM_FOREST_FLOW)\n",
    "# Hack for the non existing arbok.preprocessing.ConditionalImputer Class\n",
    "flow.components['conditionalimputer'].class_name = 'hyperimp.utils.preprocessing.ConditionalImputer2'\n",
    "pipeline = flows.flow_to_sklearn(flow)"
   ]
  },
  {
   "cell_type": "code",
   "execution_count": 33,
   "metadata": {},
   "outputs": [
    {
     "name": "stdout",
     "output_type": "stream",
     "text": [
      "."
     ]
    },
    {
     "name": "stdout",
     "output_type": "stream",
     "text": [
      " ."
     ]
    },
    {
     "name": "stdout",
     "output_type": "stream",
     "text": [
      " ."
     ]
    },
    {
     "name": "stdout",
     "output_type": "stream",
     "text": [
      " ."
     ]
    },
    {
     "name": "stdout",
     "output_type": "stream",
     "text": [
      " ."
     ]
    },
    {
     "name": "stdout",
     "output_type": "stream",
     "text": [
      " ."
     ]
    },
    {
     "name": "stdout",
     "output_type": "stream",
     "text": [
      " ."
     ]
    },
    {
     "name": "stdout",
     "output_type": "stream",
     "text": [
      " ."
     ]
    },
    {
     "name": "stdout",
     "output_type": "stream",
     "text": [
      " ."
     ]
    },
    {
     "name": "stdout",
     "output_type": "stream",
     "text": [
      " ."
     ]
    },
    {
     "name": "stdout",
     "output_type": "stream",
     "text": [
      " ."
     ]
    },
    {
     "name": "stdout",
     "output_type": "stream",
     "text": [
      " ."
     ]
    },
    {
     "name": "stdout",
     "output_type": "stream",
     "text": [
      " ."
     ]
    },
    {
     "name": "stdout",
     "output_type": "stream",
     "text": [
      " ."
     ]
    },
    {
     "name": "stdout",
     "output_type": "stream",
     "text": [
      " ."
     ]
    },
    {
     "name": "stdout",
     "output_type": "stream",
     "text": [
      " ."
     ]
    },
    {
     "name": "stdout",
     "output_type": "stream",
     "text": [
      " ."
     ]
    },
    {
     "name": "stdout",
     "output_type": "stream",
     "text": [
      " ."
     ]
    },
    {
     "name": "stdout",
     "output_type": "stream",
     "text": [
      " ."
     ]
    },
    {
     "name": "stdout",
     "output_type": "stream",
     "text": [
      " ."
     ]
    },
    {
     "name": "stdout",
     "output_type": "stream",
     "text": [
      " ."
     ]
    },
    {
     "name": "stdout",
     "output_type": "stream",
     "text": [
      " ."
     ]
    },
    {
     "name": "stdout",
     "output_type": "stream",
     "text": [
      " ."
     ]
    },
    {
     "name": "stdout",
     "output_type": "stream",
     "text": [
      " ."
     ]
    },
    {
     "name": "stdout",
     "output_type": "stream",
     "text": [
      " ."
     ]
    },
    {
     "name": "stdout",
     "output_type": "stream",
     "text": [
      " ."
     ]
    },
    {
     "name": "stdout",
     "output_type": "stream",
     "text": [
      " ."
     ]
    },
    {
     "name": "stdout",
     "output_type": "stream",
     "text": [
      " ."
     ]
    },
    {
     "name": "stdout",
     "output_type": "stream",
     "text": [
      " ."
     ]
    },
    {
     "name": "stdout",
     "output_type": "stream",
     "text": [
      " ."
     ]
    },
    {
     "name": "stdout",
     "output_type": "stream",
     "text": [
      " ."
     ]
    },
    {
     "name": "stdout",
     "output_type": "stream",
     "text": [
      " ."
     ]
    },
    {
     "name": "stdout",
     "output_type": "stream",
     "text": [
      " ."
     ]
    },
    {
     "name": "stdout",
     "output_type": "stream",
     "text": [
      " ."
     ]
    },
    {
     "name": "stdout",
     "output_type": "stream",
     "text": [
      " ."
     ]
    },
    {
     "name": "stdout",
     "output_type": "stream",
     "text": [
      " ."
     ]
    },
    {
     "name": "stdout",
     "output_type": "stream",
     "text": [
      " ."
     ]
    },
    {
     "name": "stdout",
     "output_type": "stream",
     "text": [
      " ."
     ]
    },
    {
     "name": "stdout",
     "output_type": "stream",
     "text": [
      " ."
     ]
    },
    {
     "name": "stdout",
     "output_type": "stream",
     "text": [
      " ."
     ]
    },
    {
     "name": "stdout",
     "output_type": "stream",
     "text": [
      " ."
     ]
    },
    {
     "name": "stdout",
     "output_type": "stream",
     "text": [
      " ."
     ]
    },
    {
     "name": "stdout",
     "output_type": "stream",
     "text": [
      " ."
     ]
    },
    {
     "name": "stdout",
     "output_type": "stream",
     "text": [
      " ."
     ]
    },
    {
     "name": "stdout",
     "output_type": "stream",
     "text": [
      " ."
     ]
    },
    {
     "name": "stdout",
     "output_type": "stream",
     "text": [
      " ."
     ]
    },
    {
     "name": "stdout",
     "output_type": "stream",
     "text": [
      " ."
     ]
    },
    {
     "name": "stdout",
     "output_type": "stream",
     "text": [
      " ."
     ]
    },
    {
     "name": "stdout",
     "output_type": "stream",
     "text": [
      " ."
     ]
    },
    {
     "name": "stdout",
     "output_type": "stream",
     "text": [
      " ."
     ]
    },
    {
     "name": "stdout",
     "output_type": "stream",
     "text": [
      " ."
     ]
    },
    {
     "name": "stdout",
     "output_type": "stream",
     "text": [
      " ."
     ]
    },
    {
     "name": "stdout",
     "output_type": "stream",
     "text": [
      " ."
     ]
    },
    {
     "name": "stdout",
     "output_type": "stream",
     "text": [
      " ."
     ]
    },
    {
     "name": "stdout",
     "output_type": "stream",
     "text": [
      " ."
     ]
    },
    {
     "name": "stdout",
     "output_type": "stream",
     "text": [
      " ."
     ]
    },
    {
     "name": "stdout",
     "output_type": "stream",
     "text": [
      " ."
     ]
    },
    {
     "name": "stdout",
     "output_type": "stream",
     "text": [
      " ."
     ]
    },
    {
     "name": "stdout",
     "output_type": "stream",
     "text": [
      " ."
     ]
    },
    {
     "name": "stdout",
     "output_type": "stream",
     "text": [
      " ."
     ]
    },
    {
     "name": "stdout",
     "output_type": "stream",
     "text": [
      " ."
     ]
    },
    {
     "name": "stdout",
     "output_type": "stream",
     "text": [
      " ."
     ]
    },
    {
     "name": "stdout",
     "output_type": "stream",
     "text": [
      " ."
     ]
    },
    {
     "name": "stdout",
     "output_type": "stream",
     "text": [
      " ."
     ]
    },
    {
     "name": "stdout",
     "output_type": "stream",
     "text": [
      " ."
     ]
    },
    {
     "name": "stdout",
     "output_type": "stream",
     "text": [
      " ."
     ]
    },
    {
     "name": "stdout",
     "output_type": "stream",
     "text": [
      " ."
     ]
    },
    {
     "name": "stdout",
     "output_type": "stream",
     "text": [
      " ."
     ]
    },
    {
     "name": "stdout",
     "output_type": "stream",
     "text": [
      " ."
     ]
    },
    {
     "name": "stdout",
     "output_type": "stream",
     "text": [
      " ."
     ]
    },
    {
     "name": "stdout",
     "output_type": "stream",
     "text": [
      " ."
     ]
    },
    {
     "name": "stdout",
     "output_type": "stream",
     "text": [
      " ."
     ]
    },
    {
     "name": "stdout",
     "output_type": "stream",
     "text": [
      " ."
     ]
    },
    {
     "name": "stdout",
     "output_type": "stream",
     "text": [
      " ."
     ]
    },
    {
     "name": "stdout",
     "output_type": "stream",
     "text": [
      " ."
     ]
    },
    {
     "name": "stdout",
     "output_type": "stream",
     "text": [
      " ."
     ]
    },
    {
     "name": "stdout",
     "output_type": "stream",
     "text": [
      " ."
     ]
    },
    {
     "name": "stdout",
     "output_type": "stream",
     "text": [
      " ."
     ]
    },
    {
     "name": "stdout",
     "output_type": "stream",
     "text": [
      " ."
     ]
    },
    {
     "name": "stdout",
     "output_type": "stream",
     "text": [
      " ."
     ]
    },
    {
     "name": "stdout",
     "output_type": "stream",
     "text": [
      " ."
     ]
    },
    {
     "name": "stdout",
     "output_type": "stream",
     "text": [
      " ."
     ]
    },
    {
     "name": "stdout",
     "output_type": "stream",
     "text": [
      " ."
     ]
    },
    {
     "name": "stdout",
     "output_type": "stream",
     "text": [
      " ."
     ]
    },
    {
     "name": "stdout",
     "output_type": "stream",
     "text": [
      " ."
     ]
    },
    {
     "name": "stdout",
     "output_type": "stream",
     "text": [
      " ."
     ]
    },
    {
     "name": "stdout",
     "output_type": "stream",
     "text": [
      " ."
     ]
    },
    {
     "name": "stdout",
     "output_type": "stream",
     "text": [
      " ."
     ]
    },
    {
     "name": "stdout",
     "output_type": "stream",
     "text": [
      " ."
     ]
    },
    {
     "name": "stdout",
     "output_type": "stream",
     "text": [
      " ."
     ]
    },
    {
     "name": "stdout",
     "output_type": "stream",
     "text": [
      " ."
     ]
    },
    {
     "name": "stdout",
     "output_type": "stream",
     "text": [
      " ."
     ]
    },
    {
     "name": "stdout",
     "output_type": "stream",
     "text": [
      " ."
     ]
    },
    {
     "name": "stdout",
     "output_type": "stream",
     "text": [
      " ."
     ]
    },
    {
     "name": "stdout",
     "output_type": "stream",
     "text": [
      " ."
     ]
    },
    {
     "name": "stdout",
     "output_type": "stream",
     "text": [
      " ."
     ]
    },
    {
     "name": "stdout",
     "output_type": "stream",
     "text": [
      " ."
     ]
    },
    {
     "name": "stdout",
     "output_type": "stream",
     "text": [
      " ."
     ]
    },
    {
     "name": "stdout",
     "output_type": "stream",
     "text": [
      " ."
     ]
    },
    {
     "name": "stdout",
     "output_type": "stream",
     "text": [
      " ."
     ]
    },
    {
     "name": "stdout",
     "output_type": "stream",
     "text": [
      " ."
     ]
    },
    {
     "name": "stdout",
     "output_type": "stream",
     "text": [
      " ."
     ]
    },
    {
     "name": "stdout",
     "output_type": "stream",
     "text": [
      " ."
     ]
    },
    {
     "name": "stdout",
     "output_type": "stream",
     "text": [
      " ."
     ]
    },
    {
     "name": "stdout",
     "output_type": "stream",
     "text": [
      " ."
     ]
    },
    {
     "name": "stdout",
     "output_type": "stream",
     "text": [
      " ."
     ]
    },
    {
     "name": "stdout",
     "output_type": "stream",
     "text": [
      " ."
     ]
    },
    {
     "name": "stdout",
     "output_type": "stream",
     "text": [
      " ."
     ]
    },
    {
     "name": "stdout",
     "output_type": "stream",
     "text": [
      " ."
     ]
    },
    {
     "name": "stdout",
     "output_type": "stream",
     "text": [
      " ."
     ]
    },
    {
     "name": "stdout",
     "output_type": "stream",
     "text": [
      " ."
     ]
    },
    {
     "name": "stdout",
     "output_type": "stream",
     "text": [
      " ."
     ]
    },
    {
     "name": "stdout",
     "output_type": "stream",
     "text": [
      " ."
     ]
    },
    {
     "name": "stdout",
     "output_type": "stream",
     "text": [
      " ."
     ]
    },
    {
     "name": "stdout",
     "output_type": "stream",
     "text": [
      " ."
     ]
    },
    {
     "name": "stdout",
     "output_type": "stream",
     "text": [
      " ."
     ]
    },
    {
     "name": "stdout",
     "output_type": "stream",
     "text": [
      " ."
     ]
    },
    {
     "name": "stdout",
     "output_type": "stream",
     "text": [
      " ."
     ]
    },
    {
     "name": "stdout",
     "output_type": "stream",
     "text": [
      " ."
     ]
    },
    {
     "name": "stdout",
     "output_type": "stream",
     "text": [
      " ."
     ]
    },
    {
     "name": "stdout",
     "output_type": "stream",
     "text": [
      " ."
     ]
    },
    {
     "name": "stdout",
     "output_type": "stream",
     "text": [
      " ."
     ]
    },
    {
     "name": "stdout",
     "output_type": "stream",
     "text": [
      " ."
     ]
    },
    {
     "name": "stdout",
     "output_type": "stream",
     "text": [
      " ."
     ]
    },
    {
     "name": "stdout",
     "output_type": "stream",
     "text": [
      " ."
     ]
    },
    {
     "name": "stdout",
     "output_type": "stream",
     "text": [
      " ."
     ]
    },
    {
     "name": "stdout",
     "output_type": "stream",
     "text": [
      " ."
     ]
    },
    {
     "name": "stdout",
     "output_type": "stream",
     "text": [
      " ."
     ]
    },
    {
     "name": "stdout",
     "output_type": "stream",
     "text": [
      " ."
     ]
    },
    {
     "name": "stdout",
     "output_type": "stream",
     "text": [
      " ."
     ]
    },
    {
     "name": "stdout",
     "output_type": "stream",
     "text": [
      " ."
     ]
    },
    {
     "name": "stdout",
     "output_type": "stream",
     "text": [
      " ."
     ]
    },
    {
     "name": "stdout",
     "output_type": "stream",
     "text": [
      " ."
     ]
    },
    {
     "name": "stdout",
     "output_type": "stream",
     "text": [
      " ."
     ]
    },
    {
     "name": "stdout",
     "output_type": "stream",
     "text": [
      " ."
     ]
    },
    {
     "name": "stdout",
     "output_type": "stream",
     "text": [
      " ."
     ]
    },
    {
     "name": "stdout",
     "output_type": "stream",
     "text": [
      " ."
     ]
    },
    {
     "name": "stdout",
     "output_type": "stream",
     "text": [
      " ."
     ]
    },
    {
     "name": "stdout",
     "output_type": "stream",
     "text": [
      " ."
     ]
    },
    {
     "name": "stdout",
     "output_type": "stream",
     "text": [
      " ."
     ]
    },
    {
     "name": "stdout",
     "output_type": "stream",
     "text": [
      " ."
     ]
    },
    {
     "name": "stdout",
     "output_type": "stream",
     "text": [
      " ."
     ]
    },
    {
     "name": "stdout",
     "output_type": "stream",
     "text": [
      " ."
     ]
    },
    {
     "name": "stdout",
     "output_type": "stream",
     "text": [
      " ."
     ]
    },
    {
     "name": "stdout",
     "output_type": "stream",
     "text": [
      " ."
     ]
    },
    {
     "name": "stdout",
     "output_type": "stream",
     "text": [
      " ."
     ]
    },
    {
     "name": "stdout",
     "output_type": "stream",
     "text": [
      " ."
     ]
    },
    {
     "name": "stdout",
     "output_type": "stream",
     "text": [
      " ."
     ]
    },
    {
     "name": "stdout",
     "output_type": "stream",
     "text": [
      " ."
     ]
    },
    {
     "name": "stdout",
     "output_type": "stream",
     "text": [
      " ."
     ]
    },
    {
     "name": "stdout",
     "output_type": "stream",
     "text": [
      " ."
     ]
    },
    {
     "name": "stdout",
     "output_type": "stream",
     "text": [
      " ."
     ]
    },
    {
     "name": "stdout",
     "output_type": "stream",
     "text": [
      " ."
     ]
    },
    {
     "name": "stdout",
     "output_type": "stream",
     "text": [
      " ."
     ]
    },
    {
     "name": "stdout",
     "output_type": "stream",
     "text": [
      " ."
     ]
    },
    {
     "name": "stdout",
     "output_type": "stream",
     "text": [
      " ."
     ]
    },
    {
     "name": "stdout",
     "output_type": "stream",
     "text": [
      " ."
     ]
    },
    {
     "name": "stdout",
     "output_type": "stream",
     "text": [
      " ."
     ]
    },
    {
     "name": "stdout",
     "output_type": "stream",
     "text": [
      " ."
     ]
    },
    {
     "name": "stdout",
     "output_type": "stream",
     "text": [
      " ."
     ]
    },
    {
     "name": "stdout",
     "output_type": "stream",
     "text": [
      " ."
     ]
    },
    {
     "name": "stdout",
     "output_type": "stream",
     "text": [
      " ."
     ]
    },
    {
     "name": "stdout",
     "output_type": "stream",
     "text": [
      " ."
     ]
    },
    {
     "name": "stdout",
     "output_type": "stream",
     "text": [
      " ."
     ]
    },
    {
     "name": "stdout",
     "output_type": "stream",
     "text": [
      " ."
     ]
    },
    {
     "name": "stdout",
     "output_type": "stream",
     "text": [
      " ."
     ]
    },
    {
     "name": "stdout",
     "output_type": "stream",
     "text": [
      " ."
     ]
    },
    {
     "name": "stdout",
     "output_type": "stream",
     "text": [
      " ."
     ]
    },
    {
     "name": "stdout",
     "output_type": "stream",
     "text": [
      " ."
     ]
    },
    {
     "name": "stdout",
     "output_type": "stream",
     "text": [
      " ."
     ]
    },
    {
     "name": "stdout",
     "output_type": "stream",
     "text": [
      " ."
     ]
    },
    {
     "name": "stdout",
     "output_type": "stream",
     "text": [
      " ."
     ]
    },
    {
     "name": "stdout",
     "output_type": "stream",
     "text": [
      " ."
     ]
    },
    {
     "name": "stdout",
     "output_type": "stream",
     "text": [
      " ."
     ]
    },
    {
     "name": "stdout",
     "output_type": "stream",
     "text": [
      " ."
     ]
    },
    {
     "name": "stdout",
     "output_type": "stream",
     "text": [
      " ."
     ]
    },
    {
     "name": "stdout",
     "output_type": "stream",
     "text": [
      " ."
     ]
    },
    {
     "name": "stdout",
     "output_type": "stream",
     "text": [
      " ."
     ]
    },
    {
     "name": "stdout",
     "output_type": "stream",
     "text": [
      " ."
     ]
    },
    {
     "name": "stdout",
     "output_type": "stream",
     "text": [
      " ."
     ]
    },
    {
     "name": "stdout",
     "output_type": "stream",
     "text": [
      " ."
     ]
    },
    {
     "name": "stdout",
     "output_type": "stream",
     "text": [
      " ."
     ]
    },
    {
     "name": "stdout",
     "output_type": "stream",
     "text": [
      " ."
     ]
    },
    {
     "name": "stdout",
     "output_type": "stream",
     "text": [
      " ."
     ]
    },
    {
     "name": "stdout",
     "output_type": "stream",
     "text": [
      " ."
     ]
    },
    {
     "name": "stdout",
     "output_type": "stream",
     "text": [
      " ."
     ]
    },
    {
     "name": "stdout",
     "output_type": "stream",
     "text": [
      " ."
     ]
    },
    {
     "name": "stdout",
     "output_type": "stream",
     "text": [
      " ."
     ]
    },
    {
     "name": "stdout",
     "output_type": "stream",
     "text": [
      " ."
     ]
    },
    {
     "name": "stdout",
     "output_type": "stream",
     "text": [
      " ."
     ]
    },
    {
     "name": "stdout",
     "output_type": "stream",
     "text": [
      " ."
     ]
    },
    {
     "name": "stdout",
     "output_type": "stream",
     "text": [
      " ."
     ]
    },
    {
     "name": "stdout",
     "output_type": "stream",
     "text": [
      " ."
     ]
    },
    {
     "name": "stdout",
     "output_type": "stream",
     "text": [
      " ."
     ]
    },
    {
     "name": "stdout",
     "output_type": "stream",
     "text": [
      " ."
     ]
    },
    {
     "name": "stdout",
     "output_type": "stream",
     "text": [
      " ."
     ]
    },
    {
     "name": "stdout",
     "output_type": "stream",
     "text": [
      " ."
     ]
    },
    {
     "name": "stdout",
     "output_type": "stream",
     "text": [
      " ."
     ]
    },
    {
     "name": "stdout",
     "output_type": "stream",
     "text": [
      " ."
     ]
    },
    {
     "name": "stdout",
     "output_type": "stream",
     "text": [
      " ."
     ]
    },
    {
     "name": "stdout",
     "output_type": "stream",
     "text": [
      " ."
     ]
    },
    {
     "name": "stdout",
     "output_type": "stream",
     "text": [
      " ."
     ]
    },
    {
     "name": "stdout",
     "output_type": "stream",
     "text": [
      " ."
     ]
    },
    {
     "name": "stdout",
     "output_type": "stream",
     "text": [
      " ."
     ]
    },
    {
     "name": "stdout",
     "output_type": "stream",
     "text": [
      " ."
     ]
    },
    {
     "name": "stdout",
     "output_type": "stream",
     "text": [
      " ."
     ]
    },
    {
     "name": "stdout",
     "output_type": "stream",
     "text": [
      " ."
     ]
    },
    {
     "name": "stdout",
     "output_type": "stream",
     "text": [
      " ."
     ]
    },
    {
     "name": "stdout",
     "output_type": "stream",
     "text": [
      " ."
     ]
    },
    {
     "name": "stdout",
     "output_type": "stream",
     "text": [
      " ."
     ]
    },
    {
     "name": "stdout",
     "output_type": "stream",
     "text": [
      " ."
     ]
    },
    {
     "name": "stdout",
     "output_type": "stream",
     "text": [
      " ."
     ]
    },
    {
     "name": "stdout",
     "output_type": "stream",
     "text": [
      " ."
     ]
    },
    {
     "name": "stdout",
     "output_type": "stream",
     "text": [
      " ."
     ]
    },
    {
     "name": "stdout",
     "output_type": "stream",
     "text": [
      " ."
     ]
    },
    {
     "name": "stdout",
     "output_type": "stream",
     "text": [
      " ."
     ]
    },
    {
     "name": "stdout",
     "output_type": "stream",
     "text": [
      " ."
     ]
    },
    {
     "name": "stdout",
     "output_type": "stream",
     "text": [
      " ."
     ]
    },
    {
     "name": "stdout",
     "output_type": "stream",
     "text": [
      " ."
     ]
    },
    {
     "name": "stdout",
     "output_type": "stream",
     "text": [
      " ."
     ]
    },
    {
     "name": "stdout",
     "output_type": "stream",
     "text": [
      " ."
     ]
    },
    {
     "name": "stdout",
     "output_type": "stream",
     "text": [
      " ."
     ]
    },
    {
     "name": "stdout",
     "output_type": "stream",
     "text": [
      " ."
     ]
    },
    {
     "name": "stdout",
     "output_type": "stream",
     "text": [
      " ."
     ]
    },
    {
     "name": "stdout",
     "output_type": "stream",
     "text": [
      " ."
     ]
    },
    {
     "name": "stdout",
     "output_type": "stream",
     "text": [
      " ."
     ]
    },
    {
     "name": "stdout",
     "output_type": "stream",
     "text": [
      " ."
     ]
    },
    {
     "name": "stdout",
     "output_type": "stream",
     "text": [
      " ."
     ]
    },
    {
     "name": "stdout",
     "output_type": "stream",
     "text": [
      " ."
     ]
    },
    {
     "name": "stdout",
     "output_type": "stream",
     "text": [
      " ."
     ]
    },
    {
     "name": "stdout",
     "output_type": "stream",
     "text": [
      " ."
     ]
    },
    {
     "name": "stdout",
     "output_type": "stream",
     "text": [
      " ."
     ]
    },
    {
     "name": "stdout",
     "output_type": "stream",
     "text": [
      " ."
     ]
    },
    {
     "name": "stdout",
     "output_type": "stream",
     "text": [
      " ."
     ]
    },
    {
     "name": "stdout",
     "output_type": "stream",
     "text": [
      " ."
     ]
    },
    {
     "name": "stdout",
     "output_type": "stream",
     "text": [
      " ."
     ]
    },
    {
     "name": "stdout",
     "output_type": "stream",
     "text": [
      " ."
     ]
    },
    {
     "name": "stdout",
     "output_type": "stream",
     "text": [
      " ."
     ]
    },
    {
     "name": "stdout",
     "output_type": "stream",
     "text": [
      " ."
     ]
    },
    {
     "name": "stdout",
     "output_type": "stream",
     "text": [
      " ."
     ]
    },
    {
     "name": "stdout",
     "output_type": "stream",
     "text": [
      " ."
     ]
    },
    {
     "name": "stdout",
     "output_type": "stream",
     "text": [
      " ."
     ]
    },
    {
     "name": "stdout",
     "output_type": "stream",
     "text": [
      " ."
     ]
    },
    {
     "name": "stdout",
     "output_type": "stream",
     "text": [
      " ."
     ]
    },
    {
     "name": "stdout",
     "output_type": "stream",
     "text": [
      " ."
     ]
    },
    {
     "name": "stdout",
     "output_type": "stream",
     "text": [
      " ."
     ]
    },
    {
     "name": "stdout",
     "output_type": "stream",
     "text": [
      " ."
     ]
    },
    {
     "name": "stdout",
     "output_type": "stream",
     "text": [
      " ."
     ]
    },
    {
     "name": "stdout",
     "output_type": "stream",
     "text": [
      " ."
     ]
    },
    {
     "name": "stdout",
     "output_type": "stream",
     "text": [
      " ."
     ]
    },
    {
     "name": "stdout",
     "output_type": "stream",
     "text": [
      " ."
     ]
    },
    {
     "name": "stdout",
     "output_type": "stream",
     "text": [
      " ."
     ]
    },
    {
     "name": "stdout",
     "output_type": "stream",
     "text": [
      " ."
     ]
    },
    {
     "name": "stdout",
     "output_type": "stream",
     "text": [
      " ."
     ]
    },
    {
     "name": "stdout",
     "output_type": "stream",
     "text": [
      " ."
     ]
    },
    {
     "name": "stdout",
     "output_type": "stream",
     "text": [
      " ."
     ]
    },
    {
     "name": "stdout",
     "output_type": "stream",
     "text": [
      " ."
     ]
    },
    {
     "name": "stdout",
     "output_type": "stream",
     "text": [
      " ."
     ]
    },
    {
     "name": "stdout",
     "output_type": "stream",
     "text": [
      " ."
     ]
    },
    {
     "name": "stdout",
     "output_type": "stream",
     "text": [
      " ."
     ]
    },
    {
     "name": "stdout",
     "output_type": "stream",
     "text": [
      " ."
     ]
    },
    {
     "name": "stdout",
     "output_type": "stream",
     "text": [
      " ."
     ]
    },
    {
     "name": "stdout",
     "output_type": "stream",
     "text": [
      " ."
     ]
    },
    {
     "name": "stdout",
     "output_type": "stream",
     "text": [
      " ."
     ]
    },
    {
     "name": "stdout",
     "output_type": "stream",
     "text": [
      " ."
     ]
    },
    {
     "name": "stdout",
     "output_type": "stream",
     "text": [
      " ."
     ]
    },
    {
     "name": "stdout",
     "output_type": "stream",
     "text": [
      " ."
     ]
    },
    {
     "name": "stdout",
     "output_type": "stream",
     "text": [
      " ."
     ]
    },
    {
     "name": "stdout",
     "output_type": "stream",
     "text": [
      " ."
     ]
    },
    {
     "name": "stdout",
     "output_type": "stream",
     "text": [
      " ."
     ]
    },
    {
     "name": "stdout",
     "output_type": "stream",
     "text": [
      " ."
     ]
    },
    {
     "name": "stdout",
     "output_type": "stream",
     "text": [
      " ."
     ]
    },
    {
     "name": "stdout",
     "output_type": "stream",
     "text": [
      " ."
     ]
    },
    {
     "name": "stdout",
     "output_type": "stream",
     "text": [
      " ."
     ]
    },
    {
     "name": "stdout",
     "output_type": "stream",
     "text": [
      " ."
     ]
    },
    {
     "name": "stdout",
     "output_type": "stream",
     "text": [
      " ."
     ]
    },
    {
     "name": "stdout",
     "output_type": "stream",
     "text": [
      " ."
     ]
    },
    {
     "name": "stdout",
     "output_type": "stream",
     "text": [
      " ."
     ]
    },
    {
     "name": "stdout",
     "output_type": "stream",
     "text": [
      " ."
     ]
    },
    {
     "name": "stdout",
     "output_type": "stream",
     "text": [
      " ."
     ]
    },
    {
     "name": "stdout",
     "output_type": "stream",
     "text": [
      " ."
     ]
    },
    {
     "name": "stdout",
     "output_type": "stream",
     "text": [
      " ."
     ]
    },
    {
     "name": "stdout",
     "output_type": "stream",
     "text": [
      " ."
     ]
    },
    {
     "name": "stdout",
     "output_type": "stream",
     "text": [
      " ."
     ]
    },
    {
     "name": "stdout",
     "output_type": "stream",
     "text": [
      " ."
     ]
    },
    {
     "name": "stdout",
     "output_type": "stream",
     "text": [
      " ."
     ]
    },
    {
     "name": "stdout",
     "output_type": "stream",
     "text": [
      " ."
     ]
    },
    {
     "name": "stdout",
     "output_type": "stream",
     "text": [
      " ."
     ]
    },
    {
     "name": "stdout",
     "output_type": "stream",
     "text": [
      " ."
     ]
    },
    {
     "name": "stdout",
     "output_type": "stream",
     "text": [
      " ."
     ]
    },
    {
     "name": "stdout",
     "output_type": "stream",
     "text": [
      " ."
     ]
    },
    {
     "name": "stdout",
     "output_type": "stream",
     "text": [
      " ."
     ]
    },
    {
     "name": "stdout",
     "output_type": "stream",
     "text": [
      " ."
     ]
    },
    {
     "name": "stdout",
     "output_type": "stream",
     "text": [
      " ."
     ]
    },
    {
     "name": "stdout",
     "output_type": "stream",
     "text": [
      " ."
     ]
    },
    {
     "name": "stdout",
     "output_type": "stream",
     "text": [
      " ."
     ]
    },
    {
     "name": "stdout",
     "output_type": "stream",
     "text": [
      " ."
     ]
    },
    {
     "name": "stdout",
     "output_type": "stream",
     "text": [
      " ."
     ]
    },
    {
     "name": "stdout",
     "output_type": "stream",
     "text": [
      " ."
     ]
    },
    {
     "name": "stdout",
     "output_type": "stream",
     "text": [
      " ."
     ]
    },
    {
     "name": "stdout",
     "output_type": "stream",
     "text": [
      " ."
     ]
    },
    {
     "name": "stdout",
     "output_type": "stream",
     "text": [
      " ."
     ]
    },
    {
     "name": "stdout",
     "output_type": "stream",
     "text": [
      " ."
     ]
    },
    {
     "name": "stdout",
     "output_type": "stream",
     "text": [
      " ."
     ]
    },
    {
     "name": "stdout",
     "output_type": "stream",
     "text": [
      " ."
     ]
    },
    {
     "name": "stdout",
     "output_type": "stream",
     "text": [
      " ."
     ]
    },
    {
     "name": "stdout",
     "output_type": "stream",
     "text": [
      " ."
     ]
    },
    {
     "name": "stdout",
     "output_type": "stream",
     "text": [
      " ."
     ]
    },
    {
     "name": "stdout",
     "output_type": "stream",
     "text": [
      " ."
     ]
    },
    {
     "name": "stdout",
     "output_type": "stream",
     "text": [
      " ."
     ]
    },
    {
     "name": "stdout",
     "output_type": "stream",
     "text": [
      " ."
     ]
    },
    {
     "name": "stdout",
     "output_type": "stream",
     "text": [
      " ."
     ]
    },
    {
     "name": "stdout",
     "output_type": "stream",
     "text": [
      " ."
     ]
    },
    {
     "name": "stdout",
     "output_type": "stream",
     "text": [
      " ."
     ]
    },
    {
     "name": "stdout",
     "output_type": "stream",
     "text": [
      " ."
     ]
    },
    {
     "name": "stdout",
     "output_type": "stream",
     "text": [
      " ."
     ]
    },
    {
     "name": "stdout",
     "output_type": "stream",
     "text": [
      " ."
     ]
    },
    {
     "name": "stdout",
     "output_type": "stream",
     "text": [
      " ."
     ]
    },
    {
     "name": "stdout",
     "output_type": "stream",
     "text": [
      " ."
     ]
    },
    {
     "name": "stdout",
     "output_type": "stream",
     "text": [
      " ."
     ]
    },
    {
     "name": "stdout",
     "output_type": "stream",
     "text": [
      " ."
     ]
    },
    {
     "name": "stdout",
     "output_type": "stream",
     "text": [
      " ."
     ]
    },
    {
     "name": "stdout",
     "output_type": "stream",
     "text": [
      " ."
     ]
    },
    {
     "name": "stdout",
     "output_type": "stream",
     "text": [
      " ."
     ]
    },
    {
     "name": "stdout",
     "output_type": "stream",
     "text": [
      " ."
     ]
    },
    {
     "name": "stdout",
     "output_type": "stream",
     "text": [
      " ."
     ]
    },
    {
     "name": "stdout",
     "output_type": "stream",
     "text": [
      " ."
     ]
    },
    {
     "name": "stdout",
     "output_type": "stream",
     "text": [
      " ."
     ]
    },
    {
     "name": "stdout",
     "output_type": "stream",
     "text": [
      " ."
     ]
    },
    {
     "name": "stdout",
     "output_type": "stream",
     "text": [
      " ."
     ]
    },
    {
     "name": "stdout",
     "output_type": "stream",
     "text": [
      " ."
     ]
    },
    {
     "name": "stdout",
     "output_type": "stream",
     "text": [
      " ."
     ]
    },
    {
     "name": "stdout",
     "output_type": "stream",
     "text": [
      " ."
     ]
    },
    {
     "name": "stdout",
     "output_type": "stream",
     "text": [
      " ."
     ]
    },
    {
     "name": "stdout",
     "output_type": "stream",
     "text": [
      " ."
     ]
    },
    {
     "name": "stdout",
     "output_type": "stream",
     "text": [
      " ."
     ]
    },
    {
     "name": "stdout",
     "output_type": "stream",
     "text": [
      " ."
     ]
    },
    {
     "name": "stdout",
     "output_type": "stream",
     "text": [
      " ."
     ]
    },
    {
     "name": "stdout",
     "output_type": "stream",
     "text": [
      " ."
     ]
    },
    {
     "name": "stdout",
     "output_type": "stream",
     "text": [
      " ."
     ]
    },
    {
     "name": "stdout",
     "output_type": "stream",
     "text": [
      " ."
     ]
    },
    {
     "name": "stdout",
     "output_type": "stream",
     "text": [
      " ."
     ]
    },
    {
     "name": "stdout",
     "output_type": "stream",
     "text": [
      " ."
     ]
    },
    {
     "name": "stdout",
     "output_type": "stream",
     "text": [
      " ."
     ]
    },
    {
     "name": "stdout",
     "output_type": "stream",
     "text": [
      " ."
     ]
    },
    {
     "name": "stdout",
     "output_type": "stream",
     "text": [
      " ."
     ]
    },
    {
     "name": "stdout",
     "output_type": "stream",
     "text": [
      " ."
     ]
    },
    {
     "name": "stdout",
     "output_type": "stream",
     "text": [
      " ."
     ]
    },
    {
     "name": "stdout",
     "output_type": "stream",
     "text": [
      " ."
     ]
    },
    {
     "name": "stdout",
     "output_type": "stream",
     "text": [
      " ."
     ]
    },
    {
     "name": "stdout",
     "output_type": "stream",
     "text": [
      " ."
     ]
    },
    {
     "name": "stdout",
     "output_type": "stream",
     "text": [
      " ."
     ]
    },
    {
     "name": "stdout",
     "output_type": "stream",
     "text": [
      " ."
     ]
    },
    {
     "name": "stdout",
     "output_type": "stream",
     "text": [
      " ."
     ]
    },
    {
     "name": "stdout",
     "output_type": "stream",
     "text": [
      " ."
     ]
    },
    {
     "name": "stdout",
     "output_type": "stream",
     "text": [
      " ."
     ]
    },
    {
     "name": "stdout",
     "output_type": "stream",
     "text": [
      " ."
     ]
    },
    {
     "name": "stdout",
     "output_type": "stream",
     "text": [
      " ."
     ]
    },
    {
     "name": "stdout",
     "output_type": "stream",
     "text": [
      " ."
     ]
    },
    {
     "name": "stdout",
     "output_type": "stream",
     "text": [
      " ."
     ]
    },
    {
     "name": "stdout",
     "output_type": "stream",
     "text": [
      " ."
     ]
    },
    {
     "name": "stdout",
     "output_type": "stream",
     "text": [
      " ."
     ]
    },
    {
     "name": "stdout",
     "output_type": "stream",
     "text": [
      " ."
     ]
    },
    {
     "name": "stdout",
     "output_type": "stream",
     "text": [
      " ."
     ]
    },
    {
     "name": "stdout",
     "output_type": "stream",
     "text": [
      " ."
     ]
    },
    {
     "name": "stdout",
     "output_type": "stream",
     "text": [
      " ."
     ]
    },
    {
     "name": "stdout",
     "output_type": "stream",
     "text": [
      " ."
     ]
    },
    {
     "name": "stdout",
     "output_type": "stream",
     "text": [
      " ."
     ]
    },
    {
     "name": "stdout",
     "output_type": "stream",
     "text": [
      " ."
     ]
    },
    {
     "name": "stdout",
     "output_type": "stream",
     "text": [
      " ."
     ]
    },
    {
     "name": "stdout",
     "output_type": "stream",
     "text": [
      " ."
     ]
    },
    {
     "name": "stdout",
     "output_type": "stream",
     "text": [
      " ."
     ]
    },
    {
     "name": "stdout",
     "output_type": "stream",
     "text": [
      " ."
     ]
    },
    {
     "name": "stdout",
     "output_type": "stream",
     "text": [
      " ."
     ]
    },
    {
     "name": "stdout",
     "output_type": "stream",
     "text": [
      " ."
     ]
    },
    {
     "name": "stdout",
     "output_type": "stream",
     "text": [
      " ."
     ]
    },
    {
     "name": "stdout",
     "output_type": "stream",
     "text": [
      " ."
     ]
    },
    {
     "name": "stdout",
     "output_type": "stream",
     "text": [
      " ."
     ]
    },
    {
     "name": "stdout",
     "output_type": "stream",
     "text": [
      " ."
     ]
    },
    {
     "name": "stdout",
     "output_type": "stream",
     "text": [
      " ."
     ]
    },
    {
     "name": "stdout",
     "output_type": "stream",
     "text": [
      " ."
     ]
    },
    {
     "name": "stdout",
     "output_type": "stream",
     "text": [
      " ."
     ]
    },
    {
     "name": "stdout",
     "output_type": "stream",
     "text": [
      " ."
     ]
    },
    {
     "name": "stdout",
     "output_type": "stream",
     "text": [
      " ."
     ]
    },
    {
     "name": "stdout",
     "output_type": "stream",
     "text": [
      " ."
     ]
    },
    {
     "name": "stdout",
     "output_type": "stream",
     "text": [
      " ."
     ]
    },
    {
     "name": "stdout",
     "output_type": "stream",
     "text": [
      " ."
     ]
    },
    {
     "name": "stdout",
     "output_type": "stream",
     "text": [
      " ."
     ]
    },
    {
     "name": "stdout",
     "output_type": "stream",
     "text": [
      " ."
     ]
    },
    {
     "name": "stdout",
     "output_type": "stream",
     "text": [
      " ."
     ]
    },
    {
     "name": "stdout",
     "output_type": "stream",
     "text": [
      " ."
     ]
    },
    {
     "name": "stdout",
     "output_type": "stream",
     "text": [
      " ."
     ]
    },
    {
     "name": "stdout",
     "output_type": "stream",
     "text": [
      " ."
     ]
    },
    {
     "name": "stdout",
     "output_type": "stream",
     "text": [
      " ."
     ]
    },
    {
     "name": "stdout",
     "output_type": "stream",
     "text": [
      " ."
     ]
    },
    {
     "name": "stdout",
     "output_type": "stream",
     "text": [
      " ."
     ]
    },
    {
     "name": "stdout",
     "output_type": "stream",
     "text": [
      " ."
     ]
    },
    {
     "name": "stdout",
     "output_type": "stream",
     "text": [
      " ."
     ]
    },
    {
     "name": "stdout",
     "output_type": "stream",
     "text": [
      " ."
     ]
    },
    {
     "name": "stdout",
     "output_type": "stream",
     "text": [
      " ."
     ]
    },
    {
     "name": "stdout",
     "output_type": "stream",
     "text": [
      " ."
     ]
    },
    {
     "name": "stdout",
     "output_type": "stream",
     "text": [
      " ."
     ]
    },
    {
     "name": "stdout",
     "output_type": "stream",
     "text": [
      " ."
     ]
    },
    {
     "name": "stdout",
     "output_type": "stream",
     "text": [
      " ."
     ]
    },
    {
     "name": "stdout",
     "output_type": "stream",
     "text": [
      " ."
     ]
    },
    {
     "name": "stdout",
     "output_type": "stream",
     "text": [
      " ."
     ]
    },
    {
     "name": "stdout",
     "output_type": "stream",
     "text": [
      " ."
     ]
    },
    {
     "name": "stdout",
     "output_type": "stream",
     "text": [
      " ."
     ]
    },
    {
     "name": "stdout",
     "output_type": "stream",
     "text": [
      " ."
     ]
    },
    {
     "name": "stdout",
     "output_type": "stream",
     "text": [
      " ."
     ]
    },
    {
     "name": "stdout",
     "output_type": "stream",
     "text": [
      " ."
     ]
    },
    {
     "name": "stdout",
     "output_type": "stream",
     "text": [
      " ."
     ]
    },
    {
     "name": "stdout",
     "output_type": "stream",
     "text": [
      " ."
     ]
    },
    {
     "name": "stdout",
     "output_type": "stream",
     "text": [
      " ."
     ]
    },
    {
     "name": "stdout",
     "output_type": "stream",
     "text": [
      " ."
     ]
    },
    {
     "name": "stdout",
     "output_type": "stream",
     "text": [
      " ."
     ]
    },
    {
     "name": "stdout",
     "output_type": "stream",
     "text": [
      " ."
     ]
    },
    {
     "name": "stdout",
     "output_type": "stream",
     "text": [
      " ."
     ]
    },
    {
     "name": "stdout",
     "output_type": "stream",
     "text": [
      " ."
     ]
    },
    {
     "name": "stdout",
     "output_type": "stream",
     "text": [
      " ."
     ]
    },
    {
     "name": "stdout",
     "output_type": "stream",
     "text": [
      " ."
     ]
    },
    {
     "name": "stdout",
     "output_type": "stream",
     "text": [
      " ."
     ]
    },
    {
     "name": "stdout",
     "output_type": "stream",
     "text": [
      " ."
     ]
    },
    {
     "name": "stdout",
     "output_type": "stream",
     "text": [
      " ."
     ]
    },
    {
     "name": "stdout",
     "output_type": "stream",
     "text": [
      " ."
     ]
    },
    {
     "name": "stdout",
     "output_type": "stream",
     "text": [
      " ."
     ]
    },
    {
     "name": "stdout",
     "output_type": "stream",
     "text": [
      " ."
     ]
    },
    {
     "name": "stdout",
     "output_type": "stream",
     "text": [
      " ."
     ]
    },
    {
     "name": "stdout",
     "output_type": "stream",
     "text": [
      " ."
     ]
    },
    {
     "name": "stdout",
     "output_type": "stream",
     "text": [
      " ."
     ]
    },
    {
     "name": "stdout",
     "output_type": "stream",
     "text": [
      " ."
     ]
    },
    {
     "name": "stdout",
     "output_type": "stream",
     "text": [
      " ."
     ]
    },
    {
     "name": "stdout",
     "output_type": "stream",
     "text": [
      " ."
     ]
    },
    {
     "name": "stdout",
     "output_type": "stream",
     "text": [
      " ."
     ]
    },
    {
     "name": "stdout",
     "output_type": "stream",
     "text": [
      " ."
     ]
    },
    {
     "name": "stdout",
     "output_type": "stream",
     "text": [
      " ."
     ]
    },
    {
     "name": "stdout",
     "output_type": "stream",
     "text": [
      " ."
     ]
    },
    {
     "name": "stdout",
     "output_type": "stream",
     "text": [
      " ."
     ]
    },
    {
     "name": "stdout",
     "output_type": "stream",
     "text": [
      " ."
     ]
    },
    {
     "name": "stdout",
     "output_type": "stream",
     "text": [
      " ."
     ]
    },
    {
     "name": "stdout",
     "output_type": "stream",
     "text": [
      " ."
     ]
    },
    {
     "name": "stdout",
     "output_type": "stream",
     "text": [
      " ."
     ]
    },
    {
     "name": "stdout",
     "output_type": "stream",
     "text": [
      " ."
     ]
    },
    {
     "name": "stdout",
     "output_type": "stream",
     "text": [
      " ."
     ]
    },
    {
     "name": "stdout",
     "output_type": "stream",
     "text": [
      " ."
     ]
    },
    {
     "name": "stdout",
     "output_type": "stream",
     "text": [
      " ."
     ]
    },
    {
     "name": "stdout",
     "output_type": "stream",
     "text": [
      " ."
     ]
    },
    {
     "name": "stdout",
     "output_type": "stream",
     "text": [
      " ."
     ]
    },
    {
     "name": "stdout",
     "output_type": "stream",
     "text": [
      " ."
     ]
    },
    {
     "name": "stdout",
     "output_type": "stream",
     "text": [
      " ."
     ]
    },
    {
     "name": "stdout",
     "output_type": "stream",
     "text": [
      " ."
     ]
    },
    {
     "name": "stdout",
     "output_type": "stream",
     "text": [
      " ."
     ]
    },
    {
     "name": "stdout",
     "output_type": "stream",
     "text": [
      " ."
     ]
    },
    {
     "name": "stdout",
     "output_type": "stream",
     "text": [
      " ."
     ]
    },
    {
     "name": "stdout",
     "output_type": "stream",
     "text": [
      " ."
     ]
    },
    {
     "name": "stdout",
     "output_type": "stream",
     "text": [
      " ."
     ]
    },
    {
     "name": "stdout",
     "output_type": "stream",
     "text": [
      " ."
     ]
    },
    {
     "name": "stdout",
     "output_type": "stream",
     "text": [
      " ."
     ]
    },
    {
     "name": "stdout",
     "output_type": "stream",
     "text": [
      " ."
     ]
    },
    {
     "name": "stdout",
     "output_type": "stream",
     "text": [
      " ."
     ]
    },
    {
     "name": "stdout",
     "output_type": "stream",
     "text": [
      " ."
     ]
    },
    {
     "name": "stdout",
     "output_type": "stream",
     "text": [
      " ."
     ]
    },
    {
     "name": "stdout",
     "output_type": "stream",
     "text": [
      " ."
     ]
    },
    {
     "name": "stdout",
     "output_type": "stream",
     "text": [
      " ."
     ]
    },
    {
     "name": "stdout",
     "output_type": "stream",
     "text": [
      " ."
     ]
    },
    {
     "name": "stdout",
     "output_type": "stream",
     "text": [
      " ."
     ]
    },
    {
     "name": "stdout",
     "output_type": "stream",
     "text": [
      " ."
     ]
    },
    {
     "name": "stdout",
     "output_type": "stream",
     "text": [
      " ."
     ]
    },
    {
     "name": "stdout",
     "output_type": "stream",
     "text": [
      " ."
     ]
    },
    {
     "name": "stdout",
     "output_type": "stream",
     "text": [
      " ."
     ]
    },
    {
     "name": "stdout",
     "output_type": "stream",
     "text": [
      " ."
     ]
    },
    {
     "name": "stdout",
     "output_type": "stream",
     "text": [
      " ."
     ]
    },
    {
     "name": "stdout",
     "output_type": "stream",
     "text": [
      " ."
     ]
    },
    {
     "name": "stdout",
     "output_type": "stream",
     "text": [
      " ."
     ]
    },
    {
     "name": "stdout",
     "output_type": "stream",
     "text": [
      " ."
     ]
    },
    {
     "name": "stdout",
     "output_type": "stream",
     "text": [
      " ."
     ]
    },
    {
     "name": "stdout",
     "output_type": "stream",
     "text": [
      " ."
     ]
    },
    {
     "name": "stdout",
     "output_type": "stream",
     "text": [
      " ."
     ]
    },
    {
     "name": "stdout",
     "output_type": "stream",
     "text": [
      " ."
     ]
    },
    {
     "name": "stdout",
     "output_type": "stream",
     "text": [
      " ."
     ]
    },
    {
     "name": "stdout",
     "output_type": "stream",
     "text": [
      " ."
     ]
    },
    {
     "name": "stdout",
     "output_type": "stream",
     "text": [
      " ."
     ]
    },
    {
     "name": "stdout",
     "output_type": "stream",
     "text": [
      " ."
     ]
    },
    {
     "name": "stdout",
     "output_type": "stream",
     "text": [
      " ."
     ]
    },
    {
     "name": "stdout",
     "output_type": "stream",
     "text": [
      " ."
     ]
    },
    {
     "name": "stdout",
     "output_type": "stream",
     "text": [
      " ."
     ]
    },
    {
     "name": "stdout",
     "output_type": "stream",
     "text": [
      " ."
     ]
    },
    {
     "name": "stdout",
     "output_type": "stream",
     "text": [
      " ."
     ]
    },
    {
     "name": "stdout",
     "output_type": "stream",
     "text": [
      " ."
     ]
    },
    {
     "name": "stdout",
     "output_type": "stream",
     "text": [
      " ."
     ]
    },
    {
     "name": "stdout",
     "output_type": "stream",
     "text": [
      " ."
     ]
    },
    {
     "name": "stdout",
     "output_type": "stream",
     "text": [
      " ."
     ]
    },
    {
     "name": "stdout",
     "output_type": "stream",
     "text": [
      " ."
     ]
    },
    {
     "name": "stdout",
     "output_type": "stream",
     "text": [
      " ."
     ]
    },
    {
     "name": "stdout",
     "output_type": "stream",
     "text": [
      " ."
     ]
    },
    {
     "name": "stdout",
     "output_type": "stream",
     "text": [
      " ."
     ]
    },
    {
     "name": "stdout",
     "output_type": "stream",
     "text": [
      " ."
     ]
    },
    {
     "name": "stdout",
     "output_type": "stream",
     "text": [
      " ."
     ]
    },
    {
     "name": "stdout",
     "output_type": "stream",
     "text": [
      " ."
     ]
    },
    {
     "name": "stdout",
     "output_type": "stream",
     "text": [
      " ."
     ]
    },
    {
     "name": "stdout",
     "output_type": "stream",
     "text": [
      " ."
     ]
    },
    {
     "name": "stdout",
     "output_type": "stream",
     "text": [
      " ."
     ]
    },
    {
     "name": "stdout",
     "output_type": "stream",
     "text": [
      " ."
     ]
    },
    {
     "name": "stdout",
     "output_type": "stream",
     "text": [
      " ."
     ]
    },
    {
     "name": "stdout",
     "output_type": "stream",
     "text": [
      " ."
     ]
    },
    {
     "name": "stdout",
     "output_type": "stream",
     "text": [
      " ."
     ]
    },
    {
     "name": "stdout",
     "output_type": "stream",
     "text": [
      " ."
     ]
    },
    {
     "name": "stdout",
     "output_type": "stream",
     "text": [
      " ."
     ]
    },
    {
     "name": "stdout",
     "output_type": "stream",
     "text": [
      " ."
     ]
    },
    {
     "name": "stdout",
     "output_type": "stream",
     "text": [
      " ."
     ]
    },
    {
     "name": "stdout",
     "output_type": "stream",
     "text": [
      " ."
     ]
    },
    {
     "name": "stdout",
     "output_type": "stream",
     "text": [
      " ."
     ]
    },
    {
     "name": "stdout",
     "output_type": "stream",
     "text": [
      " ."
     ]
    },
    {
     "name": "stdout",
     "output_type": "stream",
     "text": [
      " ."
     ]
    },
    {
     "name": "stdout",
     "output_type": "stream",
     "text": [
      " ."
     ]
    },
    {
     "name": "stdout",
     "output_type": "stream",
     "text": [
      " ."
     ]
    },
    {
     "name": "stdout",
     "output_type": "stream",
     "text": [
      " ."
     ]
    },
    {
     "name": "stdout",
     "output_type": "stream",
     "text": [
      " ."
     ]
    },
    {
     "name": "stdout",
     "output_type": "stream",
     "text": [
      " ."
     ]
    },
    {
     "name": "stdout",
     "output_type": "stream",
     "text": [
      " ."
     ]
    },
    {
     "name": "stdout",
     "output_type": "stream",
     "text": [
      " ."
     ]
    },
    {
     "name": "stdout",
     "output_type": "stream",
     "text": [
      " ."
     ]
    },
    {
     "name": "stdout",
     "output_type": "stream",
     "text": [
      " ."
     ]
    },
    {
     "name": "stdout",
     "output_type": "stream",
     "text": [
      " ."
     ]
    },
    {
     "name": "stdout",
     "output_type": "stream",
     "text": [
      " ."
     ]
    },
    {
     "name": "stdout",
     "output_type": "stream",
     "text": [
      " ."
     ]
    },
    {
     "name": "stdout",
     "output_type": "stream",
     "text": [
      " ."
     ]
    },
    {
     "name": "stdout",
     "output_type": "stream",
     "text": [
      " ."
     ]
    },
    {
     "name": "stdout",
     "output_type": "stream",
     "text": [
      " ."
     ]
    },
    {
     "name": "stdout",
     "output_type": "stream",
     "text": [
      " ."
     ]
    },
    {
     "name": "stdout",
     "output_type": "stream",
     "text": [
      " ."
     ]
    },
    {
     "name": "stdout",
     "output_type": "stream",
     "text": [
      " ."
     ]
    },
    {
     "name": "stdout",
     "output_type": "stream",
     "text": [
      " ."
     ]
    },
    {
     "name": "stdout",
     "output_type": "stream",
     "text": [
      " ."
     ]
    },
    {
     "name": "stdout",
     "output_type": "stream",
     "text": [
      " ."
     ]
    },
    {
     "name": "stdout",
     "output_type": "stream",
     "text": [
      " ."
     ]
    },
    {
     "name": "stdout",
     "output_type": "stream",
     "text": [
      " ."
     ]
    },
    {
     "name": "stdout",
     "output_type": "stream",
     "text": [
      " ."
     ]
    },
    {
     "name": "stdout",
     "output_type": "stream",
     "text": [
      " ."
     ]
    },
    {
     "name": "stdout",
     "output_type": "stream",
     "text": [
      " ."
     ]
    },
    {
     "name": "stdout",
     "output_type": "stream",
     "text": [
      " ."
     ]
    },
    {
     "name": "stdout",
     "output_type": "stream",
     "text": [
      " ."
     ]
    },
    {
     "name": "stdout",
     "output_type": "stream",
     "text": [
      " ."
     ]
    },
    {
     "name": "stdout",
     "output_type": "stream",
     "text": [
      " ."
     ]
    },
    {
     "name": "stdout",
     "output_type": "stream",
     "text": [
      " ."
     ]
    },
    {
     "name": "stdout",
     "output_type": "stream",
     "text": [
      " ."
     ]
    },
    {
     "name": "stdout",
     "output_type": "stream",
     "text": [
      " ."
     ]
    },
    {
     "name": "stdout",
     "output_type": "stream",
     "text": [
      " ."
     ]
    },
    {
     "name": "stdout",
     "output_type": "stream",
     "text": [
      " ."
     ]
    },
    {
     "name": "stdout",
     "output_type": "stream",
     "text": [
      " ."
     ]
    },
    {
     "name": "stdout",
     "output_type": "stream",
     "text": [
      " ."
     ]
    },
    {
     "name": "stdout",
     "output_type": "stream",
     "text": [
      " ."
     ]
    },
    {
     "name": "stdout",
     "output_type": "stream",
     "text": [
      " ."
     ]
    },
    {
     "name": "stdout",
     "output_type": "stream",
     "text": [
      " ."
     ]
    },
    {
     "name": "stdout",
     "output_type": "stream",
     "text": [
      " ."
     ]
    },
    {
     "name": "stdout",
     "output_type": "stream",
     "text": [
      " ."
     ]
    },
    {
     "name": "stdout",
     "output_type": "stream",
     "text": [
      " . . . ."
     ]
    },
    {
     "name": "stdout",
     "output_type": "stream",
     "text": [
      " . . . ."
     ]
    },
    {
     "name": "stdout",
     "output_type": "stream",
     "text": [
      " . . . ."
     ]
    },
    {
     "name": "stdout",
     "output_type": "stream",
     "text": [
      " . . . ."
     ]
    },
    {
     "name": "stdout",
     "output_type": "stream",
     "text": [
      " . . . ."
     ]
    },
    {
     "name": "stdout",
     "output_type": "stream",
     "text": [
      " . . . ."
     ]
    },
    {
     "name": "stdout",
     "output_type": "stream",
     "text": [
      " . . . ."
     ]
    },
    {
     "name": "stdout",
     "output_type": "stream",
     "text": [
      " . . . ."
     ]
    },
    {
     "name": "stdout",
     "output_type": "stream",
     "text": [
      " . . . ."
     ]
    },
    {
     "name": "stdout",
     "output_type": "stream",
     "text": [
      " . ."
     ]
    },
    {
     "name": "stdout",
     "output_type": "stream",
     "text": [
      " . . . ."
     ]
    },
    {
     "name": "stdout",
     "output_type": "stream",
     "text": [
      " . . . ."
     ]
    },
    {
     "name": "stdout",
     "output_type": "stream",
     "text": [
      " . . . ."
     ]
    },
    {
     "name": "stdout",
     "output_type": "stream",
     "text": [
      " . . . ."
     ]
    },
    {
     "name": "stdout",
     "output_type": "stream",
     "text": [
      " . . . ."
     ]
    },
    {
     "name": "stdout",
     "output_type": "stream",
     "text": [
      " . . . ."
     ]
    },
    {
     "name": "stdout",
     "output_type": "stream",
     "text": [
      " . . . ."
     ]
    },
    {
     "name": "stdout",
     "output_type": "stream",
     "text": [
      " . . . ."
     ]
    },
    {
     "name": "stdout",
     "output_type": "stream",
     "text": [
      " . . . ."
     ]
    },
    {
     "name": "stdout",
     "output_type": "stream",
     "text": [
      " . . . ."
     ]
    },
    {
     "name": "stdout",
     "output_type": "stream",
     "text": [
      " . . . ."
     ]
    },
    {
     "name": "stdout",
     "output_type": "stream",
     "text": [
      " . . . "
     ]
    },
    {
     "name": "stdout",
     "output_type": "stream",
     "text": [
      ". . . ."
     ]
    },
    {
     "name": "stdout",
     "output_type": "stream",
     "text": [
      " . . . ."
     ]
    },
    {
     "name": "stdout",
     "output_type": "stream",
     "text": [
      " . . . ."
     ]
    },
    {
     "name": "stdout",
     "output_type": "stream",
     "text": [
      " . . . ."
     ]
    },
    {
     "name": "stdout",
     "output_type": "stream",
     "text": [
      " . . ."
     ]
    },
    {
     "name": "stdout",
     "output_type": "stream",
     "text": [
      " . . ."
     ]
    },
    {
     "name": "stdout",
     "output_type": "stream",
     "text": [
      " . . . ."
     ]
    },
    {
     "name": "stdout",
     "output_type": "stream",
     "text": [
      " . . . ."
     ]
    },
    {
     "name": "stdout",
     "output_type": "stream",
     "text": [
      " . . . ."
     ]
    },
    {
     "name": "stdout",
     "output_type": "stream",
     "text": [
      " . . . ."
     ]
    },
    {
     "name": "stdout",
     "output_type": "stream",
     "text": [
      " . . . ."
     ]
    },
    {
     "name": "stdout",
     "output_type": "stream",
     "text": [
      " . . ."
     ]
    },
    {
     "name": "stdout",
     "output_type": "stream",
     "text": [
      " . . . ."
     ]
    },
    {
     "name": "stdout",
     "output_type": "stream",
     "text": [
      " . ."
     ]
    },
    {
     "name": "stdout",
     "output_type": "stream",
     "text": [
      " . . . . ."
     ]
    },
    {
     "name": "stdout",
     "output_type": "stream",
     "text": [
      " . . . ."
     ]
    },
    {
     "name": "stdout",
     "output_type": "stream",
     "text": [
      " . . . ."
     ]
    },
    {
     "name": "stdout",
     "output_type": "stream",
     "text": [
      " . . . ."
     ]
    },
    {
     "name": "stdout",
     "output_type": "stream",
     "text": [
      " . . . . "
     ]
    },
    {
     "name": "stdout",
     "output_type": "stream",
     "text": [
      ". . . . ."
     ]
    },
    {
     "name": "stdout",
     "output_type": "stream",
     "text": [
      " . . . . ."
     ]
    },
    {
     "name": "stdout",
     "output_type": "stream",
     "text": [
      " . . . . ."
     ]
    },
    {
     "name": "stdout",
     "output_type": "stream",
     "text": [
      " . . . ."
     ]
    },
    {
     "name": "stdout",
     "output_type": "stream",
     "text": [
      " . . . ."
     ]
    },
    {
     "name": "stdout",
     "output_type": "stream",
     "text": [
      " . . . . ."
     ]
    },
    {
     "name": "stdout",
     "output_type": "stream",
     "text": [
      " . . . . ."
     ]
    },
    {
     "name": "stdout",
     "output_type": "stream",
     "text": [
      " . . . . ."
     ]
    },
    {
     "name": "stdout",
     "output_type": "stream",
     "text": [
      " . . . . ."
     ]
    },
    {
     "name": "stdout",
     "output_type": "stream",
     "text": [
      " . . . . ."
     ]
    },
    {
     "name": "stdout",
     "output_type": "stream",
     "text": [
      " . . . . ."
     ]
    },
    {
     "name": "stdout",
     "output_type": "stream",
     "text": [
      " . . . . ."
     ]
    },
    {
     "name": "stdout",
     "output_type": "stream",
     "text": [
      " . . . . ."
     ]
    },
    {
     "name": "stdout",
     "output_type": "stream",
     "text": [
      " . . . . ."
     ]
    },
    {
     "name": "stdout",
     "output_type": "stream",
     "text": [
      " . . . . ."
     ]
    },
    {
     "name": "stdout",
     "output_type": "stream",
     "text": [
      " . . . . ."
     ]
    },
    {
     "name": "stdout",
     "output_type": "stream",
     "text": [
      " . . . . ."
     ]
    },
    {
     "name": "stdout",
     "output_type": "stream",
     "text": [
      " . . . . ."
     ]
    },
    {
     "name": "stdout",
     "output_type": "stream",
     "text": [
      " . . . . ."
     ]
    },
    {
     "name": "stdout",
     "output_type": "stream",
     "text": [
      " . . . . ."
     ]
    },
    {
     "name": "stdout",
     "output_type": "stream",
     "text": [
      " . . . . ."
     ]
    },
    {
     "name": "stdout",
     "output_type": "stream",
     "text": [
      " . . . . ."
     ]
    },
    {
     "name": "stdout",
     "output_type": "stream",
     "text": [
      " . . . . ."
     ]
    },
    {
     "name": "stdout",
     "output_type": "stream",
     "text": [
      " . . ."
     ]
    },
    {
     "name": "stdout",
     "output_type": "stream",
     "text": [
      " . . . . ."
     ]
    },
    {
     "name": "stdout",
     "output_type": "stream",
     "text": [
      " . . . . ."
     ]
    },
    {
     "name": "stdout",
     "output_type": "stream",
     "text": [
      " . . . . ."
     ]
    },
    {
     "name": "stdout",
     "output_type": "stream",
     "text": [
      " . . . . ."
     ]
    },
    {
     "name": "stdout",
     "output_type": "stream",
     "text": [
      " . . . . ."
     ]
    },
    {
     "name": "stdout",
     "output_type": "stream",
     "text": [
      " ."
     ]
    },
    {
     "name": "stdout",
     "output_type": "stream",
     "text": [
      " . . . . ."
     ]
    },
    {
     "name": "stdout",
     "output_type": "stream",
     "text": [
      " . . . . ."
     ]
    },
    {
     "name": "stdout",
     "output_type": "stream",
     "text": [
      " . . . . ."
     ]
    },
    {
     "name": "stdout",
     "output_type": "stream",
     "text": [
      " . . . . ."
     ]
    },
    {
     "name": "stdout",
     "output_type": "stream",
     "text": [
      " . . . . ."
     ]
    },
    {
     "name": "stdout",
     "output_type": "stream",
     "text": [
      " . . . . ."
     ]
    },
    {
     "name": "stdout",
     "output_type": "stream",
     "text": [
      " . . . . ."
     ]
    },
    {
     "name": "stdout",
     "output_type": "stream",
     "text": [
      " . . . . ."
     ]
    },
    {
     "name": "stdout",
     "output_type": "stream",
     "text": [
      " . . . ."
     ]
    },
    {
     "name": "stdout",
     "output_type": "stream",
     "text": [
      " . . . ."
     ]
    },
    {
     "name": "stdout",
     "output_type": "stream",
     "text": [
      " . . . . ."
     ]
    },
    {
     "name": "stdout",
     "output_type": "stream",
     "text": [
      " . . . . ."
     ]
    },
    {
     "name": "stdout",
     "output_type": "stream",
     "text": [
      " . . . . ."
     ]
    },
    {
     "name": "stdout",
     "output_type": "stream",
     "text": [
      " . . . . ."
     ]
    },
    {
     "name": "stdout",
     "output_type": "stream",
     "text": [
      " . . . ."
     ]
    },
    {
     "name": "stdout",
     "output_type": "stream",
     "text": [
      " . . . . ."
     ]
    },
    {
     "name": "stdout",
     "output_type": "stream",
     "text": [
      " . . . . ."
     ]
    },
    {
     "name": "stdout",
     "output_type": "stream",
     "text": [
      " . . . . ."
     ]
    },
    {
     "name": "stdout",
     "output_type": "stream",
     "text": [
      " . . . . . ."
     ]
    },
    {
     "name": "stdout",
     "output_type": "stream",
     "text": [
      " . . . . . ."
     ]
    },
    {
     "name": "stdout",
     "output_type": "stream",
     "text": [
      " . . . . ."
     ]
    },
    {
     "name": "stdout",
     "output_type": "stream",
     "text": [
      " . . . . ."
     ]
    },
    {
     "name": "stdout",
     "output_type": "stream",
     "text": [
      " . . . . ."
     ]
    },
    {
     "name": "stdout",
     "output_type": "stream",
     "text": [
      " . . . . ."
     ]
    },
    {
     "name": "stdout",
     "output_type": "stream",
     "text": [
      " . . . . ."
     ]
    },
    {
     "name": "stdout",
     "output_type": "stream",
     "text": [
      " . . . . ."
     ]
    },
    {
     "name": "stdout",
     "output_type": "stream",
     "text": [
      " . . . . ."
     ]
    },
    {
     "name": "stdout",
     "output_type": "stream",
     "text": [
      " . . . . ."
     ]
    },
    {
     "name": "stdout",
     "output_type": "stream",
     "text": [
      " . . . . ."
     ]
    },
    {
     "name": "stdout",
     "output_type": "stream",
     "text": [
      " . . . . ."
     ]
    },
    {
     "name": "stdout",
     "output_type": "stream",
     "text": [
      " . . . . ."
     ]
    },
    {
     "name": "stdout",
     "output_type": "stream",
     "text": [
      " . . . . ."
     ]
    },
    {
     "name": "stdout",
     "output_type": "stream",
     "text": [
      " . . . . ."
     ]
    },
    {
     "name": "stdout",
     "output_type": "stream",
     "text": [
      " . . . . ."
     ]
    },
    {
     "name": "stdout",
     "output_type": "stream",
     "text": [
      " . . . . ."
     ]
    },
    {
     "name": "stdout",
     "output_type": "stream",
     "text": [
      " . . . . ."
     ]
    },
    {
     "name": "stdout",
     "output_type": "stream",
     "text": [
      " . . . . ."
     ]
    },
    {
     "name": "stdout",
     "output_type": "stream",
     "text": [
      " . . . . ."
     ]
    },
    {
     "name": "stdout",
     "output_type": "stream",
     "text": [
      " . . . . ."
     ]
    },
    {
     "name": "stdout",
     "output_type": "stream",
     "text": [
      " . . . . ."
     ]
    },
    {
     "name": "stdout",
     "output_type": "stream",
     "text": [
      " . . . . ."
     ]
    },
    {
     "name": "stdout",
     "output_type": "stream",
     "text": [
      " . . . . ."
     ]
    },
    {
     "name": "stdout",
     "output_type": "stream",
     "text": [
      " . . . . ."
     ]
    },
    {
     "name": "stdout",
     "output_type": "stream",
     "text": [
      " . . . . ."
     ]
    },
    {
     "name": "stdout",
     "output_type": "stream",
     "text": [
      " . . . . ."
     ]
    },
    {
     "name": "stdout",
     "output_type": "stream",
     "text": [
      " . . . . ."
     ]
    },
    {
     "name": "stdout",
     "output_type": "stream",
     "text": [
      " . . . . ."
     ]
    },
    {
     "name": "stdout",
     "output_type": "stream",
     "text": [
      " . . . . ."
     ]
    },
    {
     "name": "stdout",
     "output_type": "stream",
     "text": [
      " . . . . ."
     ]
    },
    {
     "name": "stdout",
     "output_type": "stream",
     "text": [
      " . . . . ."
     ]
    },
    {
     "name": "stdout",
     "output_type": "stream",
     "text": [
      " . . . . ."
     ]
    },
    {
     "name": "stdout",
     "output_type": "stream",
     "text": [
      " .\n"
     ]
    }
   ],
   "source": [
    "import copy\n",
    "import warnings\n",
    "warnings.filterwarnings('ignore')\n",
    "baseline = []\n",
    "# Baseline \n",
    "for e in experimentObjects:\n",
    "    if e.flow == RANDOM_FOREST_FLOW:\n",
    "        start = time.time()\n",
    "        params = e.extractParams()\n",
    "        params['randomforestclassifier__warm_start'] = False\n",
    "        quality = objective(pipeline, params)\n",
    "        end = time.time()\n",
    "        time_to_converge_baseline = end - start\n",
    "        baseline.append(time_to_converge_baseline)\n",
    "    \n",
    "# Optimized\n",
    "# reinitialize the pipeline (model parameters)\n",
    "optimized = []\n",
    "for up in unique_pipelines.itervalues():\n",
    "        pipeline = flows.flow_to_sklearn(flow)\n",
    "        best_pipeline = copy.deepcopy(pipeline)\n",
    "        best_quality = 0.0\n",
    "        for e in up:\n",
    "            if e.flow == RANDOM_FOREST_FLOW:\n",
    "                start = time.time()\n",
    "                params = e.extractParams()\n",
    "                params['randomforestclassifier__warm_start'] = True\n",
    "                # warm start the model to the best existing model\n",
    "                pipeline = copy.deepcopy(best_pipeline)\n",
    "                quality = objective(pipeline,params)\n",
    "                end = time.time()\n",
    "                time_to_converge = end - start\n",
    "                optimized.append(time_to_converge)\n",
    "                # if the quality of the new model is better existing best model\n",
    "                # replace the best model with the existing model\n",
    "                if quality > best_quality:\n",
    "                    best_quality = quality\n",
    "                    best_pipeline = copy.deepcopy(pipeline)\n"
   ]
  },
  {
   "cell_type": "code",
   "execution_count": 30,
   "metadata": {},
   "outputs": [
    {
     "data": {
      "image/png": "[encoded data removed]",
      "text/plain": [
       "<matplotlib.figure.Figure at 0x1142d1b50>"
      ]
     },
     "metadata": {},
     "output_type": "display_data"
    }
   ],
   "source": [
    "result = pd.DataFrame.from_dict({'method': ['warmstart', 'baseline'], 'time': [sum(optimized), sum(baseline)]})\n",
    "ax = sns.barplot(x='method', y='time', data=result)\n",
    "ax.set_ylabel('Time (s)')\n",
    "ax.set_xlabel('')\n",
    "ax.tick_params(labelsize=22)\n",
    "# ax.set_title('Pipeline 8568 (Decision Tree), \\nEvery Configuration (555 execution)')\n",
    "plt.savefig('figures/paper/warmstarting-rf-8568-time.eps', format='eps', dpi=1000, bbox_inches='tight')\n",
    "\n"
   ]
  }
 ],
 "metadata": {
  "kernelspec": {
   "display_name": "Python 2",
   "language": "python",
   "name": "python2"
  },
  "language_info": {
   "codemirror_mode": {
    "name": "ipython",
    "version": 2
   },
   "file_extension": ".py",
   "mimetype": "text/x-python",
   "name": "python",
   "nbconvert_exporter": "python",
   "pygments_lexer": "ipython2",
   "version": "2.7.6"
  }
 },
 "nbformat": 4,
 "nbformat_minor": 0
}
