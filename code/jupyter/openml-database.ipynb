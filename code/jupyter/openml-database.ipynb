{
 "cells": [
  {
   "cell_type": "code",
   "execution_count": 1,
   "metadata": {},
   "outputs": [],
   "source": [
    "from openml import datasets, tasks, runs, flows, setups, config\n",
    "import numpy as np\n",
    "import pandas as pd\n",
    "import os\n",
    "import matplotlib.pyplot as plt\n",
    "import seaborn as sns\n",
    "import sys\n",
    "\n",
    "config.apikey = '8e2079508005379adb9a60798696134e'\n",
    "config.server = 'https://www.openml.org/api/v1'\n",
    "config.set_cache_directory(os.path.expanduser('~/openml-cache'))"
   ]
  },
  {
   "cell_type": "code",
   "execution_count": 2,
   "metadata": {},
   "outputs": [],
   "source": [
    "# select and filter flows made by scikit learn\n",
    "flowsJson = flows.list_flows()\n",
    "flowList = pd.DataFrame.from_dict(flowsJson, orient='index')[['id','name']]\n",
    "pipelines = flowList.loc[flowList.name.str.startswith('sklearn.pipeline')]"
   ]
  },
  {
   "cell_type": "code",
   "execution_count": 3,
   "metadata": {},
   "outputs": [],
   "source": [
    "# parse pipelines and find valid pipelines \n",
    "pipelines = pipelines.assign(parsed = pipelines.name.map(lambda x: x[x.find('(') + 1:x.find(')') + 1]).map(lambda s : s.split(',')))\n",
    "pipelines = pipelines.assign(p_length = pipelines.parsed.map(lambda p: len(p)))\n",
    "pipelines = pipelines.query('p_length > 1')\n",
    "pipelines.drop(['name'], axis = 1, inplace=True)"
   ]
  },
  {
   "cell_type": "code",
   "execution_count": 4,
   "metadata": {},
   "outputs": [],
   "source": [
    "# remove step names and extra punctuations\n",
    "pipelines.parsed = pipelines.parsed.map(lambda pi : map(lambda p: p[p.find('=') + 1 :], pi))\n",
    "pipelines.parsed = pipelines.parsed.map(lambda pi : map(lambda p: p.strip('()'), pi))\n",
    "flow_ids = pipelines.id"
   ]
  },
  {
   "cell_type": "code",
   "execution_count": 5,
   "metadata": {},
   "outputs": [],
   "source": [
    "def appendRun(df, nextBatch):\n",
    "    nb = pd.DataFrame.from_dict(nextBatch, orient='index')\n",
    "    return (pd.concat([df,nb]))"
   ]
  },
  {
   "cell_type": "code",
   "execution_count": 6,
   "metadata": {},
   "outputs": [],
   "source": [
    "TRAINING_RUNS_LOC = '../../data/training-runs.csv'\n",
    "def readOrDownloadRuns():\n",
    "    if (os.path.exists(TRAINING_RUNS_LOC)):\n",
    "        trainingRuns = pd.read_csv(TRAINING_RUNS_LOC)\n",
    "        return (trainingRuns)\n",
    "    else:\n",
    "        size = 10000\n",
    "        offset = 0\n",
    "        rl = runs.list_runs(flow=flow_ids, size = size, offset = offset)\n",
    "        experiments = pd.DataFrame.from_dict(rl, orient='index')\n",
    "        try:\n",
    "            while(0 < 1):\n",
    "                offset = offset + size\n",
    "                rl = runs.list_runs(flow=flow_ids, size = size, offset = offset)\n",
    "                experiments = appendRun(experiments, rl)\n",
    "        except Exception:\n",
    "            print('finished reading')\n",
    "        trainingRuns = experiments.groupby(['setup_id', 'flow_id','task_id']).size().reset_index(name='counts')\n",
    "        trainingRuns.to_csv(TRAINING_RUNS_LOC, index=False)\n",
    "        return (trainingRuns)\n",
    "\n",
    "trainingRuns = readOrDownloadRuns()\n"
   ]
  },
  {
   "cell_type": "code",
   "execution_count": 81,
   "metadata": {},
   "outputs": [
    {
     "data": {
      "text/html": [
       "<div>\n",
       "<style scoped>\n",
       "    .dataframe tbody tr th:only-of-type {\n",
       "        vertical-align: middle;\n",
       "    }\n",
       "\n",
       "    .dataframe tbody tr th {\n",
       "        vertical-align: top;\n",
       "    }\n",
       "\n",
       "    .dataframe thead th {\n",
       "        text-align: right;\n",
       "    }\n",
       "</style>\n",
       "<table border=\"1\" class=\"dataframe\">\n",
       "  <thead>\n",
       "    <tr style=\"text-align: right;\">\n",
       "      <th></th>\n",
       "      <th>setup_id</th>\n",
       "      <th>flow_id</th>\n",
       "      <th>task_id</th>\n",
       "      <th>counts</th>\n",
       "    </tr>\n",
       "  </thead>\n",
       "  <tbody>\n",
       "    <tr>\n",
       "      <th>0</th>\n",
       "      <td>29246</td>\n",
       "      <td>5591</td>\n",
       "      <td>59</td>\n",
       "      <td>23</td>\n",
       "    </tr>\n",
       "    <tr>\n",
       "      <th>1</th>\n",
       "      <td>29288</td>\n",
       "      <td>5653</td>\n",
       "      <td>145677</td>\n",
       "      <td>1</td>\n",
       "    </tr>\n",
       "    <tr>\n",
       "      <th>2</th>\n",
       "      <td>29293</td>\n",
       "      <td>5662</td>\n",
       "      <td>145677</td>\n",
       "      <td>1</td>\n",
       "    </tr>\n",
       "    <tr>\n",
       "      <th>3</th>\n",
       "      <td>29294</td>\n",
       "      <td>5663</td>\n",
       "      <td>145677</td>\n",
       "      <td>1</td>\n",
       "    </tr>\n",
       "    <tr>\n",
       "      <th>4</th>\n",
       "      <td>30231</td>\n",
       "      <td>5743</td>\n",
       "      <td>145677</td>\n",
       "      <td>1</td>\n",
       "    </tr>\n",
       "  </tbody>\n",
       "</table>\n",
       "</div>"
      ],
      "text/plain": [
       "   setup_id  flow_id  task_id  counts\n",
       "0     29246     5591       59      23\n",
       "1     29288     5653   145677       1\n",
       "2     29293     5662   145677       1\n",
       "3     29294     5663   145677       1\n",
       "4     30231     5743   145677       1"
      ]
     },
     "execution_count": 81,
     "metadata": {},
     "output_type": "execute_result"
    }
   ],
   "source": [
    "trainingRuns.head()"
   ]
  },
  {
   "cell_type": "code",
   "execution_count": 7,
   "metadata": {},
   "outputs": [],
   "source": [
    "taskIds = trainingRuns.task_id.unique()\n",
    "flowIds = trainingRuns.flow_id.unique()\n",
    "setupIds = trainingRuns.setup_id.unique()"
   ]
  },
  {
   "cell_type": "code",
   "execution_count": 8,
   "metadata": {},
   "outputs": [],
   "source": [
    "pipelines = pipelines.reset_index(drop=True)"
   ]
  },
  {
   "cell_type": "code",
   "execution_count": 68,
   "metadata": {},
   "outputs": [],
   "source": [
    "# Extract all different transformations from the trainingRuns table\n",
    "# investiage training runs and the pipeline table do not have matching flow (pipeline) ids\n",
    "# even though the training run is queried from pipeline id column\n",
    "currentPipelines = pipelines[pipelines.id.isin(flowIds)].reset_index(drop=True)\n",
    "allTrasformations = []\n",
    "currentPipelines.parsed.map(lambda ts : [allTrasformations.append(a) for a in ts])\n",
    "transformations = pd.DataFrame(allTrasformations, columns=['full_name'])\n",
    "Transformation = pd.DataFrame({'id': transformations.full_name.unique(), 'full_name': transformations.full_name.unique()}, columns = ['id','full_name'])"
   ]
  },
  {
   "cell_type": "code",
   "execution_count": 92,
   "metadata": {},
   "outputs": [
    {
     "data": {
      "text/html": [
       "<div>\n",
       "<style scoped>\n",
       "    .dataframe tbody tr th:only-of-type {\n",
       "        vertical-align: middle;\n",
       "    }\n",
       "\n",
       "    .dataframe tbody tr th {\n",
       "        vertical-align: top;\n",
       "    }\n",
       "\n",
       "    .dataframe thead th {\n",
       "        text-align: right;\n",
       "    }\n",
       "</style>\n",
       "<table border=\"1\" class=\"dataframe\">\n",
       "  <thead>\n",
       "    <tr style=\"text-align: right;\">\n",
       "      <th></th>\n",
       "      <th>id</th>\n",
       "      <th>parsed</th>\n",
       "      <th>p_length</th>\n",
       "    </tr>\n",
       "  </thead>\n",
       "  <tbody>\n",
       "    <tr>\n",
       "      <th>0</th>\n",
       "      <td>5591</td>\n",
       "      <td>[sklearn.preprocessing.imputation.Imputer, skl...</td>\n",
       "      <td>3</td>\n",
       "    </tr>\n",
       "    <tr>\n",
       "      <th>1</th>\n",
       "      <td>5648</td>\n",
       "      <td>[openml.utils.preprocessing.ConditionalImputer...</td>\n",
       "      <td>4</td>\n",
       "    </tr>\n",
       "    <tr>\n",
       "      <th>2</th>\n",
       "      <td>5653</td>\n",
       "      <td>[sklearn.feature_selection.univariate_selectio...</td>\n",
       "      <td>2</td>\n",
       "    </tr>\n",
       "    <tr>\n",
       "      <th>3</th>\n",
       "      <td>5662</td>\n",
       "      <td>[sklearn.preprocessing.data.StandardScaler, sk...</td>\n",
       "      <td>3</td>\n",
       "    </tr>\n",
       "    <tr>\n",
       "      <th>4</th>\n",
       "      <td>5663</td>\n",
       "      <td>[sklearn.preprocessing.data.StandardScaler, sk...</td>\n",
       "      <td>3</td>\n",
       "    </tr>\n",
       "  </tbody>\n",
       "</table>\n",
       "</div>"
      ],
      "text/plain": [
       "     id                                             parsed  p_length\n",
       "0  5591  [sklearn.preprocessing.imputation.Imputer, skl...         3\n",
       "1  5648  [openml.utils.preprocessing.ConditionalImputer...         4\n",
       "2  5653  [sklearn.feature_selection.univariate_selectio...         2\n",
       "3  5662  [sklearn.preprocessing.data.StandardScaler, sk...         3\n",
       "4  5663  [sklearn.preprocessing.data.StandardScaler, sk...         3"
      ]
     },
     "execution_count": 92,
     "metadata": {},
     "output_type": "execute_result"
    }
   ],
   "source": [
    "currentPipelines.head()"
   ]
  },
  {
   "cell_type": "code",
   "execution_count": 90,
   "metadata": {},
   "outputs": [
    {
     "data": {
      "text/html": [
       "<div>\n",
       "<style scoped>\n",
       "    .dataframe tbody tr th:only-of-type {\n",
       "        vertical-align: middle;\n",
       "    }\n",
       "\n",
       "    .dataframe tbody tr th {\n",
       "        vertical-align: top;\n",
       "    }\n",
       "\n",
       "    .dataframe thead th {\n",
       "        text-align: right;\n",
       "    }\n",
       "</style>\n",
       "<table border=\"1\" class=\"dataframe\">\n",
       "  <thead>\n",
       "    <tr style=\"text-align: right;\">\n",
       "      <th></th>\n",
       "      <th>id</th>\n",
       "      <th>full_name</th>\n",
       "    </tr>\n",
       "  </thead>\n",
       "  <tbody>\n",
       "    <tr>\n",
       "      <th>0</th>\n",
       "      <td>sklearn.preprocessing.imputation.Imputer</td>\n",
       "      <td>sklearn.preprocessing.imputation.Imputer</td>\n",
       "    </tr>\n",
       "    <tr>\n",
       "      <th>1</th>\n",
       "      <td>sklearn.preprocessing.data.OneHotEncoder</td>\n",
       "      <td>sklearn.preprocessing.data.OneHotEncoder</td>\n",
       "    </tr>\n",
       "    <tr>\n",
       "      <th>2</th>\n",
       "      <td>sklearn.ensemble.forest.RandomForestClassifier</td>\n",
       "      <td>sklearn.ensemble.forest.RandomForestClassifier</td>\n",
       "    </tr>\n",
       "    <tr>\n",
       "      <th>3</th>\n",
       "      <td>openml.utils.preprocessing.ConditionalImputer</td>\n",
       "      <td>openml.utils.preprocessing.ConditionalImputer</td>\n",
       "    </tr>\n",
       "    <tr>\n",
       "      <th>4</th>\n",
       "      <td>sklearn.feature_selection.variance_threshold.V...</td>\n",
       "      <td>sklearn.feature_selection.variance_threshold.V...</td>\n",
       "    </tr>\n",
       "  </tbody>\n",
       "</table>\n",
       "</div>"
      ],
      "text/plain": [
       "                                                  id  \\\n",
       "0           sklearn.preprocessing.imputation.Imputer   \n",
       "1           sklearn.preprocessing.data.OneHotEncoder   \n",
       "2     sklearn.ensemble.forest.RandomForestClassifier   \n",
       "3      openml.utils.preprocessing.ConditionalImputer   \n",
       "4  sklearn.feature_selection.variance_threshold.V...   \n",
       "\n",
       "                                           full_name  \n",
       "0           sklearn.preprocessing.imputation.Imputer  \n",
       "1           sklearn.preprocessing.data.OneHotEncoder  \n",
       "2     sklearn.ensemble.forest.RandomForestClassifier  \n",
       "3      openml.utils.preprocessing.ConditionalImputer  \n",
       "4  sklearn.feature_selection.variance_threshold.V...  "
      ]
     },
     "execution_count": 90,
     "metadata": {},
     "output_type": "execute_result"
    }
   ],
   "source": []
  },
  {
   "cell_type": "code",
   "execution_count": 113,
   "metadata": {},
   "outputs": [
    {
     "name": "stdout",
     "output_type": "stream",
     "text": [
      "setup 29246 :\n",
      "\tparam 50740\n",
      "\t\tname: bootstrap\n",
      "\t\tvalue: True\n",
      "\tparam 50741\n",
      "\t\tname: class_weight\n",
      "\t\tvalue: None\n",
      "\tparam 50742\n",
      "\t\tname: criterion\n",
      "\t\tvalue: gini\n",
      "\tparam 50743\n",
      "\t\tname: max_depth\n",
      "\t\tvalue: None\n",
      "\tparam 50744\n",
      "\t\tname: max_features\n",
      "\t\tvalue: auto\n",
      "\tparam 50745\n",
      "\t\tname: max_leaf_nodes\n",
      "\t\tvalue: None\n",
      "\tparam 50746\n",
      "\t\tname: min_impurity_split\n",
      "\t\tvalue: 1e-07\n",
      "\tparam 50747\n",
      "\t\tname: min_samples_leaf\n",
      "\t\tvalue: 1\n",
      "\tparam 50748\n",
      "\t\tname: min_samples_split\n",
      "\t\tvalue: 2\n",
      "\tparam 50749\n",
      "\t\tname: min_weight_fraction_leaf\n",
      "\t\tvalue: 0.0\n",
      "\tparam 50750\n",
      "\t\tname: n_estimators\n",
      "\t\tvalue: 10\n",
      "\tparam 50751\n",
      "\t\tname: n_jobs\n",
      "\t\tvalue: 1\n",
      "\tparam 50752\n",
      "\t\tname: oob_score\n",
      "\t\tvalue: False\n",
      "\tparam 50753\n",
      "\t\tname: random_state\n",
      "\t\tvalue: None\n",
      "\tparam 50754\n",
      "\t\tname: verbose\n",
      "\t\tvalue: 0\n",
      "\tparam 50755\n",
      "\t\tname: warm_start\n",
      "\t\tvalue: False\n",
      "\tparam 51963\n",
      "\t\tname: steps\n",
      "\t\tvalue: [('Imputer', Imputer(axis=0, copy=True, missing_values='NaN', strategy='median', verbose=0)), ('OneHotEncoder', OneHotEncoder(categorical_features='all', dtype=<class 'numpy.float64'>,\n",
      "       handle_unknown='ignore', n_values='auto', sparse=False)), ('Classifier', RandomForestClassifier(bootstrap=True, class_weight=None, criterion='gini',\n",
      "            max_depth=None, max_features='auto', max_leaf_nodes=None,\n",
      "            min_impurity_split=1e-07, min_samples_leaf=1,\n",
      "            min_samples_split=2, min_weight_fraction_leaf=0.0,\n",
      "            n_estimators=10, n_jobs=1, oob_score=False, random_state=None,\n",
      "            verbose=0, warm_start=False))]\n",
      "\tparam 50804\n",
      "\t\tname: axis\n",
      "\t\tvalue: 0\n",
      "\tparam 50805\n",
      "\t\tname: copy\n",
      "\t\tvalue: True\n",
      "\tparam 50806\n",
      "\t\tname: missing_values\n",
      "\t\tvalue: NaN\n",
      "\tparam 50807\n",
      "\t\tname: strategy\n",
      "\t\tvalue: median\n",
      "\tparam 50808\n",
      "\t\tname: verbose\n",
      "\t\tvalue: 0\n",
      "\tparam 50809\n",
      "\t\tname: categorical_features\n",
      "\t\tvalue: all\n",
      "\tparam 50810\n",
      "\t\tname: dtype\n",
      "\t\tvalue: <class 'numpy.float64'>\n",
      "\tparam 50811\n",
      "\t\tname: handle_unknown\n",
      "\t\tvalue: ignore\n",
      "\tparam 50812\n",
      "\t\tname: n_values\n",
      "\t\tvalue: auto\n",
      "\tparam 50813\n",
      "\t\tname: sparse\n",
      "\t\tvalue: False\n"
     ]
    }
   ],
   "source": [
    "for sk,sv in res.iteritems():\n",
    "    print 'setup ' + str(sk) + ' :'\n",
    "    for pk,pv in sv.parameters.iteritems():\n",
    "        print '\\tparam ' + str(pk)  \n",
    "        #print '\\t\\tfull name: ' + pv.full_name\n",
    "        print '\\t\\tname: ' + pv.parameter_name\n",
    "        print '\\t\\tvalue: ' + pv.value"
   ]
  },
  {
   "cell_type": "code",
   "execution_count": null,
   "metadata": {},
   "outputs": [],
   "source": []
  },
  {
   "cell_type": "code",
   "execution_count": 109,
   "metadata": {},
   "outputs": [
    {
     "name": "stdout",
     "output_type": "stream",
     "text": [
      "{50740: <openml.setups.setup.OpenMLParameter object at 0x1118cd290>, 50741: <openml.setups.setup.OpenMLParameter object at 0x1118cd5d0>, 50742: <openml.setups.setup.OpenMLParameter object at 0x1118cd690>, 50743: <openml.setups.setup.OpenMLParameter object at 0x1118cdf90>, 50744: <openml.setups.setup.OpenMLParameter object at 0x1118cdc50>, 50745: <openml.setups.setup.OpenMLParameter object at 0x1118cdc90>, 50746: <openml.setups.setup.OpenMLParameter object at 0x1118cd050>, 50747: <openml.setups.setup.OpenMLParameter object at 0x1118cd210>, 50748: <openml.setups.setup.OpenMLParameter object at 0x1118cd750>, 50749: <openml.setups.setup.OpenMLParameter object at 0x1118cda10>, 50750: <openml.setups.setup.OpenMLParameter object at 0x1118cd810>, 50751: <openml.setups.setup.OpenMLParameter object at 0x1118cdb50>, 50752: <openml.setups.setup.OpenMLParameter object at 0x1118cd9d0>, 50753: <openml.setups.setup.OpenMLParameter object at 0x1118cd650>, 50754: <openml.setups.setup.OpenMLParameter object at 0x1118cd8d0>, 50755: <openml.setups.setup.OpenMLParameter object at 0x1118cd310>, 51963: <openml.setups.setup.OpenMLParameter object at 0x1118cd610>, 50804: <openml.setups.setup.OpenMLParameter object at 0x1118cd150>, 50805: <openml.setups.setup.OpenMLParameter object at 0x1118cd7d0>, 50806: <openml.setups.setup.OpenMLParameter object at 0x1118cd590>, 50807: <openml.setups.setup.OpenMLParameter object at 0x1118cddd0>, 50808: <openml.setups.setup.OpenMLParameter object at 0x1118cdd50>, 50809: <openml.setups.setup.OpenMLParameter object at 0x1118cd110>, 50810: <openml.setups.setup.OpenMLParameter object at 0x1118cdbd0>, 50811: <openml.setups.setup.OpenMLParameter object at 0x1118cdf10>, 50812: <openml.setups.setup.OpenMLParameter object at 0x1118cdb10>, 50813: <openml.setups.setup.OpenMLParameter object at 0x1118cdd90>}\n"
     ]
    }
   ],
   "source": [
    "for sk,sv in res.iteritems():\n",
    "    print sv.parameters"
   ]
  },
  {
   "cell_type": "code",
   "execution_count": 110,
   "metadata": {},
   "outputs": [],
   "source": [
    "param = params[50740]"
   ]
  },
  {
   "cell_type": "code",
   "execution_count": 102,
   "metadata": {},
   "outputs": [
    {
     "data": {
      "text/plain": [
       "u'bootstrap'"
      ]
     },
     "execution_count": 102,
     "metadata": {},
     "output_type": "execute_result"
    }
   ],
   "source": [
    "param.parameter_name"
   ]
  },
  {
   "cell_type": "code",
   "execution_count": 103,
   "metadata": {},
   "outputs": [
    {
     "ename": "SyntaxError",
     "evalue": "invalid syntax (<ipython-input-103-a4c0fe8ce6b5>, line 1)",
     "output_type": "error",
     "traceback": [
      "\u001b[0;36m  File \u001b[0;32m\"<ipython-input-103-a4c0fe8ce6b5>\"\u001b[0;36m, line \u001b[0;32m1\u001b[0m\n\u001b[0;31m    param[@full_name]\u001b[0m\n\u001b[0m          ^\u001b[0m\n\u001b[0;31mSyntaxError\u001b[0m\u001b[0;31m:\u001b[0m invalid syntax\n"
     ]
    }
   ],
   "source": [
    "param[@full_name]"
   ]
  },
  {
   "cell_type": "code",
   "execution_count": 95,
   "metadata": {},
   "outputs": [
    {
     "data": {
      "text/plain": [
       "<openml.setups.setup.OpenMLParameter at 0x108ad7750>"
      ]
     },
     "execution_count": 95,
     "metadata": {},
     "output_type": "execute_result"
    }
   ],
   "source": [
    "params"
   ]
  },
  {
   "cell_type": "code",
   "execution_count": null,
   "metadata": {},
   "outputs": [],
   "source": []
  }
 ],
 "metadata": {
  "kernelspec": {
   "display_name": "Python 2",
   "language": "python",
   "name": "python2"
  },
  "language_info": {
   "codemirror_mode": {
    "name": "ipython",
    "version": 2
   },
   "file_extension": ".py",
   "mimetype": "text/x-python",
   "name": "python",
   "nbconvert_exporter": "python",
   "pygments_lexer": "ipython2",
   "version": "2.7.14"
  }
 },
 "nbformat": 4,
 "nbformat_minor": 2
}
