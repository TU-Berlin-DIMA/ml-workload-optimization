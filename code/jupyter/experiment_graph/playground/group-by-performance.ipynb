{
 "cells": [
  {
   "cell_type": "code",
   "execution_count": 1,
   "metadata": {},
   "outputs": [],
   "source": [
    "# numpy and pandas for data manipulation\n",
    "import sys\n",
    "import os\n",
    "# Suppress warnings\n",
    "import warnings\n",
    "\n",
    "import matplotlib.pyplot as plt\n",
    "import networkx as nx\n",
    "\n",
    "import numpy as np\n",
    "import pandas as pd\n",
    "import seaborn as sns\n",
    "from datetime import datetime\n",
    "import cPickle as pickle\n",
    "\n",
    "warnings.filterwarnings('ignore')\n",
    "\n",
    "# matplotlib and seaborn for plotting\n",
    "import matplotlib.pyplot as plt\n",
    "%matplotlib inline\n",
    "\n",
    "ROOT_PACKAGE_DIRECTORY = '/Users/bede01/Documents/work/phd-papers/ml-workload-optimization/code/jupyter'\n",
    "root_data = ROOT_PACKAGE_DIRECTORY + '/data'\n",
    "\n",
    "\n",
    "sys.path.append(ROOT_PACKAGE_DIRECTORY)\n",
    "from experiment_graph.execution_environment import ExecutionEnvironment\n",
    "from experiment_graph.benchmark_helper import BenchmarkMetrics\n",
    "\n",
    "DATABASE_PATH = root_data + '/experiment_graphs/home-credit-default-risk/base-intro-manual'\n",
    "N_ESTIMATOR = 100"
   ]
  },
  {
   "cell_type": "code",
   "execution_count": null,
   "metadata": {},
   "outputs": [],
   "source": [
    "total = 0\n",
    "group_by_time=0\n",
    "for i in range(10):\n",
    "    execution_environment = ExecutionEnvironment('dedup')\n",
    "    execution_environment.new_workload()\n",
    "    bureau = execution_environment.load(root_data + '/home-credit-default-risk/bureau.csv')\n",
    "\n",
    "    previous_loan_counts_grouby = bureau.groupby('SK_ID_CURR')\n",
    "    s_groupby = datetime.now()\n",
    "    previous_loan_counts_grouby.data()\n",
    "    start = datetime.now()\n",
    "    group_by_time+= (start - s_groupby).total_seconds()\n",
    "    previous_loan_counts_grouby.count().data()\n",
    "    total += (datetime.now() - start).total_seconds()\n",
    "print total ,group_by_time"
   ]
  },
  {
   "cell_type": "code",
   "execution_count": null,
   "metadata": {},
   "outputs": [],
   "source": [
    "total = 0\n",
    "for i in range(10):\n",
    "    execution_environment2 = ExecutionEnvironment('dedup')\n",
    "    execution_environment2.new_workload()\n",
    "    bureau = execution_environment2.load(root_data + '/home-credit-default-risk/bureau.csv')\n",
    "    start = datetime.now()\n",
    "    bureau.groupby('SK_ID_CURR').count().data()\n",
    "    total += (datetime.now() - start).total_seconds()\n",
    "print total "
   ]
  },
  {
   "cell_type": "code",
   "execution_count": null,
   "metadata": {},
   "outputs": [],
   "source": [
    "execution_environment = ExecutionEnvironment('dedup')\n",
    "execution_environment.new_workload()\n",
    "installment = execution_environment.load(root_data + '/home-credit-default-risk/installments_payments.csv').data()"
   ]
  },
  {
   "cell_type": "code",
   "execution_count": null,
   "metadata": {},
   "outputs": [],
   "source": [
    "installment.groupby('SK_ID_CURR')"
   ]
  },
  {
   "cell_type": "code",
   "execution_count": null,
   "metadata": {},
   "outputs": [],
   "source": [
    "import copy\n",
    "just_group_by = 0\n",
    "just_count = 0\n",
    "for i in range(10):\n",
    "    df = copy.deepcopy(df)\n",
    "    s = datetime.now()\n",
    "    a = df.groupby('SK_ID_CURR')\n",
    "    e = datetime.now()\n",
    "    just_group_by+= (e-s).total_seconds()\n",
    "    s = datetime.now()\n",
    "    b = a.count()\n",
    "    e = datetime.now()\n",
    "    just_count+=(e-s).total_seconds()\n",
    "print just_group_by, just_count"
   ]
  },
  {
   "cell_type": "markdown",
   "metadata": {},
   "source": [
    "The experiment here and a bit of study confirms that groupby does not actually do anything before the aggregation function is applied. "
   ]
  }
 ],
 "metadata": {
  "kernelspec": {
   "display_name": "Python 2",
   "language": "python",
   "name": "python2"
  },
  "language_info": {
   "codemirror_mode": {
    "name": "ipython",
    "version": 2
   },
   "file_extension": ".py",
   "mimetype": "text/x-python",
   "name": "python",
   "nbconvert_exporter": "python",
   "pygments_lexer": "ipython2",
   "version": "2.7.16"
  }
 },
 "nbformat": 4,
 "nbformat_minor": 2
}
