{
 "cells": [
  {
   "cell_type": "markdown",
   "metadata": {},
   "source": [
    "## Use Case 1\n",
    "Here are the steps for the use case 1\n",
    "1. Load data\n",
    "2. chain 2 data transformation and a model training\n",
    "3. store the graph\n",
    "4. open a new workload\n",
    "5. load the history graph\n",
    "6. write the exact same transformations and model training\n",
    "7. the model should be fetched from the history graph instead being executed\n",
    "\n",
    "In this use case, each workload has only one call to .data()"
   ]
  },
  {
   "cell_type": "code",
   "execution_count": 1,
   "metadata": {},
   "outputs": [],
   "source": [
    "# numpy and pandas for data manipulation\n",
    "import sys\n",
    "# Suppress warnings\n",
    "import warnings\n",
    "\n",
    "import matplotlib.pyplot as plt\n",
    "import networkx as nx\n",
    "\n",
    "import numpy as np\n",
    "import pandas as pd\n",
    "\n",
    "warnings.filterwarnings('ignore')\n",
    "\n",
    "# matplotlib and seaborn for plotting\n",
    "import matplotlib.pyplot as plt\n",
    "%matplotlib inline\n",
    "\n",
    "ROOT_PACKAGE_DIRECTORY = '/Users/bede01/Documents/work/phd-papers/ml-workload-optimization/code/jupyter'\n",
    "root_data = ROOT_PACKAGE_DIRECTORY + '/data'\n",
    "\n",
    "\n",
    "sys.path.append(ROOT_PACKAGE_DIRECTORY)\n",
    "from experiment_graph.execution_environment import ExecutionEnvironment\n",
    "\n",
    "DATABASE_PATH = root_data + '/experiment_graphs/optimizer_test/uc1'"
   ]
  },
  {
   "cell_type": "markdown",
   "metadata": {},
   "source": [
    "## Example 1\n",
    "a chain of operations"
   ]
  },
  {
   "cell_type": "code",
   "execution_count": 2,
   "metadata": {},
   "outputs": [
    {
     "name": "stdout",
     "output_type": "stream",
     "text": [
      "history graph is empty, initializing a new one\n",
      "<experiment_graph.execution_environment.Dataset object at 0x10b32aa90>\n"
     ]
    },
    {
     "ename": "AttributeError",
     "evalue": "'Dataset' object has no attribute 'execution_environment'",
     "output_type": "error",
     "traceback": [
      "\u001b[0;31m---------------------------------------------------------------------------\u001b[0m",
      "\u001b[0;31mAttributeError\u001b[0m                            Traceback (most recent call last)",
      "\u001b[0;32m<ipython-input-2-d32e98f0306a>\u001b[0m in \u001b[0;36m<module>\u001b[0;34m()\u001b[0m\n\u001b[1;32m     29\u001b[0m \u001b[0mee_2\u001b[0m \u001b[0;34m=\u001b[0m \u001b[0mExecutionEnvironment\u001b[0m\u001b[0;34m(\u001b[0m\u001b[0;34m'dedup'\u001b[0m\u001b[0;34m)\u001b[0m\u001b[0;34m\u001b[0m\u001b[0m\n\u001b[1;32m     30\u001b[0m \u001b[0;31m# Load the history graph\u001b[0m\u001b[0;34m\u001b[0m\u001b[0;34m\u001b[0m\u001b[0m\n\u001b[0;32m---> 31\u001b[0;31m \u001b[0mee_2\u001b[0m\u001b[0;34m.\u001b[0m\u001b[0mload_history\u001b[0m\u001b[0;34m(\u001b[0m\u001b[0mDATABASE_PATH\u001b[0m\u001b[0;34m)\u001b[0m\u001b[0;34m\u001b[0m\u001b[0m\n\u001b[0m\u001b[1;32m     32\u001b[0m \u001b[0;31m# Simple Case: Chain of 4 operations\u001b[0m\u001b[0;34m\u001b[0m\u001b[0;34m\u001b[0m\u001b[0m\n\u001b[1;32m     33\u001b[0m \u001b[0;34m\u001b[0m\u001b[0m\n",
      "\u001b[0;32m/Users/bede01/Documents/work/phd-papers/ml-workload-optimization/code/jupyter/experiment_graph/execution_environment.pyc\u001b[0m in \u001b[0;36mload_history\u001b[0;34m(self, environment_folder)\u001b[0m\n\u001b[1;32m     60\u001b[0m \u001b[0;34m\u001b[0m\u001b[0m\n\u001b[1;32m     61\u001b[0m         \u001b[0mself\u001b[0m\u001b[0;34m.\u001b[0m\u001b[0mhistory_graph\u001b[0m \u001b[0;34m=\u001b[0m \u001b[0mHistoryGraph\u001b[0m\u001b[0;34m(\u001b[0m\u001b[0mgraph\u001b[0m\u001b[0;34m,\u001b[0m \u001b[0mroots\u001b[0m\u001b[0;34m)\u001b[0m\u001b[0;34m\u001b[0m\u001b[0m\n\u001b[0;32m---> 62\u001b[0;31m         \u001b[0mself\u001b[0m\u001b[0;34m.\u001b[0m\u001b[0mhistory_graph\u001b[0m\u001b[0;34m.\u001b[0m\u001b[0mset_environment\u001b[0m\u001b[0;34m(\u001b[0m\u001b[0mself\u001b[0m\u001b[0;34m)\u001b[0m\u001b[0;34m\u001b[0m\u001b[0m\n\u001b[0m\u001b[1;32m     63\u001b[0m \u001b[0;34m\u001b[0m\u001b[0m\n\u001b[1;32m     64\u001b[0m         \u001b[0;32mwith\u001b[0m \u001b[0mopen\u001b[0m\u001b[0;34m(\u001b[0m\u001b[0menvironment_folder\u001b[0m \u001b[0;34m+\u001b[0m \u001b[0;34m'/storage'\u001b[0m\u001b[0;34m,\u001b[0m \u001b[0;34m'rb'\u001b[0m\u001b[0;34m)\u001b[0m \u001b[0;32mas\u001b[0m \u001b[0md_input\u001b[0m\u001b[0;34m:\u001b[0m\u001b[0;34m\u001b[0m\u001b[0m\n",
      "\u001b[0;32m/Users/bede01/Documents/work/phd-papers/ml-workload-optimization/code/jupyter/experiment_graph/graph/execution_graph.py\u001b[0m in \u001b[0;36mset_environment\u001b[0;34m(self, env)\u001b[0m\n\u001b[1;32m     28\u001b[0m         \u001b[0;32mfor\u001b[0m \u001b[0mnode\u001b[0m \u001b[0;32min\u001b[0m \u001b[0mself\u001b[0m\u001b[0;34m.\u001b[0m\u001b[0mgraph\u001b[0m\u001b[0;34m.\u001b[0m\u001b[0mnodes\u001b[0m\u001b[0;34m(\u001b[0m\u001b[0mdata\u001b[0m\u001b[0;34m=\u001b[0m\u001b[0;34m'data'\u001b[0m\u001b[0;34m)\u001b[0m\u001b[0;34m:\u001b[0m\u001b[0;34m\u001b[0m\u001b[0m\n\u001b[1;32m     29\u001b[0m             \u001b[0;32mprint\u001b[0m \u001b[0mnode\u001b[0m\u001b[0;34m[\u001b[0m\u001b[0;36m1\u001b[0m\u001b[0;34m]\u001b[0m\u001b[0;34m\u001b[0m\u001b[0m\n\u001b[0;32m---> 30\u001b[0;31m             \u001b[0mnode\u001b[0m\u001b[0;34m[\u001b[0m\u001b[0;36m1\u001b[0m\u001b[0;34m]\u001b[0m\u001b[0;34m[\u001b[0m\u001b[0;34m'data'\u001b[0m\u001b[0;34m]\u001b[0m\u001b[0;34m.\u001b[0m\u001b[0mexecution_environment\u001b[0m \u001b[0;34m=\u001b[0m \u001b[0menv\u001b[0m\u001b[0;34m\u001b[0m\u001b[0m\n\u001b[0m\u001b[1;32m     31\u001b[0m \u001b[0;34m\u001b[0m\u001b[0m\n\u001b[1;32m     32\u001b[0m     \u001b[0;32mdef\u001b[0m \u001b[0mis_empty\u001b[0m\u001b[0;34m(\u001b[0m\u001b[0mself\u001b[0m\u001b[0;34m)\u001b[0m\u001b[0;34m:\u001b[0m\u001b[0;34m\u001b[0m\u001b[0m\n",
      "\u001b[0;32m/Users/bede01/Documents/work/phd-papers/ml-workload-optimization/code/jupyter/experiment_graph/execution_environment.pyc\u001b[0m in \u001b[0;36m__getitem__\u001b[0;34m(self, index)\u001b[0m\n\u001b[1;32m    981\u001b[0m         \u001b[0;31m# project operator\u001b[0m\u001b[0;34m\u001b[0m\u001b[0;34m\u001b[0m\u001b[0m\n\u001b[1;32m    982\u001b[0m         \u001b[0;32mif\u001b[0m \u001b[0mtype\u001b[0m\u001b[0;34m(\u001b[0m\u001b[0mindex\u001b[0m\u001b[0;34m)\u001b[0m \u001b[0;32min\u001b[0m \u001b[0;34m[\u001b[0m\u001b[0mstr\u001b[0m\u001b[0;34m,\u001b[0m \u001b[0mint\u001b[0m\u001b[0;34m,\u001b[0m \u001b[0mlist\u001b[0m\u001b[0;34m]\u001b[0m\u001b[0;34m:\u001b[0m\u001b[0;34m\u001b[0m\u001b[0m\n\u001b[0;32m--> 983\u001b[0;31m             \u001b[0;32mreturn\u001b[0m \u001b[0mself\u001b[0m\u001b[0;34m.\u001b[0m\u001b[0mproject\u001b[0m\u001b[0;34m(\u001b[0m\u001b[0mindex\u001b[0m\u001b[0;34m)\u001b[0m\u001b[0;34m\u001b[0m\u001b[0m\n\u001b[0m\u001b[1;32m    984\u001b[0m         \u001b[0;31m# index operator using another Series of the form (index,Boolean)\u001b[0m\u001b[0;34m\u001b[0m\u001b[0;34m\u001b[0m\u001b[0m\n\u001b[1;32m    985\u001b[0m         \u001b[0;32melif\u001b[0m \u001b[0misinstance\u001b[0m\u001b[0;34m(\u001b[0m\u001b[0mindex\u001b[0m\u001b[0;34m,\u001b[0m \u001b[0mFeature\u001b[0m\u001b[0;34m)\u001b[0m\u001b[0;34m:\u001b[0m\u001b[0;34m\u001b[0m\u001b[0m\n",
      "\u001b[0;32m/Users/bede01/Documents/work/phd-papers/ml-workload-optimization/code/jupyter/experiment_graph/execution_environment.pyc\u001b[0m in \u001b[0;36mproject\u001b[0;34m(self, columns)\u001b[0m\n\u001b[1;32m    952\u001b[0m     \u001b[0;32mdef\u001b[0m \u001b[0mproject\u001b[0m\u001b[0;34m(\u001b[0m\u001b[0mself\u001b[0m\u001b[0;34m,\u001b[0m \u001b[0mcolumns\u001b[0m\u001b[0;34m)\u001b[0m\u001b[0;34m:\u001b[0m\u001b[0;34m\u001b[0m\u001b[0m\n\u001b[1;32m    953\u001b[0m         \u001b[0;32mif\u001b[0m \u001b[0mtype\u001b[0m\u001b[0;34m(\u001b[0m\u001b[0mcolumns\u001b[0m\u001b[0;34m)\u001b[0m \u001b[0;32min\u001b[0m \u001b[0;34m[\u001b[0m\u001b[0mstr\u001b[0m\u001b[0;34m,\u001b[0m \u001b[0mint\u001b[0m\u001b[0;34m]\u001b[0m\u001b[0;34m:\u001b[0m\u001b[0;34m\u001b[0m\u001b[0m\n\u001b[0;32m--> 954\u001b[0;31m             \u001b[0;32mreturn\u001b[0m \u001b[0mself\u001b[0m\u001b[0;34m.\u001b[0m\u001b[0mgenerate_feature_node\u001b[0m\u001b[0;34m(\u001b[0m\u001b[0;34m'project'\u001b[0m\u001b[0;34m,\u001b[0m \u001b[0;34m{\u001b[0m\u001b[0;34m'columns'\u001b[0m\u001b[0;34m:\u001b[0m \u001b[0mcolumns\u001b[0m\u001b[0;34m}\u001b[0m\u001b[0;34m)\u001b[0m\u001b[0;34m\u001b[0m\u001b[0m\n\u001b[0m\u001b[1;32m    955\u001b[0m         \u001b[0;32mif\u001b[0m \u001b[0mtype\u001b[0m\u001b[0;34m(\u001b[0m\u001b[0mcolumns\u001b[0m\u001b[0;34m)\u001b[0m \u001b[0;32mis\u001b[0m \u001b[0mlist\u001b[0m\u001b[0;34m:\u001b[0m\u001b[0;34m\u001b[0m\u001b[0m\n\u001b[1;32m    956\u001b[0m             \u001b[0;32mreturn\u001b[0m \u001b[0mself\u001b[0m\u001b[0;34m.\u001b[0m\u001b[0mgenerate_dataset_node\u001b[0m\u001b[0;34m(\u001b[0m\u001b[0;34m'project'\u001b[0m\u001b[0;34m,\u001b[0m \u001b[0;34m{\u001b[0m\u001b[0;34m'columns'\u001b[0m\u001b[0;34m:\u001b[0m \u001b[0mcolumns\u001b[0m\u001b[0;34m}\u001b[0m\u001b[0;34m)\u001b[0m\u001b[0;34m\u001b[0m\u001b[0m\n",
      "\u001b[0;32m/Users/bede01/Documents/work/phd-papers/ml-workload-optimization/code/jupyter/experiment_graph/execution_environment.pyc\u001b[0m in \u001b[0;36mgenerate_feature_node\u001b[0;34m(self, oper, args, v_id, c_name, c_hash)\u001b[0m\n\u001b[1;32m    258\u001b[0m         \u001b[0margs\u001b[0m \u001b[0;34m=\u001b[0m \u001b[0;34m{\u001b[0m\u001b[0;34m}\u001b[0m \u001b[0;32mif\u001b[0m \u001b[0margs\u001b[0m \u001b[0;32mis\u001b[0m \u001b[0mNone\u001b[0m \u001b[0;32melse\u001b[0m \u001b[0margs\u001b[0m\u001b[0;34m\u001b[0m\u001b[0m\n\u001b[1;32m    259\u001b[0m         \u001b[0mnextid\u001b[0m \u001b[0;34m=\u001b[0m \u001b[0mself\u001b[0m\u001b[0;34m.\u001b[0m\u001b[0mgenerate_uuid\u001b[0m\u001b[0;34m(\u001b[0m\u001b[0;34m)\u001b[0m\u001b[0;34m\u001b[0m\u001b[0m\n\u001b[0;32m--> 260\u001b[0;31m         \u001b[0mnextnode\u001b[0m \u001b[0;34m=\u001b[0m \u001b[0mFeature\u001b[0m\u001b[0;34m(\u001b[0m\u001b[0mnextid\u001b[0m\u001b[0;34m,\u001b[0m \u001b[0mself\u001b[0m\u001b[0;34m.\u001b[0m\u001b[0mexecution_environment\u001b[0m\u001b[0;34m,\u001b[0m \u001b[0mc_name\u001b[0m\u001b[0;34m,\u001b[0m \u001b[0mc_hash\u001b[0m\u001b[0;34m)\u001b[0m\u001b[0;34m\u001b[0m\u001b[0m\n\u001b[0m\u001b[1;32m    261\u001b[0m         exist = self.execution_environment.workload_graph.add_edge(v_id, nextid, nextnode,\n\u001b[1;32m    262\u001b[0m                                                                    {'name': oper,\n",
      "\u001b[0;31mAttributeError\u001b[0m: 'Dataset' object has no attribute 'execution_environment'"
     ]
    },
    {
     "data": {
      "image/png": "[encoded data removed]",
      "text/plain": [
       "<matplotlib.figure.Figure at 0x10b1fce90>"
      ]
     },
     "metadata": {},
     "output_type": "display_data"
    }
   ],
   "source": [
    "# Simple Case: Chain of 4 operations (No Merge or Branch)\n",
    "\n",
    "# Create Execution Environment\n",
    "ee = ExecutionEnvironment('dedup')\n",
    "# Load Data\n",
    "train = ee.load(root_data + '/openml/task_id=31/train.csv')\n",
    "\n",
    "# Transformation 1\n",
    "train = train.drop(columns=['checking_status'])\n",
    "\n",
    "# Transformation 2\n",
    "train = train.drop(columns=['class'])\n",
    "\n",
    "# Transformation 3\n",
    "max_cols = train.max()\n",
    "\n",
    "# Execute\n",
    "data_main = max_cols.data(verbose = 0)\n",
    "\n",
    "# Save history graph\n",
    "ee.save_history(DATABASE_PATH, overwrite=True)\n",
    "# Plot workload graph\n",
    "ee.workload_graph.plot_graph(plt, labels_for_vertex=['id'])\n",
    "\n",
    "\n",
    "######### NEW WORKLOAD ############\n",
    "\n",
    "# Create new environment\n",
    "ee_2 = ExecutionEnvironment('dedup')\n",
    "# Load the history graph\n",
    "ee_2.load_history(DATABASE_PATH)\n",
    "# Simple Case: Chain of 4 operations\n",
    "\n",
    "# # Load Data\n",
    "# train = ee_2.load(root_data + '/openml/task_id=31/train.csv')\n",
    "\n",
    "# # Transformation 1\n",
    "# train = train.drop(columns=['checking_status'])\n",
    "\n",
    "# # Transformation 2\n",
    "# train = train.drop(columns=['class'])\n",
    "\n",
    "# # Transformation 3\n",
    "# max_cols = train.max()\n",
    "\n",
    "# # Execute\n",
    "# data_second_workload = max_cols.data(verbose = 1)\n",
    "\n",
    "del ee\n",
    "del ee_2"
   ]
  },
  {
   "cell_type": "markdown",
   "metadata": {},
   "source": [
    "## Example 2\n",
    "A workload with one predictive model and one preprocessing model containing multiple combine and split operations."
   ]
  },
  {
   "cell_type": "code",
   "execution_count": null,
   "metadata": {},
   "outputs": [],
   "source": [
    "# Use Case: Chain of 3 Transformations and 1 Model Building (includes two merges in total)\n",
    "# Create Execution Environment\n",
    "ee = ExecutionEnvironment('dedup')\n",
    "\n",
    "# Load Data\n",
    "train = ee.load(root_data + '/openml/task_id=31/train.csv')\n",
    "\n",
    "# Transformation 1\n",
    "train = train.drop(columns=['checking_status'])\n",
    "\n",
    "# Transformation 2\n",
    "train_labels = train['class']\n",
    "train = train.drop(columns=['class'])\n",
    "\n",
    "# Transformation 3\n",
    "from experiment_graph.sklearn_helper.preprocessing import MinMaxScaler\n",
    "scaler = MinMaxScaler(feature_range=(0, 1))\n",
    "scaler.fit(train)\n",
    "train = scaler.transform(train)\n",
    "data = train.data(verbose=1)\n",
    "\n",
    "# Model Training\n",
    "from experiment_graph.sklearn_helper.ensemble import RandomForestClassifier\n",
    "random_forest = RandomForestClassifier(n_estimators=10, random_state=50, verbose=1, n_jobs=-1)\n",
    "random_forest.fit(train, train_labels)\n",
    "\n",
    "# Execute\n",
    "random_forest.trained_node.data()\n",
    "\n",
    "# Save history graph\n",
    "ee.save_history(DATABASE_PATH, overwrite=True)\n",
    "# Plot workload graph\n",
    "ee.workload_graph.plot_graph(plt, edge_oper=True)"
   ]
  },
  {
   "cell_type": "code",
   "execution_count": null,
   "metadata": {},
   "outputs": [],
   "source": [
    "ee_2 = ExecutionEnvironment('dedup')\n",
    "ee_2.load_history(DATABASE_PATH)"
   ]
  },
  {
   "cell_type": "code",
   "execution_count": null,
   "metadata": {},
   "outputs": [],
   "source": [
    "# Load Data\n",
    "train = ee_2.load(root_data + '/openml/task_id=31/train.csv')\n",
    "\n",
    "# Transformation 1\n",
    "train = train.drop(columns=['checking_status'])\n",
    "\n",
    "# Transformation 2\n",
    "train_labels = train['class']\n",
    "train = train.drop(columns=['class'])\n",
    "\n",
    "# Transformation 3\n",
    "from experiment_graph.sklearn_helper.preprocessing import MinMaxScaler\n",
    "scaler = MinMaxScaler(feature_range=(0, 1))\n",
    "scaler.fit(train)\n",
    "train = scaler.transform(train)\n",
    "\n",
    "# Model Training\n",
    "from experiment_graph.sklearn_helper.ensemble import RandomForestClassifier\n",
    "random_forest = RandomForestClassifier(n_estimators=10, random_state=50, verbose=1, n_jobs=-1)\n",
    "random_forest.fit(train, train_labels)\n",
    "\n",
    "# Execute\n",
    "random_forest.trained_node.data(verbose=1)"
   ]
  },
  {
   "cell_type": "markdown",
   "metadata": {},
   "source": [
    "## Use Case 2\n",
    "Simple workload with multiple .data() calls"
   ]
  },
  {
   "cell_type": "code",
   "execution_count": null,
   "metadata": {},
   "outputs": [],
   "source": [
    "# numpy and pandas for data manipulation\n",
    "import sys\n",
    "# Suppress warnings\n",
    "import warnings\n",
    "\n",
    "import matplotlib.pyplot as plt\n",
    "import networkx as nx\n",
    "\n",
    "import numpy as np\n",
    "import pandas as pd\n",
    "\n",
    "warnings.filterwarnings('ignore')\n",
    "\n",
    "# matplotlib and seaborn for plotting\n",
    "import matplotlib.pyplot as plt\n",
    "%matplotlib inline\n",
    "\n",
    "ROOT_PACKAGE_DIRECTORY = '/Users/bede01/Documents/work/phd-papers/ml-workload-optimization/code/jupyter'\n",
    "root_data = ROOT_PACKAGE_DIRECTORY + '/data'\n",
    "\n",
    "\n",
    "sys.path.append(ROOT_PACKAGE_DIRECTORY)\n",
    "from experiment_graph.execution_environment import ExecutionEnvironment\n",
    "\n",
    "DATABASE_PATH = root_data + '/experiment_graphs/optimizer_test/uc2'"
   ]
  },
  {
   "cell_type": "markdown",
   "metadata": {},
   "source": [
    "## Example 1\n",
    "A chain of operations similar to use case one, but with two data calls."
   ]
  },
  {
   "cell_type": "code",
   "execution_count": null,
   "metadata": {},
   "outputs": [],
   "source": [
    "# Simple Case: Chain of 4 operations (No Merge or Branch)\n",
    "\n",
    "# Create Execution Environment\n",
    "ee = ExecutionEnvironment('dedup')\n",
    "# Load Data\n",
    "train = ee.load(root_data + '/openml/task_id=31/train.csv')\n",
    "\n",
    "# Transformation 1\n",
    "train = train.drop(columns=['checking_status'])\n",
    "\n",
    "# Transformation 2\n",
    "train = train.drop(columns=['class'])\n",
    "\n",
    "# Transformation 3\n",
    "max_cols = train.max()\n",
    "\n",
    "# Execute\n",
    "data_main = max_cols.data(verbose = 0)\n",
    "\n",
    "# Save history graph\n",
    "ee.save_history(DATABASE_PATH, overwrite=True)\n",
    "# Plot workload graph\n",
    "ee.workload_graph.plot_graph(plt, labels_for_vertex=['id'])"
   ]
  },
  {
   "cell_type": "code",
   "execution_count": null,
   "metadata": {},
   "outputs": [],
   "source": [
    "# Create new environment\n",
    "ee_2 = ExecutionEnvironment('dedup')\n",
    "# Load the history graph\n",
    "ee_2.load_history(DATABASE_PATH)"
   ]
  },
  {
   "cell_type": "code",
   "execution_count": null,
   "metadata": {},
   "outputs": [],
   "source": [
    "###### First .data() call #######\n",
    "\n",
    "# Simple Case: Chain of 4 operations\n",
    "\n",
    "# Load Data\n",
    "train = ee_2.load(root_data + '/openml/task_id=31/train.csv')\n",
    "\n",
    "# Transformation 1\n",
    "train = train.drop(columns=['checking_status'])\n",
    "\n",
    "# Transformation 2\n",
    "train = train.drop(columns=['class'])\n",
    "data = train.data()"
   ]
  },
  {
   "cell_type": "code",
   "execution_count": null,
   "metadata": {},
   "outputs": [],
   "source": [
    "ee_2.workload_graph.plot_graph(plt, labels_for_vertex=['id'], labels_for_edges=['name'])"
   ]
  },
  {
   "cell_type": "code",
   "execution_count": null,
   "metadata": {},
   "outputs": [],
   "source": [
    "##### Second .data() call #####\n",
    "\n",
    "# Transformation 3\n",
    "max_cols = train.max()\n",
    "\n",
    "# Execute\n",
    "data_second_workload = max_cols.data(verbose = 1)"
   ]
  },
  {
   "cell_type": "code",
   "execution_count": null,
   "metadata": {
    "scrolled": true
   },
   "outputs": [],
   "source": [
    "ee_2.workload_graph.plot_graph(plt, labels_for_vertex=['id'], labels_for_edges=['name'])"
   ]
  },
  {
   "cell_type": "code",
   "execution_count": null,
   "metadata": {},
   "outputs": [],
   "source": [
    "del ee\n",
    "del ee_2"
   ]
  },
  {
   "cell_type": "markdown",
   "metadata": {},
   "source": [
    "## Example 2\n",
    "Model training with multiple calls"
   ]
  },
  {
   "cell_type": "code",
   "execution_count": null,
   "metadata": {},
   "outputs": [],
   "source": [
    "# numpy and pandas for data manipulation\n",
    "import sys\n",
    "# Suppress warnings\n",
    "import warnings\n",
    "\n",
    "import matplotlib.pyplot as plt\n",
    "import networkx as nx\n",
    "\n",
    "import numpy as np\n",
    "import pandas as pd\n",
    "\n",
    "warnings.filterwarnings('ignore')\n",
    "\n",
    "# matplotlib and seaborn for plotting\n",
    "import matplotlib.pyplot as plt\n",
    "%matplotlib inline\n",
    "\n",
    "ROOT_PACKAGE_DIRECTORY = '/Users/bede01/Documents/work/phd-papers/ml-workload-optimization/code/jupyter'\n",
    "root_data = ROOT_PACKAGE_DIRECTORY + '/data'\n",
    "\n",
    "\n",
    "sys.path.append(ROOT_PACKAGE_DIRECTORY)\n",
    "from experiment_graph.execution_environment import ExecutionEnvironment\n",
    "\n",
    "DATABASE_PATH = root_data + '/experiment_graphs/optimizer_test/uc2'"
   ]
  },
  {
   "cell_type": "code",
   "execution_count": null,
   "metadata": {},
   "outputs": [],
   "source": [
    "# Use Case: Chain of 3 Transformations and 1 Model Building (includes two merges in total)\n",
    "# Create Execution Environment\n",
    "ee = ExecutionEnvironment('dedup')\n",
    "\n",
    "# Load Data\n",
    "train = ee.load(root_data + '/openml/task_id=31/train.csv')\n",
    "\n",
    "# Transformation 1\n",
    "train = train.drop(columns=['checking_status'])\n",
    "\n",
    "# Transformation 2\n",
    "train_labels = train['class']\n",
    "train = train.drop(columns=['class'])\n",
    "\n",
    "# Transformation 3\n",
    "from experiment_graph.sklearn_helper.preprocessing import MinMaxScaler\n",
    "scaler = MinMaxScaler(feature_range=(0, 1))\n",
    "scaler.fit(train)\n",
    "train = scaler.transform(train)\n",
    "\n",
    "# Model Training\n",
    "from experiment_graph.sklearn_helper.ensemble import RandomForestClassifier\n",
    "random_forest = RandomForestClassifier(n_estimators=10, random_state=50, verbose=1, n_jobs=-1)\n",
    "random_forest.fit(train, train_labels)\n",
    "\n",
    "# Execute\n",
    "random_forest.trained_node.data()\n",
    "\n",
    "# Save history graph\n",
    "ee.save_history(DATABASE_PATH, overwrite=True)\n",
    "# Plot workload graph\n",
    "ee.workload_graph.plot_graph(plt,labels_for_vertex=['id'])"
   ]
  },
  {
   "cell_type": "code",
   "execution_count": null,
   "metadata": {},
   "outputs": [],
   "source": [
    "# Create new environment\n",
    "ee_2 = ExecutionEnvironment('dedup')\n",
    "# Load the history graph\n",
    "ee_2.load_history(DATABASE_PATH)"
   ]
  },
  {
   "cell_type": "code",
   "execution_count": null,
   "metadata": {},
   "outputs": [],
   "source": [
    "##### 1st .data() call ######\n",
    "# Load Data\n",
    "train = ee_2.load(root_data + '/openml/task_id=31/train.csv')\n",
    "\n",
    "# Transformation 1\n",
    "train = train.drop(columns=['checking_status'])\n",
    "\n",
    "# Transformation 2\n",
    "train_labels = train['class']\n",
    "train = train.drop(columns=['class'])\n",
    "train.data()\n",
    "ee_2.workload_graph.plot_graph(plt, labels_for_vertex=['id'], labels_for_edges=['name'])"
   ]
  },
  {
   "cell_type": "code",
   "execution_count": null,
   "metadata": {},
   "outputs": [],
   "source": [
    "##### 2st .data() call ######\n",
    "# Transformation 3\n",
    "from experiment_graph.sklearn_helper.preprocessing import MinMaxScaler\n",
    "scaler = MinMaxScaler(feature_range=(0, 1))\n",
    "scaler.fit(train)\n",
    "train = scaler.transform(train)\n",
    "data = train.data(verbose=1)\n",
    "ee_2.workload_graph.plot_graph(plt, labels_for_vertex=['id'], labels_for_edges=['name'])"
   ]
  },
  {
   "cell_type": "code",
   "execution_count": null,
   "metadata": {},
   "outputs": [],
   "source": [
    "##### 3rd .data() call ######\n",
    "# Model Training\n",
    "from experiment_graph.sklearn_helper.ensemble import RandomForestClassifier\n",
    "random_forest = RandomForestClassifier(n_estimators=10, random_state=50, verbose=1, n_jobs=-1)\n",
    "random_forest.fit(train, train_labels)\n",
    "\n",
    "# Execute\n",
    "random_forest.trained_node.data()\n",
    "ee_2.workload_graph.plot_graph(plt, labels_for_vertex=['id'], labels_for_edges=['name'])"
   ]
  }
 ],
 "metadata": {
  "kernelspec": {
   "display_name": "Python 2",
   "language": "python",
   "name": "python2"
  },
  "language_info": {
   "codemirror_mode": {
    "name": "ipython",
    "version": 2
   },
   "file_extension": ".py",
   "mimetype": "text/x-python",
   "name": "python",
   "nbconvert_exporter": "python",
   "pygments_lexer": "ipython2",
   "version": "2.7.16"
  }
 },
 "nbformat": 4,
 "nbformat_minor": 2
}
