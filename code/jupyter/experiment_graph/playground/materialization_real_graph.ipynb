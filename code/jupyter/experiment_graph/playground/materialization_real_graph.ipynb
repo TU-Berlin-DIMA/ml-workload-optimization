{
 "cells": [
  {
   "cell_type": "code",
   "execution_count": 1,
   "metadata": {},
   "outputs": [],
   "source": [
    "# numpy and pandas for data manipulation\n",
    "import sys\n",
    "# Suppress warnings\n",
    "import warnings\n",
    "\n",
    "import matplotlib.pyplot as plt\n",
    "\n",
    "warnings.filterwarnings('ignore')\n",
    "\n",
    "# matplotlib and seaborn for plotting\n",
    "% matplotlib inline\n",
    "\n",
    "ROOT_PACKAGE_DIRECTORY = '/Users/bede01/Documents/work/phd-papers/ml-workload-optimization/code/jupyter'\n",
    "root_data = ROOT_PACKAGE_DIRECTORY + '/data'\n",
    "\n",
    "sys.path.append(ROOT_PACKAGE_DIRECTORY)\n",
    "from experiment_graph.execution_environment import ExecutionEnvironment\n",
    "from experiment_graph.benchmark_helper import BenchmarkMetrics\n",
    "\n",
    "DATABASE_PATH = root_data + '/experiment_graphs/home-credit-default-risk/base_intro_manual'\n"
   ]
  },
  {
   "cell_type": "code",
   "execution_count": 2,
   "metadata": {},
   "outputs": [],
   "source": [
    "# Prepare the Data\n",
    "# Create Execution Environment\n",
    "ee = ExecutionEnvironment('dedup')\n",
    "ee.load_history_from_disk(DATABASE_PATH)\n"
   ]
  },
  {
   "cell_type": "code",
   "execution_count": 3,
   "metadata": {},
   "outputs": [],
   "source": [
    "total_size = ee.history_graph.get_total_size()\n",
    "real_size = ee.get_real_history_graph_size()"
   ]
  },
  {
   "cell_type": "code",
   "execution_count": 4,
   "metadata": {},
   "outputs": [
    {
     "name": "stdout",
     "output_type": "stream",
     "text": [
      "artifacts size: 42.974077099\n",
      "real size: 17.0433312859\n"
     ]
    }
   ],
   "source": [
    "print 'artifacts size: {}'.format(total_size / (1024.0 * 1024.0))\n",
    "print 'real size: {}'.format(real_size / (1024.0 * 1024.0))"
   ]
  },
  {
   "cell_type": "code",
   "execution_count": 6,
   "metadata": {},
   "outputs": [],
   "source": [
    "from experiment_graph.materialization_algorithms.materialization_methods import  HeuristicsMaterializer, StorageAwareMaterializer\n"
   ]
  },
  {
   "cell_type": "code",
   "execution_count": 7,
   "metadata": {},
   "outputs": [
    {
     "name": "stdout",
     "output_type": "stream",
     "text": [
      "nothing to materialize for node 58A43652BF27ABB7771D5CA3E1852FD8\n",
      "nothing to materialize for node 714D71FB916B70ECDE5BA3610C00A000\n",
      "nothing to materialize for node 7B212D402DC1861C8B0111F518FF2BD9\n",
      "nothing to materialize for node 30E1E62C1158C8369EB98F1B7367C398\n",
      "nothing to materialize for node 0E9AF8B7D8A07246F16A9352450DE31D\n",
      "nothing to materialize for node 4C5C40198200B03567F054DFCF392F55\n",
      "budget in the loop: 3871.76074219\n",
      "current size: 4190432.23926\n",
      "state after iteration 1\n",
      "total size of materialized nodes: 4190432.23926, actual on disk size: 3552506.05176\n",
      "remaining budget: 641797.948242, number of nodes to materialize: 230\n",
      "budget in the loop: 2015.15917969\n",
      "current size: 9191418.16406\n",
      "state after iteration 2\n",
      "total size of materialized nodes: 9191418.16406, actual on disk size: 3938070.66895\n",
      "remaining budget: 256233.331055, number of nodes to materialize: 246\n",
      "budget in the loop: 960.079101562\n",
      "current size: 9634882.89258\n",
      "state after iteration 3\n",
      "total size of materialized nodes: 9634882.89258, actual on disk size: 4193343.9209\n",
      "remaining budget: 960.079101562, number of nodes to materialize: 252\n",
      "budget in the loop: 960.079101562\n",
      "current size: 9708299.66602\n",
      "state after iteration 4\n",
      "total size of materialized nodes: 9708299.66602, actual on disk size: 4193343.9209\n",
      "remaining budget: 960.079101562, number of nodes to materialize: 254\n",
      "budget in the loop: 960.079101562\n",
      "current size: 9708299.66602\n"
     ]
    }
   ],
   "source": [
    "BUDGET = (1024.0 * 1024.0) * 4.0# 1gb\n",
    "sa_materializer = StorageAwareMaterializer(execution_environment=ee, storage_budget=BUDGET, verbose=True)\n",
    "\n",
    "sa_materializer.run_and_materialize()\n"
   ]
  },
  {
   "cell_type": "code",
   "execution_count": 8,
   "metadata": {},
   "outputs": [
    {
     "name": "stdout",
     "output_type": "stream",
     "text": [
      "artifacts size: 9.25855604745\n",
      "real size: 3.99908439722\n"
     ]
    }
   ],
   "source": [
    "total_size = ee.history_graph.get_total_size()\n",
    "real_size = ee.get_real_history_graph_size()\n",
    "print 'artifacts size: {}'.format(total_size / (1024.0 * 1024.0))\n",
    "print 'real size: {}'.format(real_size / (1024.0 * 1024.0))"
   ]
  },
  {
   "cell_type": "code",
   "execution_count": 9,
   "metadata": {},
   "outputs": [],
   "source": [
    "ee.save_history(environment_folder=root_data + '/experiment_graphs/home-credit-default-risk/materialized_intro_manual', skip_history_update=True)"
   ]
  },
  {
   "cell_type": "code",
   "execution_count": 5,
   "metadata": {},
   "outputs": [
    {
     "name": "stdout",
     "output_type": "stream",
     "text": [
      "('bureau.csv{}', {'loc': '/Users/bede01/Documents/work/phd-papers/ml-workload-optimization/code/jupyter/data/home-credit-default-risk/bureau.csv', 'root': True, 'meta_freq': 1, 'data': <experiment_graph.execution_environment.Dataset object at 0x113662bd0>, 'extra_params': {}, 'type': 'Dataset', 'size': 464059.314453125}) 0.442561449483\n",
      "('application_test.csv{}', {'loc': '/Users/bede01/Documents/work/phd-papers/ml-workload-optimization/code/jupyter/data/home-credit-default-risk/application_test.csv', 'root': True, 'meta_freq': 1, 'data': <experiment_graph.execution_environment.Dataset object at 0x135c8d910>, 'extra_params': {}, 'type': 'Dataset', 'size': 100182.56640625}) 0.0955415405333\n",
      "('application_train.csv{}', {'loc': '/Users/bede01/Documents/work/phd-papers/ml-workload-optimization/code/jupyter/data/home-credit-default-risk/application_train.csv', 'root': True, 'meta_freq': 1, 'data': <experiment_graph.execution_environment.Dataset object at 0x110778a90>, 'extra_params': {}, 'type': 'Dataset', 'size': 402627.8291015625}) 0.383975819685\n",
      "('application_test_labels.csv{}', {'loc': '/Users/bede01/Documents/work/phd-papers/ml-workload-optimization/code/jupyter/data/home-credit-default-risk/application_test_labels.csv', 'root': True, 'meta_freq': 1, 'data': <experiment_graph.execution_environment.Dataset object at 0x11369ded0>, 'extra_params': {}, 'type': 'Dataset', 'size': 1441.6875}) 0.00137490034103\n",
      "('bureau_balance.csv{}', {'loc': '/Users/bede01/Documents/work/phd-papers/ml-workload-optimization/code/jupyter/data/home-credit-default-risk/bureau_balance.csv', 'root': True, 'meta_freq': 1, 'data': <experiment_graph.execution_environment.Dataset object at 0x1206ab550>, 'extra_params': {}, 'type': 'Dataset', 'size': 1652925.357421875}) 1.57635246031\n",
      "2621236.75488\n"
     ]
    }
   ],
   "source": [
    "root_size = 0\n",
    "for n in ee.history_graph.graph.nodes(data=True):\n",
    "    if n[1]['root']:\n",
    "        root_size+=n[1]['size'] \n",
    "        print n, n[1]['size'] / (1024.0 * 1024.0)\n",
    "print root_size"
   ]
  },
  {
   "cell_type": "code",
   "execution_count": null,
   "metadata": {},
   "outputs": [],
   "source": [
    "import pandas as pd"
   ]
  },
  {
   "cell_type": "code",
   "execution_count": null,
   "metadata": {},
   "outputs": [],
   "source": [
    "df = pd.read_csv(root_data+'/home-credit-default-risk/bureau_balance.csv')"
   ]
  },
  {
   "cell_type": "code",
   "execution_count": null,
   "metadata": {},
   "outputs": [],
   "source": [
    "df.memory_usage(index=False,deep=True)/1000000"
   ]
  },
  {
   "cell_type": "code",
   "execution_count": null,
   "metadata": {},
   "outputs": [],
   "source": [
    "df['STATUS'] = df['STATUS'].astype('category')"
   ]
  },
  {
   "cell_type": "code",
   "execution_count": null,
   "metadata": {},
   "outputs": [],
   "source": [
    "df.head()"
   ]
  },
  {
   "cell_type": "code",
   "execution_count": null,
   "metadata": {},
   "outputs": [],
   "source": [
    "df.to_csv(root_data+'/home-credit-default-risk/bureau_balance-2.csv', index=False)"
   ]
  },
  {
   "cell_type": "code",
   "execution_count": null,
   "metadata": {},
   "outputs": [],
   "source": [
    "dff = df.infer_objects()"
   ]
  },
  {
   "cell_type": "code",
   "execution_count": null,
   "metadata": {},
   "outputs": [],
   "source": [
    "dff.memory_usage(index=False,deep=True)/1000000"
   ]
  },
  {
   "cell_type": "code",
   "execution_count": null,
   "metadata": {},
   "outputs": [],
   "source": [
    "s = '/Users/bede01/Documents/work/phd-papers/ml-workload-optimization/code/jupyter/data/home-credit-default-risk/application_test_labels.csv'"
   ]
  },
  {
   "cell_type": "code",
   "execution_count": null,
   "metadata": {},
   "outputs": [],
   "source": [
    "s[s.rfind('/')+1:]"
   ]
  },
  {
   "cell_type": "code",
   "execution_count": null,
   "metadata": {},
   "outputs": [],
   "source": []
  }
 ],
 "metadata": {
  "kernelspec": {
   "display_name": "Python 2",
   "language": "python",
   "name": "python2"
  },
  "language_info": {
   "codemirror_mode": {
    "name": "ipython",
    "version": 2
   },
   "file_extension": ".py",
   "mimetype": "text/x-python",
   "name": "python",
   "nbconvert_exporter": "python",
   "pygments_lexer": "ipython2",
   "version": "2.7.16"
  }
 },
 "nbformat": 4,
 "nbformat_minor": 2
}
