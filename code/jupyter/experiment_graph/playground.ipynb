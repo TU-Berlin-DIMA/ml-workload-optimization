{
 "cells": [
  {
   "cell_type": "code",
   "execution_count": 8,
   "metadata": {},
   "outputs": [],
   "source": [
    "# numpy and pandas for data manipulation\n",
    "import numpy as np\n",
    "import pandas as pd\n",
    "import sys\n",
    "import networkx as nx\n",
    "import os\n",
    "import warnings\n",
    "# matplotlib and seaborn for plotting\n",
    "\n",
    "import matplotlib.pyplot as plt\n",
    "import seaborn as sns\n",
    "\n",
    "# sklearn preprocessing for dealing with categorical variables\n",
    "from sklearn.preprocessing import LabelEncoder\n",
    "\n",
    "import os\n",
    "\n",
    "# Suppress warnings\n",
    "import warnings\n",
    "warnings.filterwarnings('ignore')\n",
    "\n",
    "# matplotlib and seaborn for plotting\n",
    "import matplotlib.pyplot as plt\n",
    "import seaborn as sns\n",
    "%matplotlib inline\n",
    "ROOT_PACKAGE_DIRECTORY = '/Users/bede01/Documents/work/phd-papers/ml-workload-optimization/code/jupyter'\n",
    "ROOT_DATA_DIRECTORY = ROOT_PACKAGE_DIRECTORY + '/data'\n",
    "GRAPH_DATABASE_PATH = ROOT_PACKAGE_DIRECTORY + '/data/graph/exp-reuse-same-workload.graph'\n",
    "sys.path.append(ROOT_PACKAGE_DIRECTORY)\n",
    "\n",
    "# Experiment Graph\n",
    "from experiment_graph.execution_environment import ExecutionEnvironment as ee\n",
    "\n",
    "\n",
    "# Suppress warnings\n",
    "warnings.filterwarnings('ignore')\n",
    "% matplotlib inline\n",
    "\n",
    "\n",
    "try:\n",
    "    import pygraphviz\n",
    "    from networkx.drawing.nx_agraph import graphviz_layout\n",
    "except ImportError:\n",
    "    try:\n",
    "        import pydot\n",
    "        from networkx.drawing.nx_pydot import graphviz_layout\n",
    "    except ImportError:\n",
    "        raise ImportError(\"This example needs Graphviz and either \"\n",
    "                          \"PyGraphviz or pydot\")"
   ]
  },
  {
   "cell_type": "code",
   "execution_count": 10,
   "metadata": {},
   "outputs": [],
   "source": [
    "import os\n",
    "import sys\n",
    "import warnings\n",
    "import hashlib\n",
    "\n",
    "import matplotlib.pyplot as plt\n",
    "import pandas as pd\n",
    "import numpy as np\n",
    "import seaborn as sns\n",
    "# Experiment Graph\n",
    "from sklearn.preprocessing import LabelEncoder\n",
    "from importlib import import_module"
   ]
  },
  {
   "cell_type": "code",
   "execution_count": 17,
   "metadata": {},
   "outputs": [],
   "source": [
    "ee = import_module('experiment_graph.execution_environment')"
   ]
  },
  {
   "cell_type": "code",
   "execution_count": 18,
   "metadata": {},
   "outputs": [
    {
     "ename": "ImportError",
     "evalue": "No module named ExecutionEnvironment",
     "output_type": "error",
     "traceback": [
      "\u001b[0;31m---------------------------------------------------------------------------\u001b[0m",
      "\u001b[0;31mImportError\u001b[0m                               Traceback (most recent call last)",
      "\u001b[0;32m<ipython-input-18-aebc47e5de20>\u001b[0m in \u001b[0;36m<module>\u001b[0;34m()\u001b[0m\n\u001b[0;32m----> 1\u001b[0;31m \u001b[0;32mimport\u001b[0m \u001b[0mexperiment_graph\u001b[0m\u001b[0;34m.\u001b[0m\u001b[0mexecution_environment\u001b[0m\u001b[0;34m.\u001b[0m\u001b[0mExecutionEnvironment\u001b[0m\u001b[0;34m\u001b[0m\u001b[0m\n\u001b[0m",
      "\u001b[0;31mImportError\u001b[0m: No module named ExecutionEnvironment"
     ]
    }
   ],
   "source": [
    "import experiment_graph.execution_environment.ExecutionEnvironment"
   ]
  },
  {
   "cell_type": "code",
   "execution_count": 7,
   "metadata": {},
   "outputs": [
    {
     "data": {
      "text/plain": [
       "False"
      ]
     },
     "execution_count": 7,
     "metadata": {},
     "output_type": "execute_result"
    }
   ],
   "source": [
    "100 in a"
   ]
  },
  {
   "cell_type": "code",
   "execution_count": 3,
   "metadata": {},
   "outputs": [
    {
     "name": "stdout",
     "output_type": "stream",
     "text": [
      "['.DS_Store', 'graph', 'home-credit-default-risk']\n",
      "('Training data shape: ', (307511, 122))\n",
      "('Testing data shape: ', (48744, 121))\n"
     ]
    },
    {
     "data": {
      "text/plain": [
       "<matplotlib.axes._subplots.AxesSubplot at 0x10924c290>"
      ]
     },
     "execution_count": 3,
     "metadata": {},
     "output_type": "execute_result"
    },
    {
     "data": {
      "image/png": "[encoded data removed]",
      "text/plain": [
       "<matplotlib.figure.Figure at 0x10923f310>"
      ]
     },
     "metadata": {},
     "output_type": "display_data"
    }
   ],
   "source": [
    "print(os.listdir(ROOT_DATA_DIRECTORY))\n",
    "app_train = ee.load(ROOT_DATA_DIRECTORY + '/home-credit-default-risk/application_train.csv')\n",
    "print('Training data shape: ', app_train.shape().data())\n",
    "app_train.head().data()\n",
    "\n",
    "app_test = ee.load(ROOT_DATA_DIRECTORY + '/home-credit-default-risk/application_test.csv')\n",
    "print('Testing data shape: ', app_test.shape().data())\n",
    "app_test.head().data()\n",
    "\n",
    "app_train['TARGET'].value_counts().data()\n",
    "\n",
    "app_train['TARGET'].data().astype(int).plot.hist()"
   ]
  },
  {
   "cell_type": "code",
   "execution_count": 4,
   "metadata": {},
   "outputs": [
    {
     "name": "stdout",
     "output_type": "stream",
     "text": [
      "Your selected dataframe has 122 columns.\n",
      "There are 67 columns that have missing values.\n"
     ]
    },
    {
     "data": {
      "text/html": [
       "<div>\n",
       "<style scoped>\n",
       "    .dataframe tbody tr th:only-of-type {\n",
       "        vertical-align: middle;\n",
       "    }\n",
       "\n",
       "    .dataframe tbody tr th {\n",
       "        vertical-align: top;\n",
       "    }\n",
       "\n",
       "    .dataframe thead th {\n",
       "        text-align: right;\n",
       "    }\n",
       "</style>\n",
       "<table border=\"1\" class=\"dataframe\">\n",
       "  <thead>\n",
       "    <tr style=\"text-align: right;\">\n",
       "      <th></th>\n",
       "      <th>Missing Values</th>\n",
       "      <th>% of Total Values</th>\n",
       "    </tr>\n",
       "  </thead>\n",
       "  <tbody>\n",
       "    <tr>\n",
       "      <th>COMMONAREA_MEDI</th>\n",
       "      <td>214865</td>\n",
       "      <td>69.9</td>\n",
       "    </tr>\n",
       "    <tr>\n",
       "      <th>COMMONAREA_AVG</th>\n",
       "      <td>214865</td>\n",
       "      <td>69.9</td>\n",
       "    </tr>\n",
       "    <tr>\n",
       "      <th>COMMONAREA_MODE</th>\n",
       "      <td>214865</td>\n",
       "      <td>69.9</td>\n",
       "    </tr>\n",
       "    <tr>\n",
       "      <th>NONLIVINGAPARTMENTS_MEDI</th>\n",
       "      <td>213514</td>\n",
       "      <td>69.4</td>\n",
       "    </tr>\n",
       "    <tr>\n",
       "      <th>NONLIVINGAPARTMENTS_MODE</th>\n",
       "      <td>213514</td>\n",
       "      <td>69.4</td>\n",
       "    </tr>\n",
       "    <tr>\n",
       "      <th>NONLIVINGAPARTMENTS_AVG</th>\n",
       "      <td>213514</td>\n",
       "      <td>69.4</td>\n",
       "    </tr>\n",
       "    <tr>\n",
       "      <th>FONDKAPREMONT_MODE</th>\n",
       "      <td>210295</td>\n",
       "      <td>68.4</td>\n",
       "    </tr>\n",
       "    <tr>\n",
       "      <th>LIVINGAPARTMENTS_MODE</th>\n",
       "      <td>210199</td>\n",
       "      <td>68.4</td>\n",
       "    </tr>\n",
       "    <tr>\n",
       "      <th>LIVINGAPARTMENTS_MEDI</th>\n",
       "      <td>210199</td>\n",
       "      <td>68.4</td>\n",
       "    </tr>\n",
       "    <tr>\n",
       "      <th>LIVINGAPARTMENTS_AVG</th>\n",
       "      <td>210199</td>\n",
       "      <td>68.4</td>\n",
       "    </tr>\n",
       "    <tr>\n",
       "      <th>FLOORSMIN_MODE</th>\n",
       "      <td>208642</td>\n",
       "      <td>67.8</td>\n",
       "    </tr>\n",
       "    <tr>\n",
       "      <th>FLOORSMIN_MEDI</th>\n",
       "      <td>208642</td>\n",
       "      <td>67.8</td>\n",
       "    </tr>\n",
       "    <tr>\n",
       "      <th>FLOORSMIN_AVG</th>\n",
       "      <td>208642</td>\n",
       "      <td>67.8</td>\n",
       "    </tr>\n",
       "    <tr>\n",
       "      <th>YEARS_BUILD_MODE</th>\n",
       "      <td>204488</td>\n",
       "      <td>66.5</td>\n",
       "    </tr>\n",
       "    <tr>\n",
       "      <th>YEARS_BUILD_MEDI</th>\n",
       "      <td>204488</td>\n",
       "      <td>66.5</td>\n",
       "    </tr>\n",
       "    <tr>\n",
       "      <th>YEARS_BUILD_AVG</th>\n",
       "      <td>204488</td>\n",
       "      <td>66.5</td>\n",
       "    </tr>\n",
       "    <tr>\n",
       "      <th>OWN_CAR_AGE</th>\n",
       "      <td>202929</td>\n",
       "      <td>66.0</td>\n",
       "    </tr>\n",
       "    <tr>\n",
       "      <th>LANDAREA_AVG</th>\n",
       "      <td>182590</td>\n",
       "      <td>59.4</td>\n",
       "    </tr>\n",
       "    <tr>\n",
       "      <th>LANDAREA_MEDI</th>\n",
       "      <td>182590</td>\n",
       "      <td>59.4</td>\n",
       "    </tr>\n",
       "    <tr>\n",
       "      <th>LANDAREA_MODE</th>\n",
       "      <td>182590</td>\n",
       "      <td>59.4</td>\n",
       "    </tr>\n",
       "  </tbody>\n",
       "</table>\n",
       "</div>"
      ],
      "text/plain": [
       "                          Missing Values  % of Total Values\n",
       "COMMONAREA_MEDI                   214865               69.9\n",
       "COMMONAREA_AVG                    214865               69.9\n",
       "COMMONAREA_MODE                   214865               69.9\n",
       "NONLIVINGAPARTMENTS_MEDI          213514               69.4\n",
       "NONLIVINGAPARTMENTS_MODE          213514               69.4\n",
       "NONLIVINGAPARTMENTS_AVG           213514               69.4\n",
       "FONDKAPREMONT_MODE                210295               68.4\n",
       "LIVINGAPARTMENTS_MODE             210199               68.4\n",
       "LIVINGAPARTMENTS_MEDI             210199               68.4\n",
       "LIVINGAPARTMENTS_AVG              210199               68.4\n",
       "FLOORSMIN_MODE                    208642               67.8\n",
       "FLOORSMIN_MEDI                    208642               67.8\n",
       "FLOORSMIN_AVG                     208642               67.8\n",
       "YEARS_BUILD_MODE                  204488               66.5\n",
       "YEARS_BUILD_MEDI                  204488               66.5\n",
       "YEARS_BUILD_AVG                   204488               66.5\n",
       "OWN_CAR_AGE                       202929               66.0\n",
       "LANDAREA_AVG                      182590               59.4\n",
       "LANDAREA_MEDI                     182590               59.4\n",
       "LANDAREA_MODE                     182590               59.4"
      ]
     },
     "execution_count": 4,
     "metadata": {},
     "output_type": "execute_result"
    }
   ],
   "source": [
    "# Function to calculate missing values by column# Funct\n",
    "def missing_values_table(dataset):\n",
    "    # Total missing values\n",
    "    mis_val = dataset.isnull().sum().data()\n",
    "\n",
    "    mis_val_percent = 100 * mis_val / len(dataset.data())\n",
    "\n",
    "    # Make a table with the results\n",
    "    mis_val_table = pd.concat([mis_val, mis_val_percent], axis=1)\n",
    "    # Rename the columns\n",
    "    mis_val_table_ren_columns = mis_val_table.rename(columns={\n",
    "        0: 'Missing Values',\n",
    "        1: '% of Total Values'\n",
    "    })\n",
    "    # Sort the table by percentage of missing descending\n",
    "    mis_val_table_ren_columns = mis_val_table_ren_columns[\n",
    "        mis_val_table_ren_columns.iloc[:, 1] != 0].sort_values(\n",
    "        '% of Total Values', ascending=False).round(1)\n",
    "\n",
    "    # Print some summary information\n",
    "    print(\"Your selected dataframe has \" + str(dataset.shape().data()[1]) + \" columns.\\n\"\n",
    "                                                                          \"There are \" + str(\n",
    "        mis_val_table_ren_columns.shape[0]) +\n",
    "          \" columns that have missing values.\")\n",
    "\n",
    "    # Return the dataframe with missing information\n",
    "    return mis_val_table_ren_columns\n",
    "\n",
    "\n",
    "missing_values = missing_values_table(app_train)\n",
    "missing_values.head(20)"
   ]
  },
  {
   "cell_type": "code",
   "execution_count": 5,
   "metadata": {},
   "outputs": [
    {
     "data": {
      "text/plain": [
       "float64    65\n",
       "int64      41\n",
       "object     16\n",
       "dtype: int64"
      ]
     },
     "execution_count": 5,
     "metadata": {},
     "output_type": "execute_result"
    }
   ],
   "source": [
    "app_train.dtypes().data().value_counts()"
   ]
  },
  {
   "cell_type": "code",
   "execution_count": 6,
   "metadata": {},
   "outputs": [
    {
     "data": {
      "text/plain": [
       "NAME_CONTRACT_TYPE             2\n",
       "CODE_GENDER                    3\n",
       "FLAG_OWN_CAR                   2\n",
       "FLAG_OWN_REALTY                2\n",
       "NAME_TYPE_SUITE                7\n",
       "NAME_INCOME_TYPE               8\n",
       "NAME_EDUCATION_TYPE            5\n",
       "NAME_FAMILY_STATUS             6\n",
       "NAME_HOUSING_TYPE              6\n",
       "OCCUPATION_TYPE               18\n",
       "WEEKDAY_APPR_PROCESS_START     7\n",
       "ORGANIZATION_TYPE             58\n",
       "FONDKAPREMONT_MODE             4\n",
       "HOUSETYPE_MODE                 3\n",
       "WALLSMATERIAL_MODE             7\n",
       "EMERGENCYSTATE_MODE            2\n",
       "dtype: int64"
      ]
     },
     "execution_count": 6,
     "metadata": {},
     "output_type": "execute_result"
    }
   ],
   "source": [
    "app_train.select_dtypes('object').nunique().data()"
   ]
  },
  {
   "cell_type": "code",
   "execution_count": 7,
   "metadata": {},
   "outputs": [
    {
     "name": "stdout",
     "output_type": "stream",
     "text": [
      "3 columns were label encoded.\n"
     ]
    }
   ],
   "source": [
    "le = LabelEncoder()\n",
    "le_count = 0\n",
    "\n",
    "columns = app_train.select_dtypes('object').data().columns\n",
    "for col in columns:\n",
    "    # we are not using nunique because it discard nan\n",
    "    if app_train[col].nunique(dropna=False).data() <= 2:\n",
    "        model = app_train[col].fit_sk_model(le)\n",
    "\n",
    "        transformed_train = model.transform_col(app_train[col], col)\n",
    "        app_train = app_train.drop(col)\n",
    "        app_train = app_train.add_columns(col, transformed_train)\n",
    "\n",
    "        transformed_test = model.transform_col(app_test[col], col)\n",
    "        app_test = app_test.drop(col)\n",
    "        app_test = app_test.add_columns(col, transformed_test)\n",
    "\n",
    "        # Keep track of how many columns were label encoded\n",
    "        le_count += 1\n",
    "print('%d columns were label encoded.' % le_count)"
   ]
  },
  {
   "cell_type": "code",
   "execution_count": 8,
   "metadata": {},
   "outputs": [
    {
     "name": "stdout",
     "output_type": "stream",
     "text": [
      "('Training Features shape: ', (307511, 243))\n",
      "('Testing Features shape: ', (48744, 239))\n"
     ]
    }
   ],
   "source": [
    "app_train = app_train.onehot_encode()\n",
    "app_test = app_test.onehot_encode()\n",
    "\n",
    "print('Training Features shape: ', app_train.shape().data())\n",
    "print('Testing Features shape: ', app_test.shape().data())"
   ]
  },
  {
   "cell_type": "code",
   "execution_count": 9,
   "metadata": {},
   "outputs": [],
   "source": [
    "train_labels = app_train['TARGET']\n",
    "train_columns = app_train.data().columns\n",
    "test_columns = app_test.data().columns\n",
    "for c in train_columns:\n",
    "    if c not in test_columns:\n",
    "        app_train = app_train.drop(c)\n",
    "\n",
    "app_train = app_train.add_columns('TARGET', train_labels)"
   ]
  },
  {
   "cell_type": "code",
   "execution_count": 10,
   "metadata": {},
   "outputs": [
    {
     "name": "stdout",
     "output_type": "stream",
     "text": [
      "('Training Features shape: ', (307511, 240))\n",
      "('Testing Features shape: ', (48744, 239))\n"
     ]
    }
   ],
   "source": [
    "print('Training Features shape: ', app_train.shape().data())\n",
    "print('Testing Features shape: ', app_test.shape().data())"
   ]
  },
  {
   "cell_type": "code",
   "execution_count": 11,
   "metadata": {},
   "outputs": [
    {
     "data": {
      "text/plain": [
       "Text(0.5,0,u'Days Employment')"
      ]
     },
     "execution_count": 11,
     "metadata": {},
     "output_type": "execute_result"
    },
    {
     "data": {
      "image/png": "[encoded data removed]",
      "text/plain": [
       "<matplotlib.figure.Figure at 0x111f97810>"
      ]
     },
     "metadata": {},
     "output_type": "display_data"
    }
   ],
   "source": [
    "(app_train['DAYS_BIRTH'] / 365).describe().data()\n",
    "\n",
    "app_train['DAYS_EMPLOYED'].describe().data()\n",
    "\n",
    "app_train['DAYS_EMPLOYED'].data().plot.hist(title='Days Employment Histogram')\n",
    "plt.xlabel('Days Employment')"
   ]
  },
  {
   "cell_type": "code",
   "execution_count": 12,
   "metadata": {},
   "outputs": [
    {
     "name": "stdout",
     "output_type": "stream",
     "text": [
      "The non-anomalies default on 8.66% of loans\n",
      "The anomalies default on 5.40% of loans\n",
      "There are 55374 anomalous days of employment\n"
     ]
    }
   ],
   "source": [
    "anom = app_train[app_train['DAYS_EMPLOYED'] == 365243]\n",
    "non_anom = app_train[app_train['DAYS_EMPLOYED'] != 365243]\n",
    "print('The non-anomalies default on %0.2f%% of loans' % (100 * non_anom['TARGET'].mean().data()))\n",
    "print('The anomalies default on %0.2f%% of loans' % (100 * anom['TARGET'].mean().data()))\n",
    "print('There are %d anomalous days of employment' % anom.shape().data()[0])"
   ]
  },
  {
   "cell_type": "code",
   "execution_count": 13,
   "metadata": {},
   "outputs": [],
   "source": [
    "days_employed_anom = app_train['DAYS_EMPLOYED'] == 365243\n",
    "app_train = app_train.add_columns('DAYS_EMPLOYED_ANOM', days_employed_anom)\n",
    "temp = app_train['DAYS_EMPLOYED'].replace({365243: np.nan})\n",
    "app_train = app_train.drop('DAYS_EMPLOYED')\n",
    "app_train = app_train.add_columns('DAYS_EMPLOYED', temp)"
   ]
  },
  {
   "cell_type": "code",
   "execution_count": 14,
   "metadata": {},
   "outputs": [
    {
     "data": {
      "text/plain": [
       "Text(0.5,0,u'Days Employment')"
      ]
     },
     "execution_count": 14,
     "metadata": {},
     "output_type": "execute_result"
    },
    {
     "data": {
      "image/png": "[encoded data removed]",
      "text/plain": [
       "<matplotlib.figure.Figure at 0x10f2a7f10>"
      ]
     },
     "metadata": {},
     "output_type": "display_data"
    }
   ],
   "source": [
    "app_train[\"DAYS_EMPLOYED\"].data().plot.hist(title='Days Employment Histogram');\n",
    "plt.xlabel('Days Employment')"
   ]
  },
  {
   "cell_type": "code",
   "execution_count": 15,
   "metadata": {},
   "outputs": [
    {
     "name": "stdout",
     "output_type": "stream",
     "text": [
      "There are 9274 anomalies in the test data out of 48744 entries\n"
     ]
    }
   ],
   "source": [
    "days_employed_anom = app_test[\"DAYS_EMPLOYED\"] == 365243\n",
    "app_test = app_test.add_columns('DAYS_EMPLOYED_ANOM', days_employed_anom)\n",
    "temp = app_test['DAYS_EMPLOYED'].replace({365243: np.nan})\n",
    "app_test = app_test.drop('DAYS_EMPLOYED')\n",
    "app_test = app_test.add_columns('DAYS_EMPLOYED', temp)\n",
    "print('There are %d anomalies in the test data out of %d entries'\n",
    "      % (app_test['DAYS_EMPLOYED_ANOM'].sum().data(),\n",
    "         app_test.shape().data()[0]))"
   ]
  },
  {
   "cell_type": "code",
   "execution_count": 16,
   "metadata": {},
   "outputs": [],
   "source": [
    "# correlations = app_train.corr().data()\n",
    "# top = correlations['TARGET'].sort_values()\n",
    "# # Display correlations\n",
    "# print('Most Positive Correlations:\\n', top.tail(15))\n",
    "# print('\\nMost Negative Correlations:\\n', top.head(15))"
   ]
  },
  {
   "cell_type": "code",
   "execution_count": 17,
   "metadata": {},
   "outputs": [
    {
     "data": {
      "text/plain": [
       "-0.078239308309827088"
      ]
     },
     "execution_count": 17,
     "metadata": {},
     "output_type": "execute_result"
    }
   ],
   "source": [
    "abs_age = app_train['DAYS_BIRTH'].abs()\n",
    "app_train = app_train.drop('DAYS_BIRTH')\n",
    "app_train = app_train.add_columns('DAYS_BIRTH', abs_age)\n",
    "app_train['DAYS_BIRTH'].corr(app_train['TARGET']).data()"
   ]
  },
  {
   "cell_type": "code",
   "execution_count": 18,
   "metadata": {},
   "outputs": [
    {
     "data": {
      "text/plain": [
       "Text(0,0.5,u'Count')"
      ]
     },
     "execution_count": 18,
     "metadata": {},
     "output_type": "execute_result"
    },
    {
     "data": {
      "image/png": "[encoded data removed]",
      "text/plain": [
       "<matplotlib.figure.Figure at 0x10b08cf50>"
      ]
     },
     "metadata": {},
     "output_type": "display_data"
    }
   ],
   "source": [
    "# Set the style of plots\n",
    "plt.style.use('fivethirtyeight')\n",
    "\n",
    "# Plot the distribution of ages in years\n",
    "plt.hist((app_train['DAYS_BIRTH'] / 365).data(), edgecolor='k', bins=25)\n",
    "plt.title('Age of Client')\n",
    "plt.xlabel('Age (years)')\n",
    "plt.ylabel('Count')"
   ]
  },
  {
   "cell_type": "code",
   "execution_count": 19,
   "metadata": {},
   "outputs": [],
   "source": [
    "# plt.figure(figsize=(10, 8))\n",
    "# # KDE plot of loans that were repaid on time\n",
    "# sns.kdeplot((app_train[app_train['TARGET'] == 0]['DAYS_BIRTH'] / 365).data(), label='target == 0')\n",
    "# # KDE plot of loans which were not repaid on time\n",
    "# sns.kdeplot((app_train[app_train['TARGET'] == 1]['DAYS_BIRTH'] / 365).data(), label='target == 1')\n",
    "# # Labeling of plot\n",
    "# plt.xlabel('Age (years)')\n",
    "# plt.ylabel('Density')\n",
    "# plt.title('Distribution of Ages')"
   ]
  },
  {
   "cell_type": "code",
   "execution_count": 20,
   "metadata": {},
   "outputs": [],
   "source": [
    "# Age information into a separate dataframe\n",
    "age_data = app_train[['TARGET', 'DAYS_BIRTH']]\n",
    "years_birth = age_data['DAYS_BIRTH'] / 365\n",
    "age_data = age_data.add_columns('YEARS_BIRTH', years_birth)\n",
    "binned = age_data['YEARS_BIRTH'].binning(20, 70, 11)\n",
    "binned.setname('YEARS_BINNED')\n",
    "age_data = age_data.add_columns('YEARS_BINNED', binned)\n",
    "age_data.head(10).data()\n",
    "\n",
    "age_groups = age_data.groupby('YEARS_BINNED').mean()"
   ]
  },
  {
   "cell_type": "code",
   "execution_count": 21,
   "metadata": {},
   "outputs": [
    {
     "data": {
      "text/plain": [
       "Text(0.5,1,u'Failure to Repay by Age Group')"
      ]
     },
     "execution_count": 21,
     "metadata": {},
     "output_type": "execute_result"
    },
    {
     "data": {
      "image/png": "[encoded data removed]",
      "text/plain": [
       "<matplotlib.figure.Figure at 0x10b1a5590>"
      ]
     },
     "metadata": {},
     "output_type": "display_data"
    }
   ],
   "source": [
    "plt.figure(figsize=(8, 8))\n",
    "\n",
    "# Graph the age bins and the average of the target as a bar plot\n",
    "plt.bar(age_groups.data().index.astype(str), age_groups.data()['TARGET'] * 100)\n",
    "\n",
    "# Plot labeling\n",
    "plt.xticks(rotation=75)\n",
    "plt.xlabel('Age Group (years)')\n",
    "plt.ylabel('Failure to Repay (%)')\n",
    "plt.title('Failure to Repay by Age Group')"
   ]
  },
  {
   "cell_type": "code",
   "execution_count": 22,
   "metadata": {},
   "outputs": [],
   "source": [
    "# ext_data = app_train[['TARGET', 'EXT_SOURCE_1', 'EXT_SOURCE_2', 'EXT_SOURCE_3', 'DAYS_BIRTH']]\n",
    "# ext_data_corrs = ext_data.corr().data()\n",
    "\n",
    "# plt.figure(figsize=(8, 6))\n",
    "\n",
    "# # Heatmap of correlations\n",
    "# sns.heatmap(ext_data_corrs, cmap=plt.cm.RdYlBu_r, vmin=-0.25, annot=True, vmax=0.6)\n",
    "# plt.title('Correlation Heatmap')"
   ]
  },
  {
   "cell_type": "code",
   "execution_count": 23,
   "metadata": {},
   "outputs": [],
   "source": [
    "# plt.figure(figsize=(10, 12))\n",
    "\n",
    "# # iterate through the sources\n",
    "# for i, column in enumerate(['EXT_SOURCE_1', 'EXT_SOURCE_2', 'EXT_SOURCE_3']):\n",
    "#     # create a new subplot for each source\n",
    "#     plt.subplot(3, 1, i + 1)\n",
    "#     # plot repaid loans\n",
    "#     source_data = app_train[[column, 'TARGET']][app_train['TARGET'] == 0]\n",
    "#     sns.kdeplot(source_data[app_train[column].notna()][column].data(), label='target == 0')\n",
    "#     # plot loans that were not repaid\n",
    "#     source_data = app_train[[column, 'TARGET']][app_train['TARGET'] == 1]\n",
    "#     sns.kdeplot(source_data[app_train[column].notna()][column].data(), label='target == 1')\n",
    "\n",
    "#     # Label the plots\n",
    "#     plt.title('Distribution of %s by Target Value' % column)\n",
    "#     plt.xlabel('%s' % column)\n",
    "#     plt.ylabel('Density')\n",
    "\n",
    "# plt.tight_layout(h_pad=2.5)"
   ]
  },
  {
   "cell_type": "code",
   "execution_count": 24,
   "metadata": {},
   "outputs": [],
   "source": [
    "# # Copy the data for plotting\n",
    "# plot_data = ext_data.drop('DAYS_BIRTH')\n",
    "\n",
    "# # Add in the age of the client in years\n",
    "# plot_data = plot_data.add_columns('YEARS_BIRTH', age_data['YEARS_BIRTH'])\n",
    "# # Drop na values and limit to first 100000 rows\n",
    "# plot_data = plot_data.head(100000).dropna()\n",
    "\n",
    "# # Create the pair grid object\n",
    "# grid = sns.PairGrid(data=plot_data.data(), size=3, diag_sharey=False,\n",
    "#                     hue='TARGET',\n",
    "#                     vars=[x for x in list(plot_data.data().columns) if x != 'TARGET'])\n",
    "\n",
    "# # Upper is a scatter plot\n",
    "# grid.map_upper(plt.scatter, alpha=0.2)\n",
    "\n",
    "# # Diagonal is a histogram\n",
    "# grid.map_diag(sns.kdeplot)\n",
    "\n",
    "# # Bottom is density plot\n",
    "# grid.map_lower(sns.kdeplot, cmap=plt.cm.OrRd_r)\n",
    "\n",
    "# plt.suptitle('Ext Source and Age Features Pairs Plot', size=32, y=1.05)"
   ]
  },
  {
   "cell_type": "code",
   "execution_count": 25,
   "metadata": {},
   "outputs": [],
   "source": [
    "# Make a new dataframe for polynomial features\n",
    "poly_features = app_train[['EXT_SOURCE_1', 'EXT_SOURCE_2', 'EXT_SOURCE_3', 'DAYS_BIRTH', 'TARGET']]\n",
    "poly_features_test = app_test[['EXT_SOURCE_1', 'EXT_SOURCE_2', 'EXT_SOURCE_3', 'DAYS_BIRTH']]\n",
    "\n",
    "# imputer for handling missing values\n",
    "from sklearn.preprocessing import Imputer\n",
    "\n",
    "imputer = Imputer(strategy='median')\n",
    "\n",
    "poly_target = poly_features['TARGET']\n",
    "\n",
    "poly_features = poly_features.drop(columns=['TARGET'])\n",
    "\n",
    "# Need to impute missing values\n",
    "imputer_model = poly_features.fit_sk_model(imputer)\n",
    "poly_features = imputer_model.transform(poly_features)\n",
    "poly_features_test = imputer_model.transform(poly_features_test)\n",
    "\n",
    "from sklearn.preprocessing import PolynomialFeatures\n",
    "\n",
    "# Create the polynomial object with specified degree\n",
    "poly_transformer = PolynomialFeatures(degree=3)\n",
    "\n",
    "# Train the polynomial features\n",
    "poly_transformer_model = poly_features.fit_sk_model(poly_transformer)\n",
    "\n",
    "poly_features = poly_transformer_model.transform(poly_features)\n",
    "poly_features_test = poly_transformer_model.transform(poly_features_test)\n",
    "\n",
    "new_names = poly_transformer_model.data().get_feature_names(input_features=[\n",
    "    'EXT_SOURCE_1', 'EXT_SOURCE_2', 'EXT_SOURCE_3', 'DAYS_BIRTH'\n",
    "])\n",
    "\n",
    "# Call manually before meta data update\n",
    "poly_features.set_columns(new_names)"
   ]
  },
  {
   "cell_type": "code",
   "execution_count": 26,
   "metadata": {},
   "outputs": [
    {
     "name": "stdout",
     "output_type": "stream",
     "text": [
      "EXT_SOURCE_2 EXT_SOURCE_3                -0.193939\n",
      "EXT_SOURCE_1 EXT_SOURCE_2 EXT_SOURCE_3   -0.189605\n",
      "EXT_SOURCE_2 EXT_SOURCE_3 DAYS_BIRTH     -0.181283\n",
      "EXT_SOURCE_2^2 EXT_SOURCE_3              -0.176428\n",
      "EXT_SOURCE_2 EXT_SOURCE_3^2              -0.172282\n",
      "EXT_SOURCE_1 EXT_SOURCE_2                -0.166625\n",
      "EXT_SOURCE_1 EXT_SOURCE_3                -0.164065\n",
      "EXT_SOURCE_2                             -0.160295\n",
      "EXT_SOURCE_2 DAYS_BIRTH                  -0.156873\n",
      "EXT_SOURCE_1 EXT_SOURCE_2^2              -0.156867\n",
      "Name: TARGET, dtype: float64\n",
      "DAYS_BIRTH     -0.078239\n",
      "DAYS_BIRTH^2   -0.076672\n",
      "DAYS_BIRTH^3   -0.074273\n",
      "TARGET          1.000000\n",
      "1                    NaN\n",
      "Name: TARGET, dtype: float64\n"
     ]
    }
   ],
   "source": [
    "# Add in the target\n",
    "poly_features = poly_features.add_columns('TARGET', poly_target)\n",
    "\n",
    "# Find the correlations with the target\n",
    "poly_corrs = poly_features.corr().data()['TARGET'].sort_values()\n",
    "\n",
    "# Display most negative and most positive\n",
    "print(poly_corrs.head(10))\n",
    "print(poly_corrs.tail(5))\n",
    "poly_features_test.set_columns(new_names)"
   ]
  },
  {
   "cell_type": "code",
   "execution_count": 27,
   "metadata": {},
   "outputs": [],
   "source": [
    "# Merge polynomial features into training dataframe\n",
    "poly_features = poly_features.add_columns('SK_ID_CURR', app_train['SK_ID_CURR'])\n",
    "app_train_poly = app_train.merge(poly_features, on='SK_ID_CURR', how='left')"
   ]
  },
  {
   "cell_type": "code",
   "execution_count": 28,
   "metadata": {},
   "outputs": [],
   "source": [
    "# Merge polnomial features into testing dataframe\n",
    "poly_features_test = poly_features_test.add_columns('SK_ID_CURR', app_test['SK_ID_CURR'])\n",
    "app_test_poly = app_test.merge(poly_features_test, on='SK_ID_CURR', how='left')"
   ]
  },
  {
   "cell_type": "code",
   "execution_count": 29,
   "metadata": {},
   "outputs": [],
   "source": [
    "# Align the dataframes\n",
    "train_columns = app_train_poly.data().columns\n",
    "test_columns = app_test_poly.data().columns\n",
    "for c in train_columns:\n",
    "    if c not in test_columns:\n",
    "        app_train_poly = app_train_poly.drop(c)"
   ]
  },
  {
   "cell_type": "code",
   "execution_count": 30,
   "metadata": {},
   "outputs": [
    {
     "name": "stdout",
     "output_type": "stream",
     "text": [
      "('Training data with polynomial features shape: ', (307511, 275))\n",
      "('Testing data with polynomial features shape:  ', (48744, 275))\n"
     ]
    }
   ],
   "source": [
    "# Print out the new shapes\n",
    "print('Training data with polynomial features shape: ',\n",
    "      app_train_poly.shape().data())\n",
    "print('Testing data with polynomial features shape:  ',\n",
    "      app_test_poly.shape().data())"
   ]
  },
  {
   "cell_type": "code",
   "execution_count": 31,
   "metadata": {},
   "outputs": [],
   "source": [
    "app_train_domain = app_train.copy()\n",
    "app_test_domain = app_test.copy()\n",
    "\n",
    "app_train_domain = app_train_domain.add_columns(\n",
    "    'CREDIT_INCOME_PERCENT',\n",
    "    app_train_domain['AMT_CREDIT'] / app_train_domain['AMT_INCOME_TOTAL'])\n",
    "app_train_domain = app_train_domain.add_columns(\n",
    "    'ANNUITY_INCOME_PERCENT',\n",
    "    app_train_domain['AMT_ANNUITY'] / app_train_domain['AMT_INCOME_TOTAL'])\n",
    "app_train_domain = app_train_domain.add_columns(\n",
    "    'CREDIT_TERM',\n",
    "    app_train_domain['AMT_ANNUITY'] / app_train_domain['AMT_CREDIT'])\n",
    "app_train_domain = app_train_domain.add_columns(\n",
    "    'DAYS_EMPLOYED_PERCENT',\n",
    "    app_train_domain['DAYS_EMPLOYED'] / app_train_domain['DAYS_BIRTH'])\n",
    "\n",
    "app_test_domain = app_test_domain.add_columns(\n",
    "    'CREDIT_INCOME_PERCENT',\n",
    "    app_test_domain['AMT_CREDIT'] / app_test_domain['AMT_INCOME_TOTAL'])\n",
    "app_test_domain = app_test_domain.add_columns(\n",
    "    'ANNUITY_INCOME_PERCENT',\n",
    "    app_test_domain['AMT_ANNUITY'] / app_test_domain['AMT_INCOME_TOTAL'])\n",
    "app_test_domain = app_test_domain.add_columns(\n",
    "    'CREDIT_TERM',\n",
    "    app_test_domain['AMT_ANNUITY'] / app_test_domain['AMT_CREDIT'])\n",
    "app_test_domain = app_test_domain.add_columns(\n",
    "    'DAYS_EMPLOYED_PERCENT',\n",
    "    app_test_domain['DAYS_EMPLOYED'] / app_test_domain['DAYS_BIRTH'])"
   ]
  },
  {
   "cell_type": "code",
   "execution_count": 32,
   "metadata": {},
   "outputs": [],
   "source": [
    "# plt.figure(figsize=(12, 20))\n",
    "# # iterate through the new features\n",
    "# for i, column in enumerate([\n",
    "#     'CREDIT_INCOME_PERCENT', 'ANNUITY_INCOME_PERCENT', 'CREDIT_TERM',\n",
    "#     'DAYS_EMPLOYED_PERCENT'\n",
    "# ]):\n",
    "#     # create a new subplot for each source\n",
    "#     plt.subplot(4, 1, i + 1)\n",
    "#     # plot repaid loans\n",
    "#     negative = app_train_domain[[column, 'TARGET']][app_train['TARGET'] == 0]\n",
    "#     sns.kdeplot(\n",
    "#         negative[app_train_domain[column].notna()][column].data(),\n",
    "#         label='target == 0')\n",
    "#     # plot loans that were not repaid\n",
    "#     positive = app_train_domain[[column, 'TARGET']][app_train['TARGET'] == 1]\n",
    "#     sns.kdeplot(\n",
    "#         positive[app_train_domain[column].notna()][column].data(),\n",
    "#         label='target == 1')\n",
    "\n",
    "#     # Label the plots\n",
    "#     plt.title('Distribution of %s by Target Value' % column)\n",
    "#     plt.xlabel('%s' % column)\n",
    "#     plt.ylabel('Density')\n",
    "\n",
    "# plt.tight_layout(h_pad=2.5)"
   ]
  },
  {
   "cell_type": "code",
   "execution_count": 33,
   "metadata": {},
   "outputs": [
    {
     "name": "stdout",
     "output_type": "stream",
     "text": [
      "('Training data shape: ', (307511, 240))\n",
      "('Testing data shape: ', (48744, 240))\n"
     ]
    }
   ],
   "source": [
    "from sklearn.preprocessing import MinMaxScaler, Imputer\n",
    "\n",
    "# Drop the target from the training data\n",
    "columns = app_train.data().columns\n",
    "if 'TARGET' in columns:\n",
    "    train = app_train.drop(columns=['TARGET'])\n",
    "else:\n",
    "    train = app_train.copy()\n",
    "\n",
    "\n",
    "# Feature names\n",
    "features = list(train.data().columns)\n",
    "\n",
    "# Copy of the testing data\n",
    "test = app_test.copy()\n",
    "\n",
    "# Median imputation of missing values\n",
    "sk_imputer = Imputer(strategy='median')\n",
    "\n",
    "# Scale each feature to 0-1\n",
    "sk_scaler = MinMaxScaler(feature_range=(0, 1))\n",
    "\n",
    "# Fit on the training data\n",
    "imputer = train.fit_sk_model(sk_imputer)\n",
    "\n",
    "# Transform both training and testing data\n",
    "train = imputer.transform(train)\n",
    "test = imputer.transform(test)\n",
    "\n",
    "# Repeat with the scaler\n",
    "scaler = train.fit_sk_model(sk_scaler)\n",
    "train = scaler.transform(train)\n",
    "test = scaler.transform(test)\n",
    "\n",
    "print('Training data shape: ', train.shape().data())\n",
    "print('Testing data shape: ', test.shape().data())"
   ]
  },
  {
   "cell_type": "code",
   "execution_count": 34,
   "metadata": {},
   "outputs": [
    {
     "data": {
      "text/html": [
       "<div>\n",
       "<style scoped>\n",
       "    .dataframe tbody tr th:only-of-type {\n",
       "        vertical-align: middle;\n",
       "    }\n",
       "\n",
       "    .dataframe tbody tr th {\n",
       "        vertical-align: top;\n",
       "    }\n",
       "\n",
       "    .dataframe thead th {\n",
       "        text-align: right;\n",
       "    }\n",
       "</style>\n",
       "<table border=\"1\" class=\"dataframe\">\n",
       "  <thead>\n",
       "    <tr style=\"text-align: right;\">\n",
       "      <th></th>\n",
       "      <th>SK_ID_CURR</th>\n",
       "      <th>TARGET</th>\n",
       "    </tr>\n",
       "  </thead>\n",
       "  <tbody>\n",
       "    <tr>\n",
       "      <th>0</th>\n",
       "      <td>100001</td>\n",
       "      <td>0.127735</td>\n",
       "    </tr>\n",
       "    <tr>\n",
       "      <th>1</th>\n",
       "      <td>100005</td>\n",
       "      <td>0.155207</td>\n",
       "    </tr>\n",
       "    <tr>\n",
       "      <th>2</th>\n",
       "      <td>100013</td>\n",
       "      <td>0.071158</td>\n",
       "    </tr>\n",
       "    <tr>\n",
       "      <th>3</th>\n",
       "      <td>100028</td>\n",
       "      <td>0.127554</td>\n",
       "    </tr>\n",
       "    <tr>\n",
       "      <th>4</th>\n",
       "      <td>100038</td>\n",
       "      <td>0.028848</td>\n",
       "    </tr>\n",
       "  </tbody>\n",
       "</table>\n",
       "</div>"
      ],
      "text/plain": [
       "   SK_ID_CURR    TARGET\n",
       "0      100001  0.127735\n",
       "1      100005  0.155207\n",
       "2      100013  0.071158\n",
       "3      100028  0.127554\n",
       "4      100038  0.028848"
      ]
     },
     "execution_count": 34,
     "metadata": {},
     "output_type": "execute_result"
    }
   ],
   "source": [
    "from sklearn.linear_model import LogisticRegression\n",
    "\n",
    "# Make the model with the specified regularization parameter\n",
    "sk_log_reg = LogisticRegression(C=0.0001)\n",
    "\n",
    "# Train on the training data\n",
    "log_reg = train.fit_sk_model_with_labels(sk_log_reg, train_labels)\n",
    "\n",
    "# Make predictions\n",
    "# Make sure to select the second column only\n",
    "log_reg_pred = log_reg.predict_proba(test)[1]\n",
    "\n",
    "# Submission data\n",
    "log_reg_pred.setname('TARGET')\n",
    "submit = app_test['SK_ID_CURR'].concat(log_reg_pred)\n",
    "submit.head().data()"
   ]
  },
  {
   "cell_type": "code",
   "execution_count": 51,
   "metadata": {},
   "outputs": [
    {
     "name": "stderr",
     "output_type": "stream",
     "text": [
      "[Parallel(n_jobs=-1)]: Using backend ThreadingBackend with 8 concurrent workers.\n",
      "[Parallel(n_jobs=-1)]: Done   2 out of   5 | elapsed:    2.5s remaining:    3.8s\n",
      "[Parallel(n_jobs=-1)]: Done   5 out of   5 | elapsed:    2.7s finished\n",
      "[Parallel(n_jobs=5)]: Using backend ThreadingBackend with 5 concurrent workers.\n",
      "[Parallel(n_jobs=5)]: Done   2 out of   5 | elapsed:    0.0s remaining:    0.0s\n",
      "[Parallel(n_jobs=5)]: Done   5 out of   5 | elapsed:    0.0s finished\n"
     ]
    },
    {
     "data": {
      "text/html": [
       "<div>\n",
       "<style scoped>\n",
       "    .dataframe tbody tr th:only-of-type {\n",
       "        vertical-align: middle;\n",
       "    }\n",
       "\n",
       "    .dataframe tbody tr th {\n",
       "        vertical-align: top;\n",
       "    }\n",
       "\n",
       "    .dataframe thead th {\n",
       "        text-align: right;\n",
       "    }\n",
       "</style>\n",
       "<table border=\"1\" class=\"dataframe\">\n",
       "  <thead>\n",
       "    <tr style=\"text-align: right;\">\n",
       "      <th></th>\n",
       "      <th>SK_ID_CURR</th>\n",
       "      <th>TARGET</th>\n",
       "    </tr>\n",
       "  </thead>\n",
       "  <tbody>\n",
       "    <tr>\n",
       "      <th>0</th>\n",
       "      <td>100001</td>\n",
       "      <td>0.0</td>\n",
       "    </tr>\n",
       "    <tr>\n",
       "      <th>1</th>\n",
       "      <td>100005</td>\n",
       "      <td>0.6</td>\n",
       "    </tr>\n",
       "    <tr>\n",
       "      <th>2</th>\n",
       "      <td>100013</td>\n",
       "      <td>0.6</td>\n",
       "    </tr>\n",
       "    <tr>\n",
       "      <th>3</th>\n",
       "      <td>100028</td>\n",
       "      <td>0.6</td>\n",
       "    </tr>\n",
       "    <tr>\n",
       "      <th>4</th>\n",
       "      <td>100038</td>\n",
       "      <td>0.2</td>\n",
       "    </tr>\n",
       "  </tbody>\n",
       "</table>\n",
       "</div>"
      ],
      "text/plain": [
       "   SK_ID_CURR  TARGET\n",
       "0      100001     0.0\n",
       "1      100005     0.6\n",
       "2      100013     0.6\n",
       "3      100028     0.6\n",
       "4      100038     0.2"
      ]
     },
     "execution_count": 51,
     "metadata": {},
     "output_type": "execute_result"
    }
   ],
   "source": [
    "from sklearn.ensemble import RandomForestClassifier\n",
    "\n",
    "# Make the random forest classifier\n",
    "sk_random_forest = RandomForestClassifier(n_estimators=5, random_state=50, verbose=1, n_jobs=-1)\n",
    "\n",
    "# Train on the training data\n",
    "random_forest = train.fit_sk_model_with_labels(sk_random_forest, train_labels)\n",
    "\n",
    "# Extract feature importances\n",
    "feature_importances = random_forest.feature_importances(features)\n",
    "\n",
    "# Make predictions on the test data\n",
    "predictions = random_forest.predict_proba(test)[1]\n",
    "\n",
    "# Score = 0.678\n",
    "# Submission dataframe\n",
    "predictions.setname('TARGET')\n",
    "submit = app_test['SK_ID_CURR'].concat(predictions)\n",
    "submit.head().data()"
   ]
  },
  {
   "cell_type": "code",
   "execution_count": 36,
   "metadata": {},
   "outputs": [],
   "source": [
    "# poly_features_names = list(app_train_poly.data().columns)\n",
    "\n",
    "# # Impute the polynomial features\n",
    "# sk_imputer = Imputer(strategy='median')\n",
    "# imputer = app_train_poly.fit_sk_model(sk_imputer)\n",
    "\n",
    "# poly_features = imputer.transform(app_train_poly)\n",
    "# poly_features_test = imputer.transform(app_test_poly)\n",
    "\n",
    "# # Scale the polynomial features\n",
    "# sk_scaler = MinMaxScaler(feature_range=(0, 1))\n",
    "# scaler = poly_features.fit_sk_model(sk_scaler)\n",
    "\n",
    "# poly_features = scaler.transform(poly_features)\n",
    "# poly_features_test = scaler.transform(poly_features_test)\n",
    "\n",
    "# sk_random_forest_poly = RandomForestClassifier(n_estimators=100, random_state=50, verbose=1, n_jobs=-1)\n",
    "# random_forest_poly = poly_features.fit_sk_model_with_labels(sk_random_forest_poly, train_labels)\n",
    "\n",
    "# # Make predictions on the test data\n",
    "# predictions = random_forest_poly.predict_proba(poly_features_test)[1]\n",
    "\n",
    "# # Score = 0.678\n",
    "# # Submission dataframe\n",
    "# predictions.setname('TARGET')\n",
    "# submit = app_test['SK_ID_CURR'].concat(predictions)\n",
    "# submit.head().data()"
   ]
  },
  {
   "cell_type": "code",
   "execution_count": 37,
   "metadata": {},
   "outputs": [
    {
     "ename": "NameError",
     "evalue": "name 'RandomForestClassifier' is not defined",
     "output_type": "error",
     "traceback": [
      "\u001b[0;31m---------------------------------------------------------------------------\u001b[0m",
      "\u001b[0;31mNameError\u001b[0m                                 Traceback (most recent call last)",
      "\u001b[0;32m<ipython-input-37-5cfac2f3adcd>\u001b[0m in \u001b[0;36m<module>\u001b[0;34m()\u001b[0m\n\u001b[1;32m     18\u001b[0m \u001b[0;34m\u001b[0m\u001b[0m\n\u001b[1;32m     19\u001b[0m \u001b[0;31m# Train on the training data\u001b[0m\u001b[0;34m\u001b[0m\u001b[0;34m\u001b[0m\u001b[0m\n\u001b[0;32m---> 20\u001b[0;31m \u001b[0msk_random_forest_domain\u001b[0m \u001b[0;34m=\u001b[0m \u001b[0mRandomForestClassifier\u001b[0m\u001b[0;34m(\u001b[0m\u001b[0mn_estimators\u001b[0m\u001b[0;34m=\u001b[0m\u001b[0;36m100\u001b[0m\u001b[0;34m,\u001b[0m \u001b[0mrandom_state\u001b[0m\u001b[0;34m=\u001b[0m\u001b[0;36m50\u001b[0m\u001b[0;34m,\u001b[0m \u001b[0mverbose\u001b[0m\u001b[0;34m=\u001b[0m\u001b[0;36m1\u001b[0m\u001b[0;34m,\u001b[0m \u001b[0mn_jobs\u001b[0m\u001b[0;34m=\u001b[0m\u001b[0;34m-\u001b[0m\u001b[0;36m1\u001b[0m\u001b[0;34m)\u001b[0m\u001b[0;34m\u001b[0m\u001b[0m\n\u001b[0m\u001b[1;32m     21\u001b[0m \u001b[0mrandom_forest_domain\u001b[0m \u001b[0;34m=\u001b[0m \u001b[0mdomain_features\u001b[0m\u001b[0;34m.\u001b[0m\u001b[0mfit_sk_model_with_labels\u001b[0m\u001b[0;34m(\u001b[0m\u001b[0msk_random_forest_domain\u001b[0m\u001b[0;34m,\u001b[0m \u001b[0mtrain_labels\u001b[0m\u001b[0;34m)\u001b[0m\u001b[0;34m\u001b[0m\u001b[0m\n\u001b[1;32m     22\u001b[0m \u001b[0;34m\u001b[0m\u001b[0m\n",
      "\u001b[0;31mNameError\u001b[0m: name 'RandomForestClassifier' is not defined"
     ]
    }
   ],
   "source": [
    "# app_train_domain = app_train_domain.drop(columns='TARGET')\n",
    "\n",
    "# domain_features_names = list(app_train_domain.data().columns)\n",
    "\n",
    "# # Impute the domainnomial features\n",
    "# sk_imputer = Imputer(strategy='median')\n",
    "# imputer = app_train_domain.fit_sk_model(sk_imputer)\n",
    "\n",
    "# domain_features = imputer.transform(app_train_domain)\n",
    "# domain_features_test = imputer.transform(app_test_domain)\n",
    "\n",
    "# # Scale the domainnomial features\n",
    "# sk_scaler = MinMaxScaler(feature_range=(0, 1))\n",
    "# scaler = domain_features.fit_sk_model(sk_scaler)\n",
    "\n",
    "# domain_features = scaler.transform(domain_features)\n",
    "# domain_features_test = scaler.transform(domain_features_test)\n",
    "\n",
    "# # Train on the training data\n",
    "# sk_random_forest_domain = RandomForestClassifier(n_estimators=100, random_state=50, verbose=1, n_jobs=-1)\n",
    "# random_forest_domain = domain_features.fit_sk_model_with_labels(sk_random_forest_domain, train_labels)\n",
    "\n",
    "# # Extract feature importances\n",
    "# feature_importances_domain = random_forest_domain.feature_importances(domain_features_names)\n",
    "\n",
    "# # Make predictions on the test data\n",
    "# predictions = random_forest_domain.predict_proba(domain_features_test)[1]\n",
    "\n",
    "# # Score = 0.678\n",
    "# # Make a submission dataframe\n",
    "# predictions.setname('TARGET')\n",
    "# submit = app_test['SK_ID_CURR'].concat(predictions)\n",
    "# submit.head().data()"
   ]
  },
  {
   "cell_type": "code",
   "execution_count": 53,
   "metadata": {},
   "outputs": [
    {
     "data": {
      "image/png": "[encoded data removed]",
      "text/plain": [
       "<matplotlib.figure.Figure at 0x12207aa50>"
      ]
     },
     "metadata": {},
     "output_type": "display_data"
    }
   ],
   "source": [
    "def plot_feature_importances(df):\n",
    "    \"\"\"\n",
    "    Plot importances returned by a model. This can work with any measure of\n",
    "    feature importance provided that higher importance is better.\n",
    "\n",
    "    Args:\n",
    "        df (dataframe): feature importances. Must have the features in a column\n",
    "        called `features` and the importances in a column called `importance\n",
    "\n",
    "    Returns:\n",
    "        shows a plot of the 15 most importance features\n",
    "\n",
    "        df (dataframe): feature importances sorted by importance (highest to lowest)\n",
    "        with a column for normalized importance\n",
    "        \"\"\"\n",
    "\n",
    "    # Sort features according to importance\n",
    "    df = df.sort_values('importance', ascending=False)\n",
    "\n",
    "    # Normalize the feature importances to add up to one\n",
    "    df = df.add_columns('importance_normalized', df['importance'] / df['importance'].sum().data())\n",
    "\n",
    "    # Make a horizontal bar chart of feature importances\n",
    "    plt.figure(figsize=(10, 6))\n",
    "    ax = plt.subplot()\n",
    "\n",
    "    # Need to reverse the index to plot most important on top\n",
    "    ax.barh(list(reversed(list(df.data().index[:15]))),\n",
    "            df['importance_normalized'].data().head(15),\n",
    "            align='center', edgecolor='k')\n",
    "\n",
    "    # Set the yticks and labels\n",
    "    ax.set_yticks(list(reversed(list(df.data().index[:15]))))\n",
    "    ax.set_yticklabels(df['feature'].data().head(15))\n",
    "\n",
    "    # Plot labeling\n",
    "    plt.xlabel('Normalized Importance');\n",
    "    plt.title('Feature Importances')\n",
    "    plt.show()\n",
    "\n",
    "    return df\n",
    "\n",
    "\n",
    "# Show the feature importances for the default features\n",
    "feature_importances_sorted = plot_feature_importances(feature_importances)\n",
    "\n",
    "feature_importances_domain_sorted = plot_feature_importances(feature_importances_domain)"
   ]
  },
  {
   "cell_type": "code",
   "execution_count": null,
   "metadata": {},
   "outputs": [],
   "source": []
  }
 ],
 "metadata": {
  "kernelspec": {
   "display_name": "Python 2",
   "language": "python",
   "name": "python2"
  },
  "language_info": {
   "codemirror_mode": {
    "name": "ipython",
    "version": 2
   },
   "file_extension": ".py",
   "mimetype": "text/x-python",
   "name": "python",
   "nbconvert_exporter": "python",
   "pygments_lexer": "ipython2",
   "version": "2.7.15"
  }
 },
 "nbformat": 4,
 "nbformat_minor": 2
}
