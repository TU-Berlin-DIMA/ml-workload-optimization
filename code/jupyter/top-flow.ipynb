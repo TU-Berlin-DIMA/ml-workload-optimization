{
 "cells": [
  {
   "cell_type": "code",
   "execution_count": 1,
   "metadata": {},
   "outputs": [],
   "source": [
    "import matplotlib.pyplot as plt\n",
    "from openml import datasets, tasks, runs, flows, setups\n",
    "import numpy as np\n",
    "import pandas as pd\n",
    "import os\n",
    "import warnings\n",
    "warnings.filterwarnings('ignore')\n",
    "import matplotlib.pyplot as plt\n",
    "import seaborn as sns"
   ]
  },
  {
   "cell_type": "code",
   "execution_count": 2,
   "metadata": {},
   "outputs": [
    {
     "ename": "OpenMLServerException",
     "evalue": "Too many results",
     "output_type": "error",
     "traceback": [
      "\u001b[0;31m---------------------------------------------------------------------------\u001b[0m",
      "\u001b[0;31mOpenMLServerException\u001b[0m                     Traceback (most recent call last)",
      "\u001b[0;32m<ipython-input-2-2d036bd07bab>\u001b[0m in \u001b[0;36m<module>\u001b[0;34m()\u001b[0m\n\u001b[1;32m      3\u001b[0m \u001b[0mflowList\u001b[0m \u001b[0;34m=\u001b[0m \u001b[0mpd\u001b[0m\u001b[0;34m.\u001b[0m\u001b[0mDataFrame\u001b[0m\u001b[0;34m(\u001b[0m\u001b[0mflowsJson\u001b[0m\u001b[0;34m)\u001b[0m\u001b[0;34m.\u001b[0m\u001b[0mtranspose\u001b[0m\u001b[0;34m(\u001b[0m\u001b[0;34m)\u001b[0m\u001b[0;34m\u001b[0m\u001b[0m\n\u001b[1;32m      4\u001b[0m \u001b[0msklearnPipelineFlows\u001b[0m \u001b[0;34m=\u001b[0m \u001b[0mflowList\u001b[0m\u001b[0;34m.\u001b[0m\u001b[0mloc\u001b[0m\u001b[0;34m[\u001b[0m\u001b[0mflowList\u001b[0m\u001b[0;34m.\u001b[0m\u001b[0mfull_name\u001b[0m\u001b[0;34m.\u001b[0m\u001b[0mstr\u001b[0m\u001b[0;34m.\u001b[0m\u001b[0mstartswith\u001b[0m\u001b[0;34m(\u001b[0m\u001b[0;34m'sklearn.pipeline'\u001b[0m\u001b[0;34m)\u001b[0m\u001b[0;34m]\u001b[0m\u001b[0;34m\u001b[0m\u001b[0m\n\u001b[0;32m----> 5\u001b[0;31m \u001b[0msklearnRuns\u001b[0m \u001b[0;34m=\u001b[0m \u001b[0mpd\u001b[0m\u001b[0;34m.\u001b[0m\u001b[0mDataFrame\u001b[0m\u001b[0;34m(\u001b[0m\u001b[0mruns\u001b[0m\u001b[0;34m.\u001b[0m\u001b[0mlist_runs\u001b[0m\u001b[0;34m(\u001b[0m\u001b[0mflow\u001b[0m\u001b[0;34m=\u001b[0m\u001b[0msklearnPipelineFlows\u001b[0m\u001b[0;34m.\u001b[0m\u001b[0mid\u001b[0m\u001b[0;34m)\u001b[0m\u001b[0;34m)\u001b[0m\u001b[0;34m.\u001b[0m\u001b[0mtranspose\u001b[0m\u001b[0;34m(\u001b[0m\u001b[0;34m)\u001b[0m\u001b[0;34m\u001b[0m\u001b[0m\n\u001b[0m\u001b[1;32m      6\u001b[0m \u001b[0msklearnRuns\u001b[0m\u001b[0;34m.\u001b[0m\u001b[0mgroupby\u001b[0m\u001b[0;34m(\u001b[0m\u001b[0;34m'flow_id'\u001b[0m\u001b[0;34m)\u001b[0m\u001b[0;34m.\u001b[0m\u001b[0magg\u001b[0m\u001b[0;34m(\u001b[0m\u001b[0;34m'count'\u001b[0m\u001b[0;34m)\u001b[0m\u001b[0;34m.\u001b[0m\u001b[0msort_values\u001b[0m\u001b[0;34m(\u001b[0m\u001b[0;34m'run_id'\u001b[0m\u001b[0;34m,\u001b[0m \u001b[0mascending\u001b[0m \u001b[0;34m=\u001b[0m \u001b[0;36m0\u001b[0m\u001b[0;34m)\u001b[0m\u001b[0;34m\u001b[0m\u001b[0m\n\u001b[1;32m      7\u001b[0m \u001b[0mtopFlow\u001b[0m \u001b[0;34m=\u001b[0m \u001b[0msklearnRuns\u001b[0m\u001b[0;34m.\u001b[0m\u001b[0mgroupby\u001b[0m\u001b[0;34m(\u001b[0m\u001b[0;34m'flow_id'\u001b[0m\u001b[0;34m)\u001b[0m\u001b[0;34m.\u001b[0m\u001b[0magg\u001b[0m\u001b[0;34m(\u001b[0m\u001b[0;34m'count'\u001b[0m\u001b[0;34m)\u001b[0m\u001b[0;34m.\u001b[0m\u001b[0msort_values\u001b[0m\u001b[0;34m(\u001b[0m\u001b[0;34m'run_id'\u001b[0m\u001b[0;34m,\u001b[0m \u001b[0mascending\u001b[0m \u001b[0;34m=\u001b[0m \u001b[0;36m0\u001b[0m\u001b[0;34m)\u001b[0m\u001b[0;34m[\u001b[0m\u001b[0;36m0\u001b[0m\u001b[0;34m:\u001b[0m\u001b[0;36m1\u001b[0m\u001b[0;34m]\u001b[0m \u001b[0;31m# flow_id = 5909\u001b[0m\u001b[0;34m\u001b[0m\u001b[0m\n",
      "\u001b[0;32m/usr/local/lib/python2.7/site-packages/openml-0.6.0-py2.7.egg/openml/runs/functions.pyc\u001b[0m in \u001b[0;36mlist_runs\u001b[0;34m(offset, size, id, task, setup, flow, uploader, tag, display_errors)\u001b[0m\n\u001b[1;32m    858\u001b[0m         \u001b[0mapi_call\u001b[0m \u001b[0;34m+=\u001b[0m \u001b[0;34m\"/show_errors/true\"\u001b[0m\u001b[0;34m\u001b[0m\u001b[0m\n\u001b[1;32m    859\u001b[0m \u001b[0;34m\u001b[0m\u001b[0m\n\u001b[0;32m--> 860\u001b[0;31m     \u001b[0;32mreturn\u001b[0m \u001b[0m_list_runs\u001b[0m\u001b[0;34m(\u001b[0m\u001b[0mapi_call\u001b[0m\u001b[0;34m)\u001b[0m\u001b[0;34m\u001b[0m\u001b[0m\n\u001b[0m\u001b[1;32m    861\u001b[0m \u001b[0;34m\u001b[0m\u001b[0m\n\u001b[1;32m    862\u001b[0m \u001b[0;34m\u001b[0m\u001b[0m\n",
      "\u001b[0;32m/usr/local/lib/python2.7/site-packages/openml-0.6.0-py2.7.egg/openml/runs/functions.pyc\u001b[0m in \u001b[0;36m_list_runs\u001b[0;34m(api_call)\u001b[0m\n\u001b[1;32m    864\u001b[0m     \u001b[0;34m\"\"\"Helper function to parse API calls which are lists of runs\"\"\"\u001b[0m\u001b[0;34m\u001b[0m\u001b[0m\n\u001b[1;32m    865\u001b[0m \u001b[0;34m\u001b[0m\u001b[0m\n\u001b[0;32m--> 866\u001b[0;31m     \u001b[0mxml_string\u001b[0m \u001b[0;34m=\u001b[0m \u001b[0m_perform_api_call\u001b[0m\u001b[0;34m(\u001b[0m\u001b[0mapi_call\u001b[0m\u001b[0;34m)\u001b[0m\u001b[0;34m\u001b[0m\u001b[0m\n\u001b[0m\u001b[1;32m    867\u001b[0m \u001b[0;34m\u001b[0m\u001b[0m\n\u001b[1;32m    868\u001b[0m     \u001b[0mruns_dict\u001b[0m \u001b[0;34m=\u001b[0m \u001b[0mxmltodict\u001b[0m\u001b[0;34m.\u001b[0m\u001b[0mparse\u001b[0m\u001b[0;34m(\u001b[0m\u001b[0mxml_string\u001b[0m\u001b[0;34m,\u001b[0m \u001b[0mforce_list\u001b[0m\u001b[0;34m=\u001b[0m\u001b[0;34m(\u001b[0m\u001b[0;34m'oml:run'\u001b[0m\u001b[0;34m,\u001b[0m\u001b[0;34m)\u001b[0m\u001b[0;34m)\u001b[0m\u001b[0;34m\u001b[0m\u001b[0m\n",
      "\u001b[0;32m/usr/local/lib/python2.7/site-packages/openml-0.6.0-py2.7.egg/openml/_api_calls.pyc\u001b[0m in \u001b[0;36m_perform_api_call\u001b[0;34m(call, data, file_dictionary, file_elements, add_authentication)\u001b[0m\n\u001b[1;32m     50\u001b[0m         return _read_url_files(url, data=data, file_dictionary=file_dictionary,\n\u001b[1;32m     51\u001b[0m                                file_elements=file_elements)\n\u001b[0;32m---> 52\u001b[0;31m     \u001b[0;32mreturn\u001b[0m \u001b[0m_read_url\u001b[0m\u001b[0;34m(\u001b[0m\u001b[0murl\u001b[0m\u001b[0;34m,\u001b[0m \u001b[0mdata\u001b[0m\u001b[0;34m)\u001b[0m\u001b[0;34m\u001b[0m\u001b[0m\n\u001b[0m\u001b[1;32m     53\u001b[0m \u001b[0;34m\u001b[0m\u001b[0m\n\u001b[1;32m     54\u001b[0m \u001b[0;34m\u001b[0m\u001b[0m\n",
      "\u001b[0;32m/usr/local/lib/python2.7/site-packages/openml-0.6.0-py2.7.egg/openml/_api_calls.pyc\u001b[0m in \u001b[0;36m_read_url\u001b[0;34m(url, data)\u001b[0m\n\u001b[1;32m    117\u001b[0m \u001b[0;34m\u001b[0m\u001b[0m\n\u001b[1;32m    118\u001b[0m     \u001b[0;32mif\u001b[0m \u001b[0mresponse\u001b[0m\u001b[0;34m.\u001b[0m\u001b[0mstatus_code\u001b[0m \u001b[0;34m!=\u001b[0m \u001b[0;36m200\u001b[0m\u001b[0;34m:\u001b[0m\u001b[0;34m\u001b[0m\u001b[0m\n\u001b[0;32m--> 119\u001b[0;31m         \u001b[0;32mraise\u001b[0m \u001b[0m_parse_server_exception\u001b[0m\u001b[0;34m(\u001b[0m\u001b[0mresponse\u001b[0m\u001b[0;34m)\u001b[0m\u001b[0;34m\u001b[0m\u001b[0m\n\u001b[0m\u001b[1;32m    120\u001b[0m     \u001b[0;32mif\u001b[0m \u001b[0;34m'Content-Encoding'\u001b[0m \u001b[0;32mnot\u001b[0m \u001b[0;32min\u001b[0m \u001b[0mresponse\u001b[0m\u001b[0;34m.\u001b[0m\u001b[0mheaders\u001b[0m \u001b[0;32mor\u001b[0m\u001b[0;31m \u001b[0m\u001b[0;31m\\\u001b[0m\u001b[0;34m\u001b[0m\u001b[0m\n\u001b[1;32m    121\u001b[0m             \u001b[0mresponse\u001b[0m\u001b[0;34m.\u001b[0m\u001b[0mheaders\u001b[0m\u001b[0;34m[\u001b[0m\u001b[0;34m'Content-Encoding'\u001b[0m\u001b[0;34m]\u001b[0m \u001b[0;34m!=\u001b[0m \u001b[0;34m'gzip'\u001b[0m\u001b[0;34m:\u001b[0m\u001b[0;34m\u001b[0m\u001b[0m\n",
      "\u001b[0;31mOpenMLServerException\u001b[0m: Too many results"
     ]
    }
   ],
   "source": [
    "# Find top sklearn.pipeline Flow (with most number of runs)\n",
    "flowsJson = flows.list_flows()\n",
    "flowList = pd.DataFrame(flowsJson).transpose()\n",
    "sklearnPipelineFlows = flowList.loc[flowList.full_name.str.startswith('sklearn.pipeline')]\n",
    "sklearnRuns = pd.DataFrame(runs.list_runs(flow=sklearnPipelineFlows.id)).transpose()\n",
    "sklearnRuns.groupby('flow_id').agg('count').sort_values('run_id', ascending = 0)\n",
    "topFlow = sklearnRuns.groupby('flow_id').agg('count').sort_values('run_id', ascending = 0)[0:1] # flow_id = 5909"
   ]
  },
  {
   "cell_type": "code",
   "execution_count": 35,
   "metadata": {
    "collapsed": true
   },
   "outputs": [],
   "source": [
    "# Count the number of runs for each flow and task and provide a sample run\n",
    "topFlowRuns = pd.DataFrame(runs.list_runs(flow=topFlow.index)).transpose()\n",
    "f = {'run_id':['first','size']}\n",
    "allRunsTopFlow = topFlowRuns.groupby(['flow_id','task_id']).agg(f).reset_index()\n",
    "allRunsTopFlow.columns = ['flow', 'task','run', 'count']\n",
    "allRunsTopFlow['single_execution_time'] = ''"
   ]
  },
  {
   "cell_type": "code",
   "execution_count": null,
   "metadata": {
    "collapsed": true
   },
   "outputs": [],
   "source": [
    "  # Re-run each flow and task to measure its time\n",
    "import datetime\n",
    "for i, row in allRunsTopFlow.iterrows():\n",
    "    f = flows.get_flow(row.flow)\n",
    "    t = tasks.get_task(row.task)\n",
    "    a = datetime.datetime.now()\n",
    "    runs.run_flow_on_task(t,f)\n",
    "    b = datetime.datetime.now()\n",
    "    delta = b - a\n",
    "    ti = delta.total_seconds()\n",
    "    print('executed task {}, in {} seconds'.format(i, ti))\n",
    "    allRunsTopFlow.set_value(i,'single_execution_time', ti)\n",
    "    #allRunsTopFlow.set_value(i,'time_total', ti * row.count)\n",
    "allRunsTopFlow.to_csv('top-flow-time.csv')  "
   ]
  },
  {
   "cell_type": "code",
   "execution_count": 5,
   "metadata": {},
   "outputs": [
    {
     "ename": "NameError",
     "evalue": "name 'allRunsTopFlow' is not defined",
     "output_type": "error",
     "traceback": [
      "\u001b[0;31m---------------------------------------------------------------------------\u001b[0m",
      "\u001b[0;31mNameError\u001b[0m                                 Traceback (most recent call last)",
      "\u001b[0;32m<ipython-input-5-fde8891b5b53>\u001b[0m in \u001b[0;36m<module>\u001b[0;34m()\u001b[0m\n\u001b[0;32m----> 1\u001b[0;31m \u001b[0mallRunsTopFlow\u001b[0m\u001b[0;34m.\u001b[0m\u001b[0mto_csv\u001b[0m\u001b[0;34m(\u001b[0m\u001b[0;34m'top-flow-time.csv'\u001b[0m\u001b[0;34m)\u001b[0m\u001b[0;34m\u001b[0m\u001b[0m\n\u001b[0m",
      "\u001b[0;31mNameError\u001b[0m: name 'allRunsTopFlow' is not defined"
     ]
    }
   ],
   "source": [
    "allRunsTopFlow.to_csv('top-flow-time.csv')  "
   ]
  },
  {
   "cell_type": "code",
   "execution_count": 6,
   "metadata": {
    "collapsed": true
   },
   "outputs": [],
   "source": [
    "# Read the dataframe from file\n",
    "df = pd.DataFrame.from_csv('top-flow-time.csv')\n",
    "df['total_execution_time'] = df['count'] * df['single_execution_time']"
   ]
  },
  {
   "cell_type": "markdown",
   "metadata": {},
   "source": [
    "- Most popular Flow (pipeline) with id 5909:\n",
    "- sklearn.pipeline.Pipeline(imputer=sklearn.preprocessing.imputation.Imputer,pca=sklearn.decomposition.pca.PCA,randomforestclassifier=sklearn.ensemble.forest.RandomForestClassifier)\n",
    "    \n",
    "    \n",
    " "
   ]
  },
  {
   "cell_type": "markdown",
   "metadata": {},
   "source": [
    "- Executed on 100 unique tasks a total of 897 times\n",
    "- Sum of repeated execution time on all tasks = 7529 seconds\n",
    "- Sum of single execution time on all tasks = 839.7 seconds\n",
    "- Almost an order of magnitude faster"
   ]
  },
  {
   "cell_type": "markdown",
   "metadata": {},
   "source": [
    "Figure below shows the difference in total time of repeated most popular pipeline (flow 5909) execution vs the a single execution of the pipeline on inidividual tasks. (100 unique tasks wit a total of 897 execution of the pipeline)"
   ]
  },
  {
   "cell_type": "code",
   "execution_count": 62,
   "metadata": {},
   "outputs": [],
   "source": [
    "sdf = df.sort_values('single_execution_time', ascending=False).reset_index()\n",
    "del sdf['index']\n",
    "plt.bar(range(0,100),sdf['single_execution_time'])\n",
    "plt.bar(range(0,100),sdf['total_execution_time'] - sdf['single_execution_time'], bottom = sdf['single_execution_time'])\n",
    "#plt.yscale('log')\n",
    "plt.xlabel('Tasks (sorted by the execution time)', fontsize=18)\n",
    "plt.ylabel('Execution time (s)', fontsize=16)\n",
    "plt.title(\"Total vs Single execution time\")\n",
    "plt.legend(('Single Execution', 'Total Execution'))\n",
    "#plt.show()\n",
    "\n",
    "plt.savefig('execution-time.png', bbox_inches='tight', dpi=800)\n",
    "plt.close()"
   ]
  },
  {
   "cell_type": "code",
   "execution_count": 65,
   "metadata": {},
   "outputs": [
    {
     "data": {
      "text/plain": [
       "6689.4889910000011"
      ]
     },
     "execution_count": 65,
     "metadata": {},
     "output_type": "execute_result"
    }
   ],
   "source": [
    "savings = sdf['total_execution_time'] - sdf['single_execution_time']\n",
    "sum(savings)"
   ]
  }
 ],
 "metadata": {
  "kernelspec": {
   "display_name": "Python 3",
   "language": "python",
   "name": "python3"
  },
  "language_info": {
   "codemirror_mode": {
    "name": "ipython",
    "version": 2
   },
   "file_extension": ".py",
   "mimetype": "text/x-python",
   "name": "python",
   "nbconvert_exporter": "python",
   "pygments_lexer": "ipython2",
   "version": "2.7.14"
  }
 },
 "nbformat": 4,
 "nbformat_minor": 2
}
