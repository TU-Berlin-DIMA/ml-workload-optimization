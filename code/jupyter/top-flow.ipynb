{
 "cells": [
  {
   "cell_type": "code",
   "execution_count": 1,
   "metadata": {},
   "outputs": [],
   "source": [
    "import matplotlib.pyplot as plt\n",
    "from openml import datasets, tasks, runs, flows, setups\n",
    "import numpy as np\n",
    "import pandas as pd\n",
    "import os\n",
    "import warnings\n",
    "warnings.filterwarnings('ignore')\n",
    "import matplotlib.pyplot as plt\n",
    "import seaborn as sns"
   ]
  },
  {
   "cell_type": "code",
   "execution_count": 2,
   "metadata": {},
   "outputs": [],
   "source": [
    "# Find top sklearn.pipeline Flow (with most number of runs)\n",
    "flowsJson = flows.list_flows()\n",
    "flowList = pd.DataFrame(flowsJson).transpose()\n",
    "sklearnPipelineFlows = flowList.loc[flowList.full_name.str.startswith('sklearn.pipeline')]\n",
    "sklearnRuns = pd.DataFrame(runs.list_runs(flow=sklearnPipelineFlows.id)).transpose()\n",
    "sklearnRuns.groupby('flow_id').agg('count').sort_values('run_id', ascending = 0)\n",
    "topFlow = sklearnRuns.groupby('flow_id').agg('count').sort_values('run_id', ascending = 0)[0:1] # flow_id = 5909"
   ]
  },
  {
   "cell_type": "code",
   "execution_count": null,
   "metadata": {
    "collapsed": true
   },
   "outputs": [],
   "source": [
    "# Count the number of runs for each flow and task and provide a sample run\n",
    "topFlowRuns = pd.DataFrame(runs.list_runs(flow=topFlow.index)).transpose()\n",
    "f = {'run_id':['first','size']}\n",
    "allRunsTopFlow = topFlowRuns.groupby(['flow_id','task_id']).agg(f).reset_index()\n",
    "allRunsTopFlow.columns = ['flow', 'task','run', 'count']\n",
    "allRunsTopFlow['single_execution_time'] = ''"
   ]
  },
  {
   "cell_type": "code",
   "execution_count": null,
   "metadata": {
    "collapsed": true
   },
   "outputs": [],
   "source": [
    "  # Re-run each flow and task to measure its time\n",
    "import datetime\n",
    "for i, row in allRunsTopFlow.iterrows():\n",
    "    f = flows.get_flow(row.flow)\n",
    "    t = tasks.get_task(row.task)\n",
    "    a = datetime.datetime.now()\n",
    "    runs.run_flow_on_task(t,f)\n",
    "    b = datetime.datetime.now()\n",
    "    delta = b - a\n",
    "    ti = delta.total_seconds()\n",
    "    print('executed task {}, in {} seconds'.format(i, ti))\n",
    "    allRunsTopFlow.set_value(i,'single_execution_time', ti)\n",
    "    #allRunsTopFlow.set_value(i,'time_total', ti * row.count)\n",
    "allRunsTopFlow.to_csv('top-flow-time.csv')  "
   ]
  },
  {
   "cell_type": "code",
   "execution_count": 5,
   "metadata": {},
   "outputs": [
    {
     "ename": "NameError",
     "evalue": "name 'allRunsTopFlow' is not defined",
     "traceback": [
      "\u001b[0;31m---------------------------------------------------------------------------\u001b[0m",
      "\u001b[0;31mNameError\u001b[0m                                 Traceback (most recent call last)",
      "\u001b[0;32m<ipython-input-5-fde8891b5b53>\u001b[0m in \u001b[0;36m<module>\u001b[0;34m()\u001b[0m\n\u001b[0;32m----> 1\u001b[0;31m \u001b[0mallRunsTopFlow\u001b[0m\u001b[0;34m.\u001b[0m\u001b[0mto_csv\u001b[0m\u001b[0;34m(\u001b[0m\u001b[0;34m'top-flow-time.csv'\u001b[0m\u001b[0;34m)\u001b[0m\u001b[0;34m\u001b[0m\u001b[0m\n\u001b[0m",
      "\u001b[0;31mNameError\u001b[0m: name 'allRunsTopFlow' is not defined"
     ],
     "output_type": "error"
    }
   ],
   "source": [
    "allRunsTopFlow.to_csv('top-flow-time.csv')  "
   ]
  },
  {
   "cell_type": "code",
   "execution_count": 6,
   "metadata": {
    "collapsed": true
   },
   "outputs": [],
   "source": [
    "# Read the dataframe from file\n",
    "df = pd.DataFrame.from_csv('top-flow-time.csv')\n",
    "df['total_execution_time'] = df['count'] * df['single_execution_time']"
   ]
  },
  {
   "cell_type": "markdown",
   "metadata": {},
   "source": [
    "- Most popular Flow (pipeline) with id 5909:\n",
    "- sklearn.pipeline.Pipeline(imputer=sklearn.preprocessing.imputation.Imputer,pca=sklearn.decomposition.pca.PCA,randomforestclassifier=sklearn.ensemble.forest.RandomForestClassifier)\n",
    "    \n",
    "    \n",
    " "
   ]
  },
  {
   "cell_type": "markdown",
   "metadata": {},
   "source": [
    "- Executed on 100 unique tasks a total of 897 times\n",
    "- Sum of repeated execution time on all tasks = 7529 seconds\n",
    "- Sum of single execution time on all tasks = 839.7 seconds\n",
    "- Almost an order of magnitude faster"
   ]
  },
  {
   "cell_type": "markdown",
   "metadata": {},
   "source": [
    "Figure below shows the difference in total time of repeated most popular pipeline (flow 5909) execution vs the a single execution of the pipeline on inidividual tasks. (100 unique tasks wit a total of 897 execution of the pipeline)"
   ]
  },
  {
   "cell_type": "code",
   "execution_count": 62,
   "metadata": {},
   "outputs": [],
   "source": [
    "sdf = df.sort_values('single_execution_time', ascending=False).reset_index()\n",
    "del sdf['index']\n",
    "plt.bar(range(0,100),sdf['single_execution_time'])\n",
    "plt.bar(range(0,100),sdf['total_execution_time'] - sdf['single_execution_time'], bottom = sdf['single_execution_time'])\n",
    "#plt.yscale('log')\n",
    "plt.xlabel('Tasks (sorted by the execution time)', fontsize=18)\n",
    "plt.ylabel('Execution time (s)', fontsize=16)\n",
    "plt.title(\"Total vs Single execution time\")\n",
    "plt.legend(('Single Execution', 'Total Execution'))\n",
    "#plt.show()\n",
    "\n",
    "plt.savefig('execution-time.png', bbox_inches='tight', dpi=800)\n",
    "plt.close()"
   ]
  },
  {
   "cell_type": "code",
   "execution_count": 65,
   "metadata": {},
   "outputs": [
    {
     "data": {
      "text/plain": [
       "6689.4889910000011"
      ]
     },
     "execution_count": 65,
     "metadata": {},
     "output_type": "execute_result"
    }
   ],
   "source": [
    "savings = sdf['total_execution_time'] - sdf['single_execution_time']\n",
    "sum(savings)"
   ]
  }
 ],
 "metadata": {
  "kernelspec": {
   "display_name": "Python 3",
   "language": "python",
   "name": "python3"
  },
  "language_info": {
   "codemirror_mode": {
    "name": "ipython",
    "version": 2
   },
   "file_extension": ".py",
   "mimetype": "text/x-python",
   "name": "python",
   "nbconvert_exporter": "python",
   "pygments_lexer": "ipython2",
   "version": "2.7.14"
  }
 },
 "nbformat": 4,
 "nbformat_minor": 2
}
