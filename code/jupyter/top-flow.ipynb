{
 "cells": [
  {
   "cell_type": "code",
   "execution_count": 54,
   "metadata": {
    "collapsed": true
   },
   "outputs": [],
   "source": [
    "import matplotlib.pyplot as plt\n",
    "from openml import datasets, tasks, runs, flows, setups\n",
    "import numpy as np\n",
    "import pandas as pd\n",
    "import os\n",
    "import warnings\n",
    "warnings.filterwarnings('ignore')\n",
    "import matplotlib.pyplot as plt\n",
    "import matplotlib\n",
    "matplotlib.style.use('ggplot')"
   ]
  },
  {
   "cell_type": "code",
   "execution_count": 34,
   "metadata": {
    "collapsed": true
   },
   "outputs": [],
   "source": [
    "# Find top sklearn.pipeline Flow (with most number of runs)\n",
    "flowsJson = flows.list_flows()\n",
    "flowList = pd.DataFrame(flowsJson).transpose()\n",
    "sklearnPipelineFlows = flowList.loc[flowList.full_name.str.startswith('sklearn.pipeline')]\n",
    "sklearnRuns = pd.DataFrame(runs.list_runs(flow=sklearnPipelineFlows.id)).transpose()\n",
    "sklearnRuns.groupby('flow_id').agg('count').sort_values('run_id', ascending = 0)\n",
    "topFlow = sklearnRuns.groupby('flow_id').agg('count').sort_values('run_id', ascending = 0)[0:1] # flow_id = 5909"
   ]
  },
  {
   "cell_type": "code",
   "execution_count": 35,
   "metadata": {
    "collapsed": true
   },
   "outputs": [],
   "source": [
    "# Count the number of runs for each flow and task and provide a sample run\n",
    "topFlowRuns = pd.DataFrame(runs.list_runs(flow=topFlow.index)).transpose()\n",
    "f = {'run_id':['first','size']}\n",
    "allRunsTopFlow = topFlowRuns.groupby(['flow_id','task_id']).agg(f).reset_index()\n",
    "allRunsTopFlow.columns = ['flow', 'task','run', 'count']\n",
    "allRunsTopFlow['single_execution_time'] = ''"
   ]
  },
  {
   "cell_type": "code",
   "execution_count": 41,
   "metadata": {},
   "outputs": [
    {
     "name": "stdout",
     "output_type": "stream",
     "text": [
      "executed task 0, in 1.283132 seconds\n",
      "executed task 1, in 2.316795 seconds\n",
      "executed task 2, in 12.456413 seconds\n",
      "executed task 3, in 1.126984 seconds\n",
      "executed task 4, in 3.65409 seconds\n",
      "executed task 5, in 2.364133 seconds\n",
      "executed task 6, in 1.187904 seconds\n",
      "executed task 7, in 2.3304 seconds\n",
      "executed task 8, in 1.719811 seconds\n",
      "executed task 9, in 4.137435 seconds\n",
      "executed task 10, in 1.356666 seconds\n",
      "executed task 11, in 2.147308 seconds\n",
      "executed task 12, in 1.432005 seconds\n",
      "executed task 13, in 3.073723 seconds\n",
      "executed task 14, in 4.986094 seconds\n",
      "executed task 15, in 1.210295 seconds\n",
      "executed task 16, in 1.372695 seconds\n",
      "executed task 17, in 4.950061 seconds\n",
      "executed task 18, in 1.642055 seconds\n",
      "executed task 19, in 1.18121 seconds\n",
      "executed task 20, in 1.418553 seconds\n",
      "executed task 21, in 3.411171 seconds\n",
      "executed task 22, in 3.031358 seconds\n",
      "executed task 23, in 1.256085 seconds\n",
      "executed task 24, in 1.295296 seconds\n",
      "executed task 25, in 3.902751 seconds\n",
      "executed task 26, in 11.655479 seconds\n",
      "executed task 27, in 4.82467 seconds\n",
      "executed task 28, in 2.730561 seconds\n",
      "executed task 29, in 1.444441 seconds\n",
      "executed task 30, in 2.218839 seconds\n",
      "executed task 31, in 1.333416 seconds\n",
      "executed task 32, in 36.522478 seconds\n",
      "executed task 33, in 5.234407 seconds\n",
      "executed task 34, in 1.238396 seconds\n",
      "executed task 35, in 1.361825 seconds\n",
      "executed task 36, in 1.470278 seconds\n",
      "executed task 37, in 4.144761 seconds\n",
      "executed task 38, in 1.445312 seconds\n",
      "executed task 39, in 1.151905 seconds\n",
      "executed task 40, in 1.532898 seconds\n",
      "executed task 41, in 1.227046 seconds\n",
      "executed task 42, in 1.201616 seconds\n",
      "executed task 43, in 1.278189 seconds\n",
      "executed task 44, in 30.710934 seconds\n",
      "executed task 45, in 22.216766 seconds\n",
      "executed task 46, in 3.06835 seconds\n",
      "executed task 47, in 3.656771 seconds\n",
      "executed task 48, in 1.477019 seconds\n",
      "executed task 49, in 1.60545 seconds\n",
      "executed task 50, in 5.282824 seconds\n",
      "executed task 51, in 1.191736 seconds\n",
      "executed task 52, in 1.58042 seconds\n",
      "executed task 53, in 1.378424 seconds\n",
      "executed task 54, in 126.385778 seconds\n",
      "executed task 55, in 114.986375 seconds\n",
      "executed task 56, in 8.976432 seconds\n",
      "executed task 57, in 8.007989 seconds\n",
      "executed task 58, in 18.439859 seconds\n",
      "executed task 59, in 1.522783 seconds\n",
      "executed task 60, in 1.21875 seconds\n",
      "executed task 61, in 4.536632 seconds\n",
      "executed task 62, in 1.889311 seconds\n",
      "executed task 63, in 4.27965 seconds\n",
      "executed task 64, in 3.716793 seconds\n",
      "executed task 65, in 4.294515 seconds\n",
      "executed task 66, in 1.411511 seconds\n",
      "executed task 67, in 3.241462 seconds\n",
      "executed task 68, in 3.73969 seconds\n",
      "executed task 69, in 1.626874 seconds\n",
      "executed task 70, in 11.698193 seconds\n",
      "executed task 71, in 1.793086 seconds\n",
      "executed task 72, in 1.18392 seconds\n",
      "executed task 73, in 8.622754 seconds\n",
      "executed task 74, in 41.764198 seconds\n",
      "executed task 75, in 2.441253 seconds\n",
      "executed task 76, in 1.817076 seconds\n",
      "executed task 77, in 1.216413 seconds\n",
      "executed task 78, in 6.200536 seconds\n",
      "executed task 79, in 5.493812 seconds\n",
      "executed task 80, in 4.901402 seconds\n",
      "executed task 81, in 16.348962 seconds\n",
      "executed task 82, in 1.194796 seconds\n",
      "executed task 83, in 1.145428 seconds\n",
      "executed task 84, in 3.23645 seconds\n",
      "executed task 85, in 22.264482 seconds\n",
      "executed task 86, in 49.666949 seconds\n",
      "executed task 87, in 1.958868 seconds\n",
      "executed task 88, in 1.294867 seconds\n",
      "executed task 89, in 6.006722 seconds\n",
      "executed task 90, in 39.1199 seconds\n",
      "executed task 91, in 16.724624 seconds\n",
      "executed task 92, in 35.372621 seconds\n",
      "executed task 93, in 4.809356 seconds\n",
      "executed task 94, in 1.76151 seconds\n",
      "executed task 95, in 11.798625 seconds\n",
      "executed task 96, in 1.195106 seconds\n",
      "executed task 97, in 1.144991 seconds\n",
      "executed task 98, in 3.600809 seconds\n",
      "executed task 99, in 1.215229 seconds\n"
     ]
    }
   ],
   "source": [
    "# Re-run each flow and task to measure its time\n",
    "import datetime\n",
    "for i, row in allRunsTopFlow.iterrows():\n",
    "    f = flows.get_flow(row.flow)\n",
    "    t = tasks.get_task(row.task)\n",
    "    a = datetime.datetime.now()\n",
    "    runs.run_flow_on_task(t,f)\n",
    "    b = datetime.datetime.now()\n",
    "    delta = b - a\n",
    "    ti = delta.total_seconds()\n",
    "    print('executed task {}, in {} seconds'.format(i, ti))\n",
    "    allRunsTopFlow.set_value(i,'single_execution_time', ti)\n",
    "    #allRunsTopFlow.set_value(i,'time_total', ti * row.count)\n",
    "allRunsTopFlow.to_csv('top-flow-time.csv')    "
   ]
  },
  {
   "cell_type": "code",
   "execution_count": 44,
   "metadata": {
    "collapsed": true
   },
   "outputs": [],
   "source": [
    "allRunsTopFlow.to_csv('top-flow-time.csv')  "
   ]
  },
  {
   "cell_type": "code",
   "execution_count": 67,
   "metadata": {},
   "outputs": [],
   "source": [
    "# Read the dataframe from file\n",
    "df = pd.DataFrame.from_csv('top-flow-time.csv')\n",
    "df['total_execution_time'] = df['count'] * df['single_execution_time']"
   ]
  },
  {
   "cell_type": "markdown",
   "metadata": {},
   "source": [
    "- Most popular Flow (pipeline) with id 5909: sklearn.pipeline.Pipeline(imputer=sklearn.preprocessing.imputation.Imputer,pca=sklearn.decomposition.pca.PCA,randomforestclassifier=sklearn.ensemble.forest.RandomForestClassifier)\n",
    "\n",
    "- Executed on 100 unique tasks a total of 897 times\n",
    "- Sum of repeated execution time on all tasks = 7529 seconds\n",
    "- Sum of single execution time on all tasks = 839.7 seconds\n",
    "- Almost an order of magnitude faster"
   ]
  },
  {
   "cell_type": "markdown",
   "metadata": {},
   "source": [
    "Figure below shows the difference in total time of repeated most popular pipeline (flow 5909) execution vs the a single execution of the pipeline on inidividual tasks. (100 unique tasks wit a total of 897 execution of the pipeline)"
   ]
  },
  {
   "cell_type": "code",
   "execution_count": 70,
   "metadata": {},
   "outputs": [
    {
     "data": {
      "image/png": "[encoded data removed]",
      "text/plain": [
       "<matplotlib.figure.Figure at 0x113a315f8>"
      ]
     },
     "metadata": {},
     "output_type": "display_data"
    }
   ],
   "source": [
    "sdf = df.sort_values('single_execution_time', ascending=False).reset_index()\n",
    "del sdf['index']\n",
    "plt.plot(sdf['single_execution_time'])\n",
    "plt.plot(sdf['total_execution_time'])\n",
    "plt.yscale('log')\n",
    "plt.xlabel('Tasks (sorted by the execution time)', fontsize=18)\n",
    "plt.ylabel('Execution time (s) log scale', fontsize=16)\n",
    "plt.title(\"Total vs Single execution time\")\n",
    "plt.legend()\n",
    "plt.show()\n",
    "\n",
    "plt.savefig('execution-time.png', bbox_inches='tight')"
   ]
  }
 ],
 "metadata": {
  "kernelspec": {
   "display_name": "Python 3",
   "language": "python",
   "name": "python3"
  },
  "language_info": {
   "codemirror_mode": {
    "name": "ipython",
    "version": 3
   },
   "file_extension": ".py",
   "mimetype": "text/x-python",
   "name": "python",
   "nbconvert_exporter": "python",
   "pygments_lexer": "ipython3",
   "version": "3.6.1"
  }
 },
 "nbformat": 4,
 "nbformat_minor": 2
}
