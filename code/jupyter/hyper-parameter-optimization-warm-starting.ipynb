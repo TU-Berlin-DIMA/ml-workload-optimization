{
 "cells": [
  {
   "cell_type": "markdown",
   "metadata": {},
   "source": [
    "## Effect of Warmstarting the Hyperparameter Search\n",
    "\n",
    "Before adding hyperparameter search option to the Experiment Graph, we perform a simple analysis where we select the one pipeline and for every execution we add the hyperparameters and the final accuracy to the Trial object of the hypernet. Afterwards, we perform a search using a predefined budget to find the best set of parameters.\n",
    "We compare the result, with the vanilla version, where the Trial object is empty and report the quality and time to achieve the certain level of quality."
   ]
  },
  {
   "cell_type": "code",
   "execution_count": 2,
   "metadata": {},
   "outputs": [],
   "source": [
    "from openml import datasets, tasks, runs, flows, setups, config, evaluations\n",
    "from workloadoptimization.essentials import Component, ExperimentObject, ExperimentGraph, ExperimentParser\n",
    "from workloadoptimization.hyperopt_helper import TrialConverter\n",
    "from workloadoptimization.openml_helper import OpenMLReader\n",
    "import numpy as np\n",
    "import pandas as pd\n",
    "import os\n",
    "import matplotlib.pyplot as plt\n",
    "import seaborn as sns\n",
    "import sys\n",
    "import uuid\n",
    "import networkx as nx\n",
    "import sklearn\n",
    "from networkx.drawing.nx_agraph import graphviz_layout\n",
    "from openmlstudy14.preprocessing import ConditionalImputer\n",
    "from matplotlib2tikz import save as tikz_save\n",
    "%matplotlib inline\n",
    "\n",
    "sns.set_style(\"whitegrid\")\n",
    "sns.set_context(\"paper\", font_scale=2)\n",
    "\n",
    "config.apikey = '8e2079508005379adb9a60798696134e'\n",
    "config.server = 'https://www.openml.org/api/v1'\n",
    "config.set_cache_directory(os.path.expanduser('~/openml-cache'))"
   ]
  },
  {
   "cell_type": "code",
   "execution_count": 3,
   "metadata": {},
   "outputs": [],
   "source": [
    "flow = flows.get_flow(flow_id=7707)\n",
    "task = tasks.get_task(task_id=31)\n",
    "pipeline = flows.flow_to_sklearn(flow)"
   ]
  },
  {
   "cell_type": "code",
   "execution_count": 4,
   "metadata": {},
   "outputs": [],
   "source": [
    "\n",
    "def extractExperiments(filePath, taskIds, flowIds):\n",
    "    openMLReader = OpenMLReader()\n",
    "    if os.path.isfile(filePath):\n",
    "        return pd.read_pickle(filePath)\n",
    "    frames = []\n",
    "    for t in taskIds:\n",
    "        for f in flowIds:\n",
    "            frames.append(openMLReader.getTopRuns(-1,f,t))\n",
    "    Experiments = pd.concat(frames).reset_index(drop=True)\n",
    "    Experiments.to_pickle(filePath)\n",
    "    return Experiments\n",
    "\n",
    "# This is time consuming, so it is better to persist the list of the runs to disk\n",
    "# If you are changing the tasks or flow ids, remember to change the name of the file \n",
    "Experiments = extractExperiments('meta/hyper-opt-experiment-31-7707-all', [31], [7707])"
   ]
  },
  {
   "cell_type": "code",
   "execution_count": 5,
   "metadata": {},
   "outputs": [],
   "source": [
    "OPENML_FLOWS = {}\n",
    "FLOW_IDS = Experiments.flow_id.unique()\n",
    "for f in FLOW_IDS:\n",
    "    try:\n",
    "        #print f\n",
    "        fl = flows.get_flow(f)\n",
    "        OPENML_FLOWS[f] = fl \n",
    "    except:\n",
    "        print 'error for {}'.format(f)\n",
    "parser = ExperimentParser()\n",
    "experimentObjects = parser.extractOpenMLFlows(Experiments, OPENML_FLOWS)"
   ]
  },
  {
   "cell_type": "code",
   "execution_count": 6,
   "metadata": {},
   "outputs": [],
   "source": [
    "# Find the range of all the hyperparameters for setting up the search space\n",
    "param_range = {}\n",
    "for e in experimentObjects:\n",
    "    for k,v in e.extractParams().iteritems():\n",
    "        if param_range.has_key(k):\n",
    "            param_range[k].append(v)\n",
    "        else:\n",
    "            param_range[k] = [v]"
   ]
  },
  {
   "cell_type": "code",
   "execution_count": 7,
   "metadata": {},
   "outputs": [
    {
     "name": "stdout",
     "output_type": "stream",
     "text": [
      "Dynamic hyperparameters: ['classifier__tol', 'classifier__gamma', 'classifier__C', 'imputation__strategy', 'classifier__degree', 'classifier__coef0', 'classifier__shrinking', 'classifier__kernel']\n"
     ]
    }
   ],
   "source": [
    "# Find the hyperparameters with constant values so we can set them once and do not include them in the search space\n",
    "CONSTANT_PARAMS = {}\n",
    "DYNAMIC_PARAMS = []\n",
    "for k in param_range.keys():\n",
    "    try:\n",
    "        size = len(set(param_range[k]))\n",
    "        if size == 1:\n",
    "            CONSTANT_PARAMS[k] = param_range[k][0]\n",
    "        else:\n",
    "            DYNAMIC_PARAMS.append(k)\n",
    "    except: \n",
    "        CONSTANT_PARAMS[k] = param_range[k][0]    \n",
    "        #print k,'error'\n",
    "print 'Dynamic hyperparameters: {}'.format(DYNAMIC_PARAMS)"
   ]
  },
  {
   "cell_type": "markdown",
   "metadata": {},
   "source": [
    "Based on the list of the parameters in the experiments these are the feasable ranges (or categories) of the parameters.\n",
    "- classifier__tol 1.0509652110524482e-05 0.09706102908291375\n",
    "- classifier__gamma 3.122280314190532e-05 7.998532268538166\n",
    "- classifier__C 0.03213680700039348 32547.418063576853\n",
    "- imputation__strategy {u'\"mean\"', u'\"median\"', u'\"most_frequent\"'}\n",
    "- classifier__degree {u'1', u'2', u'3', u'4', u'5'}\n",
    "- classifier__coef0 -0.9942534412466477 0.9975887639931769\n",
    "- classifier__shrinking True, False"
   ]
  },
  {
   "cell_type": "code",
   "execution_count": 8,
   "metadata": {},
   "outputs": [],
   "source": [
    "# construct the search space\n",
    "from hyperopt import hp\n",
    "\n",
    "# Parameter search space\n",
    "space = {}\n",
    "# between 1.0509652110524482e-05 0.09706102908291375\n",
    "space['classifier__tol'] = hp.lognormal('classifier__tol',-7, 1)\n",
    "# between 3.122280314190532e-05 7.998532268538166\n",
    "space['classifier__gamma'] = hp.lognormal('classifier__gamma',0.0001, 1.3)\n",
    "# One of True or False\n",
    "space['classifier__C'] = hp.lognormal('classifier__C',2.5, 3)\n",
    "# choice\n",
    "space['imputation__strategy'] = hp.choice('imputation__strategy', [u'mean', u'median', u'most_frequent'])\n",
    "# choice\n",
    "space['classifier__degree'] = hp.choice('classifier__degree', [1, 2, 3, 4, 5])\n",
    "# Between -0.9942534412466477 0.9975887639931769\n",
    "space['classifier__coef0'] = hp.uniform('classifier__coef0', -1, 1)\n",
    "# True or False\n",
    "space['classifier__shrinking'] = hp.choice('classifier__shrinking',[True, False])"
   ]
  },
  {
   "cell_type": "code",
   "execution_count": 9,
   "metadata": {},
   "outputs": [],
   "source": [
    "# set the constant parameters and define the objective function\n",
    "pipeline.set_params(**CONSTANT_PARAMS)\n",
    "def objective(params):\n",
    "    print '.',\n",
    "    # seems when tol is big (greater than 1) scikit learn throws an exception\n",
    "    # I couldn't find a way to cap a value in the search space of hyperopt, \n",
    "    # this is the alternative solution\n",
    "    if params['classifier__tol'] > 0.2:\n",
    "        params['classifier__tol'] = 0.2\n",
    "    pipeline.set_params(**params)\n",
    "    try:\n",
    "        pipeline.fit(X_train, y_train)\n",
    "    except:\n",
    "        print 'Error for the params: {}'.format(params)\n",
    "    accuracy = pipeline.score(X_test, y_test)\n",
    "    #print 'accuracy = {}'.format(accuracy)\n",
    "    return 1 - accuracy"
   ]
  },
  {
   "cell_type": "code",
   "execution_count": 10,
   "metadata": {},
   "outputs": [],
   "source": [
    "# load the dataset\n",
    "dataset = datasets.get_dataset(dataset_id=task.dataset_id)\n",
    "data = dataset.get_data()\n",
    "train_indices,test_indices = task.get_train_test_split_indices()\n",
    "X, y, attribute_names = dataset.get_data(\n",
    "target=dataset.default_target_attribute,\n",
    "return_attribute_names=True)\n",
    "X_train = X[train_indices]\n",
    "y_train = y[train_indices]\n",
    "X_test = X[test_indices]\n",
    "y_test = y[test_indices]"
   ]
  },
  {
   "cell_type": "code",
   "execution_count": 11,
   "metadata": {},
   "outputs": [],
   "source": [
    "# sort based on the loss\n",
    "sortedObjects = sorted(experimentObjects, key=lambda eo: 1 - eo.quality, reverse=True)"
   ]
  },
  {
   "cell_type": "code",
   "execution_count": 12,
   "metadata": {},
   "outputs": [],
   "source": [
    "from hyperopt import fmin, tpe, Trials, rand\n",
    "def hyperParamExperiment(trialsDatabase, numberOfExperiments, numberOfEvals):\n",
    "    losses = np.empty([0, numberOfEvals])\n",
    "    INITIAL_SIZE = len(trialsDatabase.trials)\n",
    "    \n",
    "    for i in range(numberOfExperiments):\n",
    "        print ''\n",
    "        print 'Experiment {}'.format(i + 1)\n",
    "        trials = Trials()\n",
    "        trials.insert_trial_docs(trialsDatabase.trials)\n",
    "        trials.refresh() \n",
    "        \n",
    "        fmin(objective,\n",
    "                space,\n",
    "                algo=tpe.suggest,\n",
    "                max_evals=INITIAL_SIZE + numberOfEvals,\n",
    "                trials=trials)\n",
    "        \n",
    "        newTrials = Trials()\n",
    "        newTrials.insert_trial_docs(trials.trials[INITIAL_SIZE:])\n",
    "        newTrials.refresh() \n",
    "        losses = np.insert(losses, i ,np.array(newTrials.losses()) , 0)  \n",
    "    return losses"
   ]
  },
  {
   "cell_type": "code",
   "execution_count": 13,
   "metadata": {},
   "outputs": [
    {
     "name": "stdout",
     "output_type": "stream",
     "text": [
      "Experiment 1\n",
      ". . . . . . . . . . . . . . . . . . . . . . . . . . . . . . . . . . . . . . . . . . . . . . . . . . . . . . . . . . . . . . . . . . . . . . . . . . . . . . . . . . . . . . . . . . . . . . . . . . . . Experiment 2\n",
      ". . . . . . . . . . . . . . . . . . . . . . . . . . . . . . . . . . . . . . . . . . . . . . . . . . . . . . . . . . . . . . . . . . . . . . . . . . . . . . . . . . . . . . . . . . . . . . . . . . . . Experiment 3\n",
      ". . . . . . . . . . . . . . . . . . . . . . . . . . . . . . . . . . . . . . . . . . . . . . . . . . . . . . . . . . . . . . . . . . . . . . . . . . . . . . . . . . . . . . . . . . . . . . . . . . . . Experiment 4\n",
      ". . . . . . . . . . . . . . . . . . . . . . . . . . . . . . . . . . . . . . . . . . . . . . . . . . . . . . . . . . . . . . . . . . . . . . . . . . . . . . . . . . . . . . . . . . . . . . . . . . . . Experiment 5\n",
      ". . . . . . . . . . . . . . . . . . . . . . . . . . . . . . . . . . . . . . . . . . . . . . . . . . . . . . . . . . . . . . . . . . . . . . . . . . . . . . . . . . . . . . . . . . . . . . . . . . . .\n"
     ]
    }
   ],
   "source": [
    "trialConverter = TrialConverter()\n",
    "warmTrials = trialConverter.trialsFromExperimentObjects(space, sortedObjects)\n",
    "INITIAL_SIZE = len(warmTrials.trials)\n",
    "warmLosses = hyperParamExperiment(warmTrials, 5,100)"
   ]
  },
  {
   "cell_type": "code",
   "execution_count": null,
   "metadata": {},
   "outputs": [],
   "source": [
    "coldTrials = Trials()    \n",
    "coldLosses = hyperParamExperiment(coldTrials, 10,100)"
   ]
  },
  {
   "cell_type": "code",
   "execution_count": 95,
   "metadata": {},
   "outputs": [],
   "source": [
    "from matplotlib.ticker import FormatStrFormatter\n",
    "def plotTrials(losses):\n",
    "    TRIALS_SIZE = len(losses)\n",
    "    plt.figure(figsize=(10,3))\n",
    "    ax = sns.regplot(np.array(range(1, TRIALS_SIZE + 1)), losses, fit_reg=False, scatter_kws={'s': 40})\n",
    "    ax.yaxis.set_major_formatter(FormatStrFormatter('%.2f'))\n",
    "    ax.set_ylabel('Loss')\n",
    "    ax.set_xlabel('Trial')\n",
    "    ax.set_xlim(0,TRIALS_SIZE + 1)\n",
    "\n",
    "    # Show the average loss\n",
    "    avgLoss = np.mean(losses)\n",
    "    plt.text(s='Avg Loss = {0:.2f}'.format(avgLoss),x=0, y=avgLoss + 0.002, fontdict={'size':13, 'color':'green'})\n",
    "    plt.hlines(xmin=0, xmax=TRIALS_SIZE + 1, y = avgLoss, colors ='green')\n",
    "\n",
    "    # Show the first best model\n",
    "    idxOfBest = np.argmin(losses) + 1\n",
    "    y0,y1 =  ax.get_ylim()\n",
    "    plt.vlines(ymin=y0, ymax=y1, x=idxOfBest + 1, colors='red')\n",
    "    plt.text(s='Best Trial = {}'.format(idxOfBest), x=idxOfBest + 2, y= (y0+y1)/2.2, fontdict={'size':13,\n",
    "                                                                                      'color':'red', \n",
    "                                                                                      'Rotation':'90',\n",
    "                                                                                      'VerticalAlignment':'bottom'})\n",
    "    ax.set_ylim(y0,y1)"
   ]
  },
  {
   "cell_type": "code",
   "execution_count": 97,
   "metadata": {},
   "outputs": [
    {
     "data": {
      "image/png": "[encoded data removed]",
      "text/plain": [
       "<matplotlib.figure.Figure at 0x115db1f50>"
      ]
     },
     "metadata": {},
     "output_type": "display_data"
    },
    {
     "data": {
      "image/png": "[encoded data removed]",
      "text/plain": [
       "<matplotlib.figure.Figure at 0x115ba9e50>"
      ]
     },
     "metadata": {},
     "output_type": "display_data"
    }
   ],
   "source": [
    "# Warmstarting\n",
    "trials = Trials()\n",
    "trials.insert_trial_docs(warmTrials.trials[INITIAL_SIZE:])\n",
    "trials.refresh() \n",
    "plotTrials(np.array(trials.losses()))\n",
    "plt.savefig('figures/warm-starting-warm500-trials100-task31.eps', format='eps', dpi=1000, bbox_inches='tight')\n",
    "#tikz_save('figures/warm-starting-warm500-trials100-task31.eps')\n",
    "\n",
    "# Coldstarting\n",
    "plotTrials(np.array(coldTrials.losses()))\n",
    "plt.savefig('figures/cold-starting-trials100-task31.eps', format='eps', dpi=1000, bbox_inches='tight')\n",
    "#tikz_save('figures/cold-starting-trials100-task31')"
   ]
  },
  {
   "cell_type": "markdown",
   "metadata": {},
   "source": [
    "## Comparison of the Accuracy for Warm and Cold Trials\n",
    "In the experiment, we warm started the Trials object with 500 points from the OpenML repository and run the optimization process 100 times.\n",
    "Figure above shows that using the existing experiments to warm start the Trials object for the bayesian optimization reduces the average loss of the subsequent trials (cold start = 0.256, warm start = 0.217).\n",
    "Moreover, the best result (0.20) was found slightly earlier in warm start (after 17 iterations) when compared to the cold start (25 iterations).\n",
    "However, running the experiments for longer trials (500) sometimes results in cold start achieving a better result. I believe, wamr starting results in local minima and forces the search to focus more on exploitation rather than exploration.\n",
    "We should address the problem of local minima and propose solutions for fixing it.\n"
   ]
  },
  {
   "cell_type": "markdown",
   "metadata": {},
   "source": [
    "## Conclusion\n",
    "Warm starting for bayesian optimization certainly shows promising result. We must address some of its issues and perform more experiments on different datasets and pipelines."
   ]
  },
  {
   "cell_type": "markdown",
   "metadata": {},
   "source": [
    "## Appendix"
   ]
  },
  {
   "cell_type": "code",
   "execution_count": null,
   "metadata": {},
   "outputs": [],
   "source": [
    "# darw the distributino of the error rate for individual parameters\n",
    "def drawPlots(targetTrial):\n",
    "    plt.figure(figsize=(10,10))\n",
    "    plt.subplot(3,3,1)\n",
    "    ax = sns.regplot(x = np.array([x['misc']['vals']['classifier__tol'][0] for x in targetTrial.trials]), y = np.array(targetTrial.losses()), fit_reg=False)\n",
    "    ax.set_title('classifier__tol')\n",
    "    plt.subplot(3,3,2)\n",
    "    ax = sns.regplot(x = np.array([x['misc']['vals']['classifier__gamma'][0] for x in targetTrial.trials]), y = np.array(targetTrial.losses()), fit_reg=False)\n",
    "    ax.set_title('classifier__gamma')\n",
    "    plt.subplot(3,3,3)\n",
    "    ax = sns.regplot(x = np.array([x['misc']['vals']['classifier__C'][0] for x in targetTrial.trials]), y = np.array(targetTrial.losses()), fit_reg=False)\n",
    "    ax.set_title('classifier__C')\n",
    "    plt.subplot(3,3,4)\n",
    "    ax = sns.regplot(x = np.array([x['misc']['vals']['classifier__degree'][0] for x in targetTrial.trials]), y = np.array(targetTrial.losses()), fit_reg=False)\n",
    "    ax.set_title('classifier__degree')\n",
    "    plt.subplot(3,3,5)\n",
    "    ax = sns.regplot(x = np.array([x['misc']['vals']['classifier__coef0'][0] for x in targetTrial.trials]), y = np.array(targetTrial.losses()), fit_reg=False)\n",
    "    ax.set_title('classifier__coef0')\n",
    "    plt.subplot(3,1,3)\n",
    "    ax = sns.regplot(np.array(range(len(targetTrial.losses()))), np.array(targetTrial.losses()), fit_reg=False)\n",
    "    ax.set_title('Trials vs Quality over time')"
   ]
  },
  {
   "cell_type": "code",
   "execution_count": 128,
   "metadata": {},
   "outputs": [],
   "source": [
    "base = np.empty([0, 10])\n",
    "other = np.zeros(10)"
   ]
  },
  {
   "cell_type": "code",
   "execution_count": 136,
   "metadata": {},
   "outputs": [],
   "source": [
    "base = np.insert(base, 0, other, 0)"
   ]
  },
  {
   "cell_type": "code",
   "execution_count": 151,
   "metadata": {},
   "outputs": [
    {
     "data": {
      "text/plain": [
       "array([[ 0.21,  0.21,  0.21,  0.23,  0.23,  0.23,  0.3 ,  0.23,  0.21,\n",
       "         0.23,  0.23,  0.23,  0.23,  0.2 ,  0.2 ,  0.21,  0.3 ,  0.21,\n",
       "         0.21,  0.2 ,  0.2 ,  0.21,  0.2 ,  0.2 ,  0.21,  0.2 ,  0.2 ,\n",
       "         0.2 ,  0.2 ,  0.2 ,  0.21,  0.21,  0.21,  0.2 ,  0.23,  0.21,\n",
       "         0.2 ,  0.21,  0.22,  0.28,  0.21,  0.21,  0.2 ,  0.23,  0.2 ,\n",
       "         0.21,  0.21,  0.2 ,  0.22,  0.2 ,  0.21,  0.21,  0.21,  0.2 ,\n",
       "         0.21,  0.3 ,  0.22,  0.21,  0.21,  0.22,  0.21,  0.22,  0.2 ,\n",
       "         0.21,  0.21,  0.2 ,  0.2 ,  0.2 ,  0.21,  0.22,  0.2 ,  0.2 ,\n",
       "         0.2 ,  0.21,  0.2 ,  0.2 ,  0.22,  0.2 ,  0.2 ,  0.2 ,  0.21,\n",
       "         0.2 ,  0.21,  0.21,  0.21,  0.22,  0.22,  0.2 ,  0.21,  0.22,\n",
       "         0.2 ,  0.2 ,  0.2 ,  0.2 ,  0.2 ,  0.2 ,  0.2 ,  0.2 ,  0.2 ,  0.2 ],\n",
       "       [ 0.25,  0.2 ,  0.23,  0.21,  0.22,  0.23,  0.21,  0.21,  0.23,\n",
       "         0.3 ,  0.23,  0.2 ,  0.21,  0.2 ,  0.21,  0.2 ,  0.21,  0.22,\n",
       "         0.23,  0.21,  0.22,  0.2 ,  0.22,  0.21,  0.21,  0.21,  0.2 ,\n",
       "         0.21,  0.21,  0.2 ,  0.3 ,  0.2 ,  0.2 ,  0.2 ,  0.2 ,  0.19,\n",
       "         0.21,  0.2 ,  0.2 ,  0.21,  0.2 ,  0.2 ,  0.2 ,  0.2 ,  0.21,\n",
       "         0.22,  0.21,  0.21,  0.2 ,  0.2 ,  0.22,  0.22,  0.3 ,  0.2 ,\n",
       "         0.2 ,  0.2 ,  0.22,  0.21,  0.21,  0.2 ,  0.2 ,  0.2 ,  0.22,\n",
       "         0.21,  0.2 ,  0.22,  0.22,  0.2 ,  0.21,  0.2 ,  0.2 ,  0.2 ,\n",
       "         0.21,  0.19,  0.21,  0.22,  0.22,  0.22,  0.21,  0.2 ,  0.2 ,\n",
       "         0.2 ,  0.21,  0.2 ,  0.2 ,  0.22,  0.21,  0.2 ,  0.21,  0.21,\n",
       "         0.21,  0.2 ,  0.21,  0.23,  0.3 ,  0.3 ,  0.22,  0.2 ,  0.23,\n",
       "         0.21],\n",
       "       [ 0.25,  0.21,  0.21,  0.21,  0.23,  0.23,  0.23,  0.23,  0.21,\n",
       "         0.21,  0.21,  0.3 ,  0.21,  0.21,  0.21,  0.21,  0.23,  0.21,\n",
       "         0.23,  0.21,  0.21,  0.23,  0.3 ,  0.3 ,  0.21,  0.21,  0.21,\n",
       "         0.23,  0.21,  0.23,  0.2 ,  0.21,  0.21,  0.2 ,  0.2 ,  0.2 ,\n",
       "         0.2 ,  0.2 ,  0.2 ,  0.2 ,  0.21,  0.21,  0.2 ,  0.21,  0.23,\n",
       "         0.2 ,  0.22,  0.2 ,  0.2 ,  0.2 ,  0.2 ,  0.2 ,  0.21,  0.22,\n",
       "         0.2 ,  0.2 ,  0.21,  0.21,  0.21,  0.2 ,  0.21,  0.2 ,  0.22,\n",
       "         0.2 ,  0.21,  0.21,  0.2 ,  0.23,  0.23,  0.21,  0.3 ,  0.21,\n",
       "         0.2 ,  0.23,  0.22,  0.21,  0.22,  0.2 ,  0.3 ,  0.2 ,  0.2 ,\n",
       "         0.2 ,  0.21,  0.2 ,  0.28,  0.22,  0.21,  0.3 ,  0.21,  0.21,\n",
       "         0.2 ,  0.23,  0.22,  0.22,  0.2 ,  0.2 ,  0.21,  0.22,  0.23,  0.2 ],\n",
       "       [ 0.21,  0.21,  0.21,  0.21,  0.21,  0.21,  0.21,  0.21,  0.23,\n",
       "         0.21,  0.22,  0.23,  0.23,  0.23,  0.22,  0.3 ,  0.21,  0.21,\n",
       "         0.3 ,  0.21,  0.21,  0.21,  0.21,  0.23,  0.21,  0.2 ,  0.21,\n",
       "         0.23,  0.2 ,  0.2 ,  0.2 ,  0.2 ,  0.28,  0.2 ,  0.2 ,  0.2 ,\n",
       "         0.22,  0.2 ,  0.2 ,  0.22,  0.2 ,  0.2 ,  0.2 ,  0.21,  0.2 ,\n",
       "         0.2 ,  0.21,  0.22,  0.23,  0.22,  0.2 ,  0.22,  0.22,  0.2 ,\n",
       "         0.21,  0.2 ,  0.2 ,  0.22,  0.22,  0.2 ,  0.2 ,  0.21,  0.22,\n",
       "         0.2 ,  0.21,  0.3 ,  0.2 ,  0.2 ,  0.2 ,  0.22,  0.2 ,  0.3 ,\n",
       "         0.23,  0.22,  0.2 ,  0.22,  0.22,  0.2 ,  0.2 ,  0.2 ,  0.21,\n",
       "         0.2 ,  0.22,  0.22,  0.21,  0.22,  0.2 ,  0.22,  0.21,  0.2 ,\n",
       "         0.3 ,  0.23,  0.23,  0.3 ,  0.2 ,  0.21,  0.2 ,  0.2 ,  0.21,  0.2 ],\n",
       "       [ 0.21,  0.3 ,  0.24,  0.2 ,  0.21,  0.21,  0.2 ,  0.23,  0.21,\n",
       "         0.2 ,  0.21,  0.23,  0.21,  0.3 ,  0.22,  0.23,  0.23,  0.22,\n",
       "         0.2 ,  0.21,  0.2 ,  0.2 ,  0.19,  0.2 ,  0.2 ,  0.21,  0.2 ,\n",
       "         0.21,  0.21,  0.23,  0.21,  0.2 ,  0.21,  0.2 ,  0.21,  0.2 ,\n",
       "         0.2 ,  0.21,  0.21,  0.21,  0.21,  0.2 ,  0.19,  0.21,  0.2 ,\n",
       "         0.22,  0.21,  0.21,  0.21,  0.21,  0.23,  0.21,  0.2 ,  0.21,\n",
       "         0.21,  0.21,  0.21,  0.2 ,  0.21,  0.2 ,  0.3 ,  0.2 ,  0.21,\n",
       "         0.2 ,  0.19,  0.2 ,  0.21,  0.2 ,  0.2 ,  0.22,  0.2 ,  0.22,\n",
       "         0.2 ,  0.29,  0.2 ,  0.22,  0.19,  0.21,  0.21,  0.3 ,  0.21,\n",
       "         0.22,  0.2 ,  0.21,  0.23,  0.2 ,  0.2 ,  0.3 ,  0.2 ,  0.21,\n",
       "         0.3 ,  0.21,  0.2 ,  0.22,  0.21,  0.2 ,  0.2 ,  0.21,  0.22,  0.2 ],\n",
       "       [ 0.25,  0.25,  0.23,  0.3 ,  0.21,  0.22,  0.23,  0.23,  0.23,\n",
       "         0.23,  0.23,  0.23,  0.23,  0.23,  0.24,  0.24,  0.3 ,  0.23,\n",
       "         0.23,  0.23,  0.22,  0.21,  0.23,  0.21,  0.21,  0.21,  0.2 ,\n",
       "         0.21,  0.21,  0.2 ,  0.21,  0.21,  0.2 ,  0.2 ,  0.2 ,  0.2 ,\n",
       "         0.22,  0.22,  0.2 ,  0.21,  0.2 ,  0.2 ,  0.21,  0.2 ,  0.21,\n",
       "         0.2 ,  0.2 ,  0.22,  0.23,  0.21,  0.21,  0.2 ,  0.23,  0.2 ,\n",
       "         0.22,  0.21,  0.2 ,  0.22,  0.2 ,  0.22,  0.2 ,  0.21,  0.2 ,\n",
       "         0.21,  0.2 ,  0.21,  0.21,  0.2 ,  0.21,  0.2 ,  0.21,  0.2 ,\n",
       "         0.21,  0.2 ,  0.2 ,  0.2 ,  0.2 ,  0.21,  0.23,  0.2 ,  0.2 ,\n",
       "         0.21,  0.21,  0.3 ,  0.2 ,  0.22,  0.23,  0.3 ,  0.22,  0.22,\n",
       "         0.2 ,  0.2 ,  0.2 ,  0.21,  0.2 ,  0.2 ,  0.21,  0.2 ,  0.2 ,  0.2 ],\n",
       "       [ 0.24,  0.21,  0.21,  0.23,  0.23,  0.23,  0.23,  0.23,  0.3 ,\n",
       "         0.23,  0.3 ,  0.24,  0.23,  0.23,  0.21,  0.21,  0.2 ,  0.21,\n",
       "         0.21,  0.21,  0.21,  0.21,  0.21,  0.21,  0.21,  0.21,  0.21,\n",
       "         0.21,  0.22,  0.21,  0.3 ,  0.21,  0.21,  0.21,  0.21,  0.21,\n",
       "         0.21,  0.21,  0.21,  0.21,  0.21,  0.2 ,  0.2 ,  0.2 ,  0.21,\n",
       "         0.21,  0.21,  0.2 ,  0.21,  0.21,  0.21,  0.22,  0.23,  0.21,\n",
       "         0.21,  0.3 ,  0.21,  0.21,  0.22,  0.21,  0.2 ,  0.21,  0.22,\n",
       "         0.21,  0.21,  0.22,  0.21,  0.22,  0.21,  0.3 ,  0.21,  0.2 ,\n",
       "         0.2 ,  0.2 ,  0.21,  0.21,  0.2 ,  0.22,  0.2 ,  0.3 ,  0.2 ,\n",
       "         0.21,  0.2 ,  0.21,  0.2 ,  0.3 ,  0.21,  0.2 ,  0.21,  0.2 ,\n",
       "         0.3 ,  0.21,  0.2 ,  0.2 ,  0.22,  0.21,  0.21,  0.2 ,  0.21,\n",
       "         0.21],\n",
       "       [ 0.3 ,  0.21,  0.21,  0.22,  0.21,  0.2 ,  0.21,  0.3 ,  0.22,\n",
       "         0.22,  0.22,  0.22,  0.21,  0.21,  0.22,  0.22,  0.22,  0.21,\n",
       "         0.21,  0.21,  0.2 ,  0.2 ,  0.21,  0.3 ,  0.21,  0.2 ,  0.21,\n",
       "         0.23,  0.21,  0.2 ,  0.21,  0.2 ,  0.2 ,  0.22,  0.2 ,  0.21,\n",
       "         0.21,  0.2 ,  0.21,  0.23,  0.21,  0.21,  0.21,  0.2 ,  0.21,\n",
       "         0.19,  0.21,  0.21,  0.21,  0.2 ,  0.2 ,  0.21,  0.21,  0.21,\n",
       "         0.21,  0.2 ,  0.21,  0.21,  0.2 ,  0.21,  0.2 ,  0.21,  0.2 ,\n",
       "         0.21,  0.3 ,  0.2 ,  0.22,  0.2 ,  0.21,  0.22,  0.2 ,  0.2 ,\n",
       "         0.22,  0.2 ,  0.22,  0.22,  0.21,  0.21,  0.21,  0.21,  0.21,\n",
       "         0.3 ,  0.2 ,  0.21,  0.2 ,  0.21,  0.2 ,  0.23,  0.21,  0.21,\n",
       "         0.21,  0.21,  0.2 ,  0.23,  0.22,  0.19,  0.2 ,  0.24,  0.22,\n",
       "         0.23],\n",
       "       [ 0.3 ,  0.24,  0.24,  0.32,  0.21,  0.3 ,  0.21,  0.22,  0.21,\n",
       "         0.21,  0.23,  0.22,  0.23,  0.21,  0.21,  0.21,  0.23,  0.21,\n",
       "         0.21,  0.21,  0.21,  0.21,  0.21,  0.21,  0.21,  0.21,  0.23,\n",
       "         0.21,  0.2 ,  0.21,  0.21,  0.2 ,  0.22,  0.21,  0.2 ,  0.2 ,\n",
       "         0.2 ,  0.21,  0.2 ,  0.2 ,  0.2 ,  0.2 ,  0.2 ,  0.2 ,  0.2 ,\n",
       "         0.2 ,  0.2 ,  0.2 ,  0.21,  0.31,  0.2 ,  0.2 ,  0.2 ,  0.21,\n",
       "         0.2 ,  0.2 ,  0.2 ,  0.2 ,  0.3 ,  0.2 ,  0.21,  0.2 ,  0.23,\n",
       "         0.2 ,  0.2 ,  0.21,  0.2 ,  0.21,  0.21,  0.2 ,  0.21,  0.2 ,\n",
       "         0.21,  0.2 ,  0.21,  0.2 ,  0.2 ,  0.2 ,  0.2 ,  0.2 ,  0.2 ,\n",
       "         0.2 ,  0.2 ,  0.2 ,  0.21,  0.3 ,  0.21,  0.21,  0.2 ,  0.21,\n",
       "         0.3 ,  0.21,  0.3 ,  0.21,  0.2 ,  0.2 ,  0.21,  0.21,  0.2 ,  0.2 ],\n",
       "       [ 0.25,  0.21,  0.2 ,  0.21,  0.21,  0.21,  0.21,  0.21,  0.21,\n",
       "         0.21,  0.21,  0.22,  0.21,  0.3 ,  0.21,  0.21,  0.21,  0.3 ,\n",
       "         0.2 ,  0.21,  0.29,  0.22,  0.21,  0.21,  0.21,  0.21,  0.21,\n",
       "         0.21,  0.2 ,  0.21,  0.2 ,  0.21,  0.2 ,  0.21,  0.2 ,  0.21,\n",
       "         0.2 ,  0.2 ,  0.23,  0.3 ,  0.21,  0.2 ,  0.21,  0.2 ,  0.21,\n",
       "         0.2 ,  0.21,  0.2 ,  0.21,  0.22,  0.2 ,  0.21,  0.2 ,  0.21,\n",
       "         0.21,  0.2 ,  0.2 ,  0.2 ,  0.2 ,  0.2 ,  0.21,  0.21,  0.2 ,\n",
       "         0.21,  0.2 ,  0.2 ,  0.23,  0.22,  0.2 ,  0.21,  0.21,  0.21,\n",
       "         0.2 ,  0.21,  0.21,  0.21,  0.21,  0.2 ,  0.2 ,  0.2 ,  0.2 ,\n",
       "         0.2 ,  0.2 ,  0.2 ,  0.2 ,  0.2 ,  0.21,  0.21,  0.2 ,  0.2 ,\n",
       "         0.2 ,  0.22,  0.2 ,  0.2 ,  0.2 ,  0.2 ,  0.23,  0.22,  0.2 ,  0.2 ]])"
      ]
     },
     "execution_count": 151,
     "metadata": {},
     "output_type": "execute_result"
    }
   ],
   "source": [
    "warmLosses"
   ]
  },
  {
   "cell_type": "code",
   "execution_count": 152,
   "metadata": {},
   "outputs": [
    {
     "ename": "ValueError",
     "evalue": "color kwarg must have one color per dataset",
     "output_type": "error",
     "traceback": [
      "\u001b[0;31m---------------------------------------------------------------------------\u001b[0m",
      "\u001b[0;31mValueError\u001b[0m                                Traceback (most recent call last)",
      "\u001b[0;32m<ipython-input-152-f552ba73781b>\u001b[0m in \u001b[0;36m<module>\u001b[0;34m()\u001b[0m\n\u001b[0;32m----> 1\u001b[0;31m \u001b[0msns\u001b[0m\u001b[0;34m.\u001b[0m\u001b[0mdistplot\u001b[0m\u001b[0;34m(\u001b[0m\u001b[0mwarmLosses\u001b[0m\u001b[0;34m)\u001b[0m\u001b[0;34m\u001b[0m\u001b[0m\n\u001b[0m",
      "\u001b[0;32m/usr/local/lib/python2.7/site-packages/seaborn/distributions.pyc\u001b[0m in \u001b[0;36mdistplot\u001b[0;34m(a, bins, hist, kde, rug, fit, hist_kws, kde_kws, rug_kws, fit_kws, color, vertical, norm_hist, axlabel, label, ax)\u001b[0m\n\u001b[1;32m    213\u001b[0m         \u001b[0mhist_color\u001b[0m \u001b[0;34m=\u001b[0m \u001b[0mhist_kws\u001b[0m\u001b[0;34m.\u001b[0m\u001b[0mpop\u001b[0m\u001b[0;34m(\u001b[0m\u001b[0;34m\"color\"\u001b[0m\u001b[0;34m,\u001b[0m \u001b[0mcolor\u001b[0m\u001b[0;34m)\u001b[0m\u001b[0;34m\u001b[0m\u001b[0m\n\u001b[1;32m    214\u001b[0m         ax.hist(a, bins, orientation=orientation,\n\u001b[0;32m--> 215\u001b[0;31m                 color=hist_color, **hist_kws)\n\u001b[0m\u001b[1;32m    216\u001b[0m         \u001b[0;32mif\u001b[0m \u001b[0mhist_color\u001b[0m \u001b[0;34m!=\u001b[0m \u001b[0mcolor\u001b[0m\u001b[0;34m:\u001b[0m\u001b[0;34m\u001b[0m\u001b[0m\n\u001b[1;32m    217\u001b[0m             \u001b[0mhist_kws\u001b[0m\u001b[0;34m[\u001b[0m\u001b[0;34m\"color\"\u001b[0m\u001b[0;34m]\u001b[0m \u001b[0;34m=\u001b[0m \u001b[0mhist_color\u001b[0m\u001b[0;34m\u001b[0m\u001b[0m\n",
      "\u001b[0;32m/usr/local/lib/python2.7/site-packages/matplotlib/__init__.pyc\u001b[0m in \u001b[0;36minner\u001b[0;34m(ax, *args, **kwargs)\u001b[0m\n\u001b[1;32m   1708\u001b[0m                     warnings.warn(msg % (label_namer, func.__name__),\n\u001b[1;32m   1709\u001b[0m                                   RuntimeWarning, stacklevel=2)\n\u001b[0;32m-> 1710\u001b[0;31m             \u001b[0;32mreturn\u001b[0m \u001b[0mfunc\u001b[0m\u001b[0;34m(\u001b[0m\u001b[0max\u001b[0m\u001b[0;34m,\u001b[0m \u001b[0;34m*\u001b[0m\u001b[0margs\u001b[0m\u001b[0;34m,\u001b[0m \u001b[0;34m**\u001b[0m\u001b[0mkwargs\u001b[0m\u001b[0;34m)\u001b[0m\u001b[0;34m\u001b[0m\u001b[0m\n\u001b[0m\u001b[1;32m   1711\u001b[0m         \u001b[0mpre_doc\u001b[0m \u001b[0;34m=\u001b[0m \u001b[0minner\u001b[0m\u001b[0;34m.\u001b[0m\u001b[0m__doc__\u001b[0m\u001b[0;34m\u001b[0m\u001b[0m\n\u001b[1;32m   1712\u001b[0m         \u001b[0;32mif\u001b[0m \u001b[0mpre_doc\u001b[0m \u001b[0;32mis\u001b[0m \u001b[0mNone\u001b[0m\u001b[0;34m:\u001b[0m\u001b[0;34m\u001b[0m\u001b[0m\n",
      "\u001b[0;32m/usr/local/lib/python2.7/site-packages/matplotlib/axes/_axes.pyc\u001b[0m in \u001b[0;36mhist\u001b[0;34m(***failed resolving arguments***)\u001b[0m\n\u001b[1;32m   6181\u001b[0m             \u001b[0mcolor\u001b[0m \u001b[0;34m=\u001b[0m \u001b[0mmcolors\u001b[0m\u001b[0;34m.\u001b[0m\u001b[0mto_rgba_array\u001b[0m\u001b[0;34m(\u001b[0m\u001b[0mcolor\u001b[0m\u001b[0;34m)\u001b[0m\u001b[0;34m\u001b[0m\u001b[0m\n\u001b[1;32m   6182\u001b[0m             \u001b[0;32mif\u001b[0m \u001b[0mlen\u001b[0m\u001b[0;34m(\u001b[0m\u001b[0mcolor\u001b[0m\u001b[0;34m)\u001b[0m \u001b[0;34m!=\u001b[0m \u001b[0mnx\u001b[0m\u001b[0;34m:\u001b[0m\u001b[0;34m\u001b[0m\u001b[0m\n\u001b[0;32m-> 6183\u001b[0;31m                 \u001b[0;32mraise\u001b[0m \u001b[0mValueError\u001b[0m\u001b[0;34m(\u001b[0m\u001b[0;34m\"color kwarg must have one color per dataset\"\u001b[0m\u001b[0;34m)\u001b[0m\u001b[0;34m\u001b[0m\u001b[0m\n\u001b[0m\u001b[1;32m   6184\u001b[0m \u001b[0;34m\u001b[0m\u001b[0m\n\u001b[1;32m   6185\u001b[0m         \u001b[0;31m# If bins are not specified either explicitly or via range,\u001b[0m\u001b[0;34m\u001b[0m\u001b[0;34m\u001b[0m\u001b[0m\n",
      "\u001b[0;31mValueError\u001b[0m: color kwarg must have one color per dataset"
     ]
    },
    {
     "data": {
      "image/png": "[encoded data removed]",
      "text/plain": [
       "<matplotlib.figure.Figure at 0x116570490>"
      ]
     },
     "metadata": {},
     "output_type": "display_data"
    }
   ],
   "source": [
    "sns.distplot(warmLosses)"
   ]
  },
  {
   "cell_type": "code",
   "execution_count": 153,
   "metadata": {},
   "outputs": [
    {
     "data": {
      "text/plain": [
       "(10, 100)"
      ]
     },
     "execution_count": 153,
     "metadata": {},
     "output_type": "execute_result"
    }
   ],
   "source": [
    "warmLosses.shape"
   ]
  },
  {
   "cell_type": "code",
   "execution_count": 154,
   "metadata": {},
   "outputs": [
    {
     "ename": "IndexError",
     "evalue": "arrays used as indices must be of integer (or boolean) type",
     "output_type": "error",
     "traceback": [
      "\u001b[0;31m---------------------------------------------------------------------------\u001b[0m",
      "\u001b[0;31mIndexError\u001b[0m                                Traceback (most recent call last)",
      "\u001b[0;32m<ipython-input-154-85e42a238ccb>\u001b[0m in \u001b[0;36m<module>\u001b[0;34m()\u001b[0m\n\u001b[0;32m----> 1\u001b[0;31m \u001b[0msns\u001b[0m\u001b[0;34m.\u001b[0m\u001b[0mpairplot\u001b[0m\u001b[0;34m(\u001b[0m\u001b[0mwarmLosses\u001b[0m\u001b[0;34m)\u001b[0m\u001b[0;34m\u001b[0m\u001b[0m\n\u001b[0m",
      "\u001b[0;32m/usr/local/lib/python2.7/site-packages/seaborn/linearmodels.pyc\u001b[0m in \u001b[0;36mpairplot\u001b[0;34m(data, hue, hue_order, palette, vars, x_vars, y_vars, kind, diag_kind, markers, size, aspect, dropna, plot_kws, diag_kws, grid_kws)\u001b[0m\n\u001b[1;32m   1588\u001b[0m                     \u001b[0mhue_order\u001b[0m\u001b[0;34m=\u001b[0m\u001b[0mhue_order\u001b[0m\u001b[0;34m,\u001b[0m \u001b[0mpalette\u001b[0m\u001b[0;34m=\u001b[0m\u001b[0mpalette\u001b[0m\u001b[0;34m,\u001b[0m\u001b[0;34m\u001b[0m\u001b[0m\n\u001b[1;32m   1589\u001b[0m                     \u001b[0mdiag_sharey\u001b[0m\u001b[0;34m=\u001b[0m\u001b[0mdiag_sharey\u001b[0m\u001b[0;34m,\u001b[0m\u001b[0;34m\u001b[0m\u001b[0m\n\u001b[0;32m-> 1590\u001b[0;31m                     size=size, aspect=aspect, dropna=dropna, **grid_kws)\n\u001b[0m\u001b[1;32m   1591\u001b[0m \u001b[0;34m\u001b[0m\u001b[0m\n\u001b[1;32m   1592\u001b[0m     \u001b[0;31m# Add the markers here as PairGrid has figured out how many levels of the\u001b[0m\u001b[0;34m\u001b[0m\u001b[0;34m\u001b[0m\u001b[0m\n",
      "\u001b[0;32m/usr/local/lib/python2.7/site-packages/seaborn/axisgrid.pyc\u001b[0m in \u001b[0;36m__init__\u001b[0;34m(self, data, hue, hue_order, palette, hue_kws, vars, x_vars, y_vars, diag_sharey, size, aspect, despine, dropna)\u001b[0m\n\u001b[1;32m   1198\u001b[0m                 \u001b[0;32mraise\u001b[0m \u001b[0mValueError\u001b[0m\u001b[0;34m(\u001b[0m\u001b[0;34m\"Must specify `x_vars` and `y_vars`\"\u001b[0m\u001b[0;34m)\u001b[0m\u001b[0;34m\u001b[0m\u001b[0m\n\u001b[1;32m   1199\u001b[0m         \u001b[0;32melse\u001b[0m\u001b[0;34m:\u001b[0m\u001b[0;34m\u001b[0m\u001b[0m\n\u001b[0;32m-> 1200\u001b[0;31m             \u001b[0mnumeric_cols\u001b[0m \u001b[0;34m=\u001b[0m \u001b[0mself\u001b[0m\u001b[0;34m.\u001b[0m\u001b[0m_find_numeric_cols\u001b[0m\u001b[0;34m(\u001b[0m\u001b[0mdata\u001b[0m\u001b[0;34m)\u001b[0m\u001b[0;34m\u001b[0m\u001b[0m\n\u001b[0m\u001b[1;32m   1201\u001b[0m             \u001b[0mx_vars\u001b[0m \u001b[0;34m=\u001b[0m \u001b[0mnumeric_cols\u001b[0m\u001b[0;34m\u001b[0m\u001b[0m\n\u001b[1;32m   1202\u001b[0m             \u001b[0my_vars\u001b[0m \u001b[0;34m=\u001b[0m \u001b[0mnumeric_cols\u001b[0m\u001b[0;34m\u001b[0m\u001b[0m\n",
      "\u001b[0;32m/usr/local/lib/python2.7/site-packages/seaborn/axisgrid.pyc\u001b[0m in \u001b[0;36m_find_numeric_cols\u001b[0;34m(self, data)\u001b[0m\n\u001b[1;32m   1484\u001b[0m         \u001b[0;32mfor\u001b[0m \u001b[0mcol\u001b[0m \u001b[0;32min\u001b[0m \u001b[0mdata\u001b[0m\u001b[0;34m:\u001b[0m\u001b[0;34m\u001b[0m\u001b[0m\n\u001b[1;32m   1485\u001b[0m             \u001b[0;32mtry\u001b[0m\u001b[0;34m:\u001b[0m\u001b[0;34m\u001b[0m\u001b[0m\n\u001b[0;32m-> 1486\u001b[0;31m                 \u001b[0mdata\u001b[0m\u001b[0;34m[\u001b[0m\u001b[0mcol\u001b[0m\u001b[0;34m]\u001b[0m\u001b[0;34m.\u001b[0m\u001b[0mastype\u001b[0m\u001b[0;34m(\u001b[0m\u001b[0mnp\u001b[0m\u001b[0;34m.\u001b[0m\u001b[0mfloat\u001b[0m\u001b[0;34m)\u001b[0m\u001b[0;34m\u001b[0m\u001b[0m\n\u001b[0m\u001b[1;32m   1487\u001b[0m                 \u001b[0mnumeric_cols\u001b[0m\u001b[0;34m.\u001b[0m\u001b[0mappend\u001b[0m\u001b[0;34m(\u001b[0m\u001b[0mcol\u001b[0m\u001b[0;34m)\u001b[0m\u001b[0;34m\u001b[0m\u001b[0m\n\u001b[1;32m   1488\u001b[0m             \u001b[0;32mexcept\u001b[0m \u001b[0;34m(\u001b[0m\u001b[0mValueError\u001b[0m\u001b[0;34m,\u001b[0m \u001b[0mTypeError\u001b[0m\u001b[0;34m)\u001b[0m\u001b[0;34m:\u001b[0m\u001b[0;34m\u001b[0m\u001b[0m\n",
      "\u001b[0;31mIndexError\u001b[0m: arrays used as indices must be of integer (or boolean) type"
     ]
    }
   ],
   "source": [
    "sns.pairplot(warmLosses)"
   ]
  },
  {
   "cell_type": "code",
   "execution_count": null,
   "metadata": {},
   "outputs": [],
   "source": []
  }
 ],
 "metadata": {
  "kernelspec": {
   "display_name": "Python 2",
   "language": "python",
   "name": "python2"
  },
  "language_info": {
   "codemirror_mode": {
    "name": "ipython",
    "version": 2
   },
   "file_extension": ".py",
   "mimetype": "text/x-python",
   "name": "python",
   "nbconvert_exporter": "python",
   "pygments_lexer": "ipython2",
   "version": "2.7.15"
  }
 },
 "nbformat": 4,
 "nbformat_minor": 2
}
