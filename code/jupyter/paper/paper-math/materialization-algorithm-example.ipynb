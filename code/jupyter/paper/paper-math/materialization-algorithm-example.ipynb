{
 "cells": [
  {
   "cell_type": "code",
   "execution_count": 1,
   "metadata": {},
   "outputs": [],
   "source": [
    "import os\n",
    "\n",
    "import matplotlib.pyplot as plt\n",
    "import numpy as np\n",
    "import pandas as pd\n",
    "import seaborn as sns\n",
    "import operator\n",
    "from openml import datasets, tasks, flows, config\n",
    "\n",
    "import itertools\n",
    "\n",
    "def powerset(L):\n",
    "    pset = set()\n",
    "    for n in xrange(len(L) + 1):\n",
    "        for sset in itertools.combinations(L, n):\n",
    "            pset.add(sset)\n",
    "    return pset\n"
   ]
  },
  {
   "cell_type": "code",
   "execution_count": 2,
   "metadata": {},
   "outputs": [],
   "source": [
    "class Edge:\n",
    "    def __init__(self, source, dest, f, t):\n",
    "        self.source = source\n",
    "        self.dest = dest\n",
    "        self.f = f\n",
    "        self.t = t\n",
    "graph = {'edges':\n",
    "             [Edge(0,1,3,0), Edge(0, 2, 3, 0), Edge(1,3,3,25), \n",
    "             Edge(3,4,3,10), Edge(2,5, 2,25), Edge(2,4, 3,10),\n",
    "             Edge(4,6,1,60), Edge(4,7, 2,30)],\n",
    "        'vertices':\n",
    "             {0:10, 1:8, 2:2, 3:40, 4:30, 5:1, 6:2, 7: 3}}"
   ]
  },
  {
   "cell_type": "code",
   "execution_count": 3,
   "metadata": {},
   "outputs": [],
   "source": [
    "def o_neighbors(graph, v):\n",
    "    n = []\n",
    "    for e in graph['edges']:\n",
    "        if e.source == v:\n",
    "            n = n + [e.dest]\n",
    "    return n\n",
    "def get_edge(graph, v0, v1):\n",
    "    for e in graph['edges']:\n",
    "        if e.source == v0 and e.dest == v1:\n",
    "            return e\n",
    "    return None\n",
    "\n",
    "def path(graph, v0, v1):\n",
    "    def find_path(graph, v0, v1, path = []):\n",
    "        path = path + [v0]\n",
    "        active = o_neighbors(graph,v0)\n",
    "        if v0 == v1:\n",
    "            return [path]\n",
    "        paths  = []\n",
    "        for v in active:\n",
    "            if v not in path:\n",
    "                newpaths = find_path(graph, v, v1, path)\n",
    "                for newpath in newpaths:\n",
    "                    paths.append(newpath)\n",
    "\n",
    "        return paths\n",
    "    all_paths = find_path(graph, v0, v1)\n",
    "    return set().union(*all_paths)  \n",
    "def path_edge(graph, v0, v1):\n",
    "    vs = path(graph, v0, v1)\n",
    "    edges = []\n",
    "    for p in powerset(vs):\n",
    "        if len(p) == 2:\n",
    "            e = get_edge(graph, p[0], p[1])\n",
    "            if e:\n",
    "                edges.append(e)\n",
    "    return edges\n",
    "             \n",
    "# for e in path_edge(graph, 0, 7):\n",
    "#     print e.source, e.dest"
   ]
  },
  {
   "cell_type": "code",
   "execution_count": 4,
   "metadata": {},
   "outputs": [],
   "source": [
    "def total_size(graph, mat):\n",
    "    total = 0\n",
    "    for k,v in graph['vertices'].iteritems():\n",
    "        if k in mat:\n",
    "            total = total + v\n",
    "    return total"
   ]
  },
  {
   "cell_type": "code",
   "execution_count": 5,
   "metadata": {},
   "outputs": [],
   "source": [
    "def recreation_cost(graph, v):\n",
    "    cost = 0\n",
    "    for e in path_edge(graph, 0, v):\n",
    "        if e.dest != v:\n",
    "            cost+= (e.t)\n",
    "        else:\n",
    "            alpha = e.f\n",
    "            cost += (e.t)\n",
    "    return alpha * cost\n",
    "#recreation_cost(graph, 7)"
   ]
  },
  {
   "cell_type": "code",
   "execution_count": 6,
   "metadata": {},
   "outputs": [],
   "source": [
    "def total_recreation_cost(graph, mat):\n",
    "    total = 0\n",
    "    for e in graph['edges']:\n",
    "        if e.dest not in mat:\n",
    "            total = total + (e.f * e.t)\n",
    "    return total"
   ]
  },
  {
   "cell_type": "code",
   "execution_count": 7,
   "metadata": {},
   "outputs": [
    {
     "name": "stdout",
     "output_type": "stream",
     "text": [
      "[0, 1, 4, 5, 6, 7] 54 75\n"
     ]
    }
   ],
   "source": [
    "#algorithm 2\n",
    "def algorithm_materialization(graph, MAX_SIZE = 55):\n",
    "    mat = [0]\n",
    "    T = graph['vertices'][0]\n",
    "    estimates = {}\n",
    "    for i in range(1,8):\n",
    "        estimates[i] = float(recreation_cost(graph, i)) / float(graph['vertices'][i])\n",
    "    for k,v in sorted(estimates.items(), key=operator.itemgetter(1), reverse=True):\n",
    "        if T + graph['vertices'][k] <= MAX_SIZE:\n",
    "            mat.append(k)\n",
    "            T = T + graph['vertices'][k]\n",
    "    return mat\n",
    "result = algorithm_materialization(graph)            \n",
    "print sorted(result), total_size(graph, result), total_recreation_cost(graph, result)"
   ]
  },
  {
   "cell_type": "code",
   "execution_count": 8,
   "metadata": {},
   "outputs": [
    {
     "name": "stdout",
     "output_type": "stream",
     "text": [
      "[0, 1, 4, 5, 6, 7] 54 75\n"
     ]
    }
   ],
   "source": [
    "import itertools\n",
    "def powerset(L):\n",
    "    pset = set()\n",
    "    for n in xrange(len(L) + 1):\n",
    "        for sset in itertools.combinations(L, n):\n",
    "            pset.add(sset)\n",
    "    return pset\n",
    "\n",
    "def brute_force(graph, MAX_SIZE = 55):\n",
    "    results = {}\n",
    "    for l in powerset(graph['vertices'].keys()):\n",
    "        if 0 in l:\n",
    "            weight = 0\n",
    "            for v in l:\n",
    "                weight += graph['vertices'][v]\n",
    "            results[l] = (total_recreation_cost(graph, l), weight)\n",
    "    feasible = {}\n",
    "    for k,v in results.iteritems():\n",
    "        if v[1] <= MAX_SIZE:\n",
    "            feasible [k] = v\n",
    "    return list(sorted(feasible.items(), key=lambda v:v[1][0])[0][0])\n",
    "\n",
    "result = brute_force(graph)  \n",
    "print sorted(result), total_size(graph, result), total_recreation_cost(graph, result)"
   ]
  },
  {
   "cell_type": "code",
   "execution_count": 9,
   "metadata": {},
   "outputs": [],
   "source": [
    "VERY_LARGE_IMPROVEMENT_RATIO = 10000000\n",
    "# def improv_ratio(graph,mat,v,u):\n",
    "#     if u == -1:\n",
    "#         temp = list(mat)\n",
    "#         temp.append(v)\n",
    "#         return VERY_LARGE_IMPROVEMENT_RATIO * estimate_cost(graph, temp )\n",
    "#     temp = list(mat)\n",
    "#     r = estimate_cost(graph, temp)\n",
    "#     temp.remove(u)\n",
    "#     temp.append(v)\n",
    "#     r_added = estimate_cost(graph, temp)\n",
    "#     s = float(vertices[u])/float(vertices[v])\n",
    "#     return (float(r)/float(r_added))*s\n",
    "def improv_ratio(graph,mat,v,u):\n",
    "    if u == -1:\n",
    "        temp = list(mat)\n",
    "        temp.append(v)\n",
    "        return VERY_LARGE_IMPROVEMENT_RATIO * estimate_time(graph, temp )\n",
    "    new_mat = list(mat)\n",
    "    new_mat.remove(u)\n",
    "    new_mat.append(v)\n",
    "   #print vertices[v],vertices[0]\n",
    "    print v,u,estimate_time(graph, mat) - estimate_time(graph, new_mat)\n",
    "    return estimate_time(graph, mat) - estimate_time(graph, new_mat)\n"
   ]
  },
  {
   "cell_type": "code",
   "execution_count": 46,
   "metadata": {},
   "outputs": [],
   "source": [
    "#algorithm 1\n",
    "def algorithm_materialization(graph, MAX_SIZE = 55):\n",
    "    mat = [0]\n",
    "    T = graph['vertices'][0]\n",
    "    estimates = {}\n",
    "    for i in range(1,8):\n",
    "        estimates[i] = estimate_time(graph, {0,i})\n",
    "    for k,v in sorted(estimates.items(), key=operator.itemgetter(1)):\n",
    "        if T + graph['vertices'][k] <= MAX_SIZE:\n",
    "            mat.append(k)\n",
    "            T = T + graph['vertices'][k]\n",
    "    print mat, T, estimate_time(graph, mat)\n",
    "    while True:\n",
    "#         for v in vertices.keys():\n",
    "#             if v not in mat:\n",
    "#                 if T + vertices[v] <= MAX_SIZE:\n",
    "#                     mat.append(v)\n",
    "#                     T = T + vertices[v]\n",
    "#                     print 'adding new vertex {}'.format(v)\n",
    "        candidates = {}\n",
    "        for v in graph['vertices'].keys():\n",
    "            if v not in mat:     \n",
    "                if T + graph['vertices'][v] <= MAX_SIZE:\n",
    "                    candidates[(v,-1)] = improv_ratio(graph, mat, v, -1)  \n",
    "                for u in mat:\n",
    "                    if u != 0:\n",
    "                        if T + graph['vertices'][v] - graph['vertices'][u] <= MAX_SIZE:\n",
    "#                             improv_v_u_mat = improv_ratio(graph, mat, v, u)\n",
    "#                             temp_mat = list(mat)\n",
    "#                             temp_mat.remove(u)\n",
    "#                             temp_mat.append(v)\n",
    "#                             improv_u_v_mat = improv_ratio(graph, temp_mat, u, v)\n",
    "#                             #print v,u,improv_v_u_mat, improv_u_v_mat\n",
    "#                             if improv_v_u_mat > improv_u_v_mat:\n",
    "                                candidates[(v,u)] = improv_ratio(graph, mat, v,u)\n",
    "                                \n",
    "                                \n",
    "        if len(candidates) == 0:\n",
    "            return mat,T, estimate_time(graph, mat)\n",
    "        print candidates\n",
    "        top_candidates = sorted(candidates.items(), key=operator.itemgetter(1), reverse = True)[0]\n",
    "        v = top_candidates[0][0]\n",
    "        u = top_candidates[0][1]\n",
    "       #print top_candidates\n",
    "        #print mat, T\n",
    "        #print v,u, total_size(vertices, mat), improv_ratio(graph, mat, v,u)\n",
    "        mat.append(v)\n",
    "        if u != -1:\n",
    "            mat.remove(u)\n",
    "            T = T + graph['vertices'][v] - graph['vertices'][u] \n",
    "        else:\n",
    "            T = T + graph['vertices'][v]\n",
    "        \n",
    "            "
   ]
  },
  {
   "cell_type": "code",
   "execution_count": 50,
   "metadata": {},
   "outputs": [
    {
     "name": "stdout",
     "output_type": "stream",
     "text": [
      "{1: 5544, 2: 3696, 3: 11800, 4: 10040, 5: 2871, 6: 3012, 7: 3263}\n",
      "[0, 5, 6, 7, 2, 1] 26 135\n"
     ]
    }
   ],
   "source": [
    "#algorithm 2\n",
    "def algorithm_materializatio2(graph, MAX_SIZE = 55):\n",
    "    mat = [0]\n",
    "    T = graph['vertices'][0]\n",
    "    estimates = {}\n",
    "    for i in range(1,8):\n",
    "        estimates[i] = estimate_time(graph, {0,i}) * total_size(graph, {0,i})\n",
    "    print estimates\n",
    "    for k,v in sorted(estimates.items(), key=operator.itemgetter(1)):\n",
    "        if T + graph['vertices'][k] <= MAX_SIZE:\n",
    "            mat.append(k)\n",
    "            T = T + graph['vertices'][k]\n",
    "    print mat, T, estimate_time(graph, mat)\n",
    "    \n",
    "algorithm_materializatio2(graph) \n",
    "            "
   ]
  },
  {
   "cell_type": "code",
   "execution_count": 78,
   "metadata": {},
   "outputs": [
    {
     "name": "stdout",
     "output_type": "stream",
     "text": [
      "0.0 & 0.0 & 1.875 & 4.5 & 50.0 & 52.5 & 50.0 &\n"
     ]
    }
   ],
   "source": [
    "for i in range(1,8):\n",
    "    print '{} &'.format(float(recreation_cost(graph, i)) / float(graph['vertices'][i])),\n",
    "  \n",
    "    "
   ]
  },
  {
   "cell_type": "code",
   "execution_count": null,
   "metadata": {},
   "outputs": [],
   "source": []
  }
 ],
 "metadata": {
  "kernelspec": {
   "display_name": "Python 2",
   "language": "python",
   "name": "python2"
  },
  "language_info": {
   "codemirror_mode": {
    "name": "ipython",
    "version": 2
   },
   "file_extension": ".py",
   "mimetype": "text/x-python",
   "name": "python",
   "nbconvert_exporter": "python",
   "pygments_lexer": "ipython2",
   "version": "2.7.15"
  }
 },
 "nbformat": 4,
 "nbformat_minor": 2
}
