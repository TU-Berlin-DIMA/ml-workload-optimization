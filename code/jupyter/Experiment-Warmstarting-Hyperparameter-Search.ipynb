{
 "cells": [
  {
   "cell_type": "code",
   "execution_count": 1,
   "metadata": {},
   "outputs": [],
   "source": [
    "import os\n",
    "\n",
    "import matplotlib.pyplot as plt\n",
    "import numpy as np\n",
    "import pandas as pd\n",
    "import seaborn as sns\n",
    "from hyperopt import fmin, tpe, Trials\n",
    "from openml import datasets, tasks, flows, config\n",
    "\n",
    "from openmlstudy14.preprocessing import ConditionalImputer\n",
    "from workloadoptimization.essentials import Component, ExperimentParser\n",
    "from workloadoptimization.hyperopt_helper import TrialConverter\n",
    "from workloadoptimization.openml_helper import OpenMLReader\n",
    "from workloadoptimization.search_space import SearchSpaceDesigner\n",
    "%matplotlib inline\n",
    "\n",
    "sns.set_style(\"whitegrid\")\n",
    "sns.set_context(\"paper\", font_scale=2)\n",
    "\n",
    "config.apikey = '8e2079508005379adb9a60798696134e'\n",
    "config.server = 'https://www.openml.org/api/v1'\n",
    "config.set_cache_directory(os.path.expanduser('~/openml-cache'))"
   ]
  },
  {
   "cell_type": "markdown",
   "metadata": {},
   "source": [
    "## Warmstarting Hyperparameter Search\n",
    "In another notebook [Hyperparameter Warmstarting](hyper-parameter-optimization-warm-starting.ipynb) we investigated the effect of warmstarting on one pipeline and task (Task 31 and Pipeline 7707).\n",
    "In this notebook, we generalize the code to arbitrary tasks and pipelines.\n",
    "The process is as follows:\n",
    "- The input is one task and a list of flow ids. \n",
    "- We retrieve the flow and task and all the runs and evaluations of the flows on the task\n",
    "- For every flow, we extract the variable hyperparameters and estimate the search space (for now this would be static function)\n",
    "- We warm start the trial object of hyperopt.\n",
    "- For every flow, compare the warm starting vs no warm starting\n",
    "\n",
    "Lastly, we should extract the reusable code (hyperparameter extraction and warmstarting) to a separate file."
   ]
  },
  {
   "cell_type": "code",
   "execution_count": 2,
   "metadata": {},
   "outputs": [],
   "source": [
    "flow_ids = [8568, 8353, 8315, 7707]\n",
    "task_ids = [31]"
   ]
  },
  {
   "cell_type": "code",
   "execution_count": 3,
   "metadata": {},
   "outputs": [],
   "source": [
    "# load the dataset\n",
    "task = tasks.get_task(task_id=31)\n",
    "dataset = datasets.get_dataset(dataset_id=task.dataset_id)\n",
    "data = dataset.get_data()\n",
    "train_indices,test_indices = task.get_train_test_split_indices()\n",
    "X, y, attribute_names = dataset.get_data(\n",
    "target=dataset.default_target_attribute,\n",
    "return_attribute_names=True)\n",
    "X_train = X[train_indices]\n",
    "y_train = y[train_indices]\n",
    "X_test = X[test_indices]\n",
    "y_test = y[test_indices]"
   ]
  },
  {
   "cell_type": "code",
   "execution_count": 4,
   "metadata": {},
   "outputs": [],
   "source": [
    "def extractExperiments(filePath, taskIds, flowIds):\n",
    "    openMLReader = OpenMLReader()\n",
    "    if os.path.isfile(filePath):\n",
    "        return pd.read_pickle(filePath)\n",
    "    frames = []\n",
    "    for t in taskIds:\n",
    "        for f in flowIds:\n",
    "            frames.append(openMLReader.getTopRuns(-1,f,t))\n",
    "    Experiments = pd.concat(frames).reset_index(drop=True)\n",
    "    Experiments.to_pickle(filePath)\n",
    "    return Experiments\n",
    "\n",
    "# This is time consuming, so it is better to persist the list of the runs to disk\n",
    "# If you are changing the tasks or flow ids, remember to change the name of the file \n",
    "Experiments = extractExperiments('meta/hyper-opt-experiment-31-all', task_ids, flow_ids)"
   ]
  },
  {
   "cell_type": "code",
   "execution_count": 5,
   "metadata": {},
   "outputs": [
    {
     "name": "stderr",
     "output_type": "stream",
     "text": [
      "/usr/local/lib/python2.7/site-packages/openml-0.7.0-py2.7.egg/openml/flows/sklearn_converter.py:401: UserWarning: Cannot create model arbok.preprocessing.ConditionalImputer for flow.\n",
      "  warnings.warn('Cannot create model %s for flow.' % model_name)\n"
     ]
    },
    {
     "ename": "AttributeError",
     "evalue": "ExperimentParser instance has no attribute 'extractOpenMLFlows'",
     "output_type": "error",
     "traceback": [
      "\u001b[0;31m---------------------------------------------------------------------------\u001b[0m",
      "\u001b[0;31mAttributeError\u001b[0m                            Traceback (most recent call last)",
      "\u001b[0;32m<ipython-input-5-f24d3714b5c6>\u001b[0m in \u001b[0;36m<module>\u001b[0;34m()\u001b[0m\n\u001b[1;32m      8\u001b[0m         \u001b[0;32mprint\u001b[0m \u001b[0;34m'error for {}'\u001b[0m\u001b[0;34m.\u001b[0m\u001b[0mformat\u001b[0m\u001b[0;34m(\u001b[0m\u001b[0mf\u001b[0m\u001b[0;34m)\u001b[0m\u001b[0;34m\u001b[0m\u001b[0m\n\u001b[1;32m      9\u001b[0m \u001b[0mparser\u001b[0m \u001b[0;34m=\u001b[0m \u001b[0mExperimentParser\u001b[0m\u001b[0;34m(\u001b[0m\u001b[0;34m)\u001b[0m\u001b[0;34m\u001b[0m\u001b[0m\n\u001b[0;32m---> 10\u001b[0;31m \u001b[0mexperimentObjects\u001b[0m \u001b[0;34m=\u001b[0m \u001b[0mparser\u001b[0m\u001b[0;34m.\u001b[0m\u001b[0mextractOpenMLFlows\u001b[0m\u001b[0;34m(\u001b[0m\u001b[0mExperiments\u001b[0m\u001b[0;34m,\u001b[0m \u001b[0mOPENML_FLOWS\u001b[0m\u001b[0;34m)\u001b[0m\u001b[0;34m\u001b[0m\u001b[0m\n\u001b[0m",
      "\u001b[0;31mAttributeError\u001b[0m: ExperimentParser instance has no attribute 'extractOpenMLFlows'"
     ]
    }
   ],
   "source": [
    "OPENML_FLOWS = {}\n",
    "FLOW_IDS = Experiments.flow_id.unique()\n",
    "for f in FLOW_IDS:\n",
    "    try:\n",
    "        fl = flows.get_flow(f)\n",
    "        OPENML_FLOWS[f] = fl \n",
    "    except:\n",
    "        print 'error for {}'.format(f)\n",
    "parser = ExperimentParser()\n",
    "experimentObjects = parser.extractOpenMLFlows(Experiments, OPENML_FLOWS)"
   ]
  },
  {
   "cell_type": "code",
   "execution_count": null,
   "metadata": {},
   "outputs": [],
   "source": [
    "designer = SearchSpaceDesigner(experimentObjects)\n",
    "constantSpace = designer.getConstantParams()\n",
    "hyperOptSpace = designer.getSearchSpace()"
   ]
  },
  {
   "cell_type": "code",
   "execution_count": null,
   "metadata": {},
   "outputs": [],
   "source": [
    "flow = flows.get_flow(flow_id=8568)\n",
    "# Hack for the non existing arbok.preprocessing.ConditionalImputer Class\n",
    "flow.components['conditionalimputer'].class_name = 'hyperimp.utils.preprocessing.ConditionalImputer2'\n",
    "pipeline8568 = flows.flow_to_sklearn(flow)\n",
    "\n",
    "flow = flows.get_flow(flow_id=8353)\n",
    "pipeline8353 = flows.flow_to_sklearn(flow)\n",
    "\n",
    "flow = flows.get_flow(flow_id=8315)\n",
    "pipeline8315 = flows.flow_to_sklearn(flow)\n",
    "\n",
    "flow = flows.get_flow(flow_id=7707)\n",
    "# Hack for changing the sklearn version dependecy as it does not affect the pipelines\n",
    "flow.dependencies = u'sklearn==0.19.1\\nnumpy>=1.6.1\\nscipy>=0.9'\n",
    "for v in flow.components.itervalues():\n",
    "    v.dependencies = u'sklearn==0.19.1\\nnumpy>=1.6.1\\nscipy>=0.9'\n",
    "pipeline7707 = flows.flow_to_sklearn(flow)"
   ]
  },
  {
   "cell_type": "code",
   "execution_count": null,
   "metadata": {},
   "outputs": [],
   "source": [
    "# set the constant parameters and define the objective function\n",
    "pipeline8568.set_params(**constantSpace[8568])\n",
    "pipeline8353.set_params(**constantSpace[8353])\n",
    "pipeline8315.set_params(**constantSpace[8315])\n",
    "pipeline7707.set_params(**constantSpace[7707])\n",
    "\n",
    "\n",
    "def objective8568(params):\n",
    "    pipeline8568.set_params(**params)\n",
    "    try:\n",
    "        pipeline8568.fit(X_train, y_train)\n",
    "    except:\n",
    "        print 'Error for the params: {}'.format(params)\n",
    "        return 1.0\n",
    "    return 1 - pipeline8568.score(X_test, y_test)\n",
    "\n",
    "\n",
    "def objective8353(params):\n",
    "    # seems when tol is big (greater than 1) scikit learn throws an exception\n",
    "    # I couldn't find a way to cap a value in the search space of hyperopt, \n",
    "    # this is the alternative solution\n",
    "    if params['clf__tol'] > 0.2:\n",
    "        params['clf__tol'] = 0.2\n",
    "    elif params['clf__tol'] < 1.0e-5:\n",
    "        params['clf__tol'] = 1.0e-5\n",
    "    pipeline8353.set_params(**params)\n",
    "    try:\n",
    "        pipeline8353.fit(X_train, y_train)\n",
    "    except:\n",
    "        print 'Error for the params: {}'.format(params)\n",
    "        return 1.0\n",
    "    return 1 - pipeline8353.score(X_test, y_test)\n",
    "\n",
    "\n",
    "def objective8315(params):\n",
    "    pipeline8315.set_params(**params)\n",
    "    try:\n",
    "        pipeline8315.fit(X_train, y_train)\n",
    "    except:\n",
    "        print 'Error for the params: {}'.format(params)\n",
    "        return 1.0\n",
    "    return 1 - pipeline8315.score(X_test, y_test)\n",
    "\n",
    "\n",
    "def objective7707(params):\n",
    "    # seems when tol is big (greater than 1) scikit learn throws an exception\n",
    "    # I couldn't find a way to cap a value in the search space of hyperopt, \n",
    "    # this is the alternative solution\n",
    "    if params['classifier__tol'] > 0.2:\n",
    "        params['classifier__tol'] = 0.2\n",
    "    elif params['classifier__tol'] < 1.0e-5:\n",
    "        params['classifier__tol'] = 1.0e-5\n",
    "    pipeline7707.set_params(**params)\n",
    "    try:\n",
    "        pipeline7707.fit(X_train, y_train)\n",
    "    except:\n",
    "        print 'Error for the params: {}'.format(params)\n",
    "        return 1.0\n",
    "    return 1 - pipeline7707.score(X_test, y_test)\n"
   ]
  },
  {
   "cell_type": "code",
   "execution_count": null,
   "metadata": {},
   "outputs": [],
   "source": [
    "def hyperparam_experiment(trialsDatabase, numberOfExperiments, numberOfEvals, space, objective):\n",
    "    losses = np.empty([0, numberOfEvals])\n",
    "    INITIAL_SIZE = len(trialsDatabase.trials)\n",
    "\n",
    "    for i in range(numberOfExperiments):\n",
    "        print '.',\n",
    "        trials = Trials()\n",
    "        trials.insert_trial_docs(trialsDatabase.trials)\n",
    "        trials.refresh()\n",
    "    \n",
    "        fmin(objective, space, algo=tpe.suggest, max_evals=INITIAL_SIZE + numberOfEvals, trials=trials)\n",
    "\n",
    "        newTrials = Trials()\n",
    "        newTrials.insert_trial_docs(trials.trials[INITIAL_SIZE:])\n",
    "        newTrials.refresh()\n",
    "        losses = np.insert(losses, i, np.array(newTrials.losses()), 0)\n",
    "    return losses"
   ]
  },
  {
   "cell_type": "code",
   "execution_count": null,
   "metadata": {},
   "outputs": [],
   "source": [
    "trialConverter = TrialConverter()\n",
    "\n",
    "warmTrials8568 = trialConverter.trialsFromExperimentObjects(hyperOptSpace[8568], getObjectsForPipeline(8568))\n",
    "print 'Size of history: {}'.format(len(warmTrials8568.trials))\n",
    "warmTrials8353 = trialConverter.trialsFromExperimentObjects(hyperOptSpace[8353], getObjectsForPipeline(8353))\n",
    "print 'Size of history: {}'.format(len(warmTrials8353.trials))\n",
    "warmTrials8315 = trialConverter.trialsFromExperimentObjects(hyperOptSpace[8315], getObjectsForPipeline(8315))\n",
    "print 'Size of history: {}'.format(len(warmTrials8315.trials))\n",
    "warmTrials7707 = trialConverter.trialsFromExperimentObjects(hyperOptSpace[7707], getObjectsForPipeline(7707))\n",
    "print 'Size of history: {}'.format(len(warmTrials7707.trials))"
   ]
  },
  {
   "cell_type": "code",
   "execution_count": null,
   "metadata": {},
   "outputs": [],
   "source": [
    "import warnings\n",
    "warnings.filterwarnings('ignore')\n",
    "\n",
    "NUMBER_OF_EXPERIMENTS = 10\n",
    "NUMBER_OF_TRIALS = 50"
   ]
  },
  {
   "cell_type": "code",
   "execution_count": null,
   "metadata": {},
   "outputs": [],
   "source": [
    "tpe.DEFAULT_LF = 0\n",
    "\n",
    "print 'Pipeline 8568'\n",
    "warmLosses8568 = hyperparam_experiment(warmTrials8568, NUMBER_OF_EXPERIMENTS, NUMBER_OF_TRIALS, hyperOptSpace[8568], objective8568)\n",
    "\n",
    "print ''\n",
    "print 'Pipeline 8353'\n",
    "warmLosses8353 = hyperparam_experiment(warmTrials8353, NUMBER_OF_EXPERIMENTS, NUMBER_OF_TRIALS, hyperOptSpace[8353], objective8353)\n",
    "\n",
    "print ''\n",
    "print 'Pipeline 8315'\n",
    "warmLosses8315 = hyperparam_experiment(warmTrials8315, NUMBER_OF_EXPERIMENTS, NUMBER_OF_TRIALS, hyperOptSpace[8315], objective8315)\n",
    "\n",
    "print ''\n",
    "print 'Pipeline 7707'\n",
    "warmLosses7707 = hyperparam_experiment(warmTrials7707, NUMBER_OF_EXPERIMENTS, NUMBER_OF_TRIALS, hyperOptSpace[7707], objective7707)"
   ]
  },
  {
   "cell_type": "code",
   "execution_count": null,
   "metadata": {},
   "outputs": [],
   "source": [
    "tpe.DEFAULT_LF = 25\n",
    "\n",
    "print 'Pipeline 8568'\n",
    "coldTrials = Trials() \n",
    "coldLosses8568 = hyperparam_experiment(coldTrials, NUMBER_OF_EXPERIMENTS, NUMBER_OF_TRIALS, hyperOptSpace[8568], objective8568)\n",
    "\n",
    "print ''\n",
    "print 'Pipeline 8353'\n",
    "coldTrials = Trials()   \n",
    "coldLosses8353 = hyperparam_experiment(coldTrials, NUMBER_OF_EXPERIMENTS, NUMBER_OF_TRIALS, hyperOptSpace[8353], objective8353)\n",
    "\n",
    "print ''\n",
    "print 'Pipeline 8315'\n",
    "coldTrials = Trials()   \n",
    "coldLosses8315 = hyperparam_experiment(coldTrials, NUMBER_OF_EXPERIMENTS, NUMBER_OF_TRIALS, hyperOptSpace[8315], objective8315)\n",
    "\n",
    "print ''\n",
    "print 'Pipeline 7707'\n",
    "coldTrials = Trials()   \n",
    "coldLosses7707 = hyperparam_experiment(coldTrials, NUMBER_OF_EXPERIMENTS, NUMBER_OF_TRIALS, hyperOptSpace[7707], objective7707)"
   ]
  },
  {
   "cell_type": "code",
   "execution_count": null,
   "metadata": {},
   "outputs": [],
   "source": [
    "def meltLosses(warmLosses, coldLosses):\n",
    "    dfDict = {}\n",
    "    dfDict['Warm'] = np.minimum.accumulate(warmLosses, axis=1).flatten()  \n",
    "    dfDict['Cold'] = np.minimum.accumulate(coldLosses, axis=1).flatten()  \n",
    "    dfDict['Trial'] = range(NUMBER_OF_TRIALS) * NUMBER_OF_EXPERIMENTS\n",
    "    ExperimentAverages = pd.DataFrame(dfDict)\n",
    "    melted = ExperimentAverages.melt('Trial', var_name='Warmstarting', value_name='Loss')\n",
    "    return melted"
   ]
  },
  {
   "cell_type": "code",
   "execution_count": 6,
   "metadata": {},
   "outputs": [
    {
     "ename": "NameError",
     "evalue": "name 'meltLosses' is not defined",
     "output_type": "error",
     "traceback": [
      "\u001b[0;31m---------------------------------------------------------------------------\u001b[0m",
      "\u001b[0;31mNameError\u001b[0m                                 Traceback (most recent call last)",
      "\u001b[0;32m<ipython-input-6-33d70e4527a1>\u001b[0m in \u001b[0;36m<module>\u001b[0;34m()\u001b[0m\n\u001b[0;32m----> 1\u001b[0;31m \u001b[0mdf8568\u001b[0m \u001b[0;34m=\u001b[0m \u001b[0mmeltLosses\u001b[0m\u001b[0;34m(\u001b[0m\u001b[0mwarmLosses8568\u001b[0m\u001b[0;34m,\u001b[0m \u001b[0mcoldLosses8568\u001b[0m\u001b[0;34m)\u001b[0m\u001b[0;34m\u001b[0m\u001b[0m\n\u001b[0m\u001b[1;32m      2\u001b[0m \u001b[0mdf8353\u001b[0m \u001b[0;34m=\u001b[0m \u001b[0mmeltLosses\u001b[0m\u001b[0;34m(\u001b[0m\u001b[0mwarmLosses8353\u001b[0m\u001b[0;34m,\u001b[0m \u001b[0mcoldLosses8353\u001b[0m\u001b[0;34m)\u001b[0m\u001b[0;34m\u001b[0m\u001b[0m\n\u001b[1;32m      3\u001b[0m \u001b[0mdf8315\u001b[0m \u001b[0;34m=\u001b[0m \u001b[0mmeltLosses\u001b[0m\u001b[0;34m(\u001b[0m\u001b[0mwarmLosses8315\u001b[0m\u001b[0;34m,\u001b[0m \u001b[0mcoldLosses8315\u001b[0m\u001b[0;34m)\u001b[0m\u001b[0;34m\u001b[0m\u001b[0m\n\u001b[1;32m      4\u001b[0m \u001b[0mdf7707\u001b[0m \u001b[0;34m=\u001b[0m \u001b[0mmeltLosses\u001b[0m\u001b[0;34m(\u001b[0m\u001b[0mwarmLosses7707\u001b[0m\u001b[0;34m,\u001b[0m \u001b[0mcoldLosses7707\u001b[0m\u001b[0;34m)\u001b[0m\u001b[0;34m\u001b[0m\u001b[0m\n",
      "\u001b[0;31mNameError\u001b[0m: name 'meltLosses' is not defined"
     ]
    }
   ],
   "source": [
    "df8568 = meltLosses(warmLosses8568, coldLosses8568)\n",
    "df8353 = meltLosses(warmLosses8353, coldLosses8353)\n",
    "df8315 = meltLosses(warmLosses8315, coldLosses8315)\n",
    "df7707 = meltLosses(warmLosses7707, coldLosses7707)"
   ]
  },
  {
   "cell_type": "code",
   "execution_count": 7,
   "metadata": {},
   "outputs": [
    {
     "ename": "NameError",
     "evalue": "name 'df8353' is not defined",
     "output_type": "error",
     "traceback": [
      "\u001b[0;31m---------------------------------------------------------------------------\u001b[0m",
      "\u001b[0;31mNameError\u001b[0m                                 Traceback (most recent call last)",
      "\u001b[0;32m<ipython-input-7-7b2d7374bf92>\u001b[0m in \u001b[0;36m<module>\u001b[0;34m()\u001b[0m\n\u001b[1;32m      5\u001b[0m \u001b[0max4\u001b[0m \u001b[0;34m=\u001b[0m \u001b[0mfig\u001b[0m\u001b[0;34m.\u001b[0m\u001b[0madd_subplot\u001b[0m\u001b[0;34m(\u001b[0m\u001b[0;36m414\u001b[0m\u001b[0;34m)\u001b[0m\u001b[0;34m\u001b[0m\u001b[0m\n\u001b[1;32m      6\u001b[0m \u001b[0maxes\u001b[0m \u001b[0;34m=\u001b[0m \u001b[0;34m[\u001b[0m\u001b[0max1\u001b[0m\u001b[0;34m,\u001b[0m\u001b[0max2\u001b[0m\u001b[0;34m,\u001b[0m\u001b[0max3\u001b[0m\u001b[0;34m,\u001b[0m \u001b[0max4\u001b[0m\u001b[0;34m]\u001b[0m\u001b[0;34m\u001b[0m\u001b[0m\n\u001b[0;32m----> 7\u001b[0;31m \u001b[0mdfs\u001b[0m \u001b[0;34m=\u001b[0m \u001b[0;34m[\u001b[0m\u001b[0mdf8353\u001b[0m\u001b[0;34m,\u001b[0m \u001b[0mdf8315\u001b[0m\u001b[0;34m,\u001b[0m \u001b[0mdf7707\u001b[0m\u001b[0;34m,\u001b[0m \u001b[0mdf8568\u001b[0m\u001b[0;34m]\u001b[0m\u001b[0;34m\u001b[0m\u001b[0m\n\u001b[0m\u001b[1;32m      8\u001b[0m \u001b[0mlabelsize\u001b[0m \u001b[0;34m=\u001b[0m \u001b[0;36m22\u001b[0m\u001b[0;34m\u001b[0m\u001b[0m\n\u001b[1;32m      9\u001b[0m \u001b[0mtitlesize\u001b[0m \u001b[0;34m=\u001b[0m \u001b[0;36m26\u001b[0m\u001b[0;34m\u001b[0m\u001b[0m\n",
      "\u001b[0;31mNameError\u001b[0m: name 'df8353' is not defined"
     ]
    },
    {
     "data": {
      "image/png": "[encoded data removed]",
      "text/plain": [
       "<matplotlib.figure.Figure at 0x119410310>"
      ]
     },
     "metadata": {},
     "output_type": "display_data"
    }
   ],
   "source": [
    "fig = plt.figure(figsize=(15,12))\n",
    "ax1 = fig.add_subplot(411)\n",
    "ax2 = fig.add_subplot(412)\n",
    "ax3 = fig.add_subplot(413)\n",
    "ax4 = fig.add_subplot(414)\n",
    "axes = [ax1,ax2,ax3, ax4]\n",
    "dfs = [df8353, df8315, df7707, df8568]\n",
    "labelsize = 22\n",
    "titlesize = 26\n",
    "pipelines = ['8353','8315','7707', '8568']\n",
    "for i in range(len(pipelines)):\n",
    "    g = sns.factorplot(data=dfs[i], \n",
    "                       x = 'Trial', \n",
    "                       y = 'Loss', \n",
    "                       hue = 'Warmstarting', \n",
    "                       #estimator = np.average,\n",
    "                       #ci = None,\n",
    "                       #scale = 0.8,\n",
    "                       size=8, aspect=2, ax=axes[i], legend=False, legend_out=False)\n",
    "    axes[i].set_ylabel('Loss', fontsize=labelsize)\n",
    "    axes[i].set_xlabel('Trial', fontsize=labelsize)\n",
    "    axes[i].set(xticks=np.arange(10, NUMBER_OF_TRIALS+1, 10)-1)\n",
    "    axes[i].set_title('Pipeline {}'.format(pipelines[i]), fontsize = titlesize)\n",
    "    axes[i].set_xticklabels(np.arange(10, NUMBER_OF_TRIALS+1, 10), fontsize = labelsize)\n",
    "    axes[i].tick_params(axis='both', which='major', labelsize=labelsize)\n",
    "    plt.setp(axes[i].collections, sizes=[0])\n",
    "    #axes[i].legend(bbox_to_anchor=(1.05, 0), loc='lower left', borderaxespad=0.,)\n",
    "    axes[i].legend_.remove()\n",
    "    plt.close(g.fig)\n",
    "    \n",
    "legend = axes[-1].legend(title = 'Warmstarting',\n",
    "           bbox_to_anchor=(0.5, -.32),\n",
    "           loc='upper center',\n",
    "           borderaxespad=0.,\n",
    "           fancybox = True,\n",
    "           shadow=True,\n",
    "           ncol = 2, \n",
    "           fontsize = titlesize)\n",
    "plt.setp(legend.get_title(),fontsize = titlesize)\n",
    "plt.tight_layout()\n",
    "#plt.savefig('figures/paper/task31-cold-warm-trials.eps', format='eps', dpi=1000, bbox_inches='tight')"
   ]
  },
  {
   "cell_type": "code",
   "execution_count": null,
   "metadata": {},
   "outputs": [],
   "source": [
    "def getBestLoss(warm, cold):\n",
    "    bestLoss = min(np.min(warm),np.min(cold))\n",
    "    warmCount = len(np.where(warm == bestLoss)[0])\n",
    "    coldCount = len(np.where(cold == bestLoss)[0])\n",
    "    return bestLoss, warmCount, coldCount"
   ]
  },
  {
   "cell_type": "code",
   "execution_count": null,
   "metadata": {},
   "outputs": [],
   "source": [
    "losses = dict()\n",
    "b,w,c = getBestLoss(warmLosses7707, coldLosses7707)\n",
    "losses[7707] = {'Best':b,'Warm':w,'Cold':c}\n",
    "\n",
    "b,w,c = getBestLoss(warmLosses8353, coldLosses8353)\n",
    "losses[8353] = {'Best':b,'Warm':w,'Cold':c}\n",
    "\n",
    "b,w,c = getBestLoss(warmLosses8315, coldLosses8315)\n",
    "losses[8315] = {'Best':b,'Warm':w,'Cold':c}\n",
    "\n",
    "b,w,c = getBestLoss(warmLosses8568, coldLosses8568)\n",
    "losses[8568] = {'Best':b,'Warm':w,'Cold':c}\n",
    "\n",
    "BestErrors = pd.DataFrame.from_dict(losses, orient='index')\n",
    "BestErrors = BestErrors[['Best', 'Warm', 'Cold']]"
   ]
  },
  {
   "cell_type": "code",
   "execution_count": null,
   "metadata": {},
   "outputs": [],
   "source": [
    "BestErrors.to_csv('figures/paper/table-task31-cold-warm-trials.csv')"
   ]
  },
  {
   "cell_type": "code",
   "execution_count": null,
   "metadata": {},
   "outputs": [],
   "source": []
  },
  {
   "cell_type": "code",
   "execution_count": null,
   "metadata": {},
   "outputs": [],
   "source": []
  }
 ],
 "metadata": {
  "kernelspec": {
   "display_name": "Python 2",
   "language": "python",
   "name": "python2"
  },
  "language_info": {
   "codemirror_mode": {
    "name": "ipython",
    "version": 2
   },
   "file_extension": ".py",
   "mimetype": "text/x-python",
   "name": "python",
   "nbconvert_exporter": "python",
   "pygments_lexer": "ipython2",
   "version": "2.7.15"
  }
 },
 "nbformat": 4,
 "nbformat_minor": 2
}
