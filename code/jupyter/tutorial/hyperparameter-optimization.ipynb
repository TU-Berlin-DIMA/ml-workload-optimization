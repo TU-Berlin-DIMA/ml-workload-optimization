{
 "cells": [
  {
   "cell_type": "markdown",
   "metadata": {},
   "source": [
    "# Hyperparameter Optimization with Hyperopt\n",
    "Here, we try out the hyperopt package and try to use a simple scikitlearn classifier and tune its hyperparameter using the hyperopt package.\n"
   ]
  },
  {
   "cell_type": "code",
   "execution_count": 1,
   "metadata": {},
   "outputs": [],
   "source": [
    "import pandas as pd\n",
    "import numpy as np"
   ]
  },
  {
   "cell_type": "code",
   "execution_count": 2,
   "metadata": {},
   "outputs": [],
   "source": [
    "# Load the data\n",
    "df_train = pd.read_table('data/labeledTrainData.tsv', sep='\\t')\n",
    "df_test = pd.read_table('data/testData.tsv', sep='\\t')\n",
    "\n",
    "# Add a column for the score (out of 10)\n",
    "df_train['score'] = df_train['id'].map(lambda x: int(x.split('_')[1]))\n",
    "df_test['score'] = df_test['id'].map(lambda x: int(x.split('_')[1]))\n",
    "\n",
    "# Add a column for the class, 1 for positive, 0 for negative\n",
    "df_train['class'] = df_train['score'].map(lambda x: int(x > 5))\n",
    "df_test['class'] = df_test['score'].map(lambda x: int(x > 5))\n",
    "\n",
    "# Sort the df_test by class (it will need to be sorted later)\n",
    "df_test = df_test.sort_values('class', ascending=False)"
   ]
  },
  {
   "cell_type": "code",
   "execution_count": 3,
   "metadata": {},
   "outputs": [],
   "source": [
    "from nltk.corpus import stopwords\n",
    "cachedStopWords = stopwords.words('english')\n",
    "\n",
    "# Function for removing stopwords from a string\n",
    "def removeStopwords(s):\n",
    "    return ' '.join([word for word in s.split() if word not in cachedStopWords])\n",
    "\n",
    "# Function for cleaning the reviews\n",
    "def cleanText(s):\n",
    "    s = s.str.lower()                         # Convert to lowercase\n",
    "    s = s.str.replace(r'<.*?>', ' ')          # Remove HTML characters\n",
    "    s = s.str.replace('\\'', '')               # Remove single quotes ' \n",
    "    s = s.str.replace('-', '')                # Remove dashes -\n",
    "    s = s.str.replace(r'[^a-zA-Z]', ' ')      # Remove non alpha characters\n",
    "    s = s.map(lambda s: ' '.join(s.split()))  # Remove extra whitespae\n",
    "    s = s.str.strip()                         # Remove whitespace at start and end\n",
    "    s = s.apply(lambda x: removeStopwords(x)) # Remove stopwords\n",
    "    return s\n",
    " \n",
    "# Clean the reviews\n",
    "df_train['review'] = cleanText(df_train['review'])\n",
    "df_test['review'] = cleanText(df_test['review'])"
   ]
  },
  {
   "cell_type": "code",
   "execution_count": 4,
   "metadata": {},
   "outputs": [],
   "source": [
    "# Separate into training and test data\n",
    "X_train = df_train['review']\n",
    "y_train = df_train['class']\n",
    "X_test = df_test['review']\n",
    "y_test = df_test['class']"
   ]
  },
  {
   "cell_type": "code",
   "execution_count": 5,
   "metadata": {},
   "outputs": [],
   "source": [
    "from sklearn.feature_extraction.text import TfidfVectorizer\n",
    "from sklearn.linear_model import SGDClassifier\n",
    "from sklearn.feature_selection.univariate_selection import SelectPercentile, chi2\n",
    "from sklearn.pipeline import Pipeline\n",
    "\n",
    "# The model\n",
    "vectorizer = TfidfVectorizer(strip_accents='unicode')\n",
    "kbest = SelectPercentile(chi2)\n",
    "clf = SGDClassifier(loss='modified_huber', penalty='elasticnet')\n",
    "\n",
    "pipe = Pipeline([('vec', vectorizer),\n",
    "                 ('kbest', kbest),\n",
    "                 ('clf', clf)])"
   ]
  },
  {
   "cell_type": "code",
   "execution_count": 6,
   "metadata": {},
   "outputs": [
    {
     "name": "stderr",
     "output_type": "stream",
     "text": [
      "/usr/local/lib/python2.7/site-packages/sklearn/linear_model/stochastic_gradient.py:128: FutureWarning: max_iter and tol parameters have been added in <class 'sklearn.linear_model.stochastic_gradient.SGDClassifier'> in 0.19. If both are left unset, they default to max_iter=5 and tol=None. If tol is not None, max_iter defaults to max_iter=1000. From 0.21, default max_iter will be 1000, and default tol will be 1e-3.\n",
      "  \"and default tol will be 1e-3.\" % type(self), FutureWarning)\n"
     ]
    },
    {
     "data": {
      "text/plain": [
       "0.95221796479999998"
      ]
     },
     "execution_count": 6,
     "metadata": {},
     "output_type": "execute_result"
    }
   ],
   "source": [
    "from sklearn import metrics\n",
    "pipe.fit(X_train, y_train)\n",
    "metrics.roc_auc_score(y_test, pipe.predict_proba(X_test)[:,1])"
   ]
  },
  {
   "cell_type": "code",
   "execution_count": 7,
   "metadata": {},
   "outputs": [],
   "source": [
    "from hyperopt import hp\n",
    "\n",
    "# Parameter search space\n",
    "space = {}\n",
    "# One of (1,1), (1,2), or (1,3)\n",
    "space['vec__ngram_range'] = hp.choice('vec__ngram_range', [(1,1), (1,2), (1,3)])\n",
    "# Uniform between 0.7 and 1\n",
    "space['vec__max_df'] = hp.uniform('vec__max_df', 0.7, 1.0)\n",
    "# One of True or False\n",
    "space['vec__sublinear_tf'] = hp.choice('vec__sublinear_tf', [True, False])\n",
    "# Random number between 50 and 100\n",
    "space['kbest__percentile'] = hp.uniform('kbest__percentile', 50, 100)\n",
    "# Random number between 0 and 1\n",
    "space['clf__l1_ratio'] = hp.uniform('clf__l1_ratio', 0.0, 1.0)\n",
    "# Log-uniform between 1e-9 and 1e-4\n",
    "space['clf__alpha'] = hp.loguniform('clf__alpha', -9*np.log(10), -4*np.log(10))\n",
    "# Random integer in 20:5:80\n",
    "space['clf__n_iter'] = 20 + 5*hp.randint('clf__n_iter', 12)"
   ]
  },
  {
   "cell_type": "code",
   "execution_count": 8,
   "metadata": {},
   "outputs": [],
   "source": [
    "from sklearn.model_selection import cross_val_score\n",
    "from sklearn.model_selection import KFold\n",
    "\n",
    "def objective(params):\n",
    "    pipe.set_params(**params)\n",
    "    shuffle = KFold(n_splits=2, shuffle=True)\n",
    "    score = cross_val_score(pipe, X_train, y_train, cv=shuffle, scoring='roc_auc', n_jobs=1)\n",
    "    return 1-score.mean()"
   ]
  },
  {
   "cell_type": "code",
   "execution_count": 9,
   "metadata": {},
   "outputs": [
    {
     "name": "stderr",
     "output_type": "stream",
     "text": [
      "/usr/local/lib/python2.7/site-packages/sklearn/linear_model/stochastic_gradient.py:117: DeprecationWarning: n_iter parameter is deprecated in 0.19 and will be removed in 0.21. Use max_iter and tol instead.\n",
      "  DeprecationWarning)\n",
      "/usr/local/lib/python2.7/site-packages/sklearn/linear_model/stochastic_gradient.py:117: DeprecationWarning: n_iter parameter is deprecated in 0.19 and will be removed in 0.21. Use max_iter and tol instead.\n",
      "  DeprecationWarning)\n"
     ]
    }
   ],
   "source": [
    "from hyperopt import fmin, tpe, Trials\n",
    "\n",
    "# The Trials object will store details of each iteration\n",
    "trials = Trials()\n",
    "\n",
    "# Run the hyperparameter search using the tpe algorithm\n",
    "best = fmin(objective,\n",
    "            space,\n",
    "            algo=tpe.suggest,\n",
    "            max_evals=1,\n",
    "            trials=trials)"
   ]
  },
  {
   "cell_type": "code",
   "execution_count": 16,
   "metadata": {},
   "outputs": [
    {
     "data": {
      "text/plain": [
       "{'book_time': datetime.datetime(2018, 6, 22, 11, 16, 30, 591000),\n",
       " 'exp_key': None,\n",
       " 'misc': {'cmd': ('domain_attachment', 'FMinIter_Domain'),\n",
       "  'idxs': {'clf__alpha': [0],\n",
       "   'clf__l1_ratio': [0],\n",
       "   'clf__n_iter': [0],\n",
       "   'kbest__percentile': [0],\n",
       "   'vec__max_df': [0],\n",
       "   'vec__ngram_range': [0],\n",
       "   'vec__sublinear_tf': [0]},\n",
       "  'tid': 0,\n",
       "  'vals': {'clf__alpha': [5.0397470112471446e-08],\n",
       "   'clf__l1_ratio': [0.42820403440560584],\n",
       "   'clf__n_iter': [4],\n",
       "   'kbest__percentile': [53.037777369405795],\n",
       "   'vec__max_df': [0.9630123363033276],\n",
       "   'vec__ngram_range': [0],\n",
       "   'vec__sublinear_tf': [0]},\n",
       "  'workdir': None},\n",
       " 'owner': None,\n",
       " 'refresh_time': datetime.datetime(2018, 6, 22, 11, 16, 38, 739000),\n",
       " 'result': {'loss': 0.06243755609503343, 'status': 'ok'},\n",
       " 'spec': None,\n",
       " 'state': 2,\n",
       " 'tid': 0,\n",
       " 'version': 0}"
      ]
     },
     "execution_count": 16,
     "metadata": {},
     "output_type": "execute_result"
    }
   ],
   "source": [
    "trials.best_trial"
   ]
  },
  {
   "cell_type": "code",
   "execution_count": 55,
   "metadata": {},
   "outputs": [
    {
     "data": {
      "text/plain": [
       "2"
      ]
     },
     "execution_count": 55,
     "metadata": {},
     "output_type": "execute_result"
    }
   ],
   "source": [
    "trials.insert_trial_doc(doc=doc)"
   ]
  },
  {
   "cell_type": "code",
   "execution_count": 56,
   "metadata": {},
   "outputs": [
    {
     "data": {
      "text/plain": [
       "[{'book_time': datetime.datetime(2018, 6, 22, 11, 16, 30, 591000),\n",
       "  'exp_key': None,\n",
       "  'misc': {'cmd': ('domain_attachment', 'FMinIter_Domain'),\n",
       "   'idxs': {'clf__alpha': [0],\n",
       "    'clf__l1_ratio': [0],\n",
       "    'clf__n_iter': [0],\n",
       "    'kbest__percentile': [0],\n",
       "    'vec__max_df': [0],\n",
       "    'vec__ngram_range': [0],\n",
       "    'vec__sublinear_tf': [0]},\n",
       "   'tid': 0,\n",
       "   'vals': {'clf__alpha': [5.0397470112471446e-08],\n",
       "    'clf__l1_ratio': [0.42820403440560584],\n",
       "    'clf__n_iter': [4],\n",
       "    'kbest__percentile': [53.037777369405795],\n",
       "    'vec__max_df': [0.9630123363033276],\n",
       "    'vec__ngram_range': [0],\n",
       "    'vec__sublinear_tf': [0]},\n",
       "   'workdir': None},\n",
       "  'owner': None,\n",
       "  'refresh_time': datetime.datetime(2018, 6, 22, 11, 16, 38, 739000),\n",
       "  'result': {'loss': 0.06243755609503343, 'status': 'ok'},\n",
       "  'spec': None,\n",
       "  'state': 2,\n",
       "  'tid': 0,\n",
       "  'version': 0}]"
      ]
     },
     "execution_count": 56,
     "metadata": {},
     "output_type": "execute_result"
    }
   ],
   "source": [
    "trials.trials"
   ]
  },
  {
   "cell_type": "code",
   "execution_count": 54,
   "metadata": {},
   "outputs": [],
   "source": [
    "import datetime\n",
    "doc = {'book_time': datetime.datetime(2017, 6, 22, 11, 16, 30, 591000),\n",
    " 'exp_key': None,\n",
    " 'misc': {'cmd': ('domain_attachment', 'FMinIter_Domain'),\n",
    "  'idxs': {'clf__alpha': [0],\n",
    "   'clf__l1_ratio': [0],\n",
    "   'clf__n_iter': [0],\n",
    "   'kbest__percentile': [0],\n",
    "   'vec__max_df': [0],\n",
    "   'vec__ngram_range': [0],\n",
    "   'vec__sublinear_tf': [0]},\n",
    "  'tid': 2,\n",
    "  'vals': {'clf__alpha': [5.0397470112471446e-08],\n",
    "   'clf__l1_ratio': [0.42820403440560584],\n",
    "   'clf__n_iter': [4],\n",
    "   'kbest__percentile': [53.037777369405795],\n",
    "   'vec__max_df': [0.9630123363033276],\n",
    "   'vec__ngram_range': [0],\n",
    "   'vec__sublinear_tf': [0]},\n",
    "  'workdir': None},\n",
    " 'owner': None,\n",
    " 'refresh_time': datetime.datetime(2017, 6, 22, 11, 16, 38, 739000),\n",
    " 'result': {'loss': 0.05243755609503343, 'status': 'ok'},\n",
    " 'spec': None,\n",
    " 'state': 2,\n",
    " 'tid': 2,\n",
    " 'version': 0}"
   ]
  },
  {
   "cell_type": "code",
   "execution_count": 52,
   "metadata": {},
   "outputs": [
    {
     "data": {
      "text/plain": [
       "[2, 3, 4, 5, 6, 7, 8, 9, 10, 11, 12, 13, 14, 15, 16, 17, 18, 19, 20]"
      ]
     },
     "execution_count": 52,
     "metadata": {},
     "output_type": "execute_result"
    }
   ],
   "source": [
    "trials.new_trial_ids(N=19)"
   ]
  },
  {
   "cell_type": "code",
   "execution_count": 67,
   "metadata": {},
   "outputs": [],
   "source": [
    "a = trials.next"
   ]
  },
  {
   "cell_type": "code",
   "execution_count": 77,
   "metadata": {},
   "outputs": [],
   "source": [
    "trials.trials.append(doc)"
   ]
  },
  {
   "cell_type": "code",
   "execution_count": 78,
   "metadata": {},
   "outputs": [
    {
     "data": {
      "text/plain": [
       "[{'book_time': datetime.datetime(2018, 6, 22, 11, 16, 30, 591000),\n",
       "  'exp_key': None,\n",
       "  'misc': {'cmd': ('domain_attachment', 'FMinIter_Domain'),\n",
       "   'idxs': {'clf__alpha': [0],\n",
       "    'clf__l1_ratio': [0],\n",
       "    'clf__n_iter': [0],\n",
       "    'kbest__percentile': [0],\n",
       "    'vec__max_df': [0],\n",
       "    'vec__ngram_range': [0],\n",
       "    'vec__sublinear_tf': [0]},\n",
       "   'tid': 0,\n",
       "   'vals': {'clf__alpha': [5.0397470112471446e-08],\n",
       "    'clf__l1_ratio': [0.42820403440560584],\n",
       "    'clf__n_iter': [4],\n",
       "    'kbest__percentile': [53.037777369405795],\n",
       "    'vec__max_df': [0.9630123363033276],\n",
       "    'vec__ngram_range': [0],\n",
       "    'vec__sublinear_tf': [0]},\n",
       "   'workdir': None},\n",
       "  'owner': None,\n",
       "  'refresh_time': datetime.datetime(2018, 6, 22, 11, 16, 38, 739000),\n",
       "  'result': {'loss': 0.06243755609503343, 'status': 'ok'},\n",
       "  'spec': None,\n",
       "  'state': 2,\n",
       "  'tid': 0,\n",
       "  'version': 0},\n",
       " {'book_time': datetime.datetime(2017, 6, 22, 11, 16, 30, 591000),\n",
       "  'exp_key': None,\n",
       "  'misc': {'cmd': ('domain_attachment', 'FMinIter_Domain'),\n",
       "   'idxs': {'clf__alpha': [0],\n",
       "    'clf__l1_ratio': [0],\n",
       "    'clf__n_iter': [0],\n",
       "    'kbest__percentile': [0],\n",
       "    'vec__max_df': [0],\n",
       "    'vec__ngram_range': [0],\n",
       "    'vec__sublinear_tf': [0]},\n",
       "   'tid': 2,\n",
       "   'vals': {'clf__alpha': [5.0397470112471446e-08],\n",
       "    'clf__l1_ratio': [0.42820403440560584],\n",
       "    'clf__n_iter': [4],\n",
       "    'kbest__percentile': [53.037777369405795],\n",
       "    'vec__max_df': [0.9630123363033276],\n",
       "    'vec__ngram_range': [0],\n",
       "    'vec__sublinear_tf': [0]},\n",
       "   'workdir': None},\n",
       "  'owner': None,\n",
       "  'refresh_time': datetime.datetime(2017, 6, 22, 11, 16, 38, 739000),\n",
       "  'result': {'loss': 0.05243755609503343, 'status': 'ok'},\n",
       "  'spec': None,\n",
       "  'state': 2,\n",
       "  'tid': 2,\n",
       "  'version': 0}]"
      ]
     },
     "execution_count": 78,
     "metadata": {},
     "output_type": "execute_result"
    }
   ],
   "source": [
    "trials.trials"
   ]
  },
  {
   "cell_type": "code",
   "execution_count": 79,
   "metadata": {},
   "outputs": [
    {
     "data": {
      "text/plain": [
       "{'book_time': datetime.datetime(2017, 6, 22, 11, 16, 30, 591000),\n",
       " 'exp_key': None,\n",
       " 'misc': {'cmd': ('domain_attachment', 'FMinIter_Domain'),\n",
       "  'idxs': {'clf__alpha': [0],\n",
       "   'clf__l1_ratio': [0],\n",
       "   'clf__n_iter': [0],\n",
       "   'kbest__percentile': [0],\n",
       "   'vec__max_df': [0],\n",
       "   'vec__ngram_range': [0],\n",
       "   'vec__sublinear_tf': [0]},\n",
       "  'tid': 2,\n",
       "  'vals': {'clf__alpha': [5.0397470112471446e-08],\n",
       "   'clf__l1_ratio': [0.42820403440560584],\n",
       "   'clf__n_iter': [4],\n",
       "   'kbest__percentile': [53.037777369405795],\n",
       "   'vec__max_df': [0.9630123363033276],\n",
       "   'vec__ngram_range': [0],\n",
       "   'vec__sublinear_tf': [0]},\n",
       "  'workdir': None},\n",
       " 'owner': None,\n",
       " 'refresh_time': datetime.datetime(2017, 6, 22, 11, 16, 38, 739000),\n",
       " 'result': {'loss': 0.05243755609503343, 'status': 'ok'},\n",
       " 'spec': None,\n",
       " 'state': 2,\n",
       " 'tid': 2,\n",
       " 'version': 0}"
      ]
     },
     "execution_count": 79,
     "metadata": {},
     "output_type": "execute_result"
    }
   ],
   "source": [
    "trials.best_trial"
   ]
  },
  {
   "cell_type": "code",
   "execution_count": null,
   "metadata": {},
   "outputs": [],
   "source": []
  }
 ],
 "metadata": {
  "kernelspec": {
   "display_name": "Python 2",
   "language": "python",
   "name": "python2"
  },
  "language_info": {
   "codemirror_mode": {
    "name": "ipython",
    "version": 2
   },
   "file_extension": ".py",
   "mimetype": "text/x-python",
   "name": "python",
   "nbconvert_exporter": "python",
   "pygments_lexer": "ipython2",
   "version": "2.7.15"
  }
 },
 "nbformat": 4,
 "nbformat_minor": 2
}
