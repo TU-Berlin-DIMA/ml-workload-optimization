{
 "cells": [
  {
   "cell_type": "markdown",
   "metadata": {},
   "source": [
    "# Hyperparameter Optimization with Hyperopt\n",
    "Here, we try out the hyperopt package and try to use a simple scikitlearn classifier and tune its hyperparameter using the hyperopt package.\n"
   ]
  },
  {
   "cell_type": "code",
   "execution_count": 19,
   "metadata": {},
   "outputs": [],
   "source": [
    "import pandas as pd\n",
    "import numpy as np\n",
    "import matplotlib.pyplot as plt\n",
    "import seaborn as sns\n",
    "%matplotlib inline"
   ]
  },
  {
   "cell_type": "code",
   "execution_count": 2,
   "metadata": {},
   "outputs": [],
   "source": [
    "# Load the data\n",
    "df_train = pd.read_table('data/labeledTrainData.tsv', sep='\\t')\n",
    "df_test = pd.read_table('data/testData.tsv', sep='\\t')\n",
    "\n",
    "# Add a column for the score (out of 10)\n",
    "df_train['score'] = df_train['id'].map(lambda x: int(x.split('_')[1]))\n",
    "df_test['score'] = df_test['id'].map(lambda x: int(x.split('_')[1]))\n",
    "\n",
    "# Add a column for the class, 1 for positive, 0 for negative\n",
    "df_train['class'] = df_train['score'].map(lambda x: int(x > 5))\n",
    "df_test['class'] = df_test['score'].map(lambda x: int(x > 5))\n",
    "\n",
    "# Sort the df_test by class (it will need to be sorted later)\n",
    "df_test = df_test.sort_values('class', ascending=False)"
   ]
  },
  {
   "cell_type": "code",
   "execution_count": 3,
   "metadata": {},
   "outputs": [],
   "source": [
    "from nltk.corpus import stopwords\n",
    "cachedStopWords = stopwords.words('english')\n",
    "\n",
    "# Function for removing stopwords from a string\n",
    "def removeStopwords(s):\n",
    "    return ' '.join([word for word in s.split() if word not in cachedStopWords])\n",
    "\n",
    "# Function for cleaning the reviews\n",
    "def cleanText(s):\n",
    "    s = s.str.lower()                         # Convert to lowercase\n",
    "    s = s.str.replace(r'<.*?>', ' ')          # Remove HTML characters\n",
    "    s = s.str.replace('\\'', '')               # Remove single quotes ' \n",
    "    s = s.str.replace('-', '')                # Remove dashes -\n",
    "    s = s.str.replace(r'[^a-zA-Z]', ' ')      # Remove non alpha characters\n",
    "    s = s.map(lambda s: ' '.join(s.split()))  # Remove extra whitespae\n",
    "    s = s.str.strip()                         # Remove whitespace at start and end\n",
    "    s = s.apply(lambda x: removeStopwords(x)) # Remove stopwords\n",
    "    return s\n",
    " \n",
    "# Clean the reviews\n",
    "df_train['review'] = cleanText(df_train['review'])\n",
    "df_test['review'] = cleanText(df_test['review'])"
   ]
  },
  {
   "cell_type": "code",
   "execution_count": 4,
   "metadata": {},
   "outputs": [],
   "source": [
    "# Separate into training and test data\n",
    "X_train = df_train['review']\n",
    "y_train = df_train['class']\n",
    "X_test = df_test['review']\n",
    "y_test = df_test['class']"
   ]
  },
  {
   "cell_type": "code",
   "execution_count": 5,
   "metadata": {},
   "outputs": [],
   "source": [
    "from sklearn.feature_extraction.text import TfidfVectorizer\n",
    "from sklearn.linear_model import SGDClassifier\n",
    "from sklearn.feature_selection.univariate_selection import SelectPercentile, chi2\n",
    "from sklearn.pipeline import Pipeline\n",
    "\n",
    "# The model\n",
    "vectorizer = TfidfVectorizer(strip_accents='unicode')\n",
    "kbest = SelectPercentile(chi2)\n",
    "clf = SGDClassifier(loss='modified_huber', penalty='elasticnet')\n",
    "\n",
    "pipe = Pipeline([('vec', vectorizer),\n",
    "                 ('kbest', kbest),\n",
    "                 ('clf', clf)])"
   ]
  },
  {
   "cell_type": "code",
   "execution_count": 8,
   "metadata": {},
   "outputs": [
    {
     "data": {
      "text/plain": [
       "0.95247242559999989"
      ]
     },
     "execution_count": 8,
     "metadata": {},
     "output_type": "execute_result"
    }
   ],
   "source": [
    "from sklearn import metrics\n",
    "pipe.fit(X_train, y_train)\n",
    "metrics.roc_auc_score(y_test, pipe.predict_proba(X_test)[:,1])"
   ]
  },
  {
   "cell_type": "code",
   "execution_count": 9,
   "metadata": {},
   "outputs": [],
   "source": [
    "from hyperopt import hp\n",
    "\n",
    "# Parameter search space\n",
    "space = {}\n",
    "# One of (1,1), (1,2), or (1,3)\n",
    "space['vec__ngram_range'] = hp.choice('vec__ngram_range', [(1,1), (1,2), (1,3)])\n",
    "# Uniform between 0.7 and 1\n",
    "space['vec__max_df'] = hp.uniform('vec__max_df', 0.7, 1.0)\n",
    "# One of True or False\n",
    "space['vec__sublinear_tf'] = hp.choice('vec__sublinear_tf', [True, False])\n",
    "# Random number between 50 and 100\n",
    "space['kbest__percentile'] = hp.uniform('kbest__percentile', 50, 100)\n",
    "# Random number between 0 and 1\n",
    "space['clf__l1_ratio'] = hp.uniform('clf__l1_ratio', 0.0, 1.0)\n",
    "# Log-uniform between 1e-9 and 1e-4\n",
    "space['clf__alpha'] = hp.loguniform('clf__alpha', -9*np.log(10), -4*np.log(10))\n",
    "# Random integer in 20:5:80\n",
    "space['clf__n_iter'] = 20 + 5*hp.randint('clf__n_iter', 12)"
   ]
  },
  {
   "cell_type": "code",
   "execution_count": 10,
   "metadata": {},
   "outputs": [],
   "source": [
    "from sklearn.model_selection import cross_val_score\n",
    "from sklearn.model_selection import KFold\n",
    "from sklearn import metrics\n",
    "\n",
    "def objective(params):\n",
    "    pipe.set_params(**params)\n",
    "    #shuffle = KFold(n_splits=2, shuffle=True)\n",
    "    #score = cross_val_score(pipe, X_train, y_train, cv=shuffle, scoring='roc_auc', n_jobs=1)\n",
    "    pipe.fit(X_train, y_train)\n",
    "    score = metrics.roc_auc_score(y_test, pipe.predict_proba(X_test)[:,1])\n",
    "    return 1-score"
   ]
  },
  {
   "cell_type": "code",
   "execution_count": 32,
   "metadata": {},
   "outputs": [],
   "source": [
    "from hyperopt import fmin, tpe, Trials\n",
    "\n",
    "# The Trials object will store details of each iteration\n",
    "#trials = Trials()\n",
    "\n",
    "# Run the hyperparameter search using the tpe algorithm\n",
    "best = fmin(objective,\n",
    "            space,\n",
    "            algo=tpe.suggest,\n",
    "            max_evals=100,\n",
    "            trials=warmTrials)"
   ]
  },
  {
   "cell_type": "code",
   "execution_count": 12,
   "metadata": {},
   "outputs": [
    {
     "data": {
      "text/plain": [
       "{'book_time': datetime.datetime(2018, 6, 30, 11, 42, 34, 95000),\n",
       " 'exp_key': None,\n",
       " 'misc': {'cmd': ('domain_attachment', 'FMinIter_Domain'),\n",
       "  'idxs': {'clf__alpha': [7],\n",
       "   'clf__l1_ratio': [7],\n",
       "   'clf__n_iter': [7],\n",
       "   'kbest__percentile': [7],\n",
       "   'vec__max_df': [7],\n",
       "   'vec__ngram_range': [7],\n",
       "   'vec__sublinear_tf': [7]},\n",
       "  'tid': 7,\n",
       "  'vals': {'clf__alpha': [1.0649254309338435e-05],\n",
       "   'clf__l1_ratio': [0.6943053412718708],\n",
       "   'clf__n_iter': [8],\n",
       "   'kbest__percentile': [58.42041520828515],\n",
       "   'vec__max_df': [0.7880997691199646],\n",
       "   'vec__ngram_range': [1],\n",
       "   'vec__sublinear_tf': [0]},\n",
       "  'workdir': None},\n",
       " 'owner': None,\n",
       " 'refresh_time': datetime.datetime(2018, 6, 30, 11, 43, 11, 111000),\n",
       " 'result': {'loss': 0.05005612800000003, 'status': 'ok'},\n",
       " 'spec': None,\n",
       " 'state': 2,\n",
       " 'tid': 7,\n",
       " 'version': 0}"
      ]
     },
     "execution_count": 12,
     "metadata": {},
     "output_type": "execute_result"
    }
   ],
   "source": [
    "trials.best_trial"
   ]
  },
  {
   "cell_type": "code",
   "execution_count": 13,
   "metadata": {},
   "outputs": [],
   "source": [
    "warmTrials = trials"
   ]
  },
  {
   "cell_type": "code",
   "execution_count": 33,
   "metadata": {},
   "outputs": [
    {
     "data": {
      "text/plain": [
       "[<matplotlib.lines.Line2D at 0x110852f90>]"
      ]
     },
     "execution_count": 33,
     "metadata": {},
     "output_type": "execute_result"
    },
    {
     "data": {
      "image/png": "[encoded data removed]",
      "text/plain": [
       "<matplotlib.figure.Figure at 0x141d2fc90>"
      ]
     },
     "metadata": {},
     "output_type": "display_data"
    }
   ],
   "source": [
    "plt.plot(range(len(warmTrials.losses())), warmTrials.losses())"
   ]
  },
  {
   "cell_type": "code",
   "execution_count": 34,
   "metadata": {},
   "outputs": [
    {
     "data": {
      "text/plain": [
       "[<matplotlib.lines.Line2D at 0x121fc97d0>]"
      ]
     },
     "execution_count": 34,
     "metadata": {},
     "output_type": "execute_result"
    },
    {
     "data": {
      "image/png": "[encoded data removed]",
      "text/plain": [
       "<matplotlib.figure.Figure at 0x138540f90>"
      ]
     },
     "metadata": {},
     "output_type": "display_data"
    }
   ],
   "source": [
    "plt.plot(range(len(trials.losses())), trials.losses())"
   ]
  },
  {
   "cell_type": "code",
   "execution_count": 27,
   "metadata": {},
   "outputs": [
    {
     "data": {
      "text/plain": [
       "{'book_time': datetime.datetime(2018, 6, 30, 12, 12, 52, 511000),\n",
       " 'exp_key': None,\n",
       " 'misc': {'cmd': ('domain_attachment', 'FMinIter_Domain'),\n",
       "  'idxs': {'clf__alpha': [9],\n",
       "   'clf__l1_ratio': [9],\n",
       "   'clf__n_iter': [9],\n",
       "   'kbest__percentile': [9],\n",
       "   'vec__max_df': [9],\n",
       "   'vec__ngram_range': [9],\n",
       "   'vec__sublinear_tf': [9]},\n",
       "  'tid': 9,\n",
       "  'vals': {'clf__alpha': [2.859404905999467e-05],\n",
       "   'clf__l1_ratio': [0.3874182864135276],\n",
       "   'clf__n_iter': [9],\n",
       "   'kbest__percentile': [61.5802608777156],\n",
       "   'vec__max_df': [0.8469496320950443],\n",
       "   'vec__ngram_range': [2],\n",
       "   'vec__sublinear_tf': [1]},\n",
       "  'workdir': None},\n",
       " 'owner': None,\n",
       " 'refresh_time': datetime.datetime(2018, 6, 30, 12, 14, 6, 364000),\n",
       " 'result': {'loss': 0.045295484799999786, 'status': 'ok'},\n",
       " 'spec': None,\n",
       " 'state': 2,\n",
       " 'tid': 9,\n",
       " 'version': 0}"
      ]
     },
     "execution_count": 27,
     "metadata": {},
     "output_type": "execute_result"
    }
   ],
   "source": [
    "trials.best_trial"
   ]
  },
  {
   "cell_type": "code",
   "execution_count": null,
   "metadata": {},
   "outputs": [],
   "source": []
  }
 ],
 "metadata": {
  "kernelspec": {
   "display_name": "Python 2",
   "language": "python",
   "name": "python2"
  },
  "language_info": {
   "codemirror_mode": {
    "name": "ipython",
    "version": 2
   },
   "file_extension": ".py",
   "mimetype": "text/x-python",
   "name": "python",
   "nbconvert_exporter": "python",
   "pygments_lexer": "ipython2",
   "version": "2.7.15"
  }
 },
 "nbformat": 4,
 "nbformat_minor": 2
}
