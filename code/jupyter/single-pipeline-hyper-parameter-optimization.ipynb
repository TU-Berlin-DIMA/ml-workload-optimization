{
 "cells": [
  {
   "cell_type": "markdown",
   "metadata": {},
   "source": [
    "## Single Pipeline hyperparameter optimization\n",
    "Before adding hyperparameter search option to the Experiment Graph, we perform a simple analysis where we select the one pipeline and for every execution we add the hyperparameters and the final accuracy to the Trial object of the hypernet. Afterwards, we perform a search using a predefined budget to find the best set of parameters.\n",
    "We compare the result, with the vanilla version, where the Trial object is empty and report the quality and time to achieve the certain level of quality."
   ]
  },
  {
   "cell_type": "code",
   "execution_count": 1,
   "metadata": {},
   "outputs": [],
   "source": [
    "from openml import datasets, tasks, runs, flows, setups, config, evaluations\n",
    "from workloadoptimization.essentials import Component, ExperimentObject, ExperimentGraph, ExperimentParser\n",
    "import numpy as np\n",
    "import pandas as pd\n",
    "import os\n",
    "import matplotlib.pyplot as plt\n",
    "import seaborn as sns\n",
    "import sys\n",
    "import uuid\n",
    "import networkx as nx\n",
    "import sklearn\n",
    "from networkx.drawing.nx_agraph import graphviz_layout\n",
    "from openmlstudy14.preprocessing import ConditionalImputer\n",
    "%matplotlib inline\n",
    "\n",
    "\n",
    "config.apikey = '8e2079508005379adb9a60798696134e'\n",
    "config.server = 'https://www.openml.org/api/v1'\n",
    "config.set_cache_directory(os.path.expanduser('~/openml-cache'))"
   ]
  },
  {
   "cell_type": "code",
   "execution_count": 2,
   "metadata": {},
   "outputs": [],
   "source": [
    "flow = flows.get_flow(flow_id=7707)\n",
    "task = tasks.get_task(task_id=31)\n",
    "pipeline = flows.flow_to_sklearn(flow)"
   ]
  },
  {
   "cell_type": "code",
   "execution_count": 3,
   "metadata": {},
   "outputs": [],
   "source": [
    "import pickle\n",
    "def getTopRuns(numberOfRuns, pipeline, task):\n",
    "    openMlEvaluations = evaluations.list_evaluations('predictive_accuracy', task= [task], flow = [pipeline])\n",
    "    evaluationData = pd.DataFrame.from_dict(openMlEvaluations, orient='index')\n",
    "    evaluationData['accuracy'] = evaluationData.apply(lambda eva: eva.values[0].value, axis = 1)\n",
    "    evaluationData['run_id'] = evaluationData.apply(lambda eva: eva.values[0].run_id, axis = 1)\n",
    "    # extracting the top ''numberOfRuns' runs\n",
    "    topRuns = evaluationData.sort_values('accuracy',ascending=False)\n",
    "    if (numberOfRuns>0):\n",
    "        topRuns = topRuns[0:numberOfRuns]\n",
    "    # retreiving the run objects from the top runs\n",
    "    openMLRuns = runs.list_runs(task=[task], flow=[pipeline])\n",
    "    experiments = pd.DataFrame.from_dict(openMLRuns,orient='index')\n",
    "    Experiment = experiments.merge(topRuns,on='run_id').drop(columns=['uploader',0])\n",
    "    # TODO: This is the limit on the api size, I should fix it to make calls in batches\n",
    "    Setup = pd.DataFrame.from_dict(setups.list_setups(setup=Experiment.setup_id[0:500], size = 500 ), orient='index').reset_index()\n",
    "    Setup.columns=['id', 'setup']\n",
    "\n",
    "    return pd.merge(Setup, Experiment, how = 'inner', left_on='id', right_on='setup_id').drop(columns = ['id','setup_id'])[['run_id','task_id','flow_id', 'accuracy','setup']]\n",
    "def extractExperiments(filePath, taskIds, flowIds):\n",
    "    if os.path.isfile(filePath):\n",
    "        return pd.read_pickle(filePath)\n",
    "    frames = []\n",
    "    for t in taskIds:\n",
    "        for f in flowIds:\n",
    "            frames.append(getTopRuns(100000,f,t))\n",
    "    Experiments = pd.concat(frames).reset_index(drop=True)\n",
    "    Experiments.to_pickle(filePath)\n",
    "    return Experiments\n",
    "\n",
    "# This is time consuming, so it is better to persist the list of the runs to disk\n",
    "# If you are changing the tasks or flow ids, remember to change the name of the file \n",
    "Experiments = extractExperiments('meta/hyper-opt-experiment-31-7707', [31], [7707])\n"
   ]
  },
  {
   "cell_type": "code",
   "execution_count": 4,
   "metadata": {},
   "outputs": [],
   "source": [
    "OPENML_FLOWS = {}\n",
    "FLOW_IDS = Experiments.flow_id.unique()\n",
    "for f in FLOW_IDS:\n",
    "    try:\n",
    "        #print f\n",
    "        fl = flows.get_flow(f)\n",
    "        OPENML_FLOWS[f] = fl \n",
    "    except:\n",
    "        print 'error for {}'.format(f)\n",
    "parser = ExperimentParser()\n",
    "experimentObjects = parser.extractOpenMLFlows(Experiments, OPENML_FLOWS)"
   ]
  },
  {
   "cell_type": "code",
   "execution_count": 5,
   "metadata": {},
   "outputs": [],
   "source": [
    "# Find the range of all the hyperparameters for setting up the search space\n",
    "param_range = {}\n",
    "for e in experimentObjects:\n",
    "    for k,v in e.extractParams().iteritems():\n",
    "        if param_range.has_key(k):\n",
    "            param_range[k].append(v)\n",
    "        else:\n",
    "            param_range[k] = [v]"
   ]
  },
  {
   "cell_type": "code",
   "execution_count": 7,
   "metadata": {},
   "outputs": [
    {
     "name": "stdout",
     "output_type": "stream",
     "text": [
      "hotencoding__categorical_features error\n",
      "imputation__categorical_features error\n"
     ]
    }
   ],
   "source": [
    "# Find the hyperparameters with constant values so we can set them once and do not include them in the search space\n",
    "CONSTANT_PARAMS = {}\n",
    "for k in param_range.keys():\n",
    "    try:\n",
    "        size = len(set(param_range[k]))\n",
    "        if size == 1:\n",
    "            CONSTANT_PARAMS[k] = param_range[k][0]    \n",
    "    except: \n",
    "        CONSTANT_PARAMS[k] = param_range[k][0]    \n",
    "        print k,'error'"
   ]
  },
  {
   "cell_type": "markdown",
   "metadata": {},
   "source": [
    "Based on the list of the parameters in the experiments these are the feasable ranges (or categories) of the parameters.\n",
    "- classifier__tol 1.0509652110524482e-05 0.09706102908291375\n",
    "- classifier__gamma 3.122280314190532e-05 7.998532268538166\n",
    "- classifier__C 0.03213680700039348 32547.418063576853\n",
    "- imputation__strategy {u'\"mean\"', u'\"median\"', u'\"most_frequent\"'}\n",
    "- classifier__degree {u'1', u'2', u'3', u'4', u'5'}\n",
    "- classifier__coef0 -0.9942534412466477 0.9975887639931769"
   ]
  },
  {
   "cell_type": "code",
   "execution_count": 6,
   "metadata": {},
   "outputs": [
    {
     "data": {
      "text/plain": [
       "-0.9942534412466477"
      ]
     },
     "execution_count": 6,
     "metadata": {},
     "output_type": "execute_result"
    }
   ],
   "source": [
    "min([float(x) for x in param_range['classifier__coef0']])"
   ]
  },
  {
   "cell_type": "code",
   "execution_count": 186,
   "metadata": {},
   "outputs": [],
   "source": [
    "# construct the search space\n",
    "from hyperopt import hp\n",
    "\n",
    "# Parameter search space\n",
    "space = {}\n",
    "# between 1.0509652110524482e-05 0.09706102908291375\n",
    "space['classifier__tol'] = hp.lognormal('classifier__tol',-7, 1.9)\n",
    "# between 3.122280314190532e-05 7.998532268538166\n",
    "space['classifier__gamma'] = hp.lognormal('classifier__gamma',0, 1.3)\n",
    "# One of True or False\n",
    "space['classifier__C'] = hp.lognormal('classifier__C',2.5, 3)\n",
    "# choice\n",
    "space['imputation__strategy'] = hp.choice('imputation__strategy', [u'mean', u'median', u'most_frequent'])\n",
    "# choice\n",
    "space['classifier__degree'] = hp.choice('classifier__degree', [1, 2, 3, 4, 5])\n",
    "# Between -0.9942534412466477 0.9975887639931769\n",
    "space['classifier__coef0'] = hp.uniform('classifier__coef0',-1,1)\n"
   ]
  },
  {
   "cell_type": "code",
   "execution_count": 259,
   "metadata": {},
   "outputs": [],
   "source": [
    "# set the constant parameters and define the objective function\n",
    "pipeline.set_params(**CONSTANT_PARAMS)\n",
    "def objective(params):\n",
    "    pipeline.set_params(**params)\n",
    "    pipeline.fit(X_train, y_train)\n",
    "    accuracy = pipeline.score(X_test, y_test)\n",
    "    #print 'accuracy = {}'.format(accuracy)\n",
    "    return 1 - accuracy"
   ]
  },
  {
   "cell_type": "code",
   "execution_count": 260,
   "metadata": {},
   "outputs": [],
   "source": [
    "# load the dataset\n",
    "dataset = datasets.get_dataset(dataset_id=task.dataset_id)\n",
    "data = dataset.get_data()\n",
    "train_indices,test_indices = task.get_train_test_split_indices()\n",
    "X, y, attribute_names = dataset.get_data(\n",
    "target=dataset.default_target_attribute,\n",
    "return_attribute_names=True)\n",
    "X_train = X[train_indices]\n",
    "y_train = y[train_indices]\n",
    "X_test = X[test_indices]\n",
    "y_test = y[test_indices]"
   ]
  },
  {
   "cell_type": "code",
   "execution_count": 262,
   "metadata": {},
   "outputs": [],
   "source": [
    "# function for converting an experiment object into a trial\n",
    "def convertToTrial(exerimentObject, space, index):\n",
    "    PARAMS = exerimentObject.extractParams()\n",
    "    misc = {}\n",
    "    idxs = {}\n",
    "    vals = {}\n",
    "    for k in space.keys():\n",
    "        idxs[k] = [index]\n",
    "        vals[k] = [PARAMS[k]]\n",
    "    misc['cmd'] = ('domain_attachment', 'FMinIter_Domain')\n",
    "    misc['tid'] = index\n",
    "    misc['idxs'] = idxs\n",
    "    misc['vals'] = vals\n",
    "    misc['workdir'] = None\n",
    "    return index,None,{'loss': 1 - exerimentObject.quality, 'status': 'ok'},misc\n",
    "    "
   ]
  },
  {
   "cell_type": "code",
   "execution_count": 267,
   "metadata": {},
   "outputs": [],
   "source": [
    "# load all the experiment objects into the trial database\n",
    "tids = []\n",
    "specs = []\n",
    "results = []\n",
    "miscs = []\n",
    "index = 0\n",
    "trials = Trials()\n",
    "for e in experimentObjects:\n",
    "    t,s,r,m = convertToTrial(e, space, index)\n",
    "    index = index  + 1\n",
    "    tids.append(t)\n",
    "    specs.append(s)\n",
    "    results.append(r)\n",
    "    miscs.append(m)\n",
    "docs = trials.new_trial_docs(tids,specs, results, miscs)\n",
    "for doc in docs:\n",
    "    doc['state'] = 2\n",
    "insertedTrials = trials.insert_trial_docs(docs)\n",
    "trials.refresh()"
   ]
  },
  {
   "cell_type": "code",
   "execution_count": 269,
   "metadata": {},
   "outputs": [],
   "source": [
    "# start the search process with trials database already set\n",
    "from hyperopt import fmin, tpe, Trials, rand\n",
    "\n",
    "#trials = Trials()\n",
    "# Run the hyperparameter search using the tpe algorithm\n",
    "best = fmin(objective,\n",
    "            space,\n",
    "            algo=rand.suggest,\n",
    "            max_evals=600,\n",
    "            trials=trials)"
   ]
  },
  {
   "cell_type": "code",
   "execution_count": 270,
   "metadata": {},
   "outputs": [
    {
     "data": {
      "text/plain": [
       "[<matplotlib.lines.Line2D at 0x11783b890>]"
      ]
     },
     "execution_count": 270,
     "metadata": {},
     "output_type": "execute_result"
    },
    {
     "data": {
      "image/png": "[encoded data removed]",
      "text/plain": [
       "<matplotlib.figure.Figure at 0x11769ff50>"
      ]
     },
     "metadata": {},
     "output_type": "display_data"
    }
   ],
   "source": [
    "plt.plot(range(len(trials.losses())), trials.losses())"
   ]
  },
  {
   "cell_type": "code",
   "execution_count": 271,
   "metadata": {},
   "outputs": [
    {
     "data": {
      "text/plain": [
       "{'book_time': None,\n",
       " 'exp_key': None,\n",
       " 'misc': {'cmd': ('domain_attachment', 'FMinIter_Domain'),\n",
       "  'idxs': {'classifier__C': [203],\n",
       "   'classifier__coef0': [203],\n",
       "   'classifier__degree': [203],\n",
       "   'classifier__gamma': [203],\n",
       "   'classifier__tol': [203],\n",
       "   'imputation__strategy': [203]},\n",
       "  'tid': 203,\n",
       "  'vals': {'classifier__C': [9.655901125001087],\n",
       "   'classifier__coef0': [-0.5452179627147997],\n",
       "   'classifier__degree': [5],\n",
       "   'classifier__gamma': [0.008100323606403094],\n",
       "   'classifier__tol': [0.0016022879455736218],\n",
       "   'imputation__strategy': ['median']},\n",
       "  'workdir': None},\n",
       " 'owner': None,\n",
       " 'refresh_time': None,\n",
       " 'result': {'loss': 0.22799999999999998, 'status': 'ok'},\n",
       " 'spec': None,\n",
       " 'state': 2,\n",
       " 'tid': 203,\n",
       " 'version': 0}"
      ]
     },
     "execution_count": 271,
     "metadata": {},
     "output_type": "execute_result"
    }
   ],
   "source": [
    "trials.best_trial"
   ]
  },
  {
   "cell_type": "markdown",
   "metadata": {},
   "source": [
    "## Conclusion\n",
    "This certainly shows some promising results. I have to investiage a bit more because it seems the search is stuck in some local point because the objective value of most of the proposed hyperparamters are constant.\n",
    "Moreover, the behaviour is a bit random, sometimes s"
   ]
  }
 ],
 "metadata": {
  "kernelspec": {
   "display_name": "Python 2",
   "language": "python",
   "name": "python2"
  },
  "language_info": {
   "codemirror_mode": {
    "name": "ipython",
    "version": 2
   },
   "file_extension": ".py",
   "mimetype": "text/x-python",
   "name": "python",
   "nbconvert_exporter": "python",
   "pygments_lexer": "ipython2",
   "version": "2.7.15"
  }
 },
 "nbformat": 4,
 "nbformat_minor": 2
}
